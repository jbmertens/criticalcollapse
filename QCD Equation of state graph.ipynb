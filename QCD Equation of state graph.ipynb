{
 "cells": [
  {
   "cell_type": "code",
   "execution_count": 17,
   "metadata": {},
   "outputs": [
    {
     "data": {
      "image/png": "[encoded data removed]",
      "text/plain": [
       "<Figure size 432x288 with 1 Axes>"
      ]
     },
     "metadata": {
      "needs_background": "light"
     },
     "output_type": "display_data"
    }
   ],
   "source": [
    "import numpy as np\n",
    "import matplotlib.pyplot as plt\n",
    "%matplotlib inline\n",
    "import scipy.interpolate as interp\n",
    "# Globally fix plot styling\n",
    "import matplotlib as mpl\n",
    "mpl.rc('xtick', direction='in', top=True)\n",
    "mpl.rc('ytick', direction='in', right=True)\n",
    "mpl.rc('xtick.minor', visible=True)\n",
    "mpl.rc('ytick.minor', visible=True)\n",
    "\n",
    "#Useful arrays\n",
    "T=np.array([1,3.1623,10,17.783,39.811,100,141.254,158.489,251.189,316.228,1000,10000,19952.623,39810.717,100000,281838.293])\n",
    "rho=np.multiply((.4)/(2.7**4),T**4)\n",
    "FoUrgOvEr3h = np.multiply(4/3,np.array([1.00228,1.00029,1.00048,1.00505,1.02159,1.02324,1.05423,1.07578,1.06118,1.04690,1.01778,1.00123,1.00589,1.00887,1.00750,1.00023])\n",
    ")\n",
    "P=np.multiply(FoUrgOvEr3h,rho)-rho\n",
    "\n",
    "N = 16 # Number of points to generate\n",
    "# xmax = np.log(3.26932e15)\n",
    "# xmin = np.log(1.16e10)\n",
    "x = rho\n",
    "y = P\n",
    "\n",
    "# Use polynomial interpolation and a spline\n",
    "ypoly = interp.lagrange(x,y)\n",
    "yspline = interp.InterpolatedUnivariateSpline(x,y)\n",
    "\n",
    "# For plotting purpose we generate a fine grid\n",
    "xx = np.linspace(xmin, xmax, 1000)\n",
    "ytrue = x\n",
    "\n",
    "# Now make a plot\n",
    "fig = plt.figure()\n",
    "ax = fig.add_subplot(111)\n",
    "ax.axhline(0, color='k')\n",
    "ax.plot(x, y, 'ko', label='Tabulated Values')\n",
    "ax.plot(xx, ypoly(xx), 'r--', lw=2, label='Polynomial')\n",
    "ax.plot(xx, yspline(xx), 'b-.', lw=2, label='Spline')\n",
    "ax.set_xlim(xx[0], xx[-1])\n",
    "ax.set_ylim(0, 1.6e+19)\n",
    "ax.legend(loc='best')\n",
    "ax.set_xlabel(r'$x$')\n",
    "ax.set_title('P vs Rho');"
   ]
  },
  {
   "cell_type": "code",
   "execution_count": 9,
   "metadata": {},
   "outputs": [
    {
     "name": "stdout",
     "output_type": "stream",
     "text": [
      "[2.53178308e-03 2.51188320e-01 2.51371899e+01 2.55970026e+02\n",
      " 6.84651861e+03 2.74212942e+05 1.21548255e+06 2.06283547e+06\n",
      " 1.24324813e+07 2.97958071e+07 2.68733500e+09 2.52124569e+13\n",
      " 4.07002402e+14 6.52567428e+15 2.58416895e+17 1.58446645e+19]\n"
     ]
    }
   ],
   "source": [
    "print(P)"
   ]
  },
  {
   "cell_type": "code",
   "execution_count": null,
   "metadata": {},
   "outputs": [],
   "source": []
  }
 ],
 "metadata": {
  "kernelspec": {
   "display_name": "Python 3",
   "language": "python",
   "name": "python3"
  },
  "language_info": {
   "codemirror_mode": {
    "name": "ipython",
    "version": 3
   },
   "file_extension": ".py",
   "mimetype": "text/x-python",
   "name": "python",
   "nbconvert_exporter": "python",
   "pygments_lexer": "ipython3",
   "version": "3.8.5"
  }
 },
 "nbformat": 4,
 "nbformat_minor": 4
}
