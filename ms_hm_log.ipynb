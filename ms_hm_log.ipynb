{
 "cells": [
  {
   "cell_type": "code",
   "execution_count": 1,
   "id": "8f4c95bd-0397-4481-b225-1a335e783f01",
   "metadata": {},
   "outputs": [],
   "source": [
    "import numpy as np\n",
    "import scipy.integrate as integ\n",
    "import matplotlib.pyplot as plt\n",
    "import matplotlib as mpl\n",
    "mpl.rc('xtick', direction='in', top=True)\n",
    "mpl.rc('ytick', direction='in', right=True)\n",
    "mpl.rc('xtick.minor', visible=True)\n",
    "mpl.rc('ytick.minor', visible=True)\n",
    "import cython\n",
    "%load_ext Cython"
   ]
  },
  {
   "cell_type": "code",
   "execution_count": null,
   "id": "d1e6bae0-b99f-4981-9eb3-3f60678ed0b1",
   "metadata": {},
   "outputs": [],
   "source": []
  },
  {
   "cell_type": "code",
   "execution_count": 167,
   "id": "ce47a6b1-e76d-42cc-b303-f1a8afc0dd88",
   "metadata": {},
   "outputs": [
    {
     "name": "stderr",
     "output_type": "stream",
     "text": [
      "In file included from /usr/local/lib/python3.8/dist-packages/numpy/core/include/numpy/ndarraytypes.h:1944,\n",
      "                 from /usr/local/lib/python3.8/dist-packages/numpy/core/include/numpy/ndarrayobject.h:12,\n",
      "                 from /usr/local/lib/python3.8/dist-packages/numpy/core/include/numpy/arrayobject.h:4,\n",
      "                 from /root/.cache/ipython/cython/_cython_magic_37e62b6f653b400b26573d4c8d7179ff.c:637:\n",
      "/usr/local/lib/python3.8/dist-packages/numpy/core/include/numpy/npy_1_7_deprecated_api.h:17:2: warning: #warning \"Using deprecated NumPy API, disable it with \" \"#define NPY_NO_DEPRECATED_API NPY_1_7_API_VERSION\" [-Wcpp]\n",
      "   17 | #warning \"Using deprecated NumPy API, disable it with \" \\\n",
      "      |  ^~~~~~~\n"
     ]
    }
   ],
   "source": [
    "%%cython\n",
    "\n",
    "import numpy as np\n",
    "import cython\n",
    "cimport numpy as np\n",
    "\n",
    "cimport cython\n",
    "ctypedef np.double_t DTYPE_t\n",
    "\n",
    "from libc.math cimport exp\n",
    "from libc.math cimport sqrt\n",
    "\n",
    "from cython.parallel import prange\n",
    "\n",
    "@cython.boundscheck(False)  # Deactivate bounds checking\n",
    "cpdef dfdA(np.ndarray arr, double deltaL, double [::1] A, double c = 1, double bd = 0):\n",
    "    cdef int size = arr.shape[0]\n",
    "    cdef double [:] f = arr\n",
    "    cdef double [:] res =  np.zeros(size, dtype=np.double)\n",
    "    #res[0] = bd\n",
    "    #res[1] = (f[2] - f[1]) /( deltaL) * exp(-L[0]) * c \n",
    "    res[0] = (f[1] - f[0]) / (A[1]-A[0]) \n",
    "    cdef int i\n",
    "    for i in prange(1, size - 1,nogil=True):\n",
    "        res[i] = (f[i+1] - f[i-1]) / (A[i+1] - A[i-1])\n",
    "    #res[0] = res[1]\n",
    "    res[size - 1] = (f[-1] - f[-2]) / (A[size - 1] - A[size-2]) \n",
    "    return np.asarray(res)\n",
    "\n",
    "@cython.boundscheck(False)  # Deactivate bounds checking\n",
    "cpdef ddfddA(np.ndarray arr, double deltaL, double [::1] A, double c = 1, double bd = 0):\n",
    "    cdef int size = arr.shape[0]\n",
    "    cdef double [:] f = arr\n",
    "    cdef double [:] res =  np.zeros(size, dtype=np.double)\n",
    "    #res[0] = bd\n",
    "    #res[0] = (f[1] + f[1] - 2 * f[0]) / (A[1] )**2  \n",
    "    #res[1] = (f[3] + f[1] - 2 * f[2]) / ( (A[2] - A[1]) )**2  \n",
    "    \n",
    "    cdef int i\n",
    "    for i in prange(1, size - 1,nogil=True):\n",
    "        #res[i] = (f[i+1] + f[i-1] - 2* f[i]) /( (A[i+1] - A[i-1])/2 )**2 * c**2 \n",
    "        res[i] = ((f[i+1] - f[i]) / (A[i+1] - A[i]) - (f[i] - f[i-1]) / (A[i] - A[i-1])) \\\n",
    "            / (0.5 * (A[i+1] - A[i-1]))\n",
    "    res[0] = res[1]\n",
    "        \n",
    "    res[size - 1] = (f[-3] + f[-1] - 2*f[-2]) / ( (A[-1] - A[-3])/2 )**2 \n",
    "    return np.asarray(res)"
   ]
  },
  {
   "cell_type": "code",
   "execution_count": null,
   "id": "1e8e844d-5073-43b9-b3e2-f703e92fd461",
   "metadata": {},
   "outputs": [],
   "source": []
  },
  {
   "cell_type": "code",
   "execution_count": null,
   "id": "bafc578a-47ac-4346-a88b-62830c9956b5",
   "metadata": {},
   "outputs": [],
   "source": []
  },
  {
   "cell_type": "code",
   "execution_count": 181,
   "id": "65cb31e0-c7e8-4f83-b1f5-be02888d3555",
   "metadata": {},
   "outputs": [],
   "source": [
    "class MS:\n",
    "    \n",
    "    def __init__(self, R, m, U, w, alpha, A, rho0, deltaL, L):\n",
    "        self.R = R\n",
    "        self.m = m\n",
    "        self.U = U\n",
    "        self.w = w\n",
    "        self.deltaL = deltaL\n",
    "        self.L = L\n",
    "        self.A = A\n",
    "        self.alpha = alpha\n",
    "        \n",
    "        self.t0 = self.alpha * np.sqrt(3 / (8*np.pi*rho0))\n",
    "        self.t = t0\n",
    "        self.xi = 0\n",
    "\n",
    "        self.RH = self.t0 / self.alpha\n",
    "        self.Abar = self.A / self.RH\n",
    "        self.Abar_h = self.to_h(self.A)\n",
    "        \n",
    "        self.q = 1\n",
    "        self.deltau_i = self.cfl_deltau(R, m, U) * 0.9\n",
    "        # initialize null geodesic and MS variables\n",
    "        \n",
    "        return\n",
    "    # convert to half grid\n",
    "    def to_h(self,arr):\n",
    "        return np.concatenate(([arr[0]],(arr[0:-1] + arr[1:]) / 2))\n",
    "    def gamma(self, R, m, U): \n",
    "        return np.sqrt(np.exp(2 * (1 - self.alpha) * self.xi) \n",
    "                       + (self.Abar * R)**2 * (U**2 - m))\n",
    "    def P(self, rho) : \n",
    "        return self.w * rho\n",
    "    def rho(self, R, m):\n",
    "        return m + (dfdA(m, self.deltaL, self.Abar,1,0) * self.Abar * R)  \\\n",
    "            / (3* (self.Abar * dfdA(R, self.deltaL, self.Abar, 1, 0) \n",
    "                  + R ))\n",
    "    def psi(self, rho, p, Pprime):\n",
    "        return 0 + \\\n",
    "        integ.cumtrapz(- Pprime / (rho + p), self.Abar, initial=0)\n",
    "    \n",
    "    def Pprime(self, R, m):\n",
    "        mprime = dfdA(m, self.deltaL, self.Abar, 1, 0)\n",
    "        Rprime = dfdA(R, self.deltaL, self.Abar, 1, 0)\n",
    "        mpp = ddfddA(m, self.deltaL, self.Abar, 1, 0)\n",
    "        Rpp = ddfddA(R, self.deltaL, self.Abar, 1, 0)\n",
    "        return self.w * (4 * self.Abar**2 * mprime * Rprime**2 \n",
    "                + R**2 * (4 * mprime + self.Abar * mpp)\n",
    "               + self.Abar * R * (self.Abar * Rprime * mpp + mprime * (6 * Rprime - self.Abar * Rpp))) \\\n",
    "                / (3 * (R + self.Abar * Rprime)**2)\n",
    "    def k_coeffs(self, R, m, U) :\n",
    "        g = self.gamma(R, m, U)\n",
    "        r = self.rho(R, m)\n",
    "        p = self.P(r)\n",
    "  \n",
    "        Pprime = self.Pprime(R, m)\n",
    "                       \n",
    "        ep = np.exp(self.psi(r, p, Pprime))\n",
    "        #print(g,r,p,ep)\n",
    "        kR = self.alpha * R * (U * ep - 1)\n",
    "        km = 2 * m - 3 * self.alpha * U * ep * (p + m)\n",
    "        \n",
    "        #kU = U - self.alpha * ep * \\\n",
    "        #    ( g**2 * dfdA(p, self.deltaL, self.Abar, 1, 0) / \n",
    "        #     (self.Abar * R * (R + self.Abar * dfdA(R, self.deltaL, self.Abar, 1, 0)) * (r + p)) \n",
    "        #    + (2 * U**2 + m + 3 * p) / 2) \n",
    "        kU = U - self.alpha * ep * \\\n",
    "            (   g**2 * (Pprime[:] / \n",
    "             (self.Abar[:]))  / (R * (R + self.Abar * dfdA(R, self.deltaL, self.Abar, 1, 0)) * (r + p))  \n",
    "            + (2 * U**2 + m + 3 * p) / 2) \n",
    "        #kU = U - self.alpha * ep * \\\n",
    "        #    (   g**2 * np.concatenate(([self.w\n",
    "        #                    * ((m[1] + m[1] - 2 * m[0]) /( np.exp(2*L[0]))) *  (5/3)], dfdA(p, self.deltaL, self.Abar, 1, 0 )[1:] / \n",
    "        #     (self.Abar[1:])) ) / (R * (R + self.Abar * dfdA(R, self.deltaL, self.Abar, 1, 0)) * (r + p))  \n",
    "        #    + (2 * U**2 + m + 3 * p) / 2) \n",
    "        return kR, km, kU\n",
    "    \n",
    "    def run_steps(self,n_steps) :\n",
    "        step = 0\n",
    "        \n",
    "        #deltau = (self.A[1] - self.A[0]) / 1 * 0.1\n",
    "        #deltau = self.cfl_deltau(R, m, U) * 0.9\n",
    "        deltau = self.deltau_i\n",
    "        while(step < n_steps) :\n",
    "            #deltau = self.cfl_deltau(R, m, U) * 0.9\n",
    "            kR1, km1, kU1 = self.k_coeffs(self.R, self.m, self.U)\n",
    "            kR2, km2, kU2 = self.k_coeffs(self.R + deltau/2*kR1, self.m + deltau/2*km1, self.U + deltau/2*kU1)\n",
    "            kR3, km3, kU3 = self.k_coeffs(self.R + deltau/2*kR2, self.m + deltau/2*km2, self.U + deltau/2*kU2)\n",
    "            kR4, km4, kU4 = self.k_coeffs(self.R + deltau*kR3, self.m + deltau*km3, self.U + deltau*kU3)\n",
    "\n",
    "            self.R = self.R + deltau/6*(kR1 + 2*kR2 + 2*kR3 + kR4)\n",
    "            self.m = self.m + deltau/6*(km1 + 2*km2 + 2*km3 + km4)\n",
    "            self.U = self.U + deltau/6*(kU1 + 2*kU2 + 2*kU3 + kU4)\n",
    "            \n",
    "            step+=1\n",
    "            self.xi += deltau\n",
    "  \n",
    "    def run_steps_rk2(self,n_steps) :\n",
    "        step = 0\n",
    "        \n",
    "        #deltau = self.cfl_deltau(R, m, U) * 0.9\n",
    "        deltau = self.deltau_i\n",
    "        while(step < n_steps) :\n",
    "            #deltau = self.cfl_deltau(R, m, U) * 0.9\n",
    "            kR1, km1, kU1 = self.k_coeffs(self.R, self.m, self.U)\n",
    "            kR2, km2, kU2 = self.k_coeffs(self.R + deltau/2*kR1, self.m + deltau/2*km1, self.U + deltau/2*kU1)\n",
    "\n",
    "\n",
    "            self.R = self.R + deltau * kR2 \n",
    "            self.m = self.m + deltau * km2 \n",
    "            self.U = self.U + deltau * kU2\n",
    "            \n",
    "            step+=1\n",
    "            self.xi += deltau\n",
    "            \n",
    "    def adap_run_steps(self,n_steps, adjust_steps=100, tol=1e-7) :\n",
    "        step = 0\n",
    "        deltau = self.deltau_i\n",
    "        #q = 1\n",
    "        while(step < n_steps) :\n",
    "            #if (step % adjust_steps == 0): # reset_stepping size\n",
    "            #    deltau = self.cfl_deltau(R, m, U) * 0.9\n",
    "            #    q = 1\n",
    "            \n",
    "            kR1, km1, kU1 = self.k_coeffs(self.R, self.m, self.U)\n",
    "            \n",
    "            kR2, km2, kU2 = self.k_coeffs(self.R + deltau/2*kR1, self.m + deltau/2*km1, self.U + deltau/2*kU1)\n",
    "            \n",
    "            kR3, km3, kU3 = self.k_coeffs(self.R + 3*deltau/4*kR2, self.m + 3*deltau/4*km2, self.U + 3*deltau/4*kU2)\n",
    "\n",
    "            \n",
    "\n",
    "            R_new = self.R + deltau/9*(2*kR1 + 3*kR2 + 4*kR3 )\n",
    "            m_new = self.m + deltau/9*(2*km1 + 3*km2 + 4*km3 )\n",
    "            U_new = self.U + deltau/9*(2*kU1 + 3*kU2 + 4*kU3 )\n",
    "            \n",
    "            kR4, km4, kU4 = self.k_coeffs(R_new , m_new , U_new )\n",
    "            \n",
    "            E_R = np.max( np.abs((deltau * (-5*kR1/72 + kR2/12 + kR3/9 - kR4/8))))\n",
    "            E_m = np.max( np.abs(deltau * (-5*km1/72 + km2/12 + km3/9 - km4/8)))\n",
    "            E_U = np.max( np.abs(deltau * (-5*kU1/72 + kU2/12 + kU3/9 - kU4/8)))\n",
    "    \n",
    "            max_err_R = np.max(np.abs(self.R)) * tol\n",
    "            max_err_m = np.max(np.abs(self.m)) * tol\n",
    "            max_err_U = np.max(np.abs(self.U)) * tol\n",
    "            \n",
    "            if(E_R < max_err_R and E_m < max_err_m and E_U < max_err_U):\n",
    "                self.R = R_new\n",
    "                self.m = m_new\n",
    "                self.U = U_new\n",
    "                \n",
    "                kR1 = kR4\n",
    "                km1 = km4\n",
    "                kU1 = kU4\n",
    "                \n",
    "                step+=1\n",
    "                self.xi += deltau\n",
    "                         \n",
    "            # Adjust step size.\n",
    "            self.q = 0.8*np.min((max_err_R/E_R, max_err_m/E_m, max_err_U/E_U) )**(1/3)   # conservative optimal step factor\n",
    "            self.q = min(self.q,10)               # limit stepsize growth\n",
    "            deltau *= self.q\n",
    "            #print(q, E_R, max_err_R)\n",
    "            \n",
    "    def cfl_deltau(self,R, m, U):\n",
    "        a = np.exp(self.alpha * self.xi)\n",
    "        H = np.exp(-self.xi) / self.RH\n",
    "        \n",
    "        g = self.gamma(R, m, U)\n",
    "        r = self.rho(R, m)\n",
    "        p = self.P(r)\n",
    "  \n",
    "        Pprime = self.Pprime(R, m)\n",
    "                           \n",
    "        ep = np.exp(self.psi(r, p, Pprime))\n",
    "        el = (a * H * self.RH * g) / (dfdA(a * self.A * self.R, self.deltaL, self.Abar, 1, 1) / self.RH) \n",
    "        #print(el, ep.min())\n",
    "        #return (np.log(1 + el / ep / np.exp(self.xi)  \n",
    "        #               * self.alpha * np.concatenate( ([1e10],(Abar[1:] - Abar[0:-1])) ) / np.sqrt(self.w))).min()\n",
    "        return (np.log(1 + el / ep / np.exp(self.xi)  \n",
    "                       * self.alpha * (Abar[1] - Abar[0]) / np.sqrt(self.w))).min()"
   ]
  },
  {
   "cell_type": "code",
   "execution_count": 174,
   "id": "25f54fe5-a2e3-40fc-9992-8f7e7c49105a",
   "metadata": {},
   "outputs": [],
   "source": [
    "n=300\n",
    "\n",
    "L = np.linspace(-6, 1.5, n)\n",
    "A = np.exp(L)\n",
    "\n",
    "#A = np.concatenate( ([0], A))\n",
    "\n",
    "\n",
    "w = 1 / 3\n",
    "alpha = 1/2 # alpha = 1/2 for w = 1/3\n",
    "\n",
    "\n",
    "rho0 = 1\n",
    "t0 = alpha * np.sqrt(3 / (8*np.pi*rho0))\n",
    "RH = t0 / alpha\n",
    "Abar = A / RH\n",
    "\n",
    "deltaL = L[2] - L[1]\n",
    "\n",
    "deltaA = Abar[1] - Abar[0]\n",
    "\n",
    "amp = 0.3\n",
    "delta0 = amp * np.exp(-2 * Abar**2 / RH / 30)\n",
    "delta0P = amp * delta0 * 2 * (-2 / RH / 30 ) * Abar\n",
    "\n",
    "m = 1 + delta0 \n",
    "U = 1 - alpha * delta0 / 2\n",
    "R = 1 - alpha / 2 * (delta0 + w * Abar * delta0P / (1 + 3 * w) )\n",
    "\n",
    "\n",
    "ms = MS(R,m,U,w,alpha,A,rho0, deltaL,L)"
   ]
  },
  {
   "cell_type": "code",
   "execution_count": 175,
   "id": "be2200ee-63e3-46ea-ad6d-7e823689b296",
   "metadata": {
    "tags": []
   },
   "outputs": [
    {
     "data": {
      "text/plain": [
       "6.23708701000024e-05"
      ]
     },
     "execution_count": 175,
     "metadata": {},
     "output_type": "execute_result"
    }
   ],
   "source": [
    "ms.cfl_deltau(R, m, U)"
   ]
  },
  {
   "cell_type": "code",
   "execution_count": 176,
   "id": "a75cb431-0cdd-4ba1-81e3-fcce9d35ffa8",
   "metadata": {},
   "outputs": [],
   "source": [
    "ms.adap_run_steps(20000)"
   ]
  },
  {
   "cell_type": "code",
   "execution_count": 170,
   "id": "67d89173-652a-45b3-94c2-d76948863f6a",
   "metadata": {
    "tags": []
   },
   "outputs": [],
   "source": [
    "ms.run_steps(53600)"
   ]
  },
  {
   "cell_type": "code",
   "execution_count": 177,
   "id": "d4688d1d-7ef7-4690-86c9-a7e6becb46f6",
   "metadata": {},
   "outputs": [
    {
     "data": {
      "text/plain": [
       "2.9921755513864046"
      ]
     },
     "execution_count": 177,
     "metadata": {},
     "output_type": "execute_result"
    }
   ],
   "source": [
    "ms.xi"
   ]
  },
  {
   "cell_type": "code",
   "execution_count": 178,
   "id": "220a5538-c61a-443d-80cd-a9d0e1b0b6b2",
   "metadata": {},
   "outputs": [
    {
     "data": {
      "text/plain": [
       "(0.0, 30.0)"
      ]
     },
     "execution_count": 178,
     "metadata": {},
     "output_type": "execute_result"
    },
    {
     "data": {
      "image/png": "[encoded data removed]",
      "text/plain": [
       "<Figure size 432x288 with 1 Axes>"
      ]
     },
     "metadata": {
      "needs_background": "light"
     },
     "output_type": "display_data"
    }
   ],
   "source": [
    "plt.scatter(np.arange(n), ms.U[:])\n",
    "plt.xlim(0,30)\n",
    "#plt.ylim(0.915,0.93)"
   ]
  },
  {
   "cell_type": "code",
   "execution_count": 763,
   "id": "e7a3b6a6-2666-4f43-abf0-ff46e97e874c",
   "metadata": {},
   "outputs": [
    {
     "data": {
      "text/plain": [
       "<matplotlib.collections.PathCollection at 0x7fe453aed160>"
      ]
     },
     "execution_count": 763,
     "metadata": {},
     "output_type": "execute_result"
    },
    {
     "data": {
      "image/png": "[encoded data removed]",
      "text/plain": [
       "<Figure size 432x288 with 1 Axes>"
      ]
     },
     "metadata": {
      "needs_background": "light"
     },
     "output_type": "display_data"
    }
   ],
   "source": [
    "plt.scatter(np.arange(n), ms.gamma(ms.R, ms.m, ms.U))\n",
    "#plt.xlim(0,30)\n",
    "#plt.ylim(0.915,0.93)"
   ]
  },
  {
   "cell_type": "code",
   "execution_count": 40,
   "id": "19414d40-49d2-4257-8c3b-1a4ff1f5961c",
   "metadata": {},
   "outputs": [
    {
     "data": {
      "text/plain": [
       "(0.0, 30.0)"
      ]
     },
     "execution_count": 40,
     "metadata": {},
     "output_type": "execute_result"
    },
    {
     "data": {
      "image/png": "[encoded data removed]",
      "text/plain": [
       "<Figure size 432x288 with 1 Axes>"
      ]
     },
     "metadata": {
      "needs_background": "light"
     },
     "output_type": "display_data"
    }
   ],
   "source": [
    "plt.scatter(np.arange(n), ms.rho(ms.R, ms.m))\n",
    "plt.xlim(0,30)\n",
    "#plt.ylim(0.915,0.93)"
   ]
  },
  {
   "cell_type": "code",
   "execution_count": 165,
   "id": "e5325a8e-61cf-4df5-9f9f-ce8e3994cf0e",
   "metadata": {},
   "outputs": [
    {
     "data": {
      "text/plain": [
       "(0.0, 10.0)"
      ]
     },
     "execution_count": 165,
     "metadata": {},
     "output_type": "execute_result"
    },
    {
     "data": {
      "image/png": "[encoded data removed]",
      "text/plain": [
       "<Figure size 432x288 with 1 Axes>"
      ]
     },
     "metadata": {
      "needs_background": "light"
     },
     "output_type": "display_data"
    }
   ],
   "source": [
    "plt.plot(Abar, ms.rho(ms.R, ms.m) )\n",
    "plt.yscale('log')\n",
    "plt.ylim(10**-1,10**4)\n",
    "plt.xlim(0,10)"
   ]
  },
  {
   "cell_type": "code",
   "execution_count": 182,
   "id": "22256fbe-a04c-4356-a4b9-34f5277db907",
   "metadata": {},
   "outputs": [
    {
     "data": {
      "text/plain": [
       "(0.0, 10.0)"
      ]
     },
     "execution_count": 182,
     "metadata": {},
     "output_type": "execute_result"
    },
    {
     "data": {
      "image/png": "[encoded data removed]",
      "text/plain": [
       "<Figure size 432x288 with 1 Axes>"
      ]
     },
     "metadata": {
      "needs_background": "light"
     },
     "output_type": "display_data"
    }
   ],
   "source": [
    "plt.plot(Abar, ms.rho(ms.R, ms.m) )\n",
    "plt.yscale('log')\n",
    "plt.ylim(10**-1,10**1)\n",
    "plt.xlim(0,10)"
   ]
  },
  {
   "cell_type": "code",
   "execution_count": 1587,
   "id": "a1436338-1291-4e66-914b-b17b548cb24d",
   "metadata": {},
   "outputs": [
    {
     "data": {
      "text/plain": [
       "[<matplotlib.lines.Line2D at 0x7ff2fea00190>]"
      ]
     },
     "execution_count": 1587,
     "metadata": {},
     "output_type": "execute_result"
    },
    {
     "data": {
      "image/png": "[encoded data removed]",
      "text/plain": [
       "<Figure size 432x288 with 1 Axes>"
      ]
     },
     "metadata": {
      "needs_background": "light"
     },
     "output_type": "display_data"
    }
   ],
   "source": [
    "plt.plot(A[:], ms.U[:] )\n"
   ]
  },
  {
   "cell_type": "code",
   "execution_count": 180,
   "id": "e88e7f49-e8ae-486c-b404-27544aa53ef0",
   "metadata": {},
   "outputs": [
    {
     "data": {
      "text/plain": [
       "(0.0, 4.0)"
      ]
     },
     "execution_count": 180,
     "metadata": {},
     "output_type": "execute_result"
    },
    {
     "data": {
      "image/png": "[encoded data removed]",
      "text/plain": [
       "<Figure size 432x288 with 1 Axes>"
      ]
     },
     "metadata": {
      "needs_background": "light"
     },
     "output_type": "display_data"
    }
   ],
   "source": [
    "plt.plot(Abar, ms.R**2 * ms.m * ms.Abar**2 * np.exp(2 * (ms.alpha-1) * ms.xi))\n",
    "plt.plot(Abar, np.array([1]*n))\n",
    "plt.xlim(0,4)"
   ]
  },
  {
   "cell_type": "code",
   "execution_count": 163,
   "id": "4389e864-ba21-40b7-ac33-ac6ec818b01d",
   "metadata": {},
   "outputs": [
    {
     "data": {
      "text/plain": [
       "(0.0, 4.0)"
      ]
     },
     "execution_count": 163,
     "metadata": {},
     "output_type": "execute_result"
    },
    {
     "data": {
      "image/png": "[encoded data removed]",
      "text/plain": [
       "<Figure size 432x288 with 1 Axes>"
      ]
     },
     "metadata": {
      "needs_background": "light"
     },
     "output_type": "display_data"
    }
   ],
   "source": [
    "plt.plot(Abar, ms.R**2 * ms.m * ms.Abar**2 * np.exp(2 * (ms.alpha-1) * ms.xi))\n",
    "plt.plot(Abar, np.array([1]*n))\n",
    "plt.xlim(0,4)"
   ]
  },
  {
   "cell_type": "code",
   "execution_count": 632,
   "id": "024dbee9-d02f-4bca-98c0-f4af4829da5a",
   "metadata": {},
   "outputs": [
    {
     "data": {
      "text/plain": [
       "[<matplotlib.lines.Line2D at 0x7ff30dab65b0>]"
      ]
     },
     "execution_count": 632,
     "metadata": {},
     "output_type": "execute_result"
    },
    {
     "data": {
      "image/png": "[encoded data removed]",
      "text/plain": [
       "<Figure size 432x288 with 1 Axes>"
      ]
     },
     "metadata": {
      "needs_background": "light"
     },
     "output_type": "display_data"
    }
   ],
   "source": [
    "plt.plot( ms.U[:])\n",
    "#plt.xlim(0,50)\n",
    "#plt.ylim(0.87,0.92)"
   ]
  },
  {
   "cell_type": "code",
   "execution_count": 631,
   "id": "03418662-7147-4615-9e02-94b732b13c3a",
   "metadata": {},
   "outputs": [
    {
     "data": {
      "text/plain": [
       "[<matplotlib.lines.Line2D at 0x7ff30da006d0>]"
      ]
     },
     "execution_count": 631,
     "metadata": {},
     "output_type": "execute_result"
    },
    {
     "data": {
      "image/png": "[encoded data removed]",
      "text/plain": [
       "<Figure size 432x288 with 1 Axes>"
      ]
     },
     "metadata": {
      "needs_background": "light"
     },
     "output_type": "display_data"
    }
   ],
   "source": [
    "plt.plot(A[20:], ms.U[20:])\n"
   ]
  },
  {
   "cell_type": "code",
   "execution_count": 319,
   "id": "5945f531-17a0-49e9-bff4-1d7c817f4e9b",
   "metadata": {},
   "outputs": [
    {
     "data": {
      "text/plain": [
       "[<matplotlib.lines.Line2D at 0x7ff326eeda00>]"
      ]
     },
     "execution_count": 319,
     "metadata": {},
     "output_type": "execute_result"
    },
    {
     "data": {
      "image/png": "[encoded data removed]",
      "text/plain": [
       "<Figure size 432x288 with 1 Axes>"
      ]
     },
     "metadata": {
      "needs_background": "light"
     },
     "output_type": "display_data"
    }
   ],
   "source": [
    "plt.plot(A[5:], (dfdA(ms.U[5:], ms.deltaL, ms.L, ms.RH) ))"
   ]
  },
  {
   "cell_type": "code",
   "execution_count": 747,
   "id": "26339299-d048-454f-8395-2137173a48ac",
   "metadata": {},
   "outputs": [
    {
     "data": {
      "text/plain": [
       "[<matplotlib.lines.Line2D at 0x7fe4542eaca0>]"
      ]
     },
     "execution_count": 747,
     "metadata": {},
     "output_type": "execute_result"
    },
    {
     "data": {
      "image/png": "[encoded data removed]",
      "text/plain": [
       "<Figure size 432x288 with 1 Axes>"
      ]
     },
     "metadata": {
      "needs_background": "light"
     },
     "output_type": "display_data"
    }
   ],
   "source": [
    "plt.plot(ms.Abar, (ms.w * (4 * ms.Abar**2 * mprime * Rprime**2 \n",
    "                + R**2 * (4 * mprime + ms.Abar * mpp)\n",
    "               + ms.Abar * R * (ms.Abar * Rprime * mpp + mprime * (6 * Rprime - ms.Abar * Rpp))) \\\n",
    "                / (3 * (R + ms.Abar * Rprime)**2) ))"
   ]
  },
  {
   "cell_type": "code",
   "execution_count": 699,
   "id": "339d4f6b-70f7-4586-8935-5ce3eb9c7b2b",
   "metadata": {},
   "outputs": [
    {
     "data": {
      "text/plain": [
       "array([ 0.        , -0.00056319, -0.00047334, -0.0004854 , -0.00049777,\n",
       "       -0.00051046, -0.00052347, -0.00053681, -0.00055049, -0.00056452])"
      ]
     },
     "execution_count": 699,
     "metadata": {},
     "output_type": "execute_result"
    }
   ],
   "source": [
    " (ms.w * (4 * ms.Abar**2 * mprime * Rprime**2 \n",
    "                + R**2 * (4 * mprime + ms.Abar * mpp)\n",
    "               + ms.Abar * R * (ms.Abar * Rprime * mpp + mprime * (6 * Rprime - ms.Abar * Rpp))) \\\n",
    "                / (3 * (R + ms.Abar * Rprime)**2) )[0:10]"
   ]
  },
  {
   "cell_type": "code",
   "execution_count": 746,
   "id": "4d65d6f6-1730-4214-8070-7f516566ff26",
   "metadata": {},
   "outputs": [
    {
     "data": {
      "text/plain": [
       "(-1.0, 30.0)"
      ]
     },
     "execution_count": 746,
     "metadata": {},
     "output_type": "execute_result"
    },
    {
     "data": {
      "image/png": "[encoded data removed]",
      "text/plain": [
       "<Figure size 432x288 with 1 Axes>"
      ]
     },
     "metadata": {
      "needs_background": "light"
     },
     "output_type": "display_data"
    }
   ],
   "source": [
    "        mprime = dfdA(m, ms.deltaL, ms.Abar, 1, 0)\n",
    "        Rprime = dfdA(R, ms.deltaL, ms.Abar, 1, 0)\n",
    "        mpp = ddfddA(m, ms.deltaL, ms.Abar, 1, 0)\n",
    "        Rpp = ddfddA(R, ms.deltaL, ms.Abar, 1, 0)\n",
    "        plt.plot(ms.Abar[1:], (ms.w * (4 * ms.Abar**2 * mprime * Rprime**2 \n",
    "                + R**2 * (4 * mprime + ms.Abar * mpp)\n",
    "               + ms.Abar * R * (ms.Abar * Rprime * mpp + mprime * (6 * Rprime - ms.Abar * Rpp))) \\\n",
    "                / (3 * (R + ms.Abar * Rprime)**2) )[1:] / ms.Abar[1:])\n",
    "        plt.xlim(-1,30)"
   ]
  },
  {
   "cell_type": "code",
   "execution_count": null,
   "id": "56b80226-7747-4aa8-88ad-4dc8bff7353c",
   "metadata": {},
   "outputs": [
    {
     "data": {
      "text/plain": [
       "0.06530870477810906"
      ]
     },
     "execution_count": 717,
     "metadata": {},
     "output_type": "execute_result"
    }
   ],
   "source": [
    "(R[3] + R[1] - 2 * R[2]) / ( (Abar[2] - Abar[1]) )**2"
   ]
  },
  {
   "cell_type": "code",
   "execution_count": 724,
   "id": "9a9f6cf5-57f4-4dcd-9cde-b489cc765c58",
   "metadata": {},
   "outputs": [
    {
     "data": {
      "text/plain": [
       "0.06367538184774105"
      ]
     },
     "execution_count": 724,
     "metadata": {},
     "output_type": "execute_result"
    }
   ],
   "source": [
    "i = 3\n",
    "(R[i+1] + R[i-1] - 2 * R[i]) / ( (Abar[i+1] - Abar[i-1]) / 2 )**2"
   ]
  },
  {
   "cell_type": "code",
   "execution_count": 723,
   "id": "23502334-a90d-4179-83a2-d456713ae8d1",
   "metadata": {},
   "outputs": [
    {
     "data": {
      "text/plain": [
       "0.03183730852799588"
      ]
     },
     "execution_count": 723,
     "metadata": {},
     "output_type": "execute_result"
    }
   ],
   "source": [
    "i = 3\n",
    "((R[i+1] - R[i]) / (Abar[i+1] - Abar[i]) - (R[i] - R[i-1]) / (Abar[i] - Abar[i-1])) \\\n",
    "            / (0.5 * (Abar[i+1] - Abar[i-1]))"
   ]
  },
  {
   "cell_type": "code",
   "execution_count": 742,
   "id": "50d8c4a2-e214-4103-9c4d-7426965c2f73",
   "metadata": {},
   "outputs": [
    {
     "data": {
      "text/plain": [
       "0.033589810921563754"
      ]
     },
     "execution_count": 742,
     "metadata": {},
     "output_type": "execute_result"
    }
   ],
   "source": [
    "i = 3\n",
    "((R[i+1] - R[i]) / (Abar[i+1] - Abar[i]) - (R[i] - R[i-1]) / (Abar[i] - Abar[i-1])) \\\n",
    "            / (0.00018)"
   ]
  },
  {
   "cell_type": "code",
   "execution_count": 733,
   "id": "5b63fa7b-31ba-4482-94c5-2bd6546ff4f9",
   "metadata": {},
   "outputs": [
    {
     "data": {
      "text/plain": [
       "0.00019229785859318452"
      ]
     },
     "execution_count": 733,
     "metadata": {},
     "output_type": "execute_result"
    }
   ],
   "source": [
    "Abar[i+1] - Abar[i]"
   ]
  },
  {
   "cell_type": "code",
   "execution_count": 726,
   "id": "7b4c2f3d-01df-4bb6-8cf7-b5e3e49e0cbb",
   "metadata": {},
   "outputs": [
    {
     "data": {
      "text/plain": [
       "0.00018990820032933464"
      ]
     },
     "execution_count": 726,
     "metadata": {},
     "output_type": "execute_result"
    }
   ],
   "source": [
    "(0.5 * (Abar[i+1] - Abar[i-1]))"
   ]
  },
  {
   "cell_type": "code",
   "execution_count": 728,
   "id": "1f4e1c11-6ea3-4a96-8e1b-e2b6ea76de13",
   "metadata": {},
   "outputs": [
    {
     "data": {
      "text/plain": [
       "0.00018990820032933464"
      ]
     },
     "execution_count": 728,
     "metadata": {},
     "output_type": "execute_result"
    }
   ],
   "source": [
    " (Abar[i+1] - Abar[i-1]) / 2"
   ]
  },
  {
   "cell_type": "code",
   "execution_count": 704,
   "id": "c652b0e6-c13a-41c1-9eb3-187296997603",
   "metadata": {},
   "outputs": [
    {
     "data": {
      "text/plain": [
       "array([0.03183828, 0.0653087 , 0.03183737, 0.03183731, 0.03183725,\n",
       "       0.03183719, 0.03183712, 0.03183705, 0.03183698, 0.03183691])"
      ]
     },
     "execution_count": 704,
     "metadata": {},
     "output_type": "execute_result"
    }
   ],
   "source": [
    "ddfddA(R, ms.deltaL, ms.Abar, 1, 0)[0:10]"
   ]
  },
  {
   "cell_type": "code",
   "execution_count": 682,
   "id": "9a915a36-e2a9-446f-8123-8844272fba1e",
   "metadata": {
    "tags": []
   },
   "outputs": [
    {
     "data": {
      "text/plain": [
       "array([0.        , 0.00023133, 0.00023432, 0.00024029, 0.00024641,\n",
       "       0.0002527 , 0.00025914, 0.00026574, 0.00027251, 0.00027946])"
      ]
     },
     "execution_count": 682,
     "metadata": {},
     "output_type": "execute_result"
    }
   ],
   "source": [
    "dfdA(R, ms.deltaL, ms.Abar, 1, 0)[0:10]"
   ]
  },
  {
   "cell_type": "code",
   "execution_count": 745,
   "id": "1701e205-f954-4257-b3a4-1fa9fe387156",
   "metadata": {},
   "outputs": [
    {
     "data": {
      "text/plain": [
       "(-1.0, 30.0)"
      ]
     },
     "execution_count": 745,
     "metadata": {},
     "output_type": "execute_result"
    },
    {
     "data": {
      "image/png": "[encoded data removed]",
      "text/plain": [
       "<Figure size 432x288 with 1 Axes>"
      ]
     },
     "metadata": {
      "needs_background": "light"
     },
     "output_type": "display_data"
    }
   ],
   "source": [
    "plt.plot(ms.Abar,ddfddA(R, ms.deltaL, ms.Abar, 1, 0))\n",
    "plt.xlim(-1,30)"
   ]
  }
 ],
 "metadata": {
  "kernelspec": {
   "display_name": "Python 3 (ipykernel)",
   "language": "python",
   "name": "python3"
  },
  "language_info": {
   "codemirror_mode": {
    "name": "ipython",
    "version": 3
   },
   "file_extension": ".py",
   "mimetype": "text/x-python",
   "name": "python",
   "nbconvert_exporter": "python",
   "pygments_lexer": "ipython3",
   "version": "3.8.5"
  }
 },
 "nbformat": 4,
 "nbformat_minor": 5
}
