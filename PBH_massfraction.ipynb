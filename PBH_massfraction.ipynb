{
 "cells": [
  {
   "cell_type": "code",
   "execution_count": 84,
   "metadata": {},
   "outputs": [
    {
     "name": "stdout",
     "output_type": "stream",
     "text": [
      "The Cython extension is already loaded. To reload it, use:\n",
      "  %reload_ext Cython\n"
     ]
    }
   ],
   "source": [
    "import numpy as np\n",
    "import sys\n",
    "from importlib import reload \n",
    "import scipy.interpolate as interp\n",
    "import scipy.constants as const\n",
    "import scipy.integrate as integ\n",
    "\n",
    "import cython\n",
    "%load_ext Cython\n",
    "\n",
    "import matplotlib.pyplot as plt\n",
    "import matplotlib as mpl\n",
    "mpl.rc('xtick', direction='in', top=True)\n",
    "mpl.rc('ytick', direction='in', right=True)\n",
    "mpl.rc('xtick.minor', visible=True)\n",
    "mpl.rc('ytick.minor', visible=True)"
   ]
  },
  {
   "cell_type": "code",
   "execution_count": 85,
   "metadata": {},
   "outputs": [],
   "source": [
    "# importing MS and HM modules. Reload modules if needed\n",
    "try :\n",
    "    reload(ms_hm.MS)\n",
    "except :\n",
    "    print(\"Did not reload MS module\")\n",
    "\n",
    "try :\n",
    "    reload(ms_hm.HM)\n",
    "except :\n",
    "    print(\"Did not reload HM module\")\n",
    "    \n",
    "try :\n",
    "    reload(ms_hm.QCD_EOS)\n",
    "except :\n",
    "    print(\"Did not reload QCD_EOS module\")\n",
    "    \n",
    "import ms_hm\n",
    "from ms_hm.QCD_EOS import *\n",
    "from ms_hm.MS import *\n",
    "from ms_hm.HM import *\n",
    "\n",
    "qcd = QCD_EOS()"
   ]
  },
  {
   "cell_type": "code",
   "execution_count": 91,
   "metadata": {},
   "outputs": [
    {
     "data": {
      "image/png": "[encoded data removed]",
      "text/plain": [
       "<Figure size 432x288 with 1 Axes>"
      ]
     },
     "metadata": {
      "needs_background": "light"
     },
     "output_type": "display_data"
    }
   ],
   "source": [
    "#obtaining deltac and density values\n",
    "combineddata = np.loadtxt('initial_critical_data_qcdw.dat')\n",
    "\n",
    "combineddata = combineddata[combineddata[:, 0].argsort()]\n",
    "deltac = (combineddata[:,1] + combineddata[:,2]) / 2\n",
    "deltac_up = combineddata[:,1]\n",
    "deltac_low = combineddata[:,2]\n",
    "rho = combineddata[:,0]\n",
    "\n",
    "T = qcd.TofRho(rho)\n",
    "Mhorizon = qcd.MH(T)\n",
    "\n",
    "Order = Mhorizon.argsort()\n",
    "Mhorizon = Mhorizon[Order]\n",
    "deltac = deltac[Order]\n",
    "deltac = interp.InterpolatedUnivariateSpline(Mhorizon, deltac, ext = 3)\n",
    "deltac_up = deltac_up[Order]\n",
    "deltac_up = interp.InterpolatedUnivariateSpline(Mhorizon, deltac_up, ext = 3)\n",
    "deltac_low = deltac_low[Order]\n",
    "deltac_low = interp.InterpolatedUnivariateSpline(Mhorizon, deltac_low, ext = 3)\n",
    "\n",
    "MH_grid = np.logspace(-10,10,500)\n",
    "\n",
    "# plt.loglog(MH_grid, deltac(MH_grid))\n",
    "# plt.loglog(MH_grid, deltac_up(MH_grid))\n",
    "# plt.loglog(MH_grid, deltac_low(MH_grid))\n",
    "plt.loglog(rho,deltac(rho))\n",
    "plt.xlabel(\"Horizon mass, $M_H$\");\n",
    "plt.ylabel(\"Critical threshold\");"
   ]
  },
  {
   "cell_type": "code",
   "execution_count": 92,
   "metadata": {},
   "outputs": [
    {
     "data": {
      "text/plain": [
       "[<matplotlib.lines.Line2D at 0x7fc5931c3b80>]"
      ]
     },
     "execution_count": 92,
     "metadata": {},
     "output_type": "execute_result"
    },
    {
     "data": {
      "image/png": "[encoded data removed]",
      "text/plain": [
       "<Figure size 432x288 with 1 Axes>"
      ]
     },
     "metadata": {
      "needs_background": "light"
     },
     "output_type": "display_data"
    }
   ],
   "source": [
    "#Sigma and gamma will later be made more rigerous\n",
    "\n",
    "omegaCDM = 0.2589\n",
    "sigmasquared = 0.003\n",
    "\n",
    "k = 3.3\n",
    "gamma = 0.36\n",
    "Meq = 2.8e17\n",
    "\n",
    "def mu(M, MH) :\n",
    "    return M / (k*MH)\n",
    "\n",
    "# compute integral for a specific M value\n",
    "def fraction(M):\n",
    "    return (1/omegaCDM)*integ.simps( 2 / np.sqrt(2*np.pi*sigmasquared) * \n",
    "                np.exp(-( mu(M, MH_grid)**(1/gamma) + deltac(MH_grid))**2 / (2*sigmasquared) ) *\n",
    "                M/(gamma*MH_grid) * mu(M, MH_grid)**(1/gamma) * np.sqrt(Meq/MH_grid),\n",
    "            np.log(MH_grid)\n",
    "        )\n",
    "\n",
    "Ms = np.logspace(-6,5,100)\n",
    "points = np.array([fraction(m) for m in Ms])\n",
    "plt.loglog(Ms, points)\n",
    "# OmegaCDM = integ.simps(points, Ms)\n",
    "# print(\"$Omega_{CDM}$ is\", OmegaCDM)"
   ]
  },
  {
   "cell_type": "code",
   "execution_count": null,
   "metadata": {},
   "outputs": [],
   "source": []
  }
 ],
 "metadata": {
  "kernelspec": {
   "display_name": "Python 3",
   "language": "python",
   "name": "python3"
  },
  "language_info": {
   "codemirror_mode": {
    "name": "ipython",
    "version": 3
   },
   "file_extension": ".py",
   "mimetype": "text/x-python",
   "name": "python",
   "nbconvert_exporter": "python",
   "pygments_lexer": "ipython3",
   "version": "3.8.5"
  }
 },
 "nbformat": 4,
 "nbformat_minor": 4
}
