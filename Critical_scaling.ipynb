{
 "cells": [
  {
   "cell_type": "markdown",
   "id": "1c729698",
   "metadata": {},
   "source": [
    "# Critical Collapse Study\n",
    "\n",
    "Below is code to help study the formation of black holes. The equations integrated are described in the work by Bloomfield et. al.\n",
    "\n",
    "arXiv paper on : [1504.02071](https://arxiv.org/pdf/1504.02071.pdf) ([ar5iv](https://ar5iv.org/abs/1504.02071))\n",
    "\n",
    "For collapse with an approximate QCD equation of state, a previous work is\n",
    "\n",
    "arXiv: [1801.06138](https://arxiv.org/pdf/1801.06138.pdf) ([ar5iv](https://ar5iv.org/abs/1801.06138))\n",
    "\n",
    "## Import Modules"
   ]
  },
  {
   "cell_type": "code",
   "execution_count": 1,
   "id": "2927842a",
   "metadata": {},
   "outputs": [],
   "source": [
    "import numpy as np\n",
    "import sys\n",
    "from importlib import reload \n",
    "import scipy.interpolate as interp\n",
    "import scipy.constants as const\n",
    "\n",
    "import cython\n",
    "%load_ext Cython\n",
    "\n",
    "import matplotlib.pyplot as plt\n",
    "import matplotlib as mpl\n",
    "mpl.rc('xtick', direction='in', top=True)\n",
    "mpl.rc('ytick', direction='in', right=True)\n",
    "mpl.rc('xtick.minor', visible=True)\n",
    "mpl.rc('ytick.minor', visible=True)"
   ]
  },
  {
   "cell_type": "markdown",
   "id": "fd246b73",
   "metadata": {},
   "source": [
    "## Import MS, HM modules\n",
    "\n",
    "...and reload modules if needed"
   ]
  },
  {
   "cell_type": "code",
   "execution_count": 2,
   "id": "8b5c1b07",
   "metadata": {},
   "outputs": [],
   "source": [
    "# importing MS and HM modules. Reload modules if needed\n",
    "try :\n",
    "    reload(ms_hm.MS)\n",
    "    reload(ms_hm.HM)\n",
    "    reload(ms_hm.QCD_EOS)\n",
    "except :\n",
    "    pass\n",
    "\n",
    "import ms_hm\n",
    "from ms_hm.QCD_EOS import *\n",
    "from ms_hm.MS import *\n",
    "from ms_hm.HM import *"
   ]
  },
  {
   "cell_type": "markdown",
   "id": "e63c0592",
   "metadata": {},
   "source": [
    "## Various functions that use the MS and HM classes\n",
    "\n",
    "Functions below compute various things using the Misner-Sharp or Hernandez-Misher classes."
   ]
  },
  {
   "cell_type": "code",
   "execution_count": 3,
   "id": "d8124c6f",
   "metadata": {},
   "outputs": [],
   "source": [
    "%%cython\n",
    "\n",
    "import cython\n",
    "cimport numpy as np\n",
    "\n",
    "cimport cython\n",
    "ctypedef np.double_t DTYPE_t\n",
    "\n",
    "from libc.math cimport exp\n",
    "from libc.math cimport sqrt\n",
    "\n",
    "from cython.parallel import prange\n",
    "\n",
    "@cython.boundscheck(False)  # Deactivate bounds checking\n",
    "cpdef zero_crossing(np.ndarray x_in, double [::1] y):\n",
    "    \"\"\"\n",
    "    Given an array of inputs y, find x where the function y(x) = 0\n",
    "    \"\"\"\n",
    "    cdef int size = x_in.shape[0]\n",
    "    cdef double [:] x = x_in\n",
    "    cdef double w, zero=-1\n",
    "    cdef int i\n",
    "    \n",
    "    for i in range(size-1): # loop through all y values\n",
    "        if(y[i] * y[i+1] < 0): # if subsequent elements have opposite signs, a zero-crossing was found.\n",
    "            # linearly extrapolate zero-crossing\n",
    "            w = abs(y[i] / (y[i+1] - y[i])) \n",
    "            zero = x[i] * (1 - w) + x[i+1] * w\n",
    "            break\n",
    "            \n",
    "    return zero"
   ]
  },
  {
   "cell_type": "code",
   "execution_count": 4,
   "id": "6eb35ba8",
   "metadata": {},
   "outputs": [],
   "source": [
    "def mix_grid(left, right, n):\n",
    "    \"\"\"\n",
    "    Function to generate coordinate spacings with a mix of uniform and logarithmic spacings,\n",
    "    with uniform spacing at small values (0 to \"left\") then logarithmically spaced (\"left\" to \"right\").\n",
    "    \n",
    "    Returns an array of coordinate positions.\n",
    "    \"\"\"\n",
    "    \n",
    "    # Generate logarithmically spaced coordinates between \"left\" and \"right\"\n",
    "    A = np.exp(np.linspace(left, right, n))\n",
    "    dA = A[1] - A[0]\n",
    "    \n",
    "    # Generate uniformly spaced coordinates\n",
    "    A = np.concatenate( (np.linspace(0, A[0], int(np.ceil(A[0] / dA)), endpoint=False), A))\n",
    "    \n",
    "    return A\n",
    "\n",
    "def uni_grid( right, n):\n",
    "    \"\"\"\n",
    "    Function to generate a uniformly-spaced array of coordinate positions\n",
    "    \n",
    "    Returns the array of uniformly spaced coordinates.\n",
    "    \"\"\"\n",
    "    A = np.linspace(0, np.exp(right), n)\n",
    "    return A"
   ]
  },
  {
   "cell_type": "code",
   "execution_count": 5,
   "id": "0aebac53",
   "metadata": {},
   "outputs": [],
   "source": [
    "# Function to generate initial data for the MS class.\n",
    "def gen_init(amp, Abar, w):\n",
    "    alpha = (2/3)/(1 + w)\n",
    "    \n",
    "    delta0 = amp * np.exp(-Abar**2 / 2 /(1.6)**2)\n",
    "    delta0P = amp * delta0 * 2 * (-1 / 2 / (1.6)**2 ) * Abar\n",
    "\n",
    "    m = 1 + delta0\n",
    "    U = 1 - alpha * delta0 / 2\n",
    "    R = 1 - alpha / 2 * (delta0 + w * Abar * delta0P / (1 + 3 * w) )\n",
    "    \n",
    "    return (R, m, U)"
   ]
  },
  {
   "cell_type": "code",
   "execution_count": 6,
   "id": "5c438a78",
   "metadata": {},
   "outputs": [],
   "source": [
    "# Check if a BH forms\n",
    "# The MS run should proceed until MS until it breaks. If 2m / R > 1, return true\n",
    "def BH_form(Abar, rho0, amp):\n",
    "    \n",
    "    default_steps = 1500000\n",
    "    \n",
    "    ms = MS(Abar, rho0, amp,\n",
    "            trace_ray=False, BH_threshold=-1, plot_interval=default_steps)\n",
    "    \n",
    "    if (ms.adap_run_steps(default_steps) == -1):\n",
    "        return (True, ms.delta)\n",
    "    \n",
    "    return (False, ms.delta)"
   ]
  },
  {
   "cell_type": "code",
   "execution_count": 7,
   "id": "d8615b2f",
   "metadata": {},
   "outputs": [],
   "source": [
    "def find_crit(lower, upper, Abar, rho0, amp):\n",
    "    \"\"\"\n",
    "    Binary search between lower and upper to find a critical amplitude\n",
    "    (Note that this is NOT the critical density)\n",
    "    return (critical, upper value)\n",
    "    \"\"\"    \n",
    "    for i in range(20):\n",
    "        mid = (lower + upper) / 2\n",
    "        print('Iteration No ' + str(i))\n",
    "        print('Trying with amplitude ' + str(mid))\n",
    "\n",
    "        if(BH_form(Abar, rho0, amp)[0] == True):\n",
    "            upper = mid\n",
    "        else:\n",
    "            lower = mid\n",
    "    \n",
    "    return ((upper + lower) / 2, upper)"
   ]
  },
  {
   "cell_type": "code",
   "execution_count": 8,
   "id": "aa152418",
   "metadata": {},
   "outputs": [],
   "source": [
    "def find_mass(Abar, rho0, amp, is_searching_for_crit=False):\n",
    "    \"\"\"\n",
    "    Find mass of BHs for certain amplitude\n",
    "    set is_searching_for_crit=True when searching for the critical point\n",
    "    \"\"\"\n",
    "    print('Finding mass with amp ' + str(amp))\n",
    "    \n",
    "    default_steps = 1500000\n",
    "        \n",
    "    # Perform a MS run without raytracing\n",
    "    ms = MS(Abar, rho0, amp, trace_ray=False, BH_threshold=-1e1, plot_interval=default_steps)\n",
    "    ms.adap_run_steps(default_steps)\n",
    "    delta = ms.delta\n",
    "    \n",
    "    # Perform a run *with* raytracing to get ICs for an HM run\n",
    "    ms = MS(Abar, rho0, amp, trace_ray=True, BH_threshold=-1e1, plot_interval=default_steps)\n",
    "    flag = ms.run_steps(default_steps)\n",
    "    if(flag != 0):\n",
    "        raise ValueError('Not finishing ray-tracing with the amplitude ' + str(amp))\n",
    "        \n",
    "    # Perform an HM run\n",
    "    hm = HM(ms, mOverR=0.99, sm_sigma=50)\n",
    "    bh_formed = hm.adap_run_steps(550000) == 1\n",
    "    if(not bh_formed and is_searching_for_crit==False):\n",
    "        raise ValueError('Cannot get the target 2m/R with the amplitude ' + str(amp))\n",
    "    \n",
    "    print(ms.delta, hm.BH_mass2())\n",
    "    return (ms.delta, hm.BH_mass2())"
   ]
  },
  {
   "cell_type": "code",
   "execution_count": 10,
   "id": "dd50a970",
   "metadata": {},
   "outputs": [],
   "source": [
    "# # Generate critical scaling data \n",
    "# def critical_scaling(crit_amp, lower_amp, upper_amp, n=10):\n",
    "#     amps = 10**np.linspace(np.log10(lower_amp - crit_amp), np.log10(upper_amp - crit_amp), n) + crit_amp\n",
    "#     print(amps)\n",
    "#     masses = np.array([find_mass(amp) for amp in amps])\n",
    "#     crit_delta = find_mass(crit_amp, is_searching_for_crit=True)[0]  \n",
    "#     return (masses, crit_delta)"
   ]
  },
  {
   "cell_type": "markdown",
   "id": "369692c8",
   "metadata": {},
   "source": [
    "## Simulation setup\n",
    "\n",
    "Code below will set up grids (arrays) for running the simulations."
   ]
  },
  {
   "cell_type": "code",
   "execution_count": 11,
   "id": "7149d2f2",
   "metadata": {},
   "outputs": [
    {
     "name": "stdout",
     "output_type": "stream",
     "text": [
      "The grid of Abar values is linearly spaced from Abar = 0 to 2.0 then log spaced until Abar = 19.999999999999996\n"
     ]
    }
   ],
   "source": [
    "# simulation resolution parameter\n",
    "# (Not exactly the number of gridpoints for a mixed grid)\n",
    "n = 100\n",
    "\n",
    "# Generate an array of coordinate positions for the simulation to run at\n",
    "lower = np.log(2) # The coordinates will be linearly spaced from 0 to e^lower\n",
    "upper = np.log(20) # The coordinates will be log spaced from e^lower to e^upper\n",
    "Abar = mix_grid(lower, upper, n)\n",
    "print(\"The grid of Abar values is linearly spaced from Abar = 0 to\", np.exp(lower),\n",
    "      \"then log spaced until Abar =\", np.exp(upper))"
   ]
  },
  {
   "cell_type": "markdown",
   "id": "f0162197",
   "metadata": {},
   "source": [
    "## Scratch Work\n",
    "\n",
    "Below is some scratch work useful for testing simulations and getting things set up to run"
   ]
  },
  {
   "cell_type": "code",
   "execution_count": 13,
   "id": "3603b07b",
   "metadata": {
    "scrolled": false
   },
   "outputs": [
    {
     "name": "stdout",
     "output_type": "stream",
     "text": [
      "Initialized QCD pressure as a function of density.\n",
      "Initial w is 0.3328789236481935 and Horizon radius is 0.034549414947133546\n",
      "Not tracing ray and NO excision will be performed!\n",
      "Horizon was found at step 1590 ! code will be terminated.\n"
     ]
    },
    {
     "data": {
      "text/plain": [
       "-1"
      ]
     },
     "execution_count": 13,
     "metadata": {},
     "output_type": "execute_result"
    },
    {
     "data": {
      "image/png": "[encoded data removed]",
      "text/plain": [
       "<Figure size 432x288 with 1 Axes>"
      ]
     },
     "metadata": {
      "needs_background": "light"
     },
     "output_type": "display_data"
    }
   ],
   "source": [
    "# Reload MS module and try a run\n",
    "reload(ms_hm.MS)\n",
    "from ms_hm.MS import *\n",
    "rho0 = 100 # initial density value in MeV^4\n",
    "amp = 0.30\n",
    "ms = MS(Abar, rho0, amp,\n",
    "        trace_ray=False, BH_threshold=-1, sm_sigma=0.5, plot_interval=-1)\n",
    "\n",
    "ms.run_steps(40000)"
   ]
  },
  {
   "cell_type": "code",
   "execution_count": 50,
   "id": "7abf25c0",
   "metadata": {},
   "outputs": [],
   "source": [
    "reload(ms_hm.HM)\n",
    "from ms_hm.HM import *\n",
    "hm = HM(ms, mOverR=0.99, sm_sigma=15)\n",
    "hm.adap_run_steps(550000)\n",
    "print(hm.BH_mass2())"
   ]
  },
  {
   "cell_type": "code",
   "execution_count": null,
   "id": "288c809a",
   "metadata": {},
   "outputs": [],
   "source": [
    "find_mass(0.30, is_searching_for_crit=False)"
   ]
  },
  {
   "cell_type": "code",
   "execution_count": null,
   "id": "c8f908ea",
   "metadata": {},
   "outputs": [],
   "source": [
    "# Call the find_crit function to search for the amplitude required to form a BH\n",
    "find_crit(0.27, 0.30)"
   ]
  },
  {
   "cell_type": "code",
   "execution_count": 171,
   "id": "72ec3efc",
   "metadata": {},
   "outputs": [],
   "source": [
    "find_mass(0.29957632221281527, is_searching_for_crit=False)"
   ]
  },
  {
   "cell_type": "code",
   "execution_count": 14,
   "id": "9deaaec8",
   "metadata": {},
   "outputs": [],
   "source": [
    "find_mass(0.2728846216201781, is_searching_for_crit=True)"
   ]
  },
  {
   "cell_type": "markdown",
   "id": "75ae3e52",
   "metadata": {},
   "source": [
    "## Simulation Run\n",
    "\n",
    "Below is an example of all the code needed to find the critical scaling threshhold and exponent."
   ]
  },
  {
   "cell_type": "code",
   "execution_count": null,
   "id": "964a78c3",
   "metadata": {},
   "outputs": [],
   "source": [
    "# Find the critical point. It will be bounded between crit and lower.\n",
    "(crit, lower) = find_crit()\n",
    "# Find the mass of BHs at various amplitudes between lower_amp and lower_amp plus a bit.\n",
    "res = critical_scaling(crit, lower_amp, lower_amp + 1e-2, 20)"
   ]
  },
  {
   "cell_type": "code",
   "execution_count": 127,
   "id": "27ca9e3c",
   "metadata": {},
   "outputs": [],
   "source": [
    "(a, b ) = np.polyfit(np.log10(res2[0][:,0] - res2[1])[:], np.log10(res2[0][:,1])[:], deg=1)\n",
    "plt.scatter(np.log10(res2[0][:,0] - res2[1])[:], np.log10(res2[0][:,1])[:])\n",
    "plt.plot(np.arange(-3.1,-1.6,0.01), a * np.arange(-3.1,-1.6,0.01) + b)"
   ]
  },
  {
   "cell_type": "code",
   "execution_count": 106,
   "id": "af974226",
   "metadata": {},
   "outputs": [],
   "source": [
    "np.polyfit(np.log10(res[0][:,0] - 0.4265539636281781)[:], np.log10(res[0][:,1])[:], deg=1)"
   ]
  },
  {
   "cell_type": "code",
   "execution_count": null,
   "id": "bdb3bf9a",
   "metadata": {},
   "outputs": [],
   "source": []
  }
 ],
 "metadata": {
  "kernelspec": {
   "display_name": "Python 3",
   "language": "python",
   "name": "python3"
  },
  "language_info": {
   "codemirror_mode": {
    "name": "ipython",
    "version": 3
   },
   "file_extension": ".py",
   "mimetype": "text/x-python",
   "name": "python",
   "nbconvert_exporter": "python",
   "pygments_lexer": "ipython3",
   "version": "3.8.10"
  }
 },
 "nbformat": 4,
 "nbformat_minor": 5
}
