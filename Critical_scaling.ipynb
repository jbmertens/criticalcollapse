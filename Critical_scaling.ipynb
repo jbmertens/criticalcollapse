{
 "cells": [
  {
   "cell_type": "code",
   "execution_count": 1102,
   "metadata": {},
   "outputs": [
    {
     "name": "stdout",
     "output_type": "stream",
     "text": [
      "The Cython extension is already loaded. To reload it, use:\n",
      "  %reload_ext Cython\n"
     ]
    }
   ],
   "source": [
    "import numpy as np\n",
    "import sys\n",
    "import matplotlib.pyplot as plt\n",
    "import matplotlib as mpl\n",
    "from importlib import reload \n",
    "\n",
    "import cython\n",
    "%load_ext Cython\n",
    "mpl.rc('xtick', direction='in', top=True)\n",
    "mpl.rc('ytick', direction='in', right=True)\n",
    "mpl.rc('xtick.minor', visible=True)\n",
    "mpl.rc('ytick.minor', visible=True)"
   ]
  },
  {
   "cell_type": "code",
   "execution_count": 1103,
   "metadata": {},
   "outputs": [],
   "source": [
    "reload(ms_hm.MS)\n",
    "reload(ms_hm.HM)\n",
    "# importing MS and HM modules\n",
    "import ms_hm \n",
    "from ms_hm.MS import *\n",
    "from ms_hm.HM import *"
   ]
  },
  {
   "cell_type": "code",
   "execution_count": 1104,
   "metadata": {},
   "outputs": [],
   "source": [
    "%%cython\n",
    "\n",
    "import numpy as np\n",
    "import cython\n",
    "cimport numpy as np\n",
    "\n",
    "cimport cython\n",
    "ctypedef np.double_t DTYPE_t\n",
    "\n",
    "from libc.math cimport exp\n",
    "from libc.math cimport sqrt\n",
    "\n",
    "from cython.parallel import prange\n",
    "\n",
    "# find x_0 where the function y(x_0) = 0 \n",
    "@cython.boundscheck(False)  # Deactivate bounds checking\n",
    "cpdef zero_crossing(np.ndarray x_in, double [::1] y):\n",
    "    cdef int size = x_in.shape[0]\n",
    "    cdef double [:] x = x_in\n",
    "    cdef double w, res=-1\n",
    "    cdef int i\n",
    "    for i in range(size-1):\n",
    "        if(y[i] * y[i+1] < 0):\n",
    "            w = abs(y[i] / (y[i+1] - y[i]))\n",
    "            res = x[i] * (1 - w) + x[i+1] * w\n",
    "            break\n",
    "    return res"
   ]
  },
  {
   "cell_type": "code",
   "execution_count": 1105,
   "metadata": {},
   "outputs": [],
   "source": [
    "# creating a mix of uniform and logarithmic grids\n",
    "def mix_grid(left, right, n):\n",
    "    A = np.exp(np.linspace(left, right, n))\n",
    "    dA = A[1] - A[0]\n",
    "    A = np.concatenate( (np.linspace(0, A[0],int(np.ceil(A[0] / dA)), endpoint=False), A))\n",
    "    return A\n",
    "# creating uniform grids\n",
    "def uni_grid( right, n):\n",
    "    A = np.linspace(0, np.exp(right), n)\n",
    "    return A"
   ]
  },
  {
   "cell_type": "code",
   "execution_count": 1106,
   "metadata": {},
   "outputs": [],
   "source": [
    "# some general set-ups\n",
    "n=500 # number of grids\n",
    "\n",
    "lower = -0.5\n",
    "upper = 1.0\n",
    "A = mix_grid(lower,upper,n)\n",
    "\n",
    "w = 0.01\n",
    "alpha = (2 / 3) * (1+w) # alpha = 1/2 for w = 1/3\n",
    "\n",
    "\n",
    "rho0 = .01\n",
    "t0 = alpha * np.sqrt(3 / (8*np.pi*rho0))\n",
    "RH = t0 / alpha\n",
    "Abar = A / RH\n",
    "\n",
    "deltaL = 0\n",
    "\n",
    "L = Abar[-1]\n",
    "deltaA = Abar[1] - Abar[0]\n",
    "\n",
    "# amp = 0.27337198\n",
    "# delta0 = amp * np.exp(-Abar**2 / 2 /(1.6)**2)\n",
    "# delta0P = amp * delta0 * 2 * (-1 / 2 / (1.6)**2 ) * Abar\n",
    "\n",
    "\n",
    "# m = 1 + delta0 \n",
    "# U = 1 - alpha * delta0 / 2\n",
    "# R = 1 - alpha / 2 * (delta0 + w * Abar * delta0P / (1 + 3 * w) )\n",
    "\n",
    "\n",
    "# ms = MS(R,m,U,w,alpha,A,rho0, trace_ray=True,BH_threshold=-1e100,dt_frac=0.05)"
   ]
  },
  {
   "cell_type": "code",
   "execution_count": 1107,
   "metadata": {},
   "outputs": [],
   "source": [
    "# generate initial data for MS formula\n",
    "def gen_init(amp):\n",
    "    delta0 = amp * np.exp(-Abar**2 / 2 /(1.6)**2)\n",
    "    delta0P = amp * delta0 * 2 * (-1 / 2 / (1.6)**2 ) * Abar\n",
    "\n",
    "\n",
    "    m = 1 + delta0 \n",
    "    U = 1 - alpha * delta0 / 2\n",
    "    R = 1 - alpha / 2 * (delta0 + w * Abar * delta0P / (1 + 3 * w) )\n",
    "    return (R, m, U)"
   ]
  },
  {
   "cell_type": "code",
   "execution_count": 1108,
   "metadata": {},
   "outputs": [],
   "source": [
    "# Tell is is BH forms\n",
    "# It evolves MS until it breaks. If 2m / R > 1, return true \n",
    "def BH_form(amp):\n",
    "    \n",
    "    (R, m, U) = gen_init(amp)\n",
    "\n",
    "    ms = MS(R,m,U,w,alpha,A,rho0, trace_ray=False, BH_threshold=-999)\n",
    "    if (ms.adap_run_steps(250000) == -1):\n",
    "        return (True, ms.delta)\n",
    "    return (False, ms.delta)"
   ]
  },
  {
   "cell_type": "code",
   "execution_count": 1109,
   "metadata": {},
   "outputs": [],
   "source": [
    "# Binary search to find criticle amplitude (NOT the critical density)\n",
    "# return (critical, upper value)\n",
    "def find_crit():\n",
    "    lower = 0.25\n",
    "    upper = 0.28\n",
    "    \n",
    "    for i in range(20):\n",
    "        mid = (lower + upper) / 2\n",
    "        print('Iteration No ' + str(i))\n",
    "        print('Trying with amplitude ' + str(mid))\n",
    "        #(is_form, delta) = BH_form(mid)\n",
    "        if(BH_form(mid)[0] == True):\n",
    "            upper = mid\n",
    "        else:\n",
    "            lower = mid\n",
    "    return ((upper + lower) / 2, upper)"
   ]
  },
  {
   "cell_type": "code",
   "execution_count": 1110,
   "metadata": {},
   "outputs": [],
   "source": [
    "# Find mass of BHs for certain amplitude\n",
    "def find_mass(amp, is_crit=False):\n",
    "    print('Finding mass with amp ' + str(amp))\n",
    "    (R, m, U) = gen_init(amp)\n",
    "    ms = MS(R,m,U,w,alpha,A,rho0, trace_ray=False, BH_threshold=-1e1)\n",
    "    ms.adap_run_steps(1500000, plot_interval=150000)\n",
    "    delta = ms.delta\n",
    "    ms = MS(R,m,U,w,alpha,A,rho0, trace_ray=True, BH_threshold=-1e100)\n",
    "    flag = ms.run_steps(1500000)\n",
    "    if(flag != 0):\n",
    "        raise ValueError('Not finishing ray-tracing with the amplitude ' + str(amp))\n",
    "    hm = HM(ms, mOverR=0.99, sm_sigma=50)\n",
    "    flag = hm.adap_run_steps(550000)\n",
    "    if(flag != 1 and is_crit == False):\n",
    "        raise ValueError('Cannot get the target 2m/R with the amplitude ' + str(amp))\n",
    "    print(ms.delta, hm.BH_mass2())\n",
    "    return (ms.delta, hm.BH_mass2())"
   ]
  },
  {
   "cell_type": "code",
   "execution_count": 1111,
   "metadata": {},
   "outputs": [],
   "source": [
    "# Generate critical scaling data \n",
    "def critical_scaling(crit_amp, lower_amp, upper_amp, n=10):\n",
    "    amps = 10**np.linspace(np.log10(lower_amp - crit_amp), np.log10(upper_amp - crit_amp), n) + crit_amp\n",
    "    print(amps)\n",
    "    masses = np.array([find_mass(amp) for amp in amps])\n",
    "    crit_delta = find_mass(crit_amp, is_crit=True)[0]\n",
    "    \n",
    "    return (masses, crit_delta)"
   ]
  },
  {
   "cell_type": "code",
   "execution_count": 1112,
   "metadata": {},
   "outputs": [
    {
     "name": "stdout",
     "output_type": "stream",
     "text": [
      "Finding mass with amp 0.01\n",
      "Not Tracing ray and NO excision will be performed!\n",
      "Warning, the time step is too small!\n",
      "Tracing ray is enabled and excision will be performed!\n",
      "Warning!0.7328774950240154 nan\n"
     ]
    },
    {
     "name": "stderr",
     "output_type": "stream",
     "text": [
      "/Users/drewrosenblum/Documents/GitHub/criticalcollapse/ms_hm/MS.py:94: RuntimeWarning: overflow encountered in exp\n",
      "  ep = np.exp(self.psi(r, p, Pprime))\n",
      "/Users/drewrosenblum/Documents/GitHub/criticalcollapse/ms_hm/MS.py:102: RuntimeWarning: overflow encountered in multiply\n",
      "  (   g**2 * np.concatenate( ([self.w\n",
      "/Users/drewrosenblum/Documents/GitHub/criticalcollapse/ms_hm/MS.py:101: RuntimeWarning: invalid value encountered in multiply\n",
      "  kU = U - self.alpha * ep * \\\n",
      "/Users/drewrosenblum/Documents/GitHub/criticalcollapse/ms_hm/MS.py:160: RuntimeWarning: invalid value encountered in multiply\n",
      "  self.R = self.R + (deltau/6*(kR1 + 2*kR2 + 2*kR3 + kR4)) * exec_arr\n",
      "/Users/drewrosenblum/Documents/GitHub/criticalcollapse/ms_hm/MS.py:161: RuntimeWarning: invalid value encountered in multiply\n",
      "  self.m = self.m + (deltau/6*(km1 + 2*km2 + 2*km3 + km4)) * exec_arr\n",
      "/Users/drewrosenblum/Documents/GitHub/criticalcollapse/ms_hm/MS.py:162: RuntimeWarning: invalid value encountered in multiply\n",
      "  self.U = self.U + (deltau/6*(kU1 + 2*kU2 + 2*kU3 + kU4)) * exec_arr\n"
     ]
    },
    {
     "ename": "ValueError",
     "evalue": "Not finishing ray-tracing with the amplitude 0.01",
     "output_type": "error",
     "traceback": [
      "\u001b[0;31m---------------------------------------------------------------------------\u001b[0m",
      "\u001b[0;31mValueError\u001b[0m                                Traceback (most recent call last)",
      "\u001b[0;32m<ipython-input-1112-a781eaa400e0>\u001b[0m in \u001b[0;36m<module>\u001b[0;34m\u001b[0m\n\u001b[1;32m      8\u001b[0m \u001b[0mflag\u001b[0m \u001b[0;34m=\u001b[0m \u001b[0mms\u001b[0m\u001b[0;34m.\u001b[0m\u001b[0mrun_steps\u001b[0m\u001b[0;34m(\u001b[0m\u001b[0;36m1500000\u001b[0m\u001b[0;34m)\u001b[0m\u001b[0;34m\u001b[0m\u001b[0;34m\u001b[0m\u001b[0m\n\u001b[1;32m      9\u001b[0m \u001b[0;32mif\u001b[0m\u001b[0;34m(\u001b[0m\u001b[0mflag\u001b[0m \u001b[0;34m!=\u001b[0m \u001b[0;36m0\u001b[0m\u001b[0;34m)\u001b[0m\u001b[0;34m:\u001b[0m\u001b[0;34m\u001b[0m\u001b[0;34m\u001b[0m\u001b[0m\n\u001b[0;32m---> 10\u001b[0;31m     \u001b[0;32mraise\u001b[0m \u001b[0mValueError\u001b[0m\u001b[0;34m(\u001b[0m\u001b[0;34m'Not finishing ray-tracing with the amplitude '\u001b[0m \u001b[0;34m+\u001b[0m \u001b[0mstr\u001b[0m\u001b[0;34m(\u001b[0m\u001b[0mamp\u001b[0m\u001b[0;34m)\u001b[0m\u001b[0;34m)\u001b[0m\u001b[0;34m\u001b[0m\u001b[0;34m\u001b[0m\u001b[0m\n\u001b[0m",
      "\u001b[0;31mValueError\u001b[0m: Not finishing ray-tracing with the amplitude 0.01"
     ]
    },
    {
     "data": {
      "image/png": "[encoded data removed]",
      "text/plain": [
       "<Figure size 432x288 with 1 Axes>"
      ]
     },
     "metadata": {
      "needs_background": "light"
     },
     "output_type": "display_data"
    }
   ],
   "source": [
    "amp=0.01\n",
    "print('Finding mass with amp ' + str(amp))\n",
    "(R, m, U) = gen_init(amp)\n",
    "ms = MS(R,m,U,w,alpha,A,rho0, trace_ray=False, BH_threshold=-1e1)\n",
    "ms.adap_run_steps(1500000)\n",
    "delta = ms.delta\n",
    "ms = MS(R,m,U,w,alpha,A,rho0, trace_ray=True, BH_threshold=-1e100)\n",
    "flag = ms.run_steps(1500000)\n",
    "if(flag != 0):\n",
    "    raise ValueError('Not finishing ray-tracing with the amplitude ' + str(amp))"
   ]
  },
  {
   "cell_type": "code",
   "execution_count": 1046,
   "metadata": {},
   "outputs": [
    {
     "data": {
      "text/plain": [
       "[<matplotlib.lines.Line2D at 0x7f9727ae85e0>]"
      ]
     },
     "execution_count": 1046,
     "metadata": {},
     "output_type": "execute_result"
    },
    {
     "data": {
      "image/png": "[encoded data removed]",
      "text/plain": [
       "<Figure size 432x288 with 1 Axes>"
      ]
     },
     "metadata": {
      "needs_background": "light"
     },
     "output_type": "display_data"
    }
   ],
   "source": [
    "R = ms.R # get the array of R values from the ms class, store in a shorthand \"R\" variable\n",
    "m = ms.m # get the array of m values from the ms class, store in a shorthand \"m\" variable\n",
    "U = ms.U # get the array of U values from the ms class, store in a shorthand \"U\" variable\n",
    "xi = ms.xi # get the array of xi values from the ms class, store in a shorthand \"xi\" variable\n",
    "\n",
    "r = ms.rho(R, m) # call the ms rho function to compute an array of rho values, store the array in the \"r\" variable\n",
    "p = ms.P(r) # call the ms P function to compute an array of pressure values, store the array in the \"p\" variable\n",
    "Pprime = ms.Pprime(R, m) # call the ms Pprime function to compute an array of P' values, store in the \"Pprime\" variable\n",
    "\n",
    "psi = ms.psi(r, p, Pprime) # now we can finally compute psi! Call the ms.psi function, store the array it returns in the \"psi\" variable.\n",
    "plt.plot(psi)"
   ]
  },
  {
   "cell_type": "code",
   "execution_count": 1062,
   "metadata": {},
   "outputs": [
    {
     "name": "stdout",
     "output_type": "stream",
     "text": [
      "Tracing ray is enabled and excision will be performed!\n",
      "Warning, the time step is too small!\n",
      "[0.00000000e+00 5.27190806e-04 1.05438161e-03 1.58157242e-03\n",
      " 2.10876323e-03 2.63595403e-03 3.16314484e-03 3.69033564e-03\n",
      " 4.21752645e-03 4.74471726e-03 5.27190806e-03 5.79909887e-03\n",
      " 6.32628968e-03 6.85348048e-03 7.38067129e-03 7.90786210e-03\n",
      " 8.43505290e-03 8.96224371e-03 9.48943451e-03 1.00166253e-02\n",
      " 1.05438161e-02 1.10710069e-02 1.15981977e-02 1.21253885e-02\n",
      " 1.26525794e-02 1.31797702e-02 1.37069610e-02 1.42341518e-02\n",
      " 1.47613426e-02 1.52885334e-02 1.58157242e-02 1.63429150e-02\n",
      " 1.68701058e-02 1.73972966e-02 1.79244874e-02 1.84516782e-02\n",
      " 1.89788690e-02 1.95060598e-02 2.00332506e-02 2.05604414e-02\n",
      " 2.10876323e-02 2.16148231e-02 2.21420139e-02 2.26692047e-02\n",
      " 2.31963955e-02 2.37235863e-02 2.42507771e-02 2.47779679e-02\n",
      " 2.53051587e-02 2.58323495e-02 2.63595403e-02 2.68867311e-02\n",
      " 2.74139219e-02 2.79411127e-02 2.84683035e-02 2.89954943e-02\n",
      " 2.95226852e-02 3.00498760e-02 3.05770668e-02 3.11042576e-02\n",
      " 3.16314484e-02 3.21586392e-02 3.26858300e-02 3.32130208e-02\n",
      " 3.37402116e-02 3.42674024e-02 3.47945932e-02 3.53217840e-02\n",
      " 3.58489748e-02 3.63761656e-02 3.69033564e-02 3.74305473e-02\n",
      " 3.79577381e-02 3.84849289e-02 3.90121197e-02 3.95393105e-02\n",
      " 4.00665013e-02 4.05936921e-02 4.11208829e-02 4.16480737e-02\n",
      " 4.21752645e-02 4.27024553e-02 4.32296461e-02 4.37568369e-02\n",
      " 4.42840277e-02 4.48112185e-02 4.53384093e-02 4.58656002e-02\n",
      " 4.63927910e-02 4.69199818e-02 4.74471726e-02 4.79743634e-02\n",
      " 4.85015542e-02 4.90287450e-02 4.95559358e-02 5.00831266e-02\n",
      " 5.06103174e-02 5.11375082e-02 5.16646990e-02 5.21918898e-02\n",
      " 5.27190806e-02 5.32462714e-02 5.37734622e-02 5.43006531e-02\n",
      " 5.48278439e-02 5.53550347e-02 5.58822255e-02 5.64094163e-02\n",
      " 5.69366071e-02 5.74637979e-02 5.79909887e-02 5.85181795e-02\n",
      " 5.90453703e-02 5.95725611e-02 6.00997519e-02 6.06269427e-02\n",
      " 6.11541335e-02 6.16813243e-02 6.22085152e-02 6.27357060e-02\n",
      " 6.32628968e-02 6.37900876e-02 6.43172784e-02 6.48444692e-02\n",
      " 6.53716600e-02 6.58988508e-02 6.64260416e-02 6.69532324e-02\n",
      " 6.74804232e-02 6.80076140e-02 6.85348048e-02 6.90619956e-02\n",
      " 6.95891864e-02 7.01163772e-02 7.06435681e-02 7.11707589e-02\n",
      " 7.16979497e-02 7.22251405e-02 7.27523313e-02 7.32795221e-02\n",
      " 7.38067129e-02 7.43339037e-02 7.48610945e-02 7.53882853e-02\n",
      " 7.59154761e-02 7.64426669e-02 7.69698577e-02 7.74970485e-02\n",
      " 7.80242393e-02 7.85514301e-02 7.90786210e-02 7.96058118e-02\n",
      " 8.01330026e-02 8.06601934e-02 8.11873842e-02 8.17145750e-02\n",
      " 8.22417658e-02 8.27689566e-02 8.32961474e-02 8.38233382e-02\n",
      " 8.43505290e-02 8.48777198e-02 8.54049106e-02 8.59321014e-02\n",
      " 8.64592922e-02 8.69864830e-02 8.75136739e-02 8.80408647e-02\n",
      " 8.85680555e-02 8.90952463e-02 8.96224371e-02 9.01496279e-02\n",
      " 9.06768187e-02 9.12040095e-02 9.17312003e-02 9.22583911e-02\n",
      " 9.27855819e-02 9.33127727e-02 9.38399635e-02 9.43671543e-02\n",
      " 9.48943451e-02 9.54215360e-02 9.59487268e-02 9.64759176e-02\n",
      " 9.70031084e-02 9.75302992e-02 9.80574900e-02 9.85846808e-02\n",
      " 9.91118716e-02 9.96390624e-02 1.00166253e-01 1.00693444e-01\n",
      " 1.01220635e-01 1.01747826e-01 1.02275016e-01 1.02802207e-01\n",
      " 1.03329398e-01 1.03856589e-01 1.04383780e-01 1.04910970e-01\n",
      " 1.05438161e-01 1.05965352e-01 1.06492543e-01 1.07019734e-01\n",
      " 1.07546924e-01 1.08074115e-01 1.08601306e-01 1.09128497e-01\n",
      " 1.09655688e-01 1.10182879e-01 1.10710069e-01 1.11237260e-01\n",
      " 1.11764451e-01 1.12291642e-01 1.12818833e-01 1.13346023e-01\n",
      " 1.13873214e-01 1.14400405e-01 1.14927596e-01 1.15454787e-01\n",
      " 1.15981977e-01 1.16509168e-01 1.17036359e-01 1.17563550e-01\n",
      " 1.18090741e-01 1.18617931e-01 1.19145122e-01 1.19672313e-01\n",
      " 1.20199504e-01 1.20726695e-01 1.21253885e-01 1.21781076e-01\n",
      " 1.22308267e-01 1.22835458e-01 1.23362649e-01 1.23889839e-01\n",
      " 1.24417030e-01 1.24944221e-01 1.25471412e-01 1.25998603e-01\n",
      " 1.26525794e-01 1.27052984e-01 1.27580175e-01 1.28107366e-01\n",
      " 1.28634557e-01 1.29161748e-01 1.29688938e-01 1.30216129e-01\n",
      " 1.30743320e-01 1.31270511e-01 1.31797702e-01 1.32324892e-01\n",
      " 1.32852083e-01 1.33379274e-01 1.33906465e-01 1.34433656e-01\n",
      " 1.34960846e-01 1.35488037e-01 1.36015228e-01 1.36542419e-01\n",
      " 1.37069610e-01 1.37596800e-01 1.38123991e-01 1.38651182e-01\n",
      " 1.39178373e-01 1.39705564e-01 1.40232754e-01 1.40759945e-01\n",
      " 1.41287136e-01 1.41814327e-01 1.42341518e-01 1.42868709e-01\n",
      " 1.43395899e-01 1.43923090e-01 1.44450281e-01 1.44977472e-01\n",
      " 1.45504663e-01 1.46031853e-01 1.46559044e-01 1.47086235e-01\n",
      " 1.47613426e-01 1.48140617e-01 1.48667807e-01 1.49194998e-01\n",
      " 1.49722189e-01 1.50249380e-01 1.50776571e-01 1.51303761e-01\n",
      " 1.51830952e-01 1.52358143e-01 1.52885334e-01 1.53412525e-01\n",
      " 1.53939715e-01 1.54466906e-01 1.54994097e-01 1.55521288e-01\n",
      " 1.56048479e-01 1.56575669e-01 1.57102860e-01 1.57630051e-01\n",
      " 1.58157242e-01 1.58684433e-01 1.59211624e-01 1.59738814e-01\n",
      " 1.60266005e-01 1.60793196e-01 1.61320387e-01 1.61847578e-01\n",
      " 1.62374768e-01 1.62901959e-01 1.63429150e-01 1.63956341e-01\n",
      " 1.64483532e-01 1.65010722e-01 1.65537913e-01 1.66065104e-01\n",
      " 1.66592295e-01 1.67119486e-01 1.67646676e-01 1.68173867e-01\n",
      " 1.68701058e-01 1.69228249e-01 1.69755440e-01 1.70282630e-01\n",
      " 1.70809821e-01 1.71337012e-01 1.71864203e-01 1.72391394e-01\n",
      " 1.72918584e-01 1.73445775e-01 1.73972966e-01 1.74500157e-01\n",
      " 1.75027348e-01 1.75554539e-01 1.76083052e-01 1.76613156e-01\n",
      " 1.77144856e-01 1.77678156e-01 1.78213063e-01 1.78749579e-01\n",
      " 1.79287711e-01 1.79827463e-01 1.80368840e-01 1.80911846e-01\n",
      " 1.81456488e-01 1.82002769e-01 1.82550694e-01 1.83100270e-01\n",
      " 1.83651499e-01 1.84204388e-01 1.84758942e-01 1.85315165e-01\n",
      " 1.85873063e-01 1.86432640e-01 1.86993902e-01 1.87556854e-01\n",
      " 1.88121500e-01 1.88687847e-01 1.89255898e-01 1.89825659e-01\n",
      " 1.90397136e-01 1.90970333e-01 1.91545256e-01 1.92121910e-01\n",
      " 1.92700299e-01 1.93280430e-01 1.93862308e-01 1.94445937e-01\n",
      " 1.95031323e-01 1.95618472e-01 1.96207388e-01 1.96798077e-01\n",
      " 1.97390544e-01 1.97984795e-01 1.98580835e-01 1.99178670e-01\n",
      " 1.99778304e-01 2.00379744e-01 2.00982994e-01 2.01588060e-01\n",
      " 2.02194948e-01 2.02803663e-01 2.03414210e-01 2.04026596e-01\n",
      " 2.04640825e-01 2.05256903e-01 2.05874836e-01 2.06494629e-01\n",
      " 2.07116289e-01 2.07739819e-01 2.08365227e-01 2.08992518e-01\n",
      " 2.09621697e-01 2.10252771e-01 2.10885744e-01 2.11520623e-01\n",
      " 2.12157413e-01 2.12796120e-01 2.13436750e-01 2.14079309e-01\n",
      " 2.14723802e-01 2.15370236e-01 2.16018615e-01 2.16668947e-01\n",
      " 2.17321236e-01 2.17975489e-01 2.18631712e-01 2.19289910e-01\n",
      " 2.19950090e-01 2.20612257e-01 2.21276418e-01 2.21942579e-01\n",
      " 2.22610744e-01 2.23280922e-01 2.23953117e-01 2.24627335e-01\n",
      " 2.25303584e-01 2.25981868e-01 2.26662194e-01 2.27344568e-01\n",
      " 2.28028997e-01 2.28715486e-01 2.29404042e-01 2.30094671e-01\n",
      " 2.30787379e-01 2.31482172e-01 2.32179058e-01 2.32878041e-01\n",
      " 2.33579128e-01 2.34282326e-01 2.34987641e-01 2.35695080e-01\n",
      " 2.36404648e-01 2.37116352e-01 2.37830199e-01 2.38546195e-01\n",
      " 2.39264347e-01 2.39984660e-01 2.40707142e-01 2.41431800e-01\n",
      " 2.42158638e-01 2.42887665e-01 2.43618887e-01 2.44352310e-01\n",
      " 2.45087941e-01 2.45825787e-01 2.46565854e-01 2.47308149e-01\n",
      " 2.48052679e-01 2.48799450e-01 2.49548469e-01 2.50299744e-01\n",
      " 2.51053280e-01 2.51809084e-01 2.52567164e-01 2.53327526e-01\n",
      " 2.54090178e-01 2.54855125e-01 2.55622375e-01 2.56391935e-01\n",
      " 2.57163812e-01 2.57938013e-01 2.58714544e-01 2.59493413e-01\n",
      " 2.60274627e-01 2.61058193e-01 2.61844117e-01 2.62632408e-01\n",
      " 2.63423072e-01 2.64216116e-01 2.65011548e-01 2.65809375e-01\n",
      " 2.66609603e-01 2.67412240e-01 2.68217294e-01 2.69024772e-01\n",
      " 2.69834680e-01 2.70647027e-01 2.71461819e-01 2.72279064e-01\n",
      " 2.73098770e-01 2.73920943e-01 2.74745591e-01 2.75572722e-01\n",
      " 2.76402344e-01 2.77234462e-01 2.78069086e-01 2.78906223e-01\n",
      " 2.79745880e-01 2.80588065e-01 2.81432785e-01 2.82280048e-01\n",
      " 2.83129862e-01 2.83982234e-01 2.84837172e-01 2.85694684e-01\n",
      " 2.86554778e-01 2.87417461e-01 2.88282741e-01 2.89150627e-01\n",
      " 2.90021125e-01 2.90894243e-01 2.91769990e-01 2.92648374e-01\n",
      " 2.93529402e-01 2.94413082e-01 2.95299423e-01 2.96188432e-01\n",
      " 2.97080118e-01 2.97974488e-01 2.98871550e-01 2.99771314e-01\n",
      " 3.00673785e-01 3.01578974e-01 3.02486888e-01 3.03397535e-01\n",
      " 3.04310924e-01 3.05227063e-01 3.06145959e-01 3.07067622e-01\n",
      " 3.07992060e-01 3.08919281e-01 3.09849293e-01 3.10782105e-01\n",
      " 3.11717725e-01 3.12656162e-01 3.13597425e-01 3.14541520e-01\n",
      " 3.15488459e-01 3.16438248e-01 3.17390896e-01 3.18346412e-01\n",
      " 3.19304805e-01 3.20266083e-01 3.21230255e-01 3.22197330e-01\n",
      " 3.23167316e-01 3.24140223e-01 3.25116058e-01 3.26094831e-01\n",
      " 3.27076551e-01 3.28061226e-01 3.29048866e-01 3.30039479e-01\n",
      " 3.31033074e-01 3.32029661e-01 3.33029248e-01 3.34031844e-01\n",
      " 3.35037458e-01 3.36046100e-01 3.37057778e-01 3.38072502e-01\n",
      " 3.39090281e-01 3.40111124e-01 3.41135041e-01 3.42162040e-01\n",
      " 3.43192130e-01 3.44225322e-01 3.45261624e-01 3.46301046e-01\n",
      " 3.47343598e-01 3.48389288e-01 3.49438126e-01 3.50490121e-01\n",
      " 3.51545284e-01 3.52603623e-01 3.53665148e-01 3.54729870e-01\n",
      " 3.55797796e-01 3.56868938e-01 3.57943304e-01 3.59020905e-01\n",
      " 3.60101750e-01 3.61185848e-01 3.62273211e-01 3.63363847e-01\n",
      " 3.64457766e-01 3.65554979e-01 3.66655495e-01 3.67759324e-01\n",
      " 3.68866476e-01 3.69976961e-01 3.71090790e-01 3.72207972e-01\n",
      " 3.73328517e-01 3.74452435e-01 3.75579737e-01 3.76710433e-01\n",
      " 3.77844533e-01 3.78982047e-01 3.80122985e-01 3.81267359e-01\n",
      " 3.82415177e-01 3.83566451e-01 3.84721191e-01 3.85879408e-01\n",
      " 3.87041111e-01 3.88206312e-01 3.89375020e-01 3.90547247e-01\n",
      " 3.91723003e-01 3.92902299e-01 3.94085145e-01 3.95271552e-01\n",
      " 3.96461531e-01 3.97655092e-01 3.98852246e-01 4.00053005e-01\n",
      " 4.01257378e-01 4.02465377e-01 4.03677013e-01 4.04892297e-01\n",
      " 4.06111239e-01 4.07333851e-01 4.08560144e-01 4.09790128e-01\n",
      " 4.11023816e-01 4.12261217e-01 4.13502344e-01 4.14747207e-01\n",
      " 4.15995818e-01 4.17248187e-01 4.18504327e-01 4.19764249e-01\n",
      " 4.21027964e-01 4.22295483e-01 4.23566818e-01 4.24841981e-01\n",
      " 4.26120983e-01 4.27403835e-01 4.28690549e-01 4.29981136e-01\n",
      " 4.31275609e-01 4.32573980e-01 4.33876258e-01 4.35182458e-01\n",
      " 4.36492590e-01 4.37806666e-01 4.39124698e-01 4.40446698e-01\n",
      " 4.41772678e-01 4.43102650e-01 4.44436626e-01 4.45774618e-01\n",
      " 4.47116638e-01 4.48462698e-01 4.49812810e-01 4.51166987e-01\n",
      " 4.52525241e-01 4.53887584e-01 4.55254028e-01 4.56624586e-01\n",
      " 4.57999270e-01 4.59378093e-01 4.60761067e-01 4.62148204e-01\n",
      " 4.63539517e-01 4.64935019e-01 4.66334722e-01 4.67738639e-01\n",
      " 4.69146782e-01 4.70559165e-01 4.71975799e-01 4.73396699e-01\n",
      " 4.74821876e-01 4.76251343e-01 4.77685115e-01 4.79123202e-01\n",
      " 4.80565619e-01 4.82012379e-01 4.83463494e-01 4.84918977e-01\n",
      " 4.86378843e-01 4.87843103e-01 4.89311771e-01 4.90784861e-01\n",
      " 4.92262386e-01 4.93744359e-01 4.95230794e-01 4.96721703e-01\n",
      " 4.98217101e-01 4.99717001e-01 5.01221416e-01 5.02730361e-01\n",
      " 5.04243848e-01 5.05761891e-01 5.07284505e-01 5.08811702e-01\n",
      " 5.10343498e-01 5.11879904e-01 5.13420937e-01 5.14966608e-01\n",
      " 5.16516933e-01 5.18071925e-01 5.19631599e-01 5.21195967e-01\n",
      " 5.22765046e-01 5.24338848e-01 5.25917388e-01 5.27500681e-01\n",
      " 5.29088740e-01 5.30681580e-01 5.32279215e-01 5.33881660e-01\n",
      " 5.35488929e-01 5.37101037e-01 5.38717999e-01 5.40339828e-01\n",
      " 5.41966540e-01 5.43598149e-01 5.45234670e-01 5.46876117e-01\n",
      " 5.48522507e-01 5.50173853e-01 5.51830170e-01 5.53491474e-01\n",
      " 5.55157779e-01 5.56829101e-01 5.58505454e-01 5.60186854e-01\n",
      " 5.61873316e-01 5.63564855e-01 5.65261487e-01 5.66963226e-01\n",
      " 5.68670089e-01 5.70382090e-01 5.72099245e-01 5.73821569e-01\n",
      " 5.75549079e-01 5.77281789e-01 5.79019716e-01 5.80762875e-01\n",
      " 5.82511282e-01 5.84264952e-01 5.86023902e-01 5.87788147e-01\n",
      " 5.89557704e-01 5.91332588e-01 5.93112815e-01 5.94898401e-01\n",
      " 5.96689364e-01 5.98485718e-01 6.00287480e-01 6.02094666e-01\n",
      " 6.03907293e-01 6.05725377e-01 6.07548934e-01 6.09377981e-01\n",
      " 6.11212534e-01 6.13052611e-01 6.14898227e-01 6.16749399e-01\n",
      " 6.18606145e-01 6.20468480e-01 6.22336422e-01 6.24209987e-01\n",
      " 6.26089193e-01 6.27974056e-01 6.29864594e-01 6.31760823e-01\n",
      " 6.33662761e-01 6.35570424e-01 6.37483831e-01 6.39402998e-01\n",
      " 6.41327943e-01 6.43258683e-01 6.45195236e-01 6.47137618e-01\n",
      " 6.49085848e-01 6.51039944e-01 6.52999922e-01 6.54965801e-01\n",
      " 6.56937598e-01 6.58915332e-01 6.60899019e-01 6.62888678e-01\n",
      " 6.64884328e-01 6.66885985e-01 6.68893668e-01 6.70907396e-01\n",
      " 6.72927186e-01 6.74953056e-01 6.76985026e-01 6.79023113e-01\n",
      " 6.81067335e-01 6.83117712e-01 6.85174262e-01 6.87237002e-01\n",
      " 6.89305953e-01 6.91381133e-01 6.93462559e-01 6.95550252e-01\n",
      " 6.97644231e-01 6.99744513e-01 7.01851118e-01 7.03964065e-01\n",
      " 7.06083373e-01 7.08209061e-01 7.10341149e-01 7.12479656e-01\n",
      " 7.14624601e-01 7.16776003e-01 7.18933882e-01 7.21098257e-01\n",
      " 7.23269148e-01 7.25446575e-01 7.27630557e-01 7.29821114e-01\n",
      " 7.32018266e-01 7.34222032e-01 7.36432433e-01 7.38649488e-01\n",
      " 7.40873218e-01 7.43103643e-01 7.45340782e-01 7.47584656e-01\n",
      " 7.49835285e-01 7.52092691e-01 7.54356892e-01 7.56627909e-01\n",
      " 7.58905764e-01 7.61190476e-01 7.63482066e-01 7.65780555e-01\n",
      " 7.68085964e-01 7.70398313e-01 7.72717624e-01 7.75043917e-01\n",
      " 7.77377214e-01 7.79717535e-01 7.82064902e-01 7.84419335e-01\n",
      " 7.86780857e-01]\n"
     ]
    },
    {
     "data": {
      "image/png": "[encoded data removed]",
      "text/plain": [
       "<Figure size 432x288 with 1 Axes>"
      ]
     },
     "metadata": {
      "needs_background": "light"
     },
     "output_type": "display_data"
    }
   ],
   "source": [
    "ms.adap_run_steps(1500000)\n",
    "print(Abar)"
   ]
  },
  {
   "cell_type": "code",
   "execution_count": null,
   "metadata": {},
   "outputs": [],
   "source": [
    "reload(ms_hm.HM)\n",
    "hm = HM(ms, mOverR=0.99, sm_sigma=50)\n",
    "flag = hm.adap_run_steps(550000)\n",
    "print(ms.delta, hm.BH_mass2())"
   ]
  },
  {
   "cell_type": "code",
   "execution_count": null,
   "metadata": {},
   "outputs": [],
   "source": [
    "find_mass(0.02, is_crit=False)"
   ]
  },
  {
   "cell_type": "code",
   "execution_count": 448,
   "metadata": {},
   "outputs": [
    {
     "name": "stdout",
     "output_type": "stream",
     "text": [
      "Finding mass with amp 0.2728846216201781\n",
      "Not Tracing ray and NO excision will be performed!\n",
      "Warning, the time step is too small!\n",
      "Tracing ray is enabled and excision will be performed!\n",
      "Photon has gone out of the outter boundary!\n"
     ]
    },
    {
     "ename": "ValueError",
     "evalue": "Cannot get the target 2m/R with the amplitude 0.2728846216201781",
     "output_type": "error",
     "traceback": [
      "\u001b[0;31m---------------------------------------------------------------------------\u001b[0m",
      "\u001b[0;31mValueError\u001b[0m                                Traceback (most recent call last)",
      "\u001b[0;32m<ipython-input-448-7c4d1e616483>\u001b[0m in \u001b[0;36m<module>\u001b[0;34m\u001b[0m\n\u001b[0;32m----> 1\u001b[0;31m \u001b[0mfind_mass\u001b[0m\u001b[0;34m(\u001b[0m\u001b[0;36m0.2728846216201781\u001b[0m\u001b[0;34m,\u001b[0m \u001b[0mis_crit\u001b[0m\u001b[0;34m=\u001b[0m\u001b[0;32mFalse\u001b[0m\u001b[0;34m)\u001b[0m\u001b[0;34m\u001b[0m\u001b[0;34m\u001b[0m\u001b[0m\n\u001b[0m",
      "\u001b[0;32m<ipython-input-443-77de8c8db0b7>\u001b[0m in \u001b[0;36mfind_mass\u001b[0;34m(amp, is_crit)\u001b[0m\n\u001b[1;32m     13\u001b[0m     \u001b[0mflag\u001b[0m \u001b[0;34m=\u001b[0m \u001b[0mhm\u001b[0m\u001b[0;34m.\u001b[0m\u001b[0madap_run_steps\u001b[0m\u001b[0;34m(\u001b[0m\u001b[0;36m550000\u001b[0m\u001b[0;34m)\u001b[0m\u001b[0;34m\u001b[0m\u001b[0;34m\u001b[0m\u001b[0m\n\u001b[1;32m     14\u001b[0m     \u001b[0;32mif\u001b[0m\u001b[0;34m(\u001b[0m\u001b[0mflag\u001b[0m \u001b[0;34m!=\u001b[0m \u001b[0;36m1\u001b[0m \u001b[0;32mand\u001b[0m \u001b[0mis_crit\u001b[0m \u001b[0;34m==\u001b[0m \u001b[0;32mFalse\u001b[0m\u001b[0;34m)\u001b[0m\u001b[0;34m:\u001b[0m\u001b[0;34m\u001b[0m\u001b[0;34m\u001b[0m\u001b[0m\n\u001b[0;32m---> 15\u001b[0;31m         \u001b[0;32mraise\u001b[0m \u001b[0mValueError\u001b[0m\u001b[0;34m(\u001b[0m\u001b[0;34m'Cannot get the target 2m/R with the amplitude '\u001b[0m \u001b[0;34m+\u001b[0m \u001b[0mstr\u001b[0m\u001b[0;34m(\u001b[0m\u001b[0mamp\u001b[0m\u001b[0;34m)\u001b[0m\u001b[0;34m)\u001b[0m\u001b[0;34m\u001b[0m\u001b[0;34m\u001b[0m\u001b[0m\n\u001b[0m\u001b[1;32m     16\u001b[0m     \u001b[0mprint\u001b[0m\u001b[0;34m(\u001b[0m\u001b[0mms\u001b[0m\u001b[0;34m.\u001b[0m\u001b[0mdelta\u001b[0m\u001b[0;34m,\u001b[0m \u001b[0mhm\u001b[0m\u001b[0;34m.\u001b[0m\u001b[0mBH_mass2\u001b[0m\u001b[0;34m(\u001b[0m\u001b[0;34m)\u001b[0m\u001b[0;34m)\u001b[0m\u001b[0;34m\u001b[0m\u001b[0;34m\u001b[0m\u001b[0m\n\u001b[1;32m     17\u001b[0m     \u001b[0;32mreturn\u001b[0m \u001b[0;34m(\u001b[0m\u001b[0mms\u001b[0m\u001b[0;34m.\u001b[0m\u001b[0mdelta\u001b[0m\u001b[0;34m,\u001b[0m \u001b[0mhm\u001b[0m\u001b[0;34m.\u001b[0m\u001b[0mBH_mass2\u001b[0m\u001b[0;34m(\u001b[0m\u001b[0;34m)\u001b[0m\u001b[0;34m)\u001b[0m\u001b[0;34m\u001b[0m\u001b[0;34m\u001b[0m\u001b[0m\n",
      "\u001b[0;31mValueError\u001b[0m: Cannot get the target 2m/R with the amplitude 0.2728846216201781"
     ]
    }
   ],
   "source": [
    "find_mass(0.2728846216201781, is_crit=False)"
   ]
  },
  {
   "cell_type": "code",
   "execution_count": 14,
   "metadata": {},
   "outputs": [
    {
     "name": "stdout",
     "output_type": "stream",
     "text": [
      "Finding mass with amp 0.2728846216201781\n",
      "Not Tracing ray and NO excision will be performed!\n",
      "Warning, the time step is too small!\n",
      "Tracing ray is enabled and excision will be performed!\n",
      "Photon has gone out of the outter boundary!\n",
      "Warning, the time step is too small!\n",
      "0.42650921473655545 0.46829034947396747\n"
     ]
    },
    {
     "data": {
      "text/plain": [
       "(0.42650921473655545, 0.46829034947396747)"
      ]
     },
     "execution_count": 14,
     "metadata": {},
     "output_type": "execute_result"
    }
   ],
   "source": [
    "find_mass(0.2728846216201781, is_crit=True)"
   ]
  },
  {
   "cell_type": "code",
   "execution_count": null,
   "metadata": {},
   "outputs": [],
   "source": [
    "# Pipeline\n",
    "(crit, lower) = find_crit()\n",
    "\n",
    "lower_amp = lower + 5e-4\n",
    "\n",
    "res=critical_scaling(crit, lower_amp, lower_amp + 1e-3, n=10)"
   ]
  },
  {
   "cell_type": "code",
   "execution_count": null,
   "metadata": {},
   "outputs": [],
   "source": []
  },
  {
   "cell_type": "code",
   "execution_count": null,
   "metadata": {},
   "outputs": [],
   "source": []
  },
  {
   "cell_type": "code",
   "execution_count": null,
   "metadata": {},
   "outputs": [],
   "source": []
  },
  {
   "cell_type": "code",
   "execution_count": null,
   "metadata": {},
   "outputs": [],
   "source": []
  },
  {
   "cell_type": "code",
   "execution_count": null,
   "metadata": {},
   "outputs": [],
   "source": []
  },
  {
   "cell_type": "code",
   "execution_count": null,
   "metadata": {},
   "outputs": [],
   "source": []
  },
  {
   "cell_type": "code",
   "execution_count": null,
   "metadata": {},
   "outputs": [],
   "source": []
  },
  {
   "cell_type": "code",
   "execution_count": 108,
   "metadata": {},
   "outputs": [],
   "source": [
    "crit=0.2728846216201781"
   ]
  },
  {
   "cell_type": "code",
   "execution_count": 12,
   "metadata": {},
   "outputs": [],
   "source": [
    "lower_amp=crit+1e-6"
   ]
  },
  {
   "cell_type": "code",
   "execution_count": 16,
   "metadata": {},
   "outputs": [],
   "source": [
    "lower_amp=0.27337198"
   ]
  },
  {
   "cell_type": "code",
   "execution_count": null,
   "metadata": {
    "collapsed": true,
    "jupyter": {
     "outputs_hidden": true
    },
    "tags": []
   },
   "outputs": [
    {
     "name": "stdout",
     "output_type": "stream",
     "text": [
      "[0.27337198 0.27345479 0.27355236 0.27366732 0.27380277 0.27396237\n",
      " 0.27415042 0.27437198]\n",
      "Finding mass with amp 0.27337198\n",
      "Not Tracing ray and NO excision will be performed!\n",
      "Horizon is found, code will be terminated!\n",
      "Tracing ray is enabled and excision will be performed!\n",
      "Photon has gone out of the outter boundary!\n",
      "2m/R is larger than 0.99\n",
      "0.4273823294430452 1.148034605332311\n",
      "Finding mass with amp 0.2734547890533645\n",
      "Not Tracing ray and NO excision will be performed!\n",
      "Horizon is found, code will be terminated!\n",
      "Tracing ray is enabled and excision will be performed!\n",
      "Photon has gone out of the outter boundary!\n",
      "2m/R is larger than 0.99\n",
      "0.427527124118255 1.204846748688422\n",
      "Finding mass with amp 0.273552358712059\n",
      "Not Tracing ray and NO excision will be performed!\n",
      "Photon has gone out of the outter boundary!\n",
      "2m/R is larger than 0.99\n",
      "0.4277033295203114 1.2652040726771652\n",
      "Finding mass with amp 0.27366732003465566\n",
      "Not Tracing ray and NO excision will be performed!\n",
      "Horizon is found, code will be terminated!\n",
      "Tracing ray is enabled and excision will be performed!\n",
      "Photon has gone out of the outter boundary!\n",
      "2m/R is larger than 0.99\n",
      "0.42790853881163793 1.330387071168814\n",
      "Finding mass with amp 0.27380277306247186\n",
      "Not Tracing ray and NO excision will be performed!\n",
      "Horizon is found, code will be terminated!\n",
      "Tracing ray is enabled and excision will be performed!\n",
      "Photon has gone out of the outter boundary!\n",
      "Horizon is found, code will be terminated!\n",
      "Tracing ray is enabled and excision will be performed!\n",
      "Photon has gone out of the outter boundary!\n",
      "2m/R is larger than 0.99\n",
      "0.42844121141605496 1.4733379137699345\n",
      "Finding mass with amp 0.2741504157869203\n",
      "Not Tracing ray and NO excision will be performed!\n",
      "Horizon is found, code will be terminated!\n",
      "Tracing ray is enabled and excision will be performed!\n",
      "Photon has gone out of the outter boundary!\n",
      "2m/R is larger than 0.99\n",
      "0.42877516590169584 1.551574885556534\n",
      "Finding mass with amp 0.27437198\n",
      "Not Tracing ray and NO excision will be performed!\n",
      "Horizon is found, code will be terminated!\n",
      "Tracing ray is enabled and excision will be performed!\n",
      "Photon has gone out of the outter boundary!\n",
      "2m/R is larger than 0.99\n",
      "0.42917188835123476 1.6359810520062932\n",
      "Finding mass with amp 0.2729074096679687\n",
      "Not Tracing ray and NO excision will be performed!\n",
      "Horizon is found, code will be terminated!\n",
      "Tracing ray is enabled and excision will be performed!\n",
      "Photon has gone out of the outter boundary!\n"
     ]
    }
   ],
   "source": [
    "#(crit, lower_amp) = find_crit()\n",
    "res = critical_scaling(crit, lower_amp, lower_amp + 1e-3, 8)"
   ]
  },
  {
   "cell_type": "code",
   "execution_count": null,
   "metadata": {},
   "outputs": [],
   "source": []
  },
  {
   "cell_type": "code",
   "execution_count": 93,
   "metadata": {
    "collapsed": true,
    "jupyter": {
     "outputs_hidden": true
    },
    "tags": []
   },
   "outputs": [
    {
     "name": "stdout",
     "output_type": "stream",
     "text": [
      "Iteration No 0\n",
      "Trying with amplitude 0.265\n",
      "Not Tracing ray and NO excision will be performed!\n",
      "Iteration No 1\n",
      "Trying with amplitude 0.2725\n",
      "Not Tracing ray and NO excision will be performed!\n",
      "Iteration No 2\n",
      "Trying with amplitude 0.27625\n",
      "Not Tracing ray and NO excision will be performed!\n",
      "Horizon is found, code will be terminated!\n",
      "Iteration No 3\n",
      "Trying with amplitude 0.27437500000000004\n",
      "Not Tracing ray and NO excision will be performed!\n",
      "Horizon is found, code will be terminated!\n",
      "Iteration No 4\n",
      "Trying with amplitude 0.2734375\n",
      "Not Tracing ray and NO excision will be performed!\n",
      "Horizon is found, code will be terminated!\n",
      "Iteration No 5\n",
      "Trying with amplitude 0.27296875\n",
      "Not Tracing ray and NO excision will be performed!\n",
      "Horizon is found, code will be terminated!\n",
      "Iteration No 6\n",
      "Trying with amplitude 0.272734375\n",
      "Not Tracing ray and NO excision will be performed!\n",
      "Warning, the time step is too small!\n",
      "Iteration No 7\n",
      "Trying with amplitude 0.2728515625\n",
      "Not Tracing ray and NO excision will be performed!\n",
      "Warning, the time step is too small!\n",
      "Iteration No 8\n",
      "Trying with amplitude 0.27291015625\n",
      "Not Tracing ray and NO excision will be performed!\n",
      "Horizon is found, code will be terminated!\n",
      "Iteration No 9\n",
      "Trying with amplitude 0.27288085937499995\n",
      "Not Tracing ray and NO excision will be performed!\n",
      "Warning, the time step is too small!\n",
      "Iteration No 10\n",
      "Trying with amplitude 0.27289550781249994\n",
      "Not Tracing ray and NO excision will be performed!\n",
      "Horizon is found, code will be terminated!\n",
      "Iteration No 11\n",
      "Trying with amplitude 0.27288818359374994\n",
      "Not Tracing ray and NO excision will be performed!\n",
      "Horizon is found, code will be terminated!\n",
      "Iteration No 12\n",
      "Trying with amplitude 0.2728845214843749\n",
      "Not Tracing ray and NO excision will be performed!\n",
      "Warning, the time step is too small!\n",
      "Iteration No 13\n",
      "Trying with amplitude 0.27288635253906246\n",
      "Not Tracing ray and NO excision will be performed!\n",
      "Horizon is found, code will be terminated!\n",
      "Iteration No 14\n",
      "Trying with amplitude 0.2728854370117187\n",
      "Not Tracing ray and NO excision will be performed!\n",
      "Horizon is found, code will be terminated!\n",
      "Iteration No 15\n",
      "Trying with amplitude 0.2728849792480468\n",
      "Not Tracing ray and NO excision will be performed!\n",
      "Horizon is found, code will be terminated!\n",
      "Iteration No 16\n",
      "Trying with amplitude 0.27288475036621085\n",
      "Not Tracing ray and NO excision will be performed!\n",
      "Horizon is found, code will be terminated!\n",
      "Iteration No 17\n",
      "Trying with amplitude 0.2728846359252929\n",
      "Not Tracing ray and NO excision will be performed!\n",
      "Horizon is found, code will be terminated!\n",
      "Iteration No 18\n",
      "Trying with amplitude 0.2728845787048339\n",
      "Not Tracing ray and NO excision will be performed!\n",
      "Warning, the time step is too small!\n",
      "Iteration No 19\n",
      "Trying with amplitude 0.27288460731506337\n",
      "Not Tracing ray and NO excision will be performed!\n",
      "Warning, the time step is too small!\n"
     ]
    },
    {
     "data": {
      "text/plain": [
       "(0.2728846216201781, 0.2728846359252929)"
      ]
     },
     "execution_count": 93,
     "metadata": {},
     "output_type": "execute_result"
    }
   ],
   "source": [
    "find_crit()"
   ]
  },
  {
   "cell_type": "code",
   "execution_count": null,
   "metadata": {},
   "outputs": [
    {
     "name": "stdout",
     "output_type": "stream",
     "text": [
      "[0.27337198 0.27345741 0.27355782 0.27367583 0.27381453 0.27397755\n",
      " 0.27416913 0.27439431 0.27465895 0.27496999 0.27533555 0.2757652\n",
      " 0.27627016 0.27686364 0.27756116 0.27838095 0.27934445 0.28047685\n",
      " 0.28180776 0.28337198]\n",
      "Finding mass with amp 0.27337198\n",
      "Not Tracing ray and NO excision will be performed!\n",
      "Horizon is found, code will be terminated!\n",
      "Tracing ray is enabled and excision will be performed!\n",
      "Photon has gone out of the outter boundary!\n",
      "2m/R is larger than 0.99\n",
      "0.4273823294430452 1.148034605332311\n",
      "Finding mass with amp 0.2734574133467499\n",
      "Not Tracing ray and NO excision will be performed!\n",
      "Horizon is found, code will be terminated!\n",
      "Tracing ray is enabled and excision will be performed!\n",
      "Photon has gone out of the outter boundary!\n",
      "2m/R is larger than 0.99\n",
      "0.42753149745780306 1.2062082615909515\n",
      "Finding mass with amp 0.27355782305799675\n",
      "Not Tracing ray and NO excision will be performed!\n",
      "Horizon is found, code will be terminated!\n",
      "Tracing ray is enabled and excision will be performed!\n",
      "Photon has gone out of the outter boundary!\n",
      "2m/R is larger than 0.99\n",
      "0.4277124364979126 1.2684743872703175\n",
      "Finding mass with amp 0.2736758344726987\n",
      "Not Tracing ray and NO excision will be performed!\n"
     ]
    }
   ],
   "source": [
    "res = critical_scaling(crit, lower_amp, lower_amp + 1e-2, 20)"
   ]
  },
  {
   "cell_type": "code",
   "execution_count": null,
   "metadata": {},
   "outputs": [],
   "source": []
  },
  {
   "cell_type": "code",
   "execution_count": null,
   "metadata": {},
   "outputs": [],
   "source": []
  },
  {
   "cell_type": "code",
   "execution_count": null,
   "metadata": {},
   "outputs": [],
   "source": []
  },
  {
   "cell_type": "code",
   "execution_count": null,
   "metadata": {},
   "outputs": [],
   "source": []
  },
  {
   "cell_type": "code",
   "execution_count": null,
   "metadata": {},
   "outputs": [],
   "source": []
  },
  {
   "cell_type": "code",
   "execution_count": null,
   "metadata": {},
   "outputs": [],
   "source": []
  },
  {
   "cell_type": "code",
   "execution_count": 111,
   "metadata": {},
   "outputs": [
    {
     "data": {
      "text/plain": [
       "(array([[0.42738233, 1.14803461],\n",
       "        [0.42773956, 1.27594266],\n",
       "        [0.42823779, 1.42151099],\n",
       "        [0.42893848, 1.58691422],\n",
       "        [0.42992537, 1.77564082],\n",
       "        [0.43130684, 1.99096766],\n",
       "        [0.43326321, 2.23871257],\n",
       "        [0.43601007, 2.52723787],\n",
       "        [0.43987987, 2.86390604],\n",
       "        [0.44533904, 3.25821521]]),\n",
       " 0.42650921473654746)"
      ]
     },
     "execution_count": 111,
     "metadata": {},
     "output_type": "execute_result"
    }
   ],
   "source": [
    "res2"
   ]
  },
  {
   "cell_type": "code",
   "execution_count": 83,
   "metadata": {},
   "outputs": [
    {
     "data": {
      "text/plain": [
       "(array([[0.42738233, 1.14803461],\n",
       "        [0.42752712, 1.20484675],\n",
       "        [0.42770333, 1.26520407],\n",
       "        [0.42790854, 1.33038707],\n",
       "        [0.42815473, 1.39946888],\n",
       "        [0.42844121, 1.47333791],\n",
       "        [0.42877517, 1.55157489],\n",
       "        [0.42917189, 1.63598105]]),\n",
       " 0.4265539636281781)"
      ]
     },
     "execution_count": 83,
     "metadata": {},
     "output_type": "execute_result"
    }
   ],
   "source": [
    "res"
   ]
  },
  {
   "cell_type": "code",
   "execution_count": null,
   "metadata": {},
   "outputs": [],
   "source": [
    "0.42650921473654746"
   ]
  },
  {
   "cell_type": "code",
   "execution_count": null,
   "metadata": {},
   "outputs": [],
   "source": []
  },
  {
   "cell_type": "code",
   "execution_count": 127,
   "metadata": {},
   "outputs": [
    {
     "data": {
      "text/plain": [
       "[<matplotlib.lines.Line2D at 0x7f7ef35f7580>]"
      ]
     },
     "execution_count": 127,
     "metadata": {},
     "output_type": "execute_result"
    },
    {
     "data": {
      "image/png": "[encoded data removed]",
      "text/plain": [
       "<Figure size 432x288 with 1 Axes>"
      ]
     },
     "metadata": {
      "needs_background": "light"
     },
     "output_type": "display_data"
    }
   ],
   "source": [
    "(a, b ) = np.polyfit(np.log10(res2[0][:,0] - res2[1])[:], np.log10(res2[0][:,1])[:], deg=1)\n",
    "plt.scatter(np.log10(res2[0][:,0] - res2[1])[:], np.log10(res2[0][:,1])[:])\n",
    "plt.plot(np.arange(-3.1,-1.6,0.01), a * np.arange(-3.1,-1.6,0.01) + b)"
   ]
  },
  {
   "cell_type": "code",
   "execution_count": 107,
   "metadata": {},
   "outputs": [
    {
     "data": {
      "text/plain": [
       "4.474889163064155e-05"
      ]
     },
     "execution_count": 107,
     "metadata": {},
     "output_type": "execute_result"
    }
   ],
   "source": [
    "0.4265539636281781-0.42650921473654746"
   ]
  },
  {
   "cell_type": "code",
   "execution_count": 106,
   "metadata": {},
   "outputs": [
    {
     "data": {
      "text/plain": [
       "array([0.30727515, 1.00595765])"
      ]
     },
     "execution_count": 106,
     "metadata": {},
     "output_type": "execute_result"
    }
   ],
   "source": [
    "np.polyfit(np.log10(res[0][:,0] - 0.4265539636281781)[:], np.log10(res[0][:,1])[:], deg=1)"
   ]
  },
  {
   "cell_type": "code",
   "execution_count": 112,
   "metadata": {},
   "outputs": [
    {
     "data": {
      "text/plain": [
       "array([0.33894519, 1.08986276])"
      ]
     },
     "execution_count": 112,
     "metadata": {},
     "output_type": "execute_result"
    }
   ],
   "source": [
    "np.polyfit(np.log10(res2[0][:,0] - 0.42650921473654746)[:], np.log10(res2[0][:,1])[:], deg=1)"
   ]
  },
  {
   "cell_type": "code",
   "execution_count": 12,
   "metadata": {
    "tags": []
   },
   "outputs": [
    {
     "name": "stdout",
     "output_type": "stream",
     "text": [
      "Not Tracing ray and NO excision will be performed!\n",
      "Horizon is found, code will be terminated!\n",
      "CPU times: user 20.8 s, sys: 3.07 ms, total: 20.8 s\n",
      "Wall time: 20.8 s\n"
     ]
    },
    {
     "data": {
      "text/plain": [
       "-1"
      ]
     },
     "execution_count": 12,
     "metadata": {},
     "output_type": "execute_result"
    }
   ],
   "source": [
    "%%time\n",
    "ms.adap_run_steps(10000)"
   ]
  },
  {
   "cell_type": "code",
   "execution_count": 43,
   "metadata": {},
   "outputs": [
    {
     "name": "stdout",
     "output_type": "stream",
     "text": [
      "Tracing ray is enabled and excision will be performed!\n",
      "Photon has gone out of the outter boundary\n",
      "CPU times: user 3min 13s, sys: 13.5 ms, total: 3min 13s\n",
      "Wall time: 3min 13s\n"
     ]
    },
    {
     "data": {
      "text/plain": [
       "0"
      ]
     },
     "execution_count": 43,
     "metadata": {},
     "output_type": "execute_result"
    }
   ],
   "source": [
    "%%time\n",
    "ms.adap_run_steps(50000)"
   ]
  },
  {
   "cell_type": "code",
   "execution_count": 105,
   "metadata": {},
   "outputs": [
    {
     "data": {
      "text/plain": [
       "228.2141912190679"
      ]
     },
     "execution_count": 105,
     "metadata": {},
     "output_type": "execute_result"
    }
   ],
   "source": [
    "np.exp(ms.xi)"
   ]
  },
  {
   "cell_type": "code",
   "execution_count": 147,
   "metadata": {},
   "outputs": [
    {
     "data": {
      "text/plain": [
       "[<matplotlib.lines.Line2D at 0x7fa6401d28e0>]"
      ]
     },
     "execution_count": 147,
     "metadata": {},
     "output_type": "execute_result"
    },
    {
     "data": {
      "image/png": "[encoded data removed]",
      "text/plain": [
       "<Figure size 432x288 with 1 Axes>"
      ]
     },
     "metadata": {
      "needs_background": "light"
     },
     "output_type": "display_data"
    }
   ],
   "source": [
    "plt.plot(ms.Abar,ms.Abar-1/np.exp((ms.alpha-1) * ms.xi)/ms.R)"
   ]
  },
  {
   "cell_type": "code",
   "execution_count": 13,
   "metadata": {},
   "outputs": [
    {
     "data": {
      "text/plain": [
       "0.4260966968657298"
      ]
     },
     "execution_count": 13,
     "metadata": {},
     "output_type": "execute_result"
    }
   ],
   "source": [
    "ms.delta"
   ]
  },
  {
   "cell_type": "code",
   "execution_count": 138,
   "metadata": {},
   "outputs": [
    {
     "data": {
      "text/plain": [
       "0.4256870334507039"
      ]
     },
     "execution_count": 138,
     "metadata": {},
     "output_type": "execute_result"
    }
   ],
   "source": [
    "ms.delta"
   ]
  },
  {
   "cell_type": "code",
   "execution_count": 61,
   "metadata": {},
   "outputs": [
    {
     "data": {
      "text/plain": [
       "[<matplotlib.lines.Line2D at 0x7fa6405f8a90>]"
      ]
     },
     "execution_count": 61,
     "metadata": {},
     "output_type": "execute_result"
    },
    {
     "data": {
      "image/png": "[encoded data removed]",
      "text/plain": [
       "<Figure size 432x288 with 1 Axes>"
      ]
     },
     "metadata": {
      "needs_background": "light"
     },
     "output_type": "display_data"
    }
   ],
   "source": [
    "plt.plot(ms.Abar, ms.rho(ms.R, ms.m))\n",
    "#plt.plot(ms_std.Abar[0:ms.N-1], ms_std.U_hm)"
   ]
  },
  {
   "cell_type": "code",
   "execution_count": 63,
   "metadata": {},
   "outputs": [
    {
     "name": "stdout",
     "output_type": "stream",
     "text": [
      "Not Tracing ray and NO excision will be performed!\n"
     ]
    },
    {
     "name": "stderr",
     "output_type": "stream",
     "text": [
      "/home/chit/home/chit/criticalcollapse/ms_hm/MS.py:92: RuntimeWarning: overflow encountered in exp\n",
      "  ep = np.exp(self.psi(r, p, Pprime))\n",
      "/home/chit/home/chit/criticalcollapse/ms_hm/MS.py:68: RuntimeWarning: invalid value encountered in subtract\n",
      "  + (self.Abar * R)**2 * (U**2 - m))\n",
      "/home/chit/home/chit/criticalcollapse/ms_hm/MS.py:72: RuntimeWarning: invalid value encountered in add\n",
      "  return m + ms_rho_term(R, m, self.Abar)\n",
      "/home/chit/home/chit/criticalcollapse/ms_hm/MS.py:68: RuntimeWarning: overflow encountered in multiply\n",
      "  + (self.Abar * R)**2 * (U**2 - m))\n",
      "/home/chit/home/chit/criticalcollapse/ms_hm/MS.py:102: RuntimeWarning: overflow encountered in multiply\n",
      "  (self.Abar[1:]) ))  / (R * (AR_prime) * (r + p))\n",
      "/home/chit/home/chit/criticalcollapse/ms_hm/MS.py:100: RuntimeWarning: invalid value encountered in true_divide\n",
      "  (   g**2 * np.concatenate( ([self.w\n",
      "/home/chit/home/chit/criticalcollapse/ms_hm/MS.py:103: RuntimeWarning: invalid value encountered in add\n",
      "  + (2 * U**2 + m + 3 * p) / 2)\n"
     ]
    },
    {
     "data": {
      "text/plain": [
       "(0.0, 2.0)"
      ]
     },
     "execution_count": 63,
     "metadata": {},
     "output_type": "execute_result"
    },
    {
     "data": {
      "image/png": "[encoded data removed]",
      "text/plain": [
       "<Figure size 432x288 with 1 Axes>"
      ]
     },
     "metadata": {
      "needs_background": "light"
     },
     "output_type": "display_data"
    }
   ],
   "source": [
    "ms.run_steps(200)\n",
    "plt.plot(ms.Abar,ms.R**2 * ms.m * ms.Abar**2 * np.exp(2 * (ms.alpha-1) * ms.xi))\n",
    "plt.xlim(0,3)\n",
    "plt.ylim(0,2)"
   ]
  },
  {
   "cell_type": "code",
   "execution_count": 390,
   "metadata": {
    "tags": []
   },
   "outputs": [
    {
     "name": "stdout",
     "output_type": "stream",
     "text": [
      "Tracing ray is enabled and excision will be performed!\n",
      "Photon has gone out of the outter boundary!\n",
      "CPU times: user 19min 4s, sys: 72 ms, total: 19min 4s\n",
      "Wall time: 19min 4s\n"
     ]
    },
    {
     "data": {
      "text/plain": [
       "0"
      ]
     },
     "execution_count": 390,
     "metadata": {},
     "output_type": "execute_result"
    }
   ],
   "source": [
    "%%time\n",
    "ms.run_steps(250000)"
   ]
  },
  {
   "cell_type": "code",
   "execution_count": 391,
   "metadata": {},
   "outputs": [
    {
     "data": {
      "text/plain": [
       "[<matplotlib.lines.Line2D at 0x7fd47bf89dc0>]"
      ]
     },
     "execution_count": 391,
     "metadata": {},
     "output_type": "execute_result"
    },
    {
     "data": {
      "image/png": "[encoded data removed]",
      "text/plain": [
       "<Figure size 432x288 with 1 Axes>"
      ]
     },
     "metadata": {
      "needs_background": "light"
     },
     "output_type": "display_data"
    }
   ],
   "source": [
    "plt.plot(ms.Abar[0:ms.N-1], ms.U_hm )\n",
    "#plt.plot(ms_std.Abar[0:ms.N-1], ms_std.U_hm)"
   ]
  },
  {
   "cell_type": "code",
   "execution_count": 381,
   "metadata": {},
   "outputs": [],
   "source": [
    "import copy\n",
    "ms_high_bak = copy.copy(ms)"
   ]
  },
  {
   "cell_type": "code",
   "execution_count": 413,
   "metadata": {},
   "outputs": [],
   "source": [
    "hm = HM(ms, 0.99, 15)"
   ]
  },
  {
   "cell_type": "code",
   "execution_count": 309,
   "metadata": {},
   "outputs": [],
   "source": [
    "hm.adap_run_steps(1000)"
   ]
  },
  {
   "cell_type": "code",
   "execution_count": 301,
   "metadata": {
    "collapsed": true,
    "jupyter": {
     "outputs_hidden": true
    },
    "tags": []
   },
   "outputs": [
    {
     "name": "stdout",
     "output_type": "stream",
     "text": [
      "Warning, the time step is too small!\n",
      "Warning, the time step is too small!\n",
      "Warning, the time step is too small!\n",
      "Warning, the time step is too small!\n",
      "Warning, the time step is too small!\n",
      "Warning, the time step is too small!\n",
      "Warning, the time step is too small!\n",
      "Warning, the time step is too small!\n",
      "Warning, the time step is too small!\n",
      "Warning, the time step is too small!\n",
      "Warning, the time step is too small!\n",
      "Warning, the time step is too small!\n",
      "Warning, the time step is too small!\n",
      "Warning, the time step is too small!\n",
      "Warning, the time step is too small!\n",
      "Warning, the time step is too small!\n",
      "Warning, the time step is too small!\n",
      "Warning, the time step is too small!\n",
      "Warning, the time step is too small!\n",
      "Warning, the time step is too small!\n",
      "Warning, the time step is too small!\n",
      "Warning, the time step is too small!\n",
      "Warning, the time step is too small!\n",
      "Warning, the time step is too small!\n",
      "Warning, the time step is too small!\n",
      "Warning, the time step is too small!\n",
      "Warning, the time step is too small!\n",
      "Warning, the time step is too small!\n",
      "Warning, the time step is too small!\n",
      "Warning, the time step is too small!\n",
      "Warning, the time step is too small!\n",
      "Warning, the time step is too small!\n",
      "Warning, the time step is too small!\n",
      "Warning, the time step is too small!\n",
      "Warning, the time step is too small!\n",
      "Warning, the time step is too small!\n",
      "Warning, the time step is too small!\n",
      "Warning, the time step is too small!\n",
      "Warning, the time step is too small!\n",
      "Warning, the time step is too small!\n",
      "Warning, the time step is too small!\n",
      "Warning, the time step is too small!\n",
      "Warning, the time step is too small!\n",
      "Warning, the time step is too small!\n",
      "Warning, the time step is too small!\n",
      "Warning, the time step is too small!\n",
      "Warning, the time step is too small!\n",
      "Warning, the time step is too small!\n",
      "Warning, the time step is too small!\n",
      "Warning, the time step is too small!\n",
      "Warning, the time step is too small!\n",
      "Warning, the time step is too small!\n",
      "Warning, the time step is too small!\n",
      "Warning, the time step is too small!\n",
      "Warning, the time step is too small!\n",
      "Warning, the time step is too small!\n",
      "Warning, the time step is too small!\n",
      "Warning, the time step is too small!\n",
      "Warning, the time step is too small!\n",
      "Warning, the time step is too small!\n",
      "Warning, the time step is too small!\n",
      "Warning, the time step is too small!\n",
      "Warning, the time step is too small!\n",
      "Warning, the time step is too small!\n",
      "Warning, the time step is too small!\n",
      "Warning, the time step is too small!\n",
      "Warning, the time step is too small!\n",
      "Warning, the time step is too small!\n",
      "Warning, the time step is too small!\n",
      "Warning, the time step is too small!\n",
      "Warning, the time step is too small!\n",
      "Warning, the time step is too small!\n",
      "Warning, the time step is too small!\n",
      "Warning, the time step is too small!\n",
      "Warning, the time step is too small!\n",
      "Warning, the time step is too small!\n",
      "Warning, the time step is too small!\n",
      "Warning, the time step is too small!\n",
      "Warning, the time step is too small!\n",
      "Warning, the time step is too small!\n",
      "Warning, the time step is too small!\n",
      "Warning, the time step is too small!\n",
      "Warning, the time step is too small!\n",
      "Warning, the time step is too small!\n",
      "Warning, the time step is too small!\n",
      "Warning, the time step is too small!\n",
      "Warning, the time step is too small!\n",
      "Warning, the time step is too small!\n",
      "Warning, the time step is too small!\n",
      "Warning, the time step is too small!\n",
      "Warning, the time step is too small!\n",
      "Warning, the time step is too small!\n",
      "Warning, the time step is too small!\n",
      "Warning, the time step is too small!\n",
      "Warning, the time step is too small!\n",
      "Warning, the time step is too small!\n",
      "Warning, the time step is too small!\n",
      "Warning, the time step is too small!\n",
      "Warning, the time step is too small!\n",
      "Warning, the time step is too small!\n",
      "Warning, the time step is too small!\n",
      "Warning, the time step is too small!\n",
      "Warning, the time step is too small!\n",
      "Warning, the time step is too small!\n",
      "Warning, the time step is too small!\n",
      "Warning, the time step is too small!\n",
      "Warning, the time step is too small!\n",
      "Warning, the time step is too small!\n",
      "Warning, the time step is too small!\n",
      "Warning, the time step is too small!\n",
      "Warning, the time step is too small!\n",
      "Warning, the time step is too small!\n",
      "Warning, the time step is too small!\n",
      "Warning, the time step is too small!\n",
      "Warning, the time step is too small!\n",
      "Warning, the time step is too small!\n",
      "Warning, the time step is too small!\n",
      "Warning, the time step is too small!\n",
      "Warning, the time step is too small!\n",
      "Warning, the time step is too small!\n",
      "Warning, the time step is too small!\n",
      "Warning, the time step is too small!\n",
      "Warning, the time step is too small!\n",
      "Warning, the time step is too small!\n",
      "Warning, the time step is too small!\n",
      "Warning, the time step is too small!\n",
      "Warning, the time step is too small!\n",
      "Warning, the time step is too small!\n",
      "Warning, the time step is too small!\n",
      "Warning, the time step is too small!\n",
      "Warning, the time step is too small!\n",
      "Warning, the time step is too small!\n",
      "Warning, the time step is too small!\n",
      "Warning, the time step is too small!\n",
      "Warning, the time step is too small!\n",
      "Warning, the time step is too small!\n",
      "Warning, the time step is too small!\n",
      "Warning, the time step is too small!\n",
      "Warning, the time step is too small!\n",
      "Warning, the time step is too small!\n",
      "Warning, the time step is too small!\n",
      "Warning, the time step is too small!\n",
      "Warning, the time step is too small!\n",
      "Warning, the time step is too small!\n",
      "Warning, the time step is too small!\n",
      "Warning, the time step is too small!\n",
      "Warning, the time step is too small!\n",
      "Warning, the time step is too small!\n",
      "Warning, the time step is too small!\n",
      "Warning, the time step is too small!\n",
      "Warning, the time step is too small!\n",
      "Warning, the time step is too small!\n",
      "Warning, the time step is too small!\n",
      "Warning, the time step is too small!\n",
      "Warning, the time step is too small!\n",
      "Warning, the time step is too small!\n",
      "Warning, the time step is too small!\n",
      "Warning, the time step is too small!\n",
      "Warning, the time step is too small!\n",
      "Warning, the time step is too small!\n",
      "Warning, the time step is too small!\n",
      "Warning, the time step is too small!\n",
      "Warning, the time step is too small!\n",
      "Warning, the time step is too small!\n",
      "Warning, the time step is too small!\n",
      "Warning, the time step is too small!\n",
      "Warning, the time step is too small!\n",
      "Warning, the time step is too small!\n",
      "Warning, the time step is too small!\n",
      "Warning, the time step is too small!\n",
      "Warning, the time step is too small!\n",
      "Warning, the time step is too small!\n",
      "Warning, the time step is too small!\n",
      "Warning, the time step is too small!\n",
      "Warning, the time step is too small!\n",
      "Warning, the time step is too small!\n",
      "Warning, the time step is too small!\n",
      "Warning, the time step is too small!\n",
      "Warning, the time step is too small!\n",
      "Warning, the time step is too small!\n",
      "Warning, the time step is too small!\n",
      "Warning, the time step is too small!\n",
      "Warning, the time step is too small!\n",
      "Warning, the time step is too small!\n",
      "Warning, the time step is too small!\n",
      "Warning, the time step is too small!\n",
      "Warning, the time step is too small!\n",
      "Warning, the time step is too small!\n",
      "Warning, the time step is too small!\n",
      "Warning, the time step is too small!\n",
      "Warning, the time step is too small!\n",
      "Warning, the time step is too small!\n",
      "Warning, the time step is too small!\n",
      "Warning, the time step is too small!\n",
      "Warning, the time step is too small!\n",
      "Warning, the time step is too small!\n",
      "Warning, the time step is too small!\n",
      "Warning, the time step is too small!\n",
      "Warning, the time step is too small!\n",
      "Warning, the time step is too small!\n",
      "Warning, the time step is too small!\n",
      "Warning, the time step is too small!\n",
      "Warning, the time step is too small!\n",
      "Warning, the time step is too small!\n",
      "Warning, the time step is too small!\n",
      "Warning, the time step is too small!\n",
      "Warning, the time step is too small!\n",
      "Warning, the time step is too small!\n",
      "Warning, the time step is too small!\n",
      "Warning, the time step is too small!\n",
      "Warning, the time step is too small!\n",
      "Warning, the time step is too small!\n",
      "Warning, the time step is too small!\n",
      "Warning, the time step is too small!\n",
      "Warning, the time step is too small!\n",
      "Warning, the time step is too small!\n",
      "Warning, the time step is too small!\n",
      "Warning, the time step is too small!\n",
      "Warning, the time step is too small!\n",
      "Warning, the time step is too small!\n",
      "Warning, the time step is too small!\n",
      "Warning, the time step is too small!\n",
      "Warning, the time step is too small!\n",
      "Warning, the time step is too small!\n",
      "Warning, the time step is too small!\n",
      "Warning, the time step is too small!\n",
      "Warning, the time step is too small!\n",
      "Warning, the time step is too small!\n",
      "Warning, the time step is too small!\n",
      "Warning, the time step is too small!\n",
      "Warning, the time step is too small!\n",
      "Warning, the time step is too small!\n",
      "Warning, the time step is too small!\n",
      "Warning, the time step is too small!\n",
      "Warning, the time step is too small!\n",
      "Warning, the time step is too small!\n",
      "Warning, the time step is too small!\n",
      "Warning, the time step is too small!\n",
      "Warning, the time step is too small!\n",
      "Warning, the time step is too small!\n",
      "Warning, the time step is too small!\n",
      "Warning, the time step is too small!\n",
      "Warning, the time step is too small!\n",
      "Warning, the time step is too small!\n",
      "Warning, the time step is too small!\n",
      "Warning, the time step is too small!\n",
      "Warning, the time step is too small!\n",
      "Warning, the time step is too small!\n",
      "Warning, the time step is too small!\n",
      "Warning, the time step is too small!\n",
      "Warning, the time step is too small!\n",
      "Warning, the time step is too small!\n",
      "Warning, the time step is too small!\n",
      "Warning, the time step is too small!\n",
      "Warning, the time step is too small!\n",
      "Warning, the time step is too small!\n",
      "Warning, the time step is too small!\n",
      "Warning, the time step is too small!\n",
      "Warning, the time step is too small!\n",
      "Warning, the time step is too small!\n",
      "Warning, the time step is too small!\n",
      "Warning, the time step is too small!\n",
      "Warning, the time step is too small!\n",
      "Warning, the time step is too small!\n",
      "Warning, the time step is too small!\n",
      "Warning, the time step is too small!\n",
      "Warning, the time step is too small!\n",
      "Warning, the time step is too small!\n",
      "Warning, the time step is too small!\n",
      "Warning, the time step is too small!\n",
      "Warning, the time step is too small!\n",
      "Warning, the time step is too small!\n",
      "Warning, the time step is too small!\n",
      "Warning, the time step is too small!\n",
      "Warning, the time step is too small!\n",
      "Warning, the time step is too small!\n",
      "Warning, the time step is too small!\n",
      "Warning, the time step is too small!\n",
      "Warning, the time step is too small!\n",
      "Warning, the time step is too small!\n",
      "Warning, the time step is too small!\n",
      "Warning, the time step is too small!\n",
      "Warning, the time step is too small!\n",
      "Warning, the time step is too small!\n",
      "Warning, the time step is too small!\n",
      "Warning, the time step is too small!\n",
      "Warning, the time step is too small!\n",
      "Warning, the time step is too small!\n",
      "Warning, the time step is too small!\n",
      "Warning, the time step is too small!\n",
      "Warning, the time step is too small!\n",
      "Warning, the time step is too small!\n",
      "Warning, the time step is too small!\n",
      "Warning, the time step is too small!\n",
      "Warning, the time step is too small!\n",
      "Warning, the time step is too small!\n",
      "Warning, the time step is too small!\n",
      "Warning, the time step is too small!\n",
      "Warning, the time step is too small!\n",
      "Warning, the time step is too small!\n",
      "Warning, the time step is too small!\n",
      "Warning, the time step is too small!\n",
      "Warning, the time step is too small!\n",
      "Warning, the time step is too small!\n",
      "Warning, the time step is too small!\n",
      "Warning, the time step is too small!\n",
      "Warning, the time step is too small!\n",
      "Warning, the time step is too small!\n",
      "Warning, the time step is too small!\n",
      "Warning, the time step is too small!\n",
      "Warning, the time step is too small!\n",
      "Warning, the time step is too small!\n",
      "Warning, the time step is too small!\n",
      "Warning, the time step is too small!\n",
      "Warning, the time step is too small!\n",
      "Warning, the time step is too small!\n",
      "Warning, the time step is too small!\n",
      "Warning, the time step is too small!\n",
      "Warning, the time step is too small!\n",
      "Warning, the time step is too small!\n",
      "Warning, the time step is too small!\n",
      "Warning, the time step is too small!\n",
      "Warning, the time step is too small!\n",
      "Warning, the time step is too small!\n",
      "Warning, the time step is too small!\n",
      "Warning, the time step is too small!\n",
      "Warning, the time step is too small!\n",
      "Warning, the time step is too small!\n",
      "Warning, the time step is too small!\n",
      "Warning, the time step is too small!\n",
      "Warning, the time step is too small!\n",
      "Warning, the time step is too small!\n",
      "Warning, the time step is too small!\n",
      "Warning, the time step is too small!\n",
      "Warning, the time step is too small!\n",
      "Warning, the time step is too small!\n",
      "Warning, the time step is too small!\n",
      "Warning, the time step is too small!\n",
      "Warning, the time step is too small!\n",
      "Warning, the time step is too small!\n",
      "Warning, the time step is too small!\n",
      "Warning, the time step is too small!\n",
      "Warning, the time step is too small!\n",
      "Warning, the time step is too small!\n",
      "Warning, the time step is too small!\n",
      "Warning, the time step is too small!\n",
      "Warning, the time step is too small!\n",
      "Warning, the time step is too small!\n",
      "Warning, the time step is too small!\n",
      "Warning, the time step is too small!\n",
      "Warning, the time step is too small!\n",
      "Warning, the time step is too small!\n",
      "Warning, the time step is too small!\n",
      "Warning, the time step is too small!\n",
      "Warning, the time step is too small!\n",
      "Warning, the time step is too small!\n",
      "Warning, the time step is too small!\n",
      "Warning, the time step is too small!\n",
      "Warning, the time step is too small!\n",
      "Warning, the time step is too small!\n",
      "Warning, the time step is too small!\n",
      "Warning, the time step is too small!\n",
      "Warning, the time step is too small!\n",
      "Warning, the time step is too small!\n",
      "Warning, the time step is too small!\n",
      "Warning, the time step is too small!\n",
      "Warning, the time step is too small!\n",
      "Warning, the time step is too small!\n",
      "Warning, the time step is too small!\n",
      "Warning, the time step is too small!\n",
      "Warning, the time step is too small!\n",
      "Warning, the time step is too small!\n",
      "Warning, the time step is too small!\n",
      "Warning, the time step is too small!\n",
      "Warning, the time step is too small!\n",
      "Warning, the time step is too small!\n",
      "Warning, the time step is too small!\n",
      "Warning, the time step is too small!\n",
      "Warning, the time step is too small!\n",
      "Warning, the time step is too small!\n",
      "Warning, the time step is too small!\n",
      "Warning, the time step is too small!\n",
      "Warning, the time step is too small!\n",
      "Warning, the time step is too small!\n",
      "Warning, the time step is too small!\n",
      "Warning, the time step is too small!\n",
      "Warning, the time step is too small!\n",
      "Warning, the time step is too small!\n",
      "Warning, the time step is too small!\n",
      "Warning, the time step is too small!\n",
      "Warning, the time step is too small!\n",
      "Warning, the time step is too small!\n",
      "Warning, the time step is too small!\n",
      "Warning, the time step is too small!\n",
      "Warning, the time step is too small!\n",
      "Warning, the time step is too small!\n",
      "Warning, the time step is too small!\n",
      "Warning, the time step is too small!\n",
      "Warning, the time step is too small!\n",
      "Warning, the time step is too small!\n",
      "Warning, the time step is too small!\n",
      "Warning, the time step is too small!\n",
      "Warning, the time step is too small!\n",
      "Warning, the time step is too small!\n",
      "Warning, the time step is too small!\n",
      "Warning, the time step is too small!\n",
      "Warning, the time step is too small!\n",
      "Warning, the time step is too small!\n",
      "Warning, the time step is too small!\n",
      "Warning, the time step is too small!\n",
      "Warning, the time step is too small!\n",
      "Warning, the time step is too small!\n",
      "Warning, the time step is too small!\n",
      "Warning, the time step is too small!\n",
      "Warning, the time step is too small!\n",
      "Warning, the time step is too small!\n",
      "Warning, the time step is too small!\n",
      "Warning, the time step is too small!\n",
      "Warning, the time step is too small!\n",
      "Warning, the time step is too small!\n",
      "Warning, the time step is too small!\n",
      "Warning, the time step is too small!\n",
      "Warning, the time step is too small!\n",
      "Warning, the time step is too small!\n",
      "Warning, the time step is too small!\n",
      "Warning, the time step is too small!\n",
      "Warning, the time step is too small!\n",
      "Warning, the time step is too small!\n",
      "Warning, the time step is too small!\n",
      "Warning, the time step is too small!\n",
      "Warning, the time step is too small!\n",
      "Warning, the time step is too small!\n",
      "Warning, the time step is too small!\n",
      "Warning, the time step is too small!\n",
      "Warning, the time step is too small!\n",
      "Warning, the time step is too small!\n",
      "Warning, the time step is too small!\n",
      "Warning, the time step is too small!\n",
      "Warning, the time step is too small!\n",
      "Warning, the time step is too small!\n",
      "Warning, the time step is too small!\n",
      "Warning, the time step is too small!\n",
      "Warning, the time step is too small!\n",
      "Warning, the time step is too small!\n",
      "Warning, the time step is too small!\n",
      "Warning, the time step is too small!\n",
      "Warning, the time step is too small!\n",
      "Warning, the time step is too small!\n",
      "Warning, the time step is too small!\n",
      "Warning, the time step is too small!\n",
      "Warning, the time step is too small!\n",
      "Warning, the time step is too small!\n",
      "Warning, the time step is too small!\n",
      "Warning, the time step is too small!\n",
      "Warning, the time step is too small!\n",
      "Warning, the time step is too small!\n",
      "Warning, the time step is too small!\n",
      "Warning, the time step is too small!\n",
      "Warning, the time step is too small!\n",
      "Warning, the time step is too small!\n",
      "Warning, the time step is too small!\n",
      "Warning, the time step is too small!\n",
      "Warning, the time step is too small!\n",
      "Warning, the time step is too small!\n",
      "Warning, the time step is too small!\n",
      "Warning, the time step is too small!\n",
      "Warning, the time step is too small!\n",
      "Warning, the time step is too small!\n",
      "Warning, the time step is too small!\n",
      "Warning, the time step is too small!\n",
      "Warning, the time step is too small!\n",
      "Warning, the time step is too small!\n",
      "Warning, the time step is too small!\n",
      "Warning, the time step is too small!\n",
      "Warning, the time step is too small!\n",
      "Warning, the time step is too small!\n",
      "Warning, the time step is too small!\n",
      "Warning, the time step is too small!\n",
      "Warning, the time step is too small!\n",
      "Warning, the time step is too small!\n",
      "Warning, the time step is too small!\n",
      "Warning, the time step is too small!\n",
      "Warning, the time step is too small!\n",
      "Warning, the time step is too small!\n",
      "Warning, the time step is too small!\n",
      "Warning, the time step is too small!\n",
      "Warning, the time step is too small!\n",
      "Warning, the time step is too small!\n",
      "Warning, the time step is too small!\n",
      "Warning, the time step is too small!\n",
      "Warning, the time step is too small!\n",
      "Warning, the time step is too small!\n",
      "Warning, the time step is too small!\n",
      "Warning, the time step is too small!\n",
      "Warning, the time step is too small!\n",
      "Warning, the time step is too small!\n",
      "Warning, the time step is too small!\n",
      "Warning, the time step is too small!\n",
      "Warning, the time step is too small!\n",
      "Warning, the time step is too small!\n",
      "Warning, the time step is too small!\n",
      "Warning, the time step is too small!\n",
      "Warning, the time step is too small!\n",
      "Warning, the time step is too small!\n",
      "Warning, the time step is too small!\n",
      "Warning, the time step is too small!\n",
      "Warning, the time step is too small!\n",
      "Warning, the time step is too small!\n",
      "Warning, the time step is too small!\n",
      "Warning, the time step is too small!\n",
      "Warning, the time step is too small!\n",
      "Warning, the time step is too small!\n",
      "Warning, the time step is too small!\n",
      "Warning, the time step is too small!\n",
      "Warning, the time step is too small!\n",
      "Warning, the time step is too small!\n",
      "Warning, the time step is too small!\n",
      "Warning, the time step is too small!\n",
      "Warning, the time step is too small!\n",
      "Warning, the time step is too small!\n",
      "Warning, the time step is too small!\n",
      "Warning, the time step is too small!\n",
      "Warning, the time step is too small!\n",
      "Warning, the time step is too small!\n",
      "Warning, the time step is too small!\n",
      "Warning, the time step is too small!\n",
      "Warning, the time step is too small!\n",
      "Warning, the time step is too small!\n",
      "Warning, the time step is too small!\n",
      "Warning, the time step is too small!\n",
      "Warning, the time step is too small!\n",
      "Warning, the time step is too small!\n",
      "Warning, the time step is too small!\n",
      "Warning, the time step is too small!\n",
      "Warning, the time step is too small!\n",
      "Warning, the time step is too small!\n",
      "Warning, the time step is too small!\n",
      "Warning, the time step is too small!\n",
      "Warning, the time step is too small!\n",
      "Warning, the time step is too small!\n",
      "Warning, the time step is too small!\n",
      "Warning, the time step is too small!\n",
      "Warning, the time step is too small!\n",
      "Warning, the time step is too small!\n",
      "Warning, the time step is too small!\n",
      "Warning, the time step is too small!\n",
      "Warning, the time step is too small!\n",
      "Warning, the time step is too small!\n",
      "Warning, the time step is too small!\n",
      "Warning, the time step is too small!\n",
      "Warning, the time step is too small!\n",
      "Warning, the time step is too small!\n",
      "Warning, the time step is too small!\n",
      "Warning, the time step is too small!\n",
      "Warning, the time step is too small!\n",
      "Warning, the time step is too small!\n",
      "Warning, the time step is too small!\n",
      "Warning, the time step is too small!\n",
      "Warning, the time step is too small!\n",
      "Warning, the time step is too small!\n",
      "Warning, the time step is too small!\n",
      "Warning, the time step is too small!\n",
      "Warning, the time step is too small!\n",
      "Warning, the time step is too small!\n",
      "Warning, the time step is too small!\n",
      "Warning, the time step is too small!\n",
      "Warning, the time step is too small!\n",
      "Warning, the time step is too small!\n",
      "Warning, the time step is too small!\n",
      "Warning, the time step is too small!\n",
      "Warning, the time step is too small!\n",
      "Warning, the time step is too small!\n",
      "Warning, the time step is too small!\n",
      "Warning, the time step is too small!\n",
      "Warning, the time step is too small!\n",
      "Warning, the time step is too small!\n",
      "Warning, the time step is too small!\n",
      "Warning, the time step is too small!\n",
      "Warning, the time step is too small!\n",
      "Warning, the time step is too small!\n",
      "Warning, the time step is too small!\n",
      "Warning, the time step is too small!\n",
      "Warning, the time step is too small!\n",
      "Warning, the time step is too small!\n",
      "Warning, the time step is too small!\n",
      "Warning, the time step is too small!\n",
      "Warning, the time step is too small!\n",
      "Warning, the time step is too small!\n",
      "Warning, the time step is too small!\n",
      "Warning, the time step is too small!\n",
      "Warning, the time step is too small!\n",
      "Warning, the time step is too small!\n",
      "Warning, the time step is too small!\n",
      "Warning, the time step is too small!\n",
      "Warning, the time step is too small!\n",
      "Warning, the time step is too small!\n",
      "Warning, the time step is too small!\n",
      "Warning, the time step is too small!\n",
      "Warning, the time step is too small!\n",
      "Warning, the time step is too small!\n",
      "Warning, the time step is too small!\n",
      "Warning, the time step is too small!\n",
      "Warning, the time step is too small!\n",
      "Warning, the time step is too small!\n",
      "Warning, the time step is too small!\n",
      "Warning, the time step is too small!\n",
      "Warning, the time step is too small!\n",
      "Warning, the time step is too small!\n",
      "Warning, the time step is too small!\n",
      "Warning, the time step is too small!\n",
      "Warning, the time step is too small!\n",
      "Warning, the time step is too small!\n",
      "Warning, the time step is too small!\n",
      "Warning, the time step is too small!\n",
      "Warning, the time step is too small!\n",
      "Warning, the time step is too small!\n",
      "Warning, the time step is too small!\n",
      "Warning, the time step is too small!\n",
      "Warning, the time step is too small!\n",
      "Warning, the time step is too small!\n",
      "Warning, the time step is too small!\n",
      "Warning, the time step is too small!\n",
      "Warning, the time step is too small!\n",
      "Warning, the time step is too small!\n",
      "Warning, the time step is too small!\n",
      "Warning, the time step is too small!\n",
      "Warning, the time step is too small!\n",
      "Warning, the time step is too small!\n",
      "Warning, the time step is too small!\n",
      "Warning, the time step is too small!\n",
      "Warning, the time step is too small!\n",
      "Warning, the time step is too small!\n",
      "Warning, the time step is too small!\n",
      "Warning, the time step is too small!\n",
      "Warning, the time step is too small!\n",
      "Warning, the time step is too small!\n",
      "Warning, the time step is too small!\n",
      "Warning, the time step is too small!\n",
      "Warning, the time step is too small!\n",
      "Warning, the time step is too small!\n",
      "Warning, the time step is too small!\n",
      "Warning, the time step is too small!\n",
      "Warning, the time step is too small!\n",
      "Warning, the time step is too small!\n",
      "Warning, the time step is too small!\n",
      "Warning, the time step is too small!\n",
      "Warning, the time step is too small!\n",
      "Warning, the time step is too small!\n",
      "Warning, the time step is too small!\n",
      "Warning, the time step is too small!\n",
      "Warning, the time step is too small!\n",
      "Warning, the time step is too small!\n",
      "Warning, the time step is too small!\n",
      "Warning, the time step is too small!\n",
      "Warning, the time step is too small!\n",
      "Warning, the time step is too small!\n",
      "Warning, the time step is too small!\n",
      "Warning, the time step is too small!\n",
      "Warning, the time step is too small!\n",
      "Warning, the time step is too small!\n",
      "Warning, the time step is too small!\n",
      "Warning, the time step is too small!\n",
      "Warning, the time step is too small!\n",
      "Warning, the time step is too small!\n",
      "Warning, the time step is too small!\n",
      "Warning, the time step is too small!\n",
      "Warning, the time step is too small!\n",
      "Warning, the time step is too small!\n",
      "Warning, the time step is too small!\n",
      "Warning, the time step is too small!\n",
      "Warning, the time step is too small!\n",
      "Warning, the time step is too small!\n",
      "Warning, the time step is too small!\n",
      "Warning, the time step is too small!\n",
      "Warning, the time step is too small!\n",
      "Warning, the time step is too small!\n",
      "Warning, the time step is too small!\n",
      "Warning, the time step is too small!\n",
      "Warning, the time step is too small!\n",
      "Warning, the time step is too small!\n",
      "Warning, the time step is too small!\n",
      "Warning, the time step is too small!\n",
      "Warning, the time step is too small!\n",
      "Warning, the time step is too small!\n",
      "Warning, the time step is too small!\n",
      "Warning, the time step is too small!\n",
      "Warning, the time step is too small!\n",
      "Warning, the time step is too small!\n",
      "Warning, the time step is too small!\n",
      "Warning, the time step is too small!\n",
      "Warning, the time step is too small!\n",
      "Warning, the time step is too small!\n",
      "Warning, the time step is too small!\n",
      "Warning, the time step is too small!\n",
      "Warning, the time step is too small!\n",
      "Warning, the time step is too small!\n",
      "Warning, the time step is too small!\n",
      "Warning, the time step is too small!\n",
      "Warning, the time step is too small!\n",
      "Warning, the time step is too small!\n",
      "Warning, the time step is too small!\n",
      "Warning, the time step is too small!\n",
      "Warning, the time step is too small!\n",
      "Warning, the time step is too small!\n",
      "Warning, the time step is too small!\n",
      "Warning, the time step is too small!\n",
      "Warning, the time step is too small!\n",
      "Warning, the time step is too small!\n",
      "Warning, the time step is too small!\n",
      "Warning, the time step is too small!\n",
      "Warning, the time step is too small!\n",
      "Warning, the time step is too small!\n",
      "Warning, the time step is too small!\n",
      "Warning, the time step is too small!\n",
      "Warning, the time step is too small!\n",
      "Warning, the time step is too small!\n",
      "Warning, the time step is too small!\n",
      "Warning, the time step is too small!\n",
      "Warning, the time step is too small!\n",
      "Warning, the time step is too small!\n",
      "Warning, the time step is too small!\n",
      "Warning, the time step is too small!\n",
      "Warning, the time step is too small!\n",
      "Warning, the time step is too small!\n",
      "Warning, the time step is too small!\n",
      "Warning, the time step is too small!\n",
      "Warning, the time step is too small!\n",
      "Warning, the time step is too small!\n",
      "Warning, the time step is too small!\n",
      "Warning, the time step is too small!\n",
      "Warning, the time step is too small!\n",
      "Warning, the time step is too small!\n",
      "Warning, the time step is too small!\n",
      "Warning, the time step is too small!\n",
      "Warning, the time step is too small!\n",
      "Warning, the time step is too small!\n",
      "Warning, the time step is too small!\n",
      "Warning, the time step is too small!\n",
      "Warning, the time step is too small!\n",
      "Warning, the time step is too small!\n",
      "Warning, the time step is too small!\n",
      "Warning, the time step is too small!\n",
      "Warning, the time step is too small!\n",
      "Warning, the time step is too small!\n",
      "Warning, the time step is too small!\n",
      "Warning, the time step is too small!\n",
      "Warning, the time step is too small!\n",
      "Warning, the time step is too small!\n",
      "Warning, the time step is too small!\n",
      "Warning, the time step is too small!\n",
      "Warning, the time step is too small!\n",
      "Warning, the time step is too small!\n",
      "Warning, the time step is too small!\n",
      "Warning, the time step is too small!\n",
      "Warning, the time step is too small!\n",
      "Warning, the time step is too small!\n",
      "Warning, the time step is too small!\n",
      "Warning, the time step is too small!\n",
      "Warning, the time step is too small!\n",
      "Warning, the time step is too small!\n",
      "Warning, the time step is too small!\n",
      "Warning, the time step is too small!\n",
      "Warning, the time step is too small!\n",
      "Warning, the time step is too small!\n",
      "Warning, the time step is too small!\n",
      "Warning, the time step is too small!\n",
      "Warning, the time step is too small!\n",
      "Warning, the time step is too small!\n",
      "Warning, the time step is too small!\n",
      "Warning, the time step is too small!\n",
      "Warning, the time step is too small!\n",
      "Warning, the time step is too small!\n",
      "Warning, the time step is too small!\n",
      "Warning, the time step is too small!\n",
      "Warning, the time step is too small!\n",
      "Warning, the time step is too small!\n",
      "Warning, the time step is too small!\n",
      "Warning, the time step is too small!\n",
      "Warning, the time step is too small!\n",
      "Warning, the time step is too small!\n",
      "Warning, the time step is too small!\n",
      "Warning, the time step is too small!\n",
      "Warning, the time step is too small!\n",
      "Warning, the time step is too small!\n",
      "Warning, the time step is too small!\n",
      "Warning, the time step is too small!\n",
      "Warning, the time step is too small!\n",
      "Warning, the time step is too small!\n",
      "Warning, the time step is too small!\n",
      "Warning, the time step is too small!\n",
      "Warning, the time step is too small!\n",
      "Warning, the time step is too small!\n",
      "Warning, the time step is too small!\n",
      "Warning, the time step is too small!\n",
      "Warning, the time step is too small!\n",
      "Warning, the time step is too small!\n",
      "Warning, the time step is too small!\n",
      "Warning, the time step is too small!\n",
      "Warning, the time step is too small!\n",
      "Warning, the time step is too small!\n",
      "Warning, the time step is too small!\n",
      "Warning, the time step is too small!\n",
      "Warning, the time step is too small!\n",
      "Warning, the time step is too small!\n",
      "Warning, the time step is too small!\n",
      "Warning, the time step is too small!\n",
      "Warning, the time step is too small!\n",
      "Warning, the time step is too small!\n",
      "Warning, the time step is too small!\n",
      "Warning, the time step is too small!\n",
      "Warning, the time step is too small!\n",
      "Warning, the time step is too small!\n",
      "Warning, the time step is too small!\n",
      "Warning, the time step is too small!\n",
      "Warning, the time step is too small!\n",
      "Warning, the time step is too small!\n",
      "Warning, the time step is too small!\n",
      "Warning, the time step is too small!\n",
      "Warning, the time step is too small!\n",
      "Warning, the time step is too small!\n",
      "Warning, the time step is too small!\n",
      "Warning, the time step is too small!\n",
      "Warning, the time step is too small!\n",
      "Warning, the time step is too small!\n",
      "Warning, the time step is too small!\n",
      "Warning, the time step is too small!\n",
      "Warning, the time step is too small!\n",
      "Warning, the time step is too small!\n",
      "Warning, the time step is too small!\n",
      "Warning, the time step is too small!\n",
      "Warning, the time step is too small!\n",
      "Warning, the time step is too small!\n",
      "Warning, the time step is too small!\n",
      "Warning, the time step is too small!\n",
      "Warning, the time step is too small!\n",
      "Warning, the time step is too small!\n",
      "Warning, the time step is too small!\n",
      "Warning, the time step is too small!\n",
      "Warning, the time step is too small!\n",
      "Warning, the time step is too small!\n",
      "Warning, the time step is too small!\n",
      "Warning, the time step is too small!\n",
      "Warning, the time step is too small!\n",
      "Warning, the time step is too small!\n",
      "Warning, the time step is too small!\n",
      "Warning, the time step is too small!\n",
      "Warning, the time step is too small!\n",
      "Warning, the time step is too small!\n",
      "Warning, the time step is too small!\n",
      "Warning, the time step is too small!\n",
      "Warning, the time step is too small!\n",
      "Warning, the time step is too small!\n",
      "Warning, the time step is too small!\n",
      "Warning, the time step is too small!\n",
      "Warning, the time step is too small!\n",
      "Warning, the time step is too small!\n",
      "Warning, the time step is too small!\n",
      "Warning, the time step is too small!\n",
      "Warning, the time step is too small!\n",
      "Warning, the time step is too small!\n",
      "Warning, the time step is too small!\n",
      "Warning, the time step is too small!\n",
      "Warning, the time step is too small!\n",
      "Warning, the time step is too small!\n",
      "Warning, the time step is too small!\n",
      "Warning, the time step is too small!\n",
      "Warning, the time step is too small!\n",
      "Warning, the time step is too small!\n",
      "Warning, the time step is too small!\n",
      "Warning, the time step is too small!\n",
      "Warning, the time step is too small!\n",
      "Warning, the time step is too small!\n",
      "Warning, the time step is too small!\n",
      "Warning, the time step is too small!\n",
      "Warning, the time step is too small!\n",
      "Warning, the time step is too small!\n",
      "Warning, the time step is too small!\n",
      "Warning, the time step is too small!\n",
      "Warning, the time step is too small!\n",
      "Warning, the time step is too small!\n",
      "Warning, the time step is too small!\n",
      "Warning, the time step is too small!\n",
      "Warning, the time step is too small!\n",
      "Warning, the time step is too small!\n",
      "Warning, the time step is too small!\n",
      "Warning, the time step is too small!\n",
      "Warning, the time step is too small!\n",
      "Warning, the time step is too small!\n",
      "Warning, the time step is too small!\n",
      "Warning, the time step is too small!\n",
      "Warning, the time step is too small!\n",
      "Warning, the time step is too small!\n",
      "Warning, the time step is too small!\n",
      "Warning, the time step is too small!\n",
      "Warning, the time step is too small!\n",
      "Warning, the time step is too small!\n",
      "Warning, the time step is too small!\n",
      "Warning, the time step is too small!\n",
      "Warning, the time step is too small!\n",
      "Warning, the time step is too small!\n",
      "Warning, the time step is too small!\n",
      "Warning, the time step is too small!\n",
      "Warning, the time step is too small!\n",
      "Warning, the time step is too small!\n",
      "Warning, the time step is too small!\n",
      "Warning, the time step is too small!\n",
      "Warning, the time step is too small!\n",
      "Warning, the time step is too small!\n",
      "Warning, the time step is too small!\n",
      "Warning, the time step is too small!\n",
      "Warning, the time step is too small!\n",
      "Warning, the time step is too small!\n",
      "Warning, the time step is too small!\n",
      "Warning, the time step is too small!\n",
      "Warning, the time step is too small!\n",
      "Warning, the time step is too small!\n",
      "Warning, the time step is too small!\n",
      "Warning, the time step is too small!\n",
      "Warning, the time step is too small!\n",
      "Warning, the time step is too small!\n",
      "Warning, the time step is too small!\n",
      "Warning, the time step is too small!\n",
      "Warning, the time step is too small!\n",
      "Warning, the time step is too small!\n",
      "Warning, the time step is too small!\n",
      "Warning, the time step is too small!\n",
      "Warning, the time step is too small!\n",
      "Warning, the time step is too small!\n",
      "Warning, the time step is too small!\n",
      "Warning, the time step is too small!\n",
      "Warning, the time step is too small!\n",
      "Warning, the time step is too small!\n",
      "Warning, the time step is too small!\n",
      "Warning, the time step is too small!\n",
      "Warning, the time step is too small!\n",
      "Warning, the time step is too small!\n",
      "Warning, the time step is too small!\n",
      "Warning, the time step is too small!\n",
      "Warning, the time step is too small!\n",
      "Warning, the time step is too small!\n",
      "Warning, the time step is too small!\n",
      "Warning, the time step is too small!\n",
      "Warning, the time step is too small!\n",
      "Warning, the time step is too small!\n",
      "Warning, the time step is too small!\n",
      "Warning, the time step is too small!\n",
      "Warning, the time step is too small!\n",
      "Warning, the time step is too small!\n",
      "Warning, the time step is too small!\n",
      "Warning, the time step is too small!\n",
      "Warning, the time step is too small!\n",
      "Warning, the time step is too small!\n",
      "Warning, the time step is too small!\n",
      "Warning, the time step is too small!\n",
      "Warning, the time step is too small!\n",
      "Warning, the time step is too small!\n",
      "Warning, the time step is too small!\n",
      "Warning, the time step is too small!\n",
      "Warning, the time step is too small!\n",
      "Warning, the time step is too small!\n",
      "Warning, the time step is too small!\n",
      "Warning, the time step is too small!\n",
      "Warning, the time step is too small!\n",
      "Warning, the time step is too small!\n",
      "Warning, the time step is too small!\n",
      "Warning, the time step is too small!\n",
      "Warning, the time step is too small!\n",
      "Warning, the time step is too small!\n",
      "Warning, the time step is too small!\n",
      "Warning, the time step is too small!\n",
      "Warning, the time step is too small!\n",
      "Warning, the time step is too small!\n",
      "Warning, the time step is too small!\n",
      "Warning, the time step is too small!\n",
      "Warning, the time step is too small!\n",
      "Warning, the time step is too small!\n",
      "Warning, the time step is too small!\n",
      "Warning, the time step is too small!\n",
      "Warning, the time step is too small!\n",
      "Warning, the time step is too small!\n",
      "Warning, the time step is too small!\n",
      "Warning, the time step is too small!\n",
      "Warning, the time step is too small!\n",
      "Warning, the time step is too small!\n",
      "Warning, the time step is too small!\n",
      "Warning, the time step is too small!\n",
      "Warning, the time step is too small!\n",
      "Warning, the time step is too small!\n",
      "Warning, the time step is too small!\n",
      "Warning, the time step is too small!\n",
      "Warning, the time step is too small!\n",
      "Warning, the time step is too small!\n",
      "Warning, the time step is too small!\n",
      "Warning, the time step is too small!\n",
      "Warning, the time step is too small!\n",
      "Warning, the time step is too small!\n",
      "Warning, the time step is too small!\n",
      "Warning, the time step is too small!\n",
      "Warning, the time step is too small!\n",
      "Warning, the time step is too small!\n",
      "Warning, the time step is too small!\n",
      "Warning, the time step is too small!\n",
      "Warning, the time step is too small!\n",
      "Warning, the time step is too small!\n",
      "Warning, the time step is too small!\n",
      "Warning, the time step is too small!\n",
      "Warning, the time step is too small!\n",
      "Warning, the time step is too small!\n",
      "Warning, the time step is too small!\n",
      "Warning, the time step is too small!\n",
      "Warning, the time step is too small!\n",
      "Warning, the time step is too small!\n",
      "Warning, the time step is too small!\n",
      "Warning, the time step is too small!\n",
      "Warning, the time step is too small!\n",
      "Warning, the time step is too small!\n",
      "Warning, the time step is too small!\n",
      "Warning, the time step is too small!\n",
      "Warning, the time step is too small!\n",
      "Warning, the time step is too small!\n",
      "Warning, the time step is too small!\n",
      "Warning, the time step is too small!\n",
      "Warning, the time step is too small!\n",
      "Warning, the time step is too small!\n",
      "Warning, the time step is too small!\n",
      "Warning, the time step is too small!\n",
      "Warning, the time step is too small!\n",
      "Warning, the time step is too small!\n",
      "Warning, the time step is too small!\n",
      "Warning, the time step is too small!\n",
      "Warning, the time step is too small!\n",
      "Warning, the time step is too small!\n",
      "Warning, the time step is too small!\n",
      "Warning, the time step is too small!\n",
      "Warning, the time step is too small!\n",
      "Warning, the time step is too small!\n",
      "Warning, the time step is too small!\n",
      "Warning, the time step is too small!\n",
      "Warning, the time step is too small!\n",
      "Warning, the time step is too small!\n",
      "Warning, the time step is too small!\n",
      "Warning, the time step is too small!\n",
      "Warning, the time step is too small!\n",
      "Warning, the time step is too small!\n",
      "Warning, the time step is too small!\n",
      "Warning, the time step is too small!\n",
      "Warning, the time step is too small!\n",
      "Warning, the time step is too small!\n",
      "Warning, the time step is too small!\n",
      "Warning, the time step is too small!\n",
      "Warning, the time step is too small!\n",
      "Warning, the time step is too small!\n",
      "Warning, the time step is too small!\n",
      "Warning, the time step is too small!\n",
      "Warning, the time step is too small!\n",
      "Warning, the time step is too small!\n",
      "Warning, the time step is too small!\n",
      "Warning, the time step is too small!\n",
      "Warning, the time step is too small!\n",
      "Warning, the time step is too small!\n",
      "Warning, the time step is too small!\n",
      "Warning, the time step is too small!\n",
      "Warning, the time step is too small!\n",
      "Warning, the time step is too small!\n",
      "Warning, the time step is too small!\n",
      "Warning, the time step is too small!\n",
      "Warning, the time step is too small!\n",
      "Warning, the time step is too small!\n",
      "Warning, the time step is too small!\n",
      "Warning, the time step is too small!\n",
      "Warning, the time step is too small!\n",
      "Warning, the time step is too small!\n",
      "Warning, the time step is too small!\n",
      "Warning, the time step is too small!\n",
      "Warning, the time step is too small!\n",
      "Warning, the time step is too small!\n",
      "Warning, the time step is too small!\n",
      "Warning, the time step is too small!\n",
      "Warning, the time step is too small!\n",
      "Warning, the time step is too small!\n",
      "Warning, the time step is too small!\n",
      "Warning, the time step is too small!\n",
      "Warning, the time step is too small!\n",
      "Warning, the time step is too small!\n",
      "Warning, the time step is too small!\n",
      "Warning, the time step is too small!\n",
      "Warning, the time step is too small!\n",
      "Warning, the time step is too small!\n",
      "Warning, the time step is too small!\n",
      "Warning, the time step is too small!\n",
      "Warning, the time step is too small!\n",
      "Warning, the time step is too small!\n",
      "Warning, the time step is too small!\n",
      "Warning, the time step is too small!\n",
      "Warning, the time step is too small!\n",
      "Warning, the time step is too small!\n",
      "Warning, the time step is too small!\n",
      "Warning, the time step is too small!\n",
      "Warning, the time step is too small!\n",
      "Warning, the time step is too small!\n",
      "Warning, the time step is too small!\n",
      "Warning, the time step is too small!\n",
      "Warning, the time step is too small!\n",
      "Warning, the time step is too small!\n",
      "Warning, the time step is too small!\n",
      "Warning, the time step is too small!\n",
      "Warning, the time step is too small!\n",
      "Warning, the time step is too small!\n",
      "Warning, the time step is too small!\n",
      "Warning, the time step is too small!\n",
      "Warning, the time step is too small!\n",
      "Warning, the time step is too small!\n",
      "Warning, the time step is too small!\n",
      "Warning, the time step is too small!\n",
      "Warning, the time step is too small!\n",
      "Warning, the time step is too small!\n",
      "Warning, the time step is too small!\n",
      "Warning, the time step is too small!\n",
      "Warning, the time step is too small!\n",
      "Warning, the time step is too small!\n",
      "Warning, the time step is too small!\n",
      "Warning, the time step is too small!\n",
      "Warning, the time step is too small!\n",
      "Warning, the time step is too small!\n",
      "Warning, the time step is too small!\n",
      "Warning, the time step is too small!\n",
      "Warning, the time step is too small!\n",
      "Warning, the time step is too small!\n",
      "Warning, the time step is too small!\n",
      "Warning, the time step is too small!\n",
      "Warning, the time step is too small!\n",
      "Warning, the time step is too small!\n",
      "Warning, the time step is too small!\n",
      "Warning, the time step is too small!\n",
      "Warning, the time step is too small!\n",
      "Warning, the time step is too small!\n",
      "Warning, the time step is too small!\n",
      "Warning, the time step is too small!\n",
      "Warning, the time step is too small!\n",
      "Warning, the time step is too small!\n",
      "Warning, the time step is too small!\n",
      "Warning, the time step is too small!\n",
      "Warning, the time step is too small!\n",
      "Warning, the time step is too small!\n",
      "Warning, the time step is too small!\n",
      "Warning, the time step is too small!\n",
      "Warning, the time step is too small!\n",
      "Warning, the time step is too small!\n",
      "Warning, the time step is too small!\n",
      "Warning, the time step is too small!\n",
      "Warning, the time step is too small!\n",
      "Warning, the time step is too small!\n",
      "Warning, the time step is too small!\n",
      "Warning, the time step is too small!\n",
      "Warning, the time step is too small!\n",
      "Warning, the time step is too small!\n",
      "Warning, the time step is too small!\n",
      "Warning, the time step is too small!\n",
      "Warning, the time step is too small!\n",
      "Warning, the time step is too small!\n",
      "Warning, the time step is too small!\n",
      "Warning, the time step is too small!\n",
      "Warning, the time step is too small!\n",
      "Warning, the time step is too small!\n",
      "Warning, the time step is too small!\n",
      "Warning, the time step is too small!\n",
      "Warning, the time step is too small!\n",
      "Warning, the time step is too small!\n",
      "Warning, the time step is too small!\n",
      "Warning, the time step is too small!\n",
      "Warning, the time step is too small!\n",
      "Warning, the time step is too small!\n",
      "Warning, the time step is too small!\n",
      "Warning, the time step is too small!\n",
      "Warning, the time step is too small!\n",
      "Warning, the time step is too small!\n",
      "Warning, the time step is too small!\n",
      "Warning, the time step is too small!\n",
      "Warning, the time step is too small!\n",
      "Warning, the time step is too small!\n",
      "Warning, the time step is too small!\n",
      "Warning, the time step is too small!\n",
      "Warning, the time step is too small!\n",
      "Warning, the time step is too small!\n",
      "Warning, the time step is too small!\n",
      "Warning, the time step is too small!\n",
      "Warning, the time step is too small!\n",
      "Warning, the time step is too small!\n",
      "Warning, the time step is too small!\n",
      "Warning, the time step is too small!\n",
      "Warning, the time step is too small!\n",
      "Warning, the time step is too small!\n",
      "Warning, the time step is too small!\n",
      "Warning, the time step is too small!\n",
      "Warning, the time step is too small!\n",
      "Warning, the time step is too small!\n",
      "Warning, the time step is too small!\n",
      "Warning, the time step is too small!\n",
      "Warning, the time step is too small!\n",
      "Warning, the time step is too small!\n",
      "Warning, the time step is too small!\n",
      "Warning, the time step is too small!\n",
      "Warning, the time step is too small!\n",
      "Warning, the time step is too small!\n",
      "Warning, the time step is too small!\n",
      "Warning, the time step is too small!\n",
      "Warning, the time step is too small!\n",
      "Warning, the time step is too small!\n",
      "Warning, the time step is too small!\n",
      "Warning, the time step is too small!\n",
      "Warning, the time step is too small!\n",
      "Warning, the time step is too small!\n",
      "Warning, the time step is too small!\n",
      "Warning, the time step is too small!\n",
      "Warning, the time step is too small!\n",
      "Warning, the time step is too small!\n",
      "Warning, the time step is too small!\n",
      "Warning, the time step is too small!\n",
      "Warning, the time step is too small!\n",
      "Warning, the time step is too small!\n",
      "Warning, the time step is too small!\n",
      "Warning, the time step is too small!\n",
      "Warning, the time step is too small!\n",
      "Warning, the time step is too small!\n",
      "Warning, the time step is too small!\n",
      "Warning, the time step is too small!\n",
      "Warning, the time step is too small!\n",
      "Warning, the time step is too small!\n",
      "Warning, the time step is too small!\n",
      "Warning, the time step is too small!\n",
      "Warning, the time step is too small!\n",
      "Warning, the time step is too small!\n",
      "Warning, the time step is too small!\n",
      "Warning, the time step is too small!\n",
      "Warning, the time step is too small!\n",
      "Warning, the time step is too small!\n",
      "Warning, the time step is too small!\n",
      "Warning, the time step is too small!\n",
      "Warning, the time step is too small!\n",
      "Warning, the time step is too small!\n",
      "Warning, the time step is too small!\n",
      "Warning, the time step is too small!\n",
      "Warning, the time step is too small!\n",
      "Warning, the time step is too small!\n",
      "Warning, the time step is too small!\n",
      "Warning, the time step is too small!\n",
      "Warning, the time step is too small!\n",
      "Warning, the time step is too small!\n",
      "Warning, the time step is too small!\n",
      "Warning, the time step is too small!\n",
      "Warning, the time step is too small!\n",
      "Warning, the time step is too small!\n",
      "Warning, the time step is too small!\n",
      "Warning, the time step is too small!\n",
      "Warning, the time step is too small!\n",
      "Warning, the time step is too small!\n",
      "Warning, the time step is too small!\n",
      "Warning, the time step is too small!\n",
      "Warning, the time step is too small!\n",
      "Warning, the time step is too small!\n",
      "Warning, the time step is too small!\n",
      "Warning, the time step is too small!\n",
      "Warning, the time step is too small!\n",
      "Warning, the time step is too small!\n",
      "Warning, the time step is too small!\n",
      "Warning, the time step is too small!\n",
      "Warning, the time step is too small!\n",
      "Warning, the time step is too small!\n",
      "Warning, the time step is too small!\n",
      "Warning, the time step is too small!\n",
      "Warning, the time step is too small!\n",
      "Warning, the time step is too small!\n",
      "Warning, the time step is too small!\n",
      "Warning, the time step is too small!\n",
      "Warning, the time step is too small!\n",
      "Warning, the time step is too small!\n",
      "Warning, the time step is too small!\n",
      "Warning, the time step is too small!\n",
      "Warning, the time step is too small!\n",
      "Warning, the time step is too small!\n",
      "Warning, the time step is too small!\n",
      "Warning, the time step is too small!\n",
      "Warning, the time step is too small!\n",
      "Warning, the time step is too small!\n",
      "Warning, the time step is too small!\n",
      "Warning, the time step is too small!\n",
      "Warning, the time step is too small!\n",
      "Warning, the time step is too small!\n",
      "Warning, the time step is too small!\n",
      "Warning, the time step is too small!\n",
      "Warning, the time step is too small!\n",
      "Warning, the time step is too small!\n",
      "Warning, the time step is too small!\n",
      "Warning, the time step is too small!\n",
      "Warning, the time step is too small!\n",
      "Warning, the time step is too small!\n",
      "Warning, the time step is too small!\n",
      "Warning, the time step is too small!\n",
      "Warning, the time step is too small!\n",
      "Warning, the time step is too small!\n",
      "Warning, the time step is too small!\n",
      "Warning, the time step is too small!\n",
      "Warning, the time step is too small!\n",
      "Warning, the time step is too small!\n",
      "Warning, the time step is too small!\n",
      "Warning, the time step is too small!\n",
      "Warning, the time step is too small!\n",
      "Warning, the time step is too small!\n",
      "Warning, the time step is too small!\n",
      "Warning, the time step is too small!\n",
      "Warning, the time step is too small!\n",
      "Warning, the time step is too small!\n",
      "Warning, the time step is too small!\n",
      "Warning, the time step is too small!\n",
      "Warning, the time step is too small!\n",
      "Warning, the time step is too small!\n",
      "Warning, the time step is too small!\n",
      "Warning, the time step is too small!\n",
      "Warning, the time step is too small!\n",
      "Warning, the time step is too small!\n",
      "Warning, the time step is too small!\n",
      "Warning, the time step is too small!\n",
      "Warning, the time step is too small!\n",
      "Warning, the time step is too small!\n",
      "Warning, the time step is too small!\n",
      "Warning, the time step is too small!\n",
      "Warning, the time step is too small!\n",
      "Warning, the time step is too small!\n",
      "Warning, the time step is too small!\n",
      "Warning, the time step is too small!\n",
      "Warning, the time step is too small!\n",
      "Warning, the time step is too small!\n",
      "Warning, the time step is too small!\n",
      "Warning, the time step is too small!\n",
      "Warning, the time step is too small!\n",
      "Warning, the time step is too small!\n",
      "Warning, the time step is too small!\n",
      "Warning, the time step is too small!\n",
      "Warning, the time step is too small!\n",
      "Warning, the time step is too small!\n",
      "Warning, the time step is too small!\n",
      "Warning, the time step is too small!\n",
      "Warning, the time step is too small!\n",
      "Warning, the time step is too small!\n",
      "Warning, the time step is too small!\n",
      "Warning, the time step is too small!\n",
      "Warning, the time step is too small!\n",
      "Warning, the time step is too small!\n",
      "Warning, the time step is too small!\n",
      "Warning, the time step is too small!\n",
      "Warning, the time step is too small!\n",
      "Warning, the time step is too small!\n",
      "Warning, the time step is too small!\n",
      "Warning, the time step is too small!\n",
      "Warning, the time step is too small!\n",
      "Warning, the time step is too small!\n",
      "Warning, the time step is too small!\n",
      "Warning, the time step is too small!\n",
      "Warning, the time step is too small!\n",
      "Warning, the time step is too small!\n",
      "Warning, the time step is too small!\n",
      "Warning, the time step is too small!\n",
      "Warning, the time step is too small!\n",
      "Warning, the time step is too small!\n",
      "Warning, the time step is too small!\n",
      "Warning, the time step is too small!\n",
      "Warning, the time step is too small!\n",
      "Warning, the time step is too small!\n",
      "Warning, the time step is too small!\n",
      "Warning, the time step is too small!\n",
      "Warning, the time step is too small!\n",
      "Warning, the time step is too small!\n",
      "Warning, the time step is too small!\n",
      "Warning, the time step is too small!\n",
      "Warning, the time step is too small!\n",
      "Warning, the time step is too small!\n",
      "Warning, the time step is too small!\n",
      "Warning, the time step is too small!\n",
      "Warning, the time step is too small!\n",
      "Warning, the time step is too small!\n",
      "Warning, the time step is too small!\n",
      "Warning, the time step is too small!\n",
      "Warning, the time step is too small!\n",
      "Warning, the time step is too small!\n",
      "Warning, the time step is too small!\n",
      "Warning, the time step is too small!\n",
      "Warning, the time step is too small!\n",
      "Warning, the time step is too small!\n",
      "Warning, the time step is too small!\n",
      "Warning, the time step is too small!\n",
      "Warning, the time step is too small!\n",
      "Warning, the time step is too small!\n",
      "Warning, the time step is too small!\n",
      "Warning, the time step is too small!\n",
      "Warning, the time step is too small!\n",
      "Warning, the time step is too small!\n",
      "Warning, the time step is too small!\n",
      "Warning, the time step is too small!\n",
      "Warning, the time step is too small!\n",
      "Warning, the time step is too small!\n",
      "Warning, the time step is too small!\n",
      "Warning, the time step is too small!\n",
      "Warning, the time step is too small!\n",
      "Warning, the time step is too small!\n",
      "Warning, the time step is too small!\n",
      "Warning, the time step is too small!\n",
      "Warning, the time step is too small!\n",
      "Warning, the time step is too small!\n",
      "Warning, the time step is too small!\n",
      "Warning, the time step is too small!\n",
      "Warning, the time step is too small!\n",
      "Warning, the time step is too small!\n",
      "Warning, the time step is too small!\n",
      "Warning, the time step is too small!\n",
      "Warning, the time step is too small!\n",
      "Warning, the time step is too small!\n",
      "Warning, the time step is too small!\n",
      "Warning, the time step is too small!\n",
      "Warning, the time step is too small!\n",
      "Warning, the time step is too small!\n",
      "Warning, the time step is too small!\n",
      "Warning, the time step is too small!\n",
      "Warning, the time step is too small!\n",
      "Warning, the time step is too small!\n",
      "Warning, the time step is too small!\n",
      "Warning, the time step is too small!\n",
      "Warning, the time step is too small!\n",
      "Warning, the time step is too small!\n",
      "Warning, the time step is too small!\n",
      "Warning, the time step is too small!\n",
      "Warning, the time step is too small!\n"
     ]
    },
    {
     "ename": "KeyboardInterrupt",
     "evalue": "",
     "output_type": "error",
     "traceback": [
      "\u001b[0;31m---------------------------------------------------------------------------\u001b[0m",
      "\u001b[0;31mKeyboardInterrupt\u001b[0m                         Traceback (most recent call last)",
      "\u001b[0;32m<timed exec>\u001b[0m in \u001b[0;36m<module>\u001b[0;34m\u001b[0m\n",
      "\u001b[0;32m/home/chit/home/chit/criticalcollapse/ms_hm/HM.py\u001b[0m in \u001b[0;36madap_run_steps\u001b[0;34m(self, n_steps, adj_intv, tol)\u001b[0m\n\u001b[1;32m    154\u001b[0m         \u001b[0mstep\u001b[0m \u001b[0;34m=\u001b[0m \u001b[0;36m0\u001b[0m\u001b[0;34m\u001b[0m\u001b[0;34m\u001b[0m\u001b[0m\n\u001b[1;32m    155\u001b[0m         \u001b[0mdeltau\u001b[0m \u001b[0;34m=\u001b[0m \u001b[0mself\u001b[0m\u001b[0;34m.\u001b[0m\u001b[0mdeltau_adap\u001b[0m\u001b[0;34m\u001b[0m\u001b[0;34m\u001b[0m\u001b[0m\n\u001b[0;32m--> 156\u001b[0;31m         \u001b[0mkxi1\u001b[0m\u001b[0;34m,\u001b[0m \u001b[0mkR1\u001b[0m\u001b[0;34m,\u001b[0m \u001b[0mkm1\u001b[0m\u001b[0;34m,\u001b[0m \u001b[0mkU1\u001b[0m \u001b[0;34m=\u001b[0m \u001b[0mself\u001b[0m\u001b[0;34m.\u001b[0m\u001b[0mk_coeffs\u001b[0m\u001b[0;34m(\u001b[0m\u001b[0mself\u001b[0m\u001b[0;34m.\u001b[0m\u001b[0mR\u001b[0m\u001b[0;34m,\u001b[0m \u001b[0mself\u001b[0m\u001b[0;34m.\u001b[0m\u001b[0mm\u001b[0m\u001b[0;34m,\u001b[0m \u001b[0mself\u001b[0m\u001b[0;34m.\u001b[0m\u001b[0mU\u001b[0m\u001b[0;34m,\u001b[0m  \u001b[0mself\u001b[0m\u001b[0;34m.\u001b[0m\u001b[0mxi\u001b[0m\u001b[0;34m)\u001b[0m\u001b[0;34m\u001b[0m\u001b[0;34m\u001b[0m\u001b[0m\n\u001b[0m\u001b[1;32m    157\u001b[0m         \u001b[0;32mwhile\u001b[0m\u001b[0;34m(\u001b[0m\u001b[0mstep\u001b[0m \u001b[0;34m<\u001b[0m \u001b[0mn_steps\u001b[0m\u001b[0;34m)\u001b[0m \u001b[0;34m:\u001b[0m\u001b[0;34m\u001b[0m\u001b[0;34m\u001b[0m\u001b[0m\n\u001b[1;32m    158\u001b[0m \u001b[0;34m\u001b[0m\u001b[0m\n",
      "\u001b[0;32m/home/chit/home/chit/criticalcollapse/ms_hm/HM.py\u001b[0m in \u001b[0;36mk_coeffs\u001b[0;34m(self, R, m, U, xi)\u001b[0m\n\u001b[1;32m    120\u001b[0m \u001b[0;34m\u001b[0m\u001b[0m\n\u001b[1;32m    121\u001b[0m         \u001b[0mexi\u001b[0m \u001b[0;34m=\u001b[0m \u001b[0mnp\u001b[0m\u001b[0;34m.\u001b[0m\u001b[0mexp\u001b[0m\u001b[0;34m(\u001b[0m\u001b[0mxi\u001b[0m\u001b[0;34m)\u001b[0m\u001b[0;34m\u001b[0m\u001b[0;34m\u001b[0m\u001b[0m\n\u001b[0;32m--> 122\u001b[0;31m         \u001b[0mephi\u001b[0m \u001b[0;34m=\u001b[0m \u001b[0mself\u001b[0m\u001b[0;34m.\u001b[0m\u001b[0mephi\u001b[0m\u001b[0;34m(\u001b[0m\u001b[0mR\u001b[0m\u001b[0;34m,\u001b[0m \u001b[0mU\u001b[0m\u001b[0;34m,\u001b[0m \u001b[0mg\u001b[0m\u001b[0;34m,\u001b[0m \u001b[0mxi\u001b[0m\u001b[0;34m,\u001b[0m \u001b[0mxiprime\u001b[0m\u001b[0;34m,\u001b[0m \u001b[0mRprime\u001b[0m\u001b[0;34m)\u001b[0m\u001b[0;34m\u001b[0m\u001b[0;34m\u001b[0m\u001b[0m\n\u001b[0m\u001b[1;32m    123\u001b[0m         \u001b[0melambda\u001b[0m \u001b[0;34m=\u001b[0m \u001b[0mself\u001b[0m\u001b[0;34m.\u001b[0m\u001b[0melambda\u001b[0m\u001b[0;34m(\u001b[0m\u001b[0mephi\u001b[0m\u001b[0;34m,\u001b[0m \u001b[0mexi\u001b[0m\u001b[0;34m,\u001b[0m \u001b[0mxiprime\u001b[0m\u001b[0;34m)\u001b[0m\u001b[0;34m\u001b[0m\u001b[0;34m\u001b[0m\u001b[0m\n\u001b[1;32m    124\u001b[0m         \u001b[0mepsi\u001b[0m \u001b[0;34m=\u001b[0m \u001b[0mself\u001b[0m\u001b[0;34m.\u001b[0m\u001b[0mepsi\u001b[0m\u001b[0;34m(\u001b[0m\u001b[0mR\u001b[0m\u001b[0;34m,\u001b[0m \u001b[0mU\u001b[0m\u001b[0;34m,\u001b[0m \u001b[0mg\u001b[0m\u001b[0;34m,\u001b[0m \u001b[0mxi\u001b[0m\u001b[0;34m,\u001b[0m \u001b[0mr\u001b[0m\u001b[0;34m,\u001b[0m \u001b[0mephi\u001b[0m\u001b[0;34m)\u001b[0m\u001b[0;34m\u001b[0m\u001b[0;34m\u001b[0m\u001b[0m\n",
      "\u001b[0;32m/home/chit/home/chit/criticalcollapse/ms_hm/HM.py\u001b[0m in \u001b[0;36mephi\u001b[0;34m(self, R, U, g, xi, xiprime, Rprime)\u001b[0m\n\u001b[1;32m     85\u001b[0m \u001b[0;34m\u001b[0m\u001b[0m\n\u001b[1;32m     86\u001b[0m     \u001b[0;32mdef\u001b[0m \u001b[0mephi\u001b[0m\u001b[0;34m(\u001b[0m\u001b[0mself\u001b[0m\u001b[0;34m,\u001b[0m \u001b[0mR\u001b[0m\u001b[0;34m,\u001b[0m \u001b[0mU\u001b[0m\u001b[0;34m,\u001b[0m \u001b[0mg\u001b[0m\u001b[0;34m,\u001b[0m \u001b[0mxi\u001b[0m\u001b[0;34m,\u001b[0m \u001b[0mxiprime\u001b[0m\u001b[0;34m,\u001b[0m \u001b[0mRprime\u001b[0m\u001b[0;34m)\u001b[0m\u001b[0;34m:\u001b[0m\u001b[0;34m\u001b[0m\u001b[0;34m\u001b[0m\u001b[0m\n\u001b[0;32m---> 87\u001b[0;31m         \u001b[0;32mreturn\u001b[0m \u001b[0mephi_term\u001b[0m\u001b[0;34m(\u001b[0m\u001b[0mR\u001b[0m\u001b[0;34m,\u001b[0m \u001b[0mU\u001b[0m\u001b[0;34m,\u001b[0m \u001b[0mself\u001b[0m\u001b[0;34m.\u001b[0m\u001b[0mAbar\u001b[0m\u001b[0;34m,\u001b[0m \u001b[0mxi\u001b[0m\u001b[0;34m,\u001b[0m \u001b[0mg\u001b[0m\u001b[0;34m,\u001b[0m \u001b[0mself\u001b[0m\u001b[0;34m.\u001b[0m\u001b[0malpha\u001b[0m\u001b[0;34m)\u001b[0m\u001b[0;34m\u001b[0m\u001b[0;34m\u001b[0m\u001b[0m\n\u001b[0m\u001b[1;32m     88\u001b[0m \u001b[0;34m\u001b[0m\u001b[0m\n\u001b[1;32m     89\u001b[0m     \u001b[0;32mdef\u001b[0m \u001b[0melambda\u001b[0m\u001b[0;34m(\u001b[0m\u001b[0mself\u001b[0m\u001b[0;34m,\u001b[0m \u001b[0mephi\u001b[0m\u001b[0;34m,\u001b[0m \u001b[0mexi\u001b[0m\u001b[0;34m,\u001b[0m \u001b[0mxiprime\u001b[0m\u001b[0;34m)\u001b[0m\u001b[0;34m:\u001b[0m\u001b[0;34m\u001b[0m\u001b[0;34m\u001b[0m\u001b[0m\n",
      "\u001b[0;32mcython/utils.pyx\u001b[0m in \u001b[0;36mutils.ephi_term\u001b[0;34m()\u001b[0m\n",
      "\u001b[0;32mcython/utils.pyx\u001b[0m in \u001b[0;36mutils.ephi_term\u001b[0;34m()\u001b[0m\n",
      "\u001b[0;32m/usr/local/lib/python3.8/dist-packages/numpy/core/_asarray.py\u001b[0m in \u001b[0;36masarray\u001b[0;34m(a, dtype, order, like)\u001b[0m\n\u001b[1;32m     21\u001b[0m \u001b[0;34m\u001b[0m\u001b[0m\n\u001b[1;32m     22\u001b[0m \u001b[0;34m\u001b[0m\u001b[0m\n\u001b[0;32m---> 23\u001b[0;31m \u001b[0;34m@\u001b[0m\u001b[0mset_array_function_like_doc\u001b[0m\u001b[0;34m\u001b[0m\u001b[0;34m\u001b[0m\u001b[0m\n\u001b[0m\u001b[1;32m     24\u001b[0m \u001b[0;34m@\u001b[0m\u001b[0mset_module\u001b[0m\u001b[0;34m(\u001b[0m\u001b[0;34m'numpy'\u001b[0m\u001b[0;34m)\u001b[0m\u001b[0;34m\u001b[0m\u001b[0;34m\u001b[0m\u001b[0m\n\u001b[1;32m     25\u001b[0m \u001b[0;32mdef\u001b[0m \u001b[0masarray\u001b[0m\u001b[0;34m(\u001b[0m\u001b[0ma\u001b[0m\u001b[0;34m,\u001b[0m \u001b[0mdtype\u001b[0m\u001b[0;34m=\u001b[0m\u001b[0;32mNone\u001b[0m\u001b[0;34m,\u001b[0m \u001b[0morder\u001b[0m\u001b[0;34m=\u001b[0m\u001b[0;32mNone\u001b[0m\u001b[0;34m,\u001b[0m \u001b[0;34m*\u001b[0m\u001b[0;34m,\u001b[0m \u001b[0mlike\u001b[0m\u001b[0;34m=\u001b[0m\u001b[0;32mNone\u001b[0m\u001b[0;34m)\u001b[0m\u001b[0;34m:\u001b[0m\u001b[0;34m\u001b[0m\u001b[0;34m\u001b[0m\u001b[0m\n",
      "\u001b[0;31mKeyboardInterrupt\u001b[0m: "
     ]
    }
   ],
   "source": [
    "%%time\n",
    "mOverR=[]\n",
    "for i in range(5000):\n",
    "    hm.adap_run_steps(10)\n",
    "    mOverR.append(( hm.R**2 * hm.m * hm.Abar**2 * np.exp(2*(hm.alpha-1)*hm.xi)).max() )"
   ]
  },
  {
   "cell_type": "code",
   "execution_count": 414,
   "metadata": {
    "tags": []
   },
   "outputs": [
    {
     "name": "stdout",
     "output_type": "stream",
     "text": [
      "2m/R is larger than 0.99\n",
      "2m/R is larger than 0.99\n",
      "2m/R is larger than 0.99\n",
      "2m/R is larger than 0.99\n",
      "2m/R is larger than 0.99\n",
      "2m/R is larger than 0.99\n",
      "2m/R is larger than 0.99\n",
      "2m/R is larger than 0.99\n",
      "2m/R is larger than 0.99\n",
      "2m/R is larger than 0.99\n",
      "2m/R is larger than 0.99\n",
      "2m/R is larger than 0.99\n",
      "2m/R is larger than 0.99\n",
      "2m/R is larger than 0.99\n",
      "2m/R is larger than 0.99\n",
      "2m/R is larger than 0.99\n",
      "CPU times: user 22min 48s, sys: 96 ms, total: 22min 48s\n",
      "Wall time: 22min 48s\n"
     ]
    }
   ],
   "source": [
    "%%time\n",
    "mOverR=[]\n",
    "for i in range(50):\n",
    "    hm.adap_run_steps(1000)\n",
    "    #plt.plot((hm.Abar), hm.U)\n",
    "    #plt.show()\n",
    "    mOverR.append(( hm.R**2 * hm.m * hm.Abar**2 * np.exp(2*(hm.alpha-1)*hm.xi)).max() )"
   ]
  },
  {
   "cell_type": "code",
   "execution_count": 427,
   "metadata": {},
   "outputs": [
    {
     "data": {
      "text/plain": [
       "(-80.0, 10.0)"
      ]
     },
     "execution_count": 427,
     "metadata": {},
     "output_type": "execute_result"
    },
    {
     "data": {
      "image/png": "[encoded data removed]",
      "text/plain": [
       "<Figure size 432x288 with 1 Axes>"
      ]
     },
     "metadata": {
      "needs_background": "light"
     },
     "output_type": "display_data"
    }
   ],
   "source": [
    "plt.scatter((hm.Abar*hm.R * np.exp((hm.alpha) * hm.xi)), hm.U)\n",
    "#plt.plot((hm_uni.Abar), hm_uni.U)\n",
    "\n",
    "\n",
    "\n",
    "plt.xlim(0,25)\n",
    "plt.ylim(-80,10)\n",
    "#plt.yscale('log')"
   ]
  },
  {
   "cell_type": "code",
   "execution_count": 415,
   "metadata": {},
   "outputs": [
    {
     "data": {
      "text/plain": [
       "[<matplotlib.lines.Line2D at 0x7fd47a762970>]"
      ]
     },
     "execution_count": 415,
     "metadata": {},
     "output_type": "execute_result"
    },
    {
     "data": {
      "image/png": "[encoded data removed]",
      "text/plain": [
       "<Figure size 432x288 with 1 Axes>"
      ]
     },
     "metadata": {
      "needs_background": "light"
     },
     "output_type": "display_data"
    }
   ],
   "source": [
    "plt.plot(mOverR[3:])\n"
   ]
  },
  {
   "cell_type": "code",
   "execution_count": 416,
   "metadata": {},
   "outputs": [
    {
     "data": {
      "text/plain": [
       "(0.0, 1.0)"
      ]
     },
     "execution_count": 416,
     "metadata": {},
     "output_type": "execute_result"
    },
    {
     "data": {
      "image/png": "[encoded data removed]",
      "text/plain": [
       "<Figure size 432x288 with 1 Axes>"
      ]
     },
     "metadata": {
      "needs_background": "light"
     },
     "output_type": "display_data"
    }
   ],
   "source": [
    "plt.plot((hm.Abar*hm.R * np.exp((hm.alpha) * hm.xi)), hm.R**2 * hm.m * hm.Abar**2 * np.exp(2*(hm.alpha-1)*hm.xi))\n",
    "#plt.plot(hm.Abar, hm_bak.R**2 * hm_bak.m * hm_bak.Abar**2 * np.exp(2*(hm_bak.alpha-1)*(hm_bak.xi)))\n",
    "\n",
    "plt.xlim(0,25)\n",
    "plt.ylim(0.,1)"
   ]
  },
  {
   "cell_type": "code",
   "execution_count": 417,
   "metadata": {},
   "outputs": [
    {
     "data": {
      "text/plain": [
       "1.148034605332311"
      ]
     },
     "execution_count": 417,
     "metadata": {},
     "output_type": "execute_result"
    }
   ],
   "source": [
    "hm.BH_mass2()"
   ]
  },
  {
   "cell_type": "code",
   "execution_count": 406,
   "metadata": {},
   "outputs": [
    {
     "data": {
      "text/plain": [
       "1.1218923237461527"
      ]
     },
     "execution_count": 406,
     "metadata": {},
     "output_type": "execute_result"
    }
   ],
   "source": [
    "hm.BH_mass2()"
   ]
  },
  {
   "cell_type": "code",
   "execution_count": 418,
   "metadata": {},
   "outputs": [
    {
     "data": {
      "text/plain": [
       "[<matplotlib.lines.Line2D at 0x7fd47a4c6ac0>]"
      ]
     },
     "execution_count": 418,
     "metadata": {},
     "output_type": "execute_result"
    },
    {
     "data": {
      "image/png": "[encoded data removed]",
      "text/plain": [
       "<Figure size 432x288 with 1 Axes>"
      ]
     },
     "metadata": {
      "needs_background": "light"
     },
     "output_type": "display_data"
    }
   ],
   "source": [
    "plt.plot((hm.Abar), hm.U)\n",
    "#plt.plot((hm.Abar), hm_mix_adp_bak.U)\n",
    "\n",
    "\n",
    "\n",
    "#plt.xlim(20,28)\n",
    "#plt.ylim(-0.95,1.2)\n",
    "#plt.yscale('log')"
   ]
  },
  {
   "cell_type": "code",
   "execution_count": 419,
   "metadata": {},
   "outputs": [
    {
     "data": {
      "image/png": "[encoded data removed]",
      "text/plain": [
       "<Figure size 432x288 with 1 Axes>"
      ]
     },
     "metadata": {
      "needs_background": "light"
     },
     "output_type": "display_data"
    }
   ],
   "source": [
    "        xiprime = dfdA(hm.xi,  hm.Abar, 1e100)\n",
    "        Rprime = dfdA(hm.R, hm.Abar, 1e100)\n",
    "        mprime = dfdA(hm.m, hm.Abar, 1e100)\n",
    "\n",
    "\n",
    "        \n",
    "        #xiprime.fill(1)\n",
    "        \n",
    "        g = hm.gamma(hm.R, hm.m, hm.U, hm.xi)\n",
    "        r = hm.rho(hm.R, hm.m, hm.U, hm.xi, g, xiprime, Rprime, mprime)\n",
    "        drho = hm.drho(hm.R, hm.m, hm.U, g, hm.xi, Rprime, mprime, xiprime)\n",
    "        exi = np.exp(hm.xi)\n",
    "        ephi = hm.ephi(hm.R, hm.U, g, hm.xi, xiprime, Rprime)\n",
    "        elambda = hm.elambda(ephi, exi, xiprime)\n",
    "        epsi = hm.epsi(hm.R, hm.U, g, hm.xi, r, ephi)\n",
    "        \n",
    "        #plt.plot(np.arange(hm.N-1), ddfddA(hm.U, hm.deltaL, hm.Abar, 0)[1:])\n",
    "        #plt.plot(np.arange(hm.N), dfdA(r, hm.deltaL, hm.Abar, 1e100))\n",
    "        plt.plot((hm.Abar*hm.R * np.exp((hm.alpha) * hm.xi)), epsi)\n",
    "        #plt.plot(np.arange(hm.N), ephi)\n",
    "        #plt.plot(np.arange(hm.N), epsi)\n",
    "        #plt.plot(np.arange(hm.N),elambda / epsi)\n",
    "        plt.xlim(0,4)\n",
    "        #plt.ylim(1e-8,1)\n",
    "        plt.yscale('log')\n",
    "#plt.ylim(0.915,0.93)"
   ]
  },
  {
   "cell_type": "code",
   "execution_count": 371,
   "metadata": {},
   "outputs": [
    {
     "data": {
      "text/plain": [
       "(0.0, 1.0)"
      ]
     },
     "execution_count": 371,
     "metadata": {},
     "output_type": "execute_result"
    },
    {
     "data": {
      "image/png": "[encoded data removed]",
      "text/plain": [
       "<Figure size 432x288 with 1 Axes>"
      ]
     },
     "metadata": {
      "needs_background": "light"
     },
     "output_type": "display_data"
    }
   ],
   "source": [
    "plt.plot((hm.Abar*hm.R * np.exp((hm.alpha) * hm.xi)), hm.R**2 * hm.m * hm.Abar**2 * np.exp(2*(hm.alpha-1)*hm.xi))\n",
    "#plt.plot(hm.Abar, hm_bak.R**2 * hm_bak.m * hm_bak.Abar**2 * np.exp(2*(hm_bak.alpha-1)*(hm_bak.xi)))\n",
    "\n",
    "plt.xlim(0,15)\n",
    "plt.ylim(0.,1)"
   ]
  },
  {
   "cell_type": "code",
   "execution_count": 183,
   "metadata": {},
   "outputs": [
    {
     "data": {
      "text/plain": [
       "186.12964528729714"
      ]
     },
     "execution_count": 183,
     "metadata": {},
     "output_type": "execute_result"
    }
   ],
   "source": [
    "((np.exp(-hm.xi/2) * hm.R **3 * hm.Abar**3 * hm.m ) / 2)[(hm.R**2 * hm.m * hm.Abar**2 * np.exp(2*(hm.alpha-1)*hm.xi)).argmax()]"
   ]
  },
  {
   "cell_type": "code",
   "execution_count": 420,
   "metadata": {},
   "outputs": [
    {
     "data": {
      "text/plain": [
       "(0.0, 2.0)"
      ]
     },
     "execution_count": 420,
     "metadata": {},
     "output_type": "execute_result"
    },
    {
     "data": {
      "image/png": "[encoded data removed]",
      "text/plain": [
       "<Figure size 432x288 with 1 Axes>"
      ]
     },
     "metadata": {
      "needs_background": "light"
     },
     "output_type": "display_data"
    }
   ],
   "source": [
    "a = np.exp(hm.alpha * hm.xi)\n",
    "H = np.exp(-hm.xi) / hm.RH\n",
    "rho_b = a**(1+hm.w)\n",
    "Rb = a * hm.A\n",
    "plt.plot(hm.R * Rb ,  (np.exp(-hm.xi/2) * hm.R **3 * hm.Abar**3 * hm.m ) / 2 )\n",
    "#plt.plot(hm.R * Rb ,  np.array([5] * hm.N) )\n",
    "plt.xlim(0,4)\n",
    "plt.ylim(0,2)\n",
    "#plt.yscale('log')"
   ]
  },
  {
   "cell_type": "code",
   "execution_count": 17,
   "metadata": {},
   "outputs": [
    {
     "data": {
      "text/plain": [
       "4.3613534732611505"
      ]
     },
     "execution_count": 17,
     "metadata": {},
     "output_type": "execute_result"
    }
   ],
   "source": [
    "hm.BH_mass()"
   ]
  },
  {
   "cell_type": "code",
   "execution_count": 27,
   "metadata": {},
   "outputs": [
    {
     "data": {
      "text/plain": [
       "4.361353211290671"
      ]
     },
     "execution_count": 27,
     "metadata": {},
     "output_type": "execute_result"
    }
   ],
   "source": [
    "hm.BH_mass()"
   ]
  },
  {
   "cell_type": "code",
   "execution_count": null,
   "metadata": {},
   "outputs": [],
   "source": []
  }
 ],
 "metadata": {
  "kernelspec": {
   "display_name": "Python 3",
   "language": "python",
   "name": "python3"
  },
  "language_info": {
   "codemirror_mode": {
    "name": "ipython",
    "version": 3
   },
   "file_extension": ".py",
   "mimetype": "text/x-python",
   "name": "python",
   "nbconvert_exporter": "python",
   "pygments_lexer": "ipython3",
   "version": "3.8.5"
  }
 },
 "nbformat": 4,
 "nbformat_minor": 5
}
