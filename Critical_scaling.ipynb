{
 "cells": [
  {
   "cell_type": "markdown",
   "metadata": {},
   "source": [
    "# Critical Collapse Study\n",
    "\n",
    "Below is code to help study the formation of black holes. The equations integrated are described in the work by Bloomfield et. al.\n",
    "\n",
    "arXiv paper on : [1504.02071](https://arxiv.org/pdf/1504.02071.pdf) ([ar5iv](https://ar5iv.org/abs/1504.02071))\n",
    "\n",
    "For collapse with an approximate QCD equation of state, a previous work is\n",
    "\n",
    "arXiv: [1801.06138](https://arxiv.org/pdf/1801.06138.pdf) ([ar5iv](https://ar5iv.org/abs/1801.06138))\n",
    "\n",
    "## Import Modules"
   ]
  },
  {
   "cell_type": "code",
   "execution_count": 1,
   "metadata": {},
   "outputs": [],
   "source": [
    "import numpy as np\n",
    "import sys\n",
    "from importlib import reload \n",
    "import scipy.interpolate as interp\n",
    "import scipy.constants as const\n",
    "\n",
    "import cython\n",
    "%load_ext Cython\n",
    "\n",
    "import matplotlib.pyplot as plt\n",
    "import matplotlib as mpl\n",
    "mpl.rc('xtick', direction='in', top=True)\n",
    "mpl.rc('ytick', direction='in', right=True)\n",
    "mpl.rc('xtick.minor', visible=True)\n",
    "mpl.rc('ytick.minor', visible=True)"
   ]
  },
  {
   "cell_type": "markdown",
   "metadata": {},
   "source": [
    "## Import MS, HM modules\n",
    "\n",
    "...and reload modules if needed"
   ]
  },
  {
   "cell_type": "code",
   "execution_count": 2,
   "metadata": {},
   "outputs": [
    {
     "name": "stdout",
     "output_type": "stream",
     "text": [
      "Did not reload modules\n"
     ]
    }
   ],
   "source": [
    "# importing MS and HM modules. Reload modules if needed\n",
    "try :\n",
    "    reload(ms_hm.MS)\n",
    "    reload(ms_hm.HM)\n",
    "    reload(ms_hm.QCD_EOS)\n",
    "except :\n",
    "    print(\"Did not reload modules\")\n",
    "\n",
    "import ms_hm\n",
    "from ms_hm.QCD_EOS import *\n",
    "from ms_hm.MS import *\n",
    "from ms_hm.HM import *"
   ]
  },
  {
   "cell_type": "markdown",
   "metadata": {},
   "source": [
    "## Various functions that use the MS and HM classes\n",
    "\n",
    "Functions below compute various things using the Misner-Sharp or Hernandez-Misher classes."
   ]
  },
  {
   "cell_type": "code",
   "execution_count": 3,
   "metadata": {},
   "outputs": [],
   "source": [
    "%%cython\n",
    "\n",
    "import cython\n",
    "cimport numpy as np\n",
    "\n",
    "cimport cython\n",
    "ctypedef np.double_t DTYPE_t\n",
    "\n",
    "from libc.math cimport exp\n",
    "from libc.math cimport sqrt\n",
    "\n",
    "from cython.parallel import prange\n",
    "\n",
    "@cython.boundscheck(False)  # Deactivate bounds checking\n",
    "cpdef zero_crossing(np.ndarray x_in, double [::1] y):\n",
    "    \"\"\"\n",
    "    Given an array of inputs y, find x where the function y(x) = 0\n",
    "    \"\"\"\n",
    "    cdef int size = x_in.shape[0]\n",
    "    cdef double [:] x = x_in\n",
    "    cdef double w, zero=-1\n",
    "    cdef int i\n",
    "    \n",
    "    for i in range(size-1): # loop through all y values\n",
    "        if(y[i] * y[i+1] < 0): # if subsequent elements have opposite signs, a zero-crossing was found.\n",
    "            # linearly extrapolate zero-crossing\n",
    "            w = abs(y[i] / (y[i+1] - y[i])) \n",
    "            zero = x[i] * (1 - w) + x[i+1] * w\n",
    "            break\n",
    "            \n",
    "    return zero"
   ]
  },
  {
   "cell_type": "code",
   "execution_count": 4,
   "metadata": {},
   "outputs": [],
   "source": [
    "def mix_grid(left, right, n):\n",
    "    \"\"\"\n",
    "    Function to generate coordinate spacings with a mix of uniform and logarithmic spacings,\n",
    "    with uniform spacing at small values (0 to \"left\") then logarithmically spaced (\"left\" to \"right\").\n",
    "    \n",
    "    Returns an array of coordinate positions.\n",
    "    \"\"\"\n",
    "    \n",
    "    # Generate logarithmically spaced coordinates between \"left\" and \"right\"\n",
    "    A = np.exp(np.linspace(left, right, n))\n",
    "    dA = A[1] - A[0]\n",
    "    \n",
    "    # Generate uniformly spaced coordinates\n",
    "    A = np.concatenate( (np.linspace(0, A[0], int(np.ceil(A[0] / dA)), endpoint=False), A))\n",
    "    \n",
    "    return A\n",
    "\n",
    "def uni_grid(right, n):\n",
    "    \"\"\"\n",
    "    Function to generate a uniformly-spaced array of coordinate positions\n",
    "    \n",
    "    Returns the array of uniformly spaced coordinates.\n",
    "    \"\"\"\n",
    "    A = np.linspace(0, np.exp(right), n)\n",
    "    return A\n",
    "\n",
    "def exp_grid(left, right, n):\n",
    "    \"\"\"\n",
    "    Function to generate an exponentially-spaced array of coordinate positions\n",
    "    \"\"\"\n",
    "    # Generate logarithmically spaced coordinates between \"left\" and \"right\"\n",
    "    A = np.logspace(left, right, n)\n",
    "    A = np.concatenate( ([0], A))\n",
    "\n",
    "    return A"
   ]
  },
  {
   "cell_type": "code",
   "execution_count": 5,
   "metadata": {},
   "outputs": [],
   "source": [
    "# Check if a BH forms\n",
    "# The MS run should proceed until MS until it breaks. If 2m / R > 1, return true\n",
    "def BH_form(Abar, rho0, amp, default_steps=1500000, sm_sigma=0.0):\n",
    "    \n",
    "    ms = MS(Abar, rho0, amp, trace_ray=False, BH_threshold=-1, sm_sigma=sm_sigma)\n",
    "    \n",
    "    if (ms.adap_run_steps(default_steps) == -1):\n",
    "        return (True, ms.delta, ms)\n",
    "    \n",
    "    return (False, ms.delta, ms)"
   ]
  },
  {
   "cell_type": "code",
   "execution_count": 6,
   "metadata": {},
   "outputs": [],
   "source": [
    "def find_crit(Abar, rho0, lower_amp, upper_amp, sm_sigma=0.0):\n",
    "    \"\"\"\n",
    "    Binary search between lower and upper to find a critical amplitude\n",
    "    (Note that this is NOT the critical density)\n",
    "    return (critical, upper value)\n",
    "    \"\"\"\n",
    "    \n",
    "    upper_ms = -1\n",
    "    lower_ms = -1\n",
    "    for i in range(20):\n",
    "        middle_amp = (lower_amp + upper_amp) / 2\n",
    "        print('Iteration No', str(i), '-- Checking to see if a BH forms at amplitude', str(middle_amp))\n",
    "\n",
    "        try :\n",
    "            forms, delta, ms = BH_form(Abar, rho0, middle_amp, sm_sigma=sm_sigma)\n",
    "        except Exception as e :\n",
    "            print(\"Run failed with amplitude\", middle_amp, \"! Stopping search. Reason below.\")\n",
    "            print(e)\n",
    "            break\n",
    "        \n",
    "        if(forms == True):\n",
    "            upper_amp = middle_amp\n",
    "            upper_ms = ms\n",
    "        else:\n",
    "            lower_amp = middle_amp\n",
    "            lower_ms = ms\n",
    "    \n",
    "    print(\"Critical amplitude appears to be between\", lower_amp, \"and\", upper_amp)\n",
    "    upper_ms.plot_fields(True)\n",
    "    lower_ms.plot_fields(True)\n",
    "    return (lower_amp, upper_amp)"
   ]
  },
  {
   "cell_type": "code",
   "execution_count": 7,
   "metadata": {},
   "outputs": [],
   "source": [
    "def find_mass(Abar, rho0, amp, is_searching_for_crit=False, default_steps=1500000):\n",
    "    \"\"\"\n",
    "    Find mass of BHs for certain amplitude\n",
    "    set is_searching_for_crit=True when searching for the critical point\n",
    "    \"\"\"\n",
    "    print('Finding mass with amp ' + str(amp))\n",
    "            \n",
    "    # Perform a MS run without raytracing\n",
    "    ms = MS(Abar, rho0, amp, trace_ray=False, BH_threshold=-1e1)\n",
    "    ms.run_steps(default_steps)\n",
    "    delta = ms.delta\n",
    "    \n",
    "    # Perform a run *with* raytracing to get ICs for an HM run\n",
    "    ms = MS(Abar, rho0, amp, trace_ray=True, BH_threshold=-1e1)\n",
    "    flag = ms.run_steps(default_steps)\n",
    "    if(flag != 0):\n",
    "        raise ValueError('Not finishing ray-tracing with the amplitude ' + str(amp))\n",
    "        \n",
    "    # Perform an HM run\n",
    "    hm = HM(ms, mOverR=0.99, sm_sigma=50)\n",
    "    bh_formed = hm.adap_run_steps(550000) == 1\n",
    "    if(not bh_formed and is_searching_for_crit==False):\n",
    "        raise ValueError('Cannot get the target 2m/R with the amplitude ' + str(amp))\n",
    "    \n",
    "    print(ms.delta, hm.BH_mass2())\n",
    "    return (ms.delta, hm.BH_mass2())"
   ]
  },
  {
   "cell_type": "code",
   "execution_count": 8,
   "metadata": {},
   "outputs": [],
   "source": [
    "# # Generate critical scaling data \n",
    "# def critical_scaling(crit_amp, lower_amp, upper_amp, n=10):\n",
    "#     amps = 10**np.linspace(np.log10(lower_amp - crit_amp), np.log10(upper_amp - crit_amp), n) + crit_amp\n",
    "#     print(amps)\n",
    "#     masses = np.array([find_mass(amp) for amp in amps])\n",
    "#     crit_delta = find_mass(crit_amp, is_searching_for_crit=True)[0]  \n",
    "#     return (masses, crit_delta)"
   ]
  },
  {
   "cell_type": "markdown",
   "metadata": {},
   "source": [
    "## Simulation setup\n",
    "\n",
    "Code below will set up grids (arrays) for running the simulations."
   ]
  },
  {
   "cell_type": "code",
   "execution_count": 9,
   "metadata": {},
   "outputs": [
    {
     "name": "stdout",
     "output_type": "stream",
     "text": [
      "The grid of Abar values is linearly spaced from Abar = 0 to 0.5476822525425332 then log spaced until Abar = 3.673077974307203\n"
     ]
    },
    {
     "data": {
      "image/png": "[encoded data removed]",
      "text/plain": [
       "<Figure size 432x288 with 1 Axes>"
      ]
     },
     "metadata": {
      "needs_background": "light"
     },
     "output_type": "display_data"
    }
   ],
   "source": [
    "# simulation resolution parameter\n",
    "# (Not exactly the number of gridpoints for a mixed grid)\n",
    "n = 800\n",
    "\n",
    "# Generate an array of coordinate positions for the simulation to run at\n",
    "lower = np.log10(0.25) # The coordinates will be linearly spaced from 0 to e^lower\n",
    "upper = np.log10(20) # The coordinates will be log spaced from e^lower to e^upper\n",
    "# Abar = mix_grid(lower, upper, n)\n",
    "# Abar = exp_grid(lower, upper, n)\n",
    "Abar = uni_grid(upper, n)\n",
    "plt.semilogy(Abar, 'k.')\n",
    "print(\"The grid of Abar values is linearly spaced from Abar = 0 to\", np.exp(lower),\n",
    "      \"then log spaced until Abar =\", np.exp(upper))"
   ]
  },
  {
   "cell_type": "markdown",
   "metadata": {},
   "source": [
    "## Scratch Work\n",
    "\n",
    "Below is some scratch work useful for testing simulations and getting things set up to run"
   ]
  },
  {
   "cell_type": "code",
   "execution_count": 12,
   "metadata": {
    "scrolled": false
   },
   "outputs": [
    {
     "name": "stdout",
     "output_type": "stream",
     "text": [
      "Initial w is 0.3333333333333333 and Horizon radius is 2.4430125595145997e-06\n",
      "Not Tracing ray and NO excision will be performed!\n",
      "Horizon is found, code will be terminated! Finished at step 1384\n"
     ]
    },
    {
     "data": {
      "image/png": "[encoded data removed]",
      "text/plain": [
       "<Figure size 432x288 with 1 Axes>"
      ]
     },
     "metadata": {
      "needs_background": "light"
     },
     "output_type": "display_data"
    }
   ],
   "source": [
    "# Reload MS module and try a run\n",
    "reload(ms_hm.QCD_EOS)\n",
    "from ms_hm.QCD_EOS import *\n",
    "reload(ms_hm.MS)\n",
    "from ms_hm.MS import *\n",
    "rho0 = 2.0e10 # initial density value in MeV^4, should just be w=1/3 here.\n",
    "amp = 0.30\n",
    "\n",
    "ms = MS(Abar, rho0, amp, trace_ray=False, BH_threshold=-999, sm_sigma=2.0)\n",
    "ms.adap_run_steps(200000)\n",
    "ms.plot_fields(True)"
   ]
  },
  {
   "cell_type": "code",
   "execution_count": null,
   "metadata": {},
   "outputs": [],
   "source": [
    "QCD_EOS().fix_w(1e6)"
   ]
  },
  {
   "cell_type": "code",
   "execution_count": 42,
   "metadata": {},
   "outputs": [
    {
     "name": "stdout",
     "output_type": "stream",
     "text": [
      "Iteration No 0 -- Checking to see if a BH forms at amplitude 0.22499999999999998\n",
      "Initial w is 0.3333333333333333 and Horizon radius is 3.4549414947133547e-10\n",
      "Not Tracing ray and NO excision will be performed!\n",
      "Density near origin has dropped significantly, so a black hole likely won't be forming! This occurred at step 87500\n",
      "Iteration No 1 -- Checking to see if a BH forms at amplitude 0.26249999999999996\n",
      "Initial w is 0.3333333333333333 and Horizon radius is 3.4549414947133547e-10\n",
      "Not Tracing ray and NO excision will be performed!\n",
      "Density near origin has dropped significantly, so a black hole likely won't be forming! This occurred at step 108849\n",
      "Iteration No 2 -- Checking to see if a BH forms at amplitude 0.28125\n",
      "Initial w is 0.3333333333333333 and Horizon radius is 3.4549414947133547e-10\n",
      "Not Tracing ray and NO excision will be performed!\n"
     ]
    },
    {
     "ename": "KeyboardInterrupt",
     "evalue": "",
     "output_type": "error",
     "traceback": [
      "\u001b[0;31m---------------------------------------------------------------------------\u001b[0m",
      "\u001b[0;31mKeyboardInterrupt\u001b[0m                         Traceback (most recent call last)",
      "\u001b[0;32m<ipython-input-42-5c81881509fc>\u001b[0m in \u001b[0;36m<module>\u001b[0;34m\u001b[0m\n\u001b[1;32m      2\u001b[0m \u001b[0mAbar\u001b[0m \u001b[0;34m=\u001b[0m \u001b[0mmix_grid\u001b[0m\u001b[0;34m(\u001b[0m\u001b[0mnp\u001b[0m\u001b[0;34m.\u001b[0m\u001b[0mlog10\u001b[0m\u001b[0;34m(\u001b[0m\u001b[0;36m1.5\u001b[0m\u001b[0;34m)\u001b[0m\u001b[0;34m,\u001b[0m \u001b[0mnp\u001b[0m\u001b[0;34m.\u001b[0m\u001b[0mlog10\u001b[0m\u001b[0;34m(\u001b[0m\u001b[0;36m40\u001b[0m\u001b[0;34m)\u001b[0m\u001b[0;34m,\u001b[0m \u001b[0mn\u001b[0m\u001b[0;34m)\u001b[0m\u001b[0;34m\u001b[0m\u001b[0;34m\u001b[0m\u001b[0m\n\u001b[1;32m      3\u001b[0m \u001b[0mrho0\u001b[0m \u001b[0;34m=\u001b[0m \u001b[0;36m1.0e18\u001b[0m\u001b[0;31m# initial density value in MeV^4\u001b[0m\u001b[0;34m\u001b[0m\u001b[0;34m\u001b[0m\u001b[0m\n\u001b[0;32m----> 4\u001b[0;31m \u001b[0mfind_crit\u001b[0m\u001b[0;34m(\u001b[0m\u001b[0mAbar\u001b[0m\u001b[0;34m,\u001b[0m \u001b[0mrho0\u001b[0m\u001b[0;34m,\u001b[0m \u001b[0;36m0.15\u001b[0m\u001b[0;34m,\u001b[0m \u001b[0;36m0.3\u001b[0m\u001b[0;34m,\u001b[0m\u001b[0msm_sigma\u001b[0m \u001b[0;34m=\u001b[0m \u001b[0;36m2.0\u001b[0m\u001b[0;34m)\u001b[0m\u001b[0;34m\u001b[0m\u001b[0;34m\u001b[0m\u001b[0m\n\u001b[0m",
      "\u001b[0;32m<ipython-input-30-e7905005ce64>\u001b[0m in \u001b[0;36mfind_crit\u001b[0;34m(Abar, rho0, lower_amp, upper_amp, sm_sigma)\u001b[0m\n\u001b[1;32m     13\u001b[0m \u001b[0;34m\u001b[0m\u001b[0m\n\u001b[1;32m     14\u001b[0m         \u001b[0;32mtry\u001b[0m \u001b[0;34m:\u001b[0m\u001b[0;34m\u001b[0m\u001b[0;34m\u001b[0m\u001b[0m\n\u001b[0;32m---> 15\u001b[0;31m             \u001b[0mforms\u001b[0m\u001b[0;34m,\u001b[0m \u001b[0mdelta\u001b[0m\u001b[0;34m,\u001b[0m \u001b[0mms\u001b[0m \u001b[0;34m=\u001b[0m \u001b[0mBH_form\u001b[0m\u001b[0;34m(\u001b[0m\u001b[0mAbar\u001b[0m\u001b[0;34m,\u001b[0m \u001b[0mrho0\u001b[0m\u001b[0;34m,\u001b[0m \u001b[0mmiddle_amp\u001b[0m\u001b[0;34m,\u001b[0m \u001b[0msm_sigma\u001b[0m\u001b[0;34m=\u001b[0m\u001b[0msm_sigma\u001b[0m\u001b[0;34m)\u001b[0m\u001b[0;34m\u001b[0m\u001b[0;34m\u001b[0m\u001b[0m\n\u001b[0m\u001b[1;32m     16\u001b[0m         \u001b[0;32mexcept\u001b[0m \u001b[0mException\u001b[0m \u001b[0;32mas\u001b[0m \u001b[0me\u001b[0m \u001b[0;34m:\u001b[0m\u001b[0;34m\u001b[0m\u001b[0;34m\u001b[0m\u001b[0m\n\u001b[1;32m     17\u001b[0m             \u001b[0mprint\u001b[0m\u001b[0;34m(\u001b[0m\u001b[0;34m\"Run failed with amplitude\"\u001b[0m\u001b[0;34m,\u001b[0m \u001b[0mmiddle_amp\u001b[0m\u001b[0;34m,\u001b[0m \u001b[0;34m\"! Stopping search. Reason below.\"\u001b[0m\u001b[0;34m)\u001b[0m\u001b[0;34m\u001b[0m\u001b[0;34m\u001b[0m\u001b[0m\n",
      "\u001b[0;32m<ipython-input-29-c94552ba9324>\u001b[0m in \u001b[0;36mBH_form\u001b[0;34m(Abar, rho0, amp, default_steps, sm_sigma)\u001b[0m\n\u001b[1;32m      5\u001b[0m     \u001b[0mms\u001b[0m \u001b[0;34m=\u001b[0m \u001b[0mMS\u001b[0m\u001b[0;34m(\u001b[0m\u001b[0mAbar\u001b[0m\u001b[0;34m,\u001b[0m \u001b[0mrho0\u001b[0m\u001b[0;34m,\u001b[0m \u001b[0mamp\u001b[0m\u001b[0;34m,\u001b[0m \u001b[0mtrace_ray\u001b[0m\u001b[0;34m=\u001b[0m\u001b[0;32mFalse\u001b[0m\u001b[0;34m,\u001b[0m \u001b[0mBH_threshold\u001b[0m\u001b[0;34m=\u001b[0m\u001b[0;34m-\u001b[0m\u001b[0;36m1\u001b[0m\u001b[0;34m,\u001b[0m \u001b[0msm_sigma\u001b[0m\u001b[0;34m=\u001b[0m\u001b[0msm_sigma\u001b[0m\u001b[0;34m)\u001b[0m\u001b[0;34m\u001b[0m\u001b[0;34m\u001b[0m\u001b[0m\n\u001b[1;32m      6\u001b[0m \u001b[0;34m\u001b[0m\u001b[0m\n\u001b[0;32m----> 7\u001b[0;31m     \u001b[0;32mif\u001b[0m \u001b[0;34m(\u001b[0m\u001b[0mms\u001b[0m\u001b[0;34m.\u001b[0m\u001b[0madap_run_steps\u001b[0m\u001b[0;34m(\u001b[0m\u001b[0mdefault_steps\u001b[0m\u001b[0;34m)\u001b[0m \u001b[0;34m==\u001b[0m \u001b[0;34m-\u001b[0m\u001b[0;36m1\u001b[0m\u001b[0;34m)\u001b[0m\u001b[0;34m:\u001b[0m\u001b[0;34m\u001b[0m\u001b[0;34m\u001b[0m\u001b[0m\n\u001b[0m\u001b[1;32m      8\u001b[0m         \u001b[0;32mreturn\u001b[0m \u001b[0;34m(\u001b[0m\u001b[0;32mTrue\u001b[0m\u001b[0;34m,\u001b[0m \u001b[0mms\u001b[0m\u001b[0;34m.\u001b[0m\u001b[0mdelta\u001b[0m\u001b[0;34m,\u001b[0m \u001b[0mms\u001b[0m\u001b[0;34m)\u001b[0m\u001b[0;34m\u001b[0m\u001b[0;34m\u001b[0m\u001b[0m\n\u001b[1;32m      9\u001b[0m \u001b[0;34m\u001b[0m\u001b[0m\n",
      "\u001b[0;32m~/Documents/GitHub/criticalcollapse/ms_hm/MS.py\u001b[0m in \u001b[0;36madap_run_steps\u001b[0;34m(self, n_steps, adjust_steps, tol)\u001b[0m\n\u001b[1;32m    407\u001b[0m \u001b[0;34m\u001b[0m\u001b[0m\n\u001b[1;32m    408\u001b[0m \u001b[0;34m\u001b[0m\u001b[0m\n\u001b[0;32m--> 409\u001b[0;31m             \u001b[0mkR1\u001b[0m\u001b[0;34m,\u001b[0m \u001b[0mkm1\u001b[0m\u001b[0;34m,\u001b[0m \u001b[0mkU1\u001b[0m\u001b[0;34m,\u001b[0m \u001b[0mkA_p1\u001b[0m \u001b[0;34m=\u001b[0m \u001b[0mself\u001b[0m\u001b[0;34m.\u001b[0m\u001b[0mk_coeffs\u001b[0m\u001b[0;34m(\u001b[0m\u001b[0mself\u001b[0m\u001b[0;34m.\u001b[0m\u001b[0mR\u001b[0m\u001b[0;34m,\u001b[0m \u001b[0mself\u001b[0m\u001b[0;34m.\u001b[0m\u001b[0mm\u001b[0m\u001b[0;34m,\u001b[0m \u001b[0mself\u001b[0m\u001b[0;34m.\u001b[0m\u001b[0mU\u001b[0m\u001b[0;34m,\u001b[0m \u001b[0mself\u001b[0m\u001b[0;34m.\u001b[0m\u001b[0mAbar_p\u001b[0m\u001b[0;34m,\u001b[0m \u001b[0mself\u001b[0m\u001b[0;34m.\u001b[0m\u001b[0mxi\u001b[0m\u001b[0;34m)\u001b[0m\u001b[0;34m\u001b[0m\u001b[0;34m\u001b[0m\u001b[0m\n\u001b[0m\u001b[1;32m    410\u001b[0m             kR2, km2, kU2, kA_p2 = self.k_coeffs(self.R + deltau/2*kR1, self.m + deltau/2*km1,\n\u001b[1;32m    411\u001b[0m                                                  \u001b[0mself\u001b[0m\u001b[0;34m.\u001b[0m\u001b[0mU\u001b[0m \u001b[0;34m+\u001b[0m \u001b[0mdeltau\u001b[0m\u001b[0;34m/\u001b[0m\u001b[0;36m2\u001b[0m\u001b[0;34m*\u001b[0m\u001b[0mkU1\u001b[0m\u001b[0;34m,\u001b[0m \u001b[0mself\u001b[0m\u001b[0;34m.\u001b[0m\u001b[0mAbar_p\u001b[0m \u001b[0;34m+\u001b[0m \u001b[0mdeltau\u001b[0m\u001b[0;34m/\u001b[0m\u001b[0;36m2\u001b[0m\u001b[0;34m*\u001b[0m\u001b[0mkA_p1\u001b[0m\u001b[0;34m,\u001b[0m\u001b[0;34m\u001b[0m\u001b[0;34m\u001b[0m\u001b[0m\n",
      "\u001b[0;32m~/Documents/GitHub/criticalcollapse/ms_hm/MS.py\u001b[0m in \u001b[0;36mk_coeffs\u001b[0;34m(self, R, m, U, Abar_p, xi)\u001b[0m\n\u001b[1;32m    163\u001b[0m         \u001b[0mrhob\u001b[0m \u001b[0;34m=\u001b[0m \u001b[0;36m3\u001b[0m \u001b[0;34m/\u001b[0m \u001b[0;34m(\u001b[0m\u001b[0;36m8\u001b[0m\u001b[0;34m*\u001b[0m\u001b[0mnp\u001b[0m\u001b[0;34m.\u001b[0m\u001b[0mpi\u001b[0m\u001b[0;34m)\u001b[0m \u001b[0;34m*\u001b[0m \u001b[0mH\u001b[0m\u001b[0;34m**\u001b[0m\u001b[0;36m2\u001b[0m\u001b[0;34m\u001b[0m\u001b[0;34m\u001b[0m\u001b[0m\n\u001b[1;32m    164\u001b[0m         \u001b[0mrealRho_A0\u001b[0m \u001b[0;34m=\u001b[0m \u001b[0mr\u001b[0m\u001b[0;34m[\u001b[0m\u001b[0;36m0\u001b[0m\u001b[0;34m]\u001b[0m \u001b[0;34m*\u001b[0m \u001b[0mrhob\u001b[0m\u001b[0;34m\u001b[0m\u001b[0;34m\u001b[0m\u001b[0m\n\u001b[0;32m--> 165\u001b[0;31m         \u001b[0mdpdrho_A0\u001b[0m \u001b[0;34m=\u001b[0m \u001b[0mself\u001b[0m\u001b[0;34m.\u001b[0m\u001b[0mqcd\u001b[0m\u001b[0;34m.\u001b[0m\u001b[0mdPdrho\u001b[0m\u001b[0;34m(\u001b[0m\u001b[0mrealRho_A0\u001b[0m\u001b[0;34m)\u001b[0m\u001b[0;34m\u001b[0m\u001b[0;34m\u001b[0m\u001b[0m\n\u001b[0m\u001b[1;32m    166\u001b[0m \u001b[0;34m\u001b[0m\u001b[0m\n\u001b[1;32m    167\u001b[0m         \u001b[0mkU\u001b[0m \u001b[0;34m=\u001b[0m \u001b[0mU\u001b[0m \u001b[0;34m-\u001b[0m \u001b[0mself\u001b[0m\u001b[0;34m.\u001b[0m\u001b[0malpha\u001b[0m \u001b[0;34m*\u001b[0m \u001b[0mep\u001b[0m \u001b[0;34m*\u001b[0m\u001b[0;31m \u001b[0m\u001b[0;31m\\\u001b[0m\u001b[0;34m\u001b[0m\u001b[0;34m\u001b[0m\u001b[0m\n",
      "\u001b[0;32m~/Documents/GitHub/criticalcollapse/ms_hm/QCD_EOS.py\u001b[0m in \u001b[0;36mdPdrho\u001b[0;34m(self, rho)\u001b[0m\n\u001b[1;32m     93\u001b[0m             \u001b[0;32mreturn\u001b[0m \u001b[0;34m(\u001b[0m\u001b[0mrho\u001b[0m\u001b[0;34m/\u001b[0m\u001b[0mrho\u001b[0m\u001b[0;34m)\u001b[0m\u001b[0;34m*\u001b[0m\u001b[0mself\u001b[0m\u001b[0;34m.\u001b[0m\u001b[0mfixedw\u001b[0m\u001b[0;34m\u001b[0m\u001b[0;34m\u001b[0m\u001b[0m\n\u001b[1;32m     94\u001b[0m         \u001b[0;32melse\u001b[0m \u001b[0;34m:\u001b[0m\u001b[0;34m\u001b[0m\u001b[0;34m\u001b[0m\u001b[0m\n\u001b[0;32m---> 95\u001b[0;31m             \u001b[0mdPdrho_in\u001b[0m \u001b[0;34m=\u001b[0m \u001b[0mself\u001b[0m\u001b[0;34m.\u001b[0m\u001b[0mPinterp\u001b[0m\u001b[0;34m.\u001b[0m\u001b[0mderivative\u001b[0m\u001b[0;34m(\u001b[0m\u001b[0;34m)\u001b[0m\u001b[0;34m(\u001b[0m\u001b[0mrho\u001b[0m\u001b[0;34m)\u001b[0m\u001b[0;34m\u001b[0m\u001b[0;34m\u001b[0m\u001b[0m\n\u001b[0m\u001b[1;32m     96\u001b[0m             \u001b[0mdPdrho_out\u001b[0m \u001b[0;34m=\u001b[0m \u001b[0;36m1\u001b[0m\u001b[0;34m/\u001b[0m\u001b[0;36m3\u001b[0m\u001b[0;34m*\u001b[0m\u001b[0mnp\u001b[0m\u001b[0;34m.\u001b[0m\u001b[0mones_like\u001b[0m\u001b[0;34m(\u001b[0m\u001b[0mrho\u001b[0m\u001b[0;34m)\u001b[0m\u001b[0;34m\u001b[0m\u001b[0;34m\u001b[0m\u001b[0m\n\u001b[1;32m     97\u001b[0m             \u001b[0mdPdrho\u001b[0m \u001b[0;34m=\u001b[0m \u001b[0mdPdrho_out\u001b[0m \u001b[0;34m+\u001b[0m \u001b[0mself\u001b[0m\u001b[0;34m.\u001b[0m\u001b[0mH\u001b[0m\u001b[0;34m(\u001b[0m\u001b[0mrho\u001b[0m \u001b[0;34m-\u001b[0m \u001b[0mself\u001b[0m\u001b[0;34m.\u001b[0m\u001b[0mmin_rho\u001b[0m\u001b[0;34m)\u001b[0m\u001b[0;34m*\u001b[0m\u001b[0mself\u001b[0m\u001b[0;34m.\u001b[0m\u001b[0mH\u001b[0m\u001b[0;34m(\u001b[0m\u001b[0mself\u001b[0m\u001b[0;34m.\u001b[0m\u001b[0mmax_rho\u001b[0m \u001b[0;34m-\u001b[0m \u001b[0mrho\u001b[0m\u001b[0;34m)\u001b[0m\u001b[0;34m*\u001b[0m\u001b[0;34m(\u001b[0m\u001b[0mdPdrho_in\u001b[0m \u001b[0;34m-\u001b[0m \u001b[0mdPdrho_out\u001b[0m\u001b[0;34m)\u001b[0m\u001b[0;34m\u001b[0m\u001b[0;34m\u001b[0m\u001b[0m\n",
      "\u001b[0;32m~/opt/anaconda3/lib/python3.8/site-packages/scipy/interpolate/fitpack2.py\u001b[0m in \u001b[0;36mderivative\u001b[0;34m(self, n)\u001b[0m\n\u001b[1;32m    484\u001b[0m \u001b[0;34m\u001b[0m\u001b[0m\n\u001b[1;32m    485\u001b[0m         \"\"\"\n\u001b[0;32m--> 486\u001b[0;31m         \u001b[0mtck\u001b[0m \u001b[0;34m=\u001b[0m \u001b[0mfitpack\u001b[0m\u001b[0;34m.\u001b[0m\u001b[0msplder\u001b[0m\u001b[0;34m(\u001b[0m\u001b[0mself\u001b[0m\u001b[0;34m.\u001b[0m\u001b[0m_eval_args\u001b[0m\u001b[0;34m,\u001b[0m \u001b[0mn\u001b[0m\u001b[0;34m)\u001b[0m\u001b[0;34m\u001b[0m\u001b[0;34m\u001b[0m\u001b[0m\n\u001b[0m\u001b[1;32m    487\u001b[0m         \u001b[0;31m# if self.ext is 'const', derivative.ext will be 'zeros'\u001b[0m\u001b[0;34m\u001b[0m\u001b[0;34m\u001b[0m\u001b[0;34m\u001b[0m\u001b[0m\n\u001b[1;32m    488\u001b[0m         \u001b[0mext\u001b[0m \u001b[0;34m=\u001b[0m \u001b[0;36m1\u001b[0m \u001b[0;32mif\u001b[0m \u001b[0mself\u001b[0m\u001b[0;34m.\u001b[0m\u001b[0mext\u001b[0m \u001b[0;34m==\u001b[0m \u001b[0;36m3\u001b[0m \u001b[0;32melse\u001b[0m \u001b[0mself\u001b[0m\u001b[0;34m.\u001b[0m\u001b[0mext\u001b[0m\u001b[0;34m\u001b[0m\u001b[0;34m\u001b[0m\u001b[0m\n",
      "\u001b[0;32m~/opt/anaconda3/lib/python3.8/site-packages/scipy/interpolate/fitpack.py\u001b[0m in \u001b[0;36msplder\u001b[0;34m(tck, n)\u001b[0m\n\u001b[1;32m    654\u001b[0m         \u001b[0;32mreturn\u001b[0m \u001b[0mtck\u001b[0m\u001b[0;34m.\u001b[0m\u001b[0mderivative\u001b[0m\u001b[0;34m(\u001b[0m\u001b[0mn\u001b[0m\u001b[0;34m)\u001b[0m\u001b[0;34m\u001b[0m\u001b[0;34m\u001b[0m\u001b[0m\n\u001b[1;32m    655\u001b[0m     \u001b[0;32melse\u001b[0m\u001b[0;34m:\u001b[0m\u001b[0;34m\u001b[0m\u001b[0;34m\u001b[0m\u001b[0m\n\u001b[0;32m--> 656\u001b[0;31m         \u001b[0;32mreturn\u001b[0m \u001b[0m_impl\u001b[0m\u001b[0;34m.\u001b[0m\u001b[0msplder\u001b[0m\u001b[0;34m(\u001b[0m\u001b[0mtck\u001b[0m\u001b[0;34m,\u001b[0m \u001b[0mn\u001b[0m\u001b[0;34m)\u001b[0m\u001b[0;34m\u001b[0m\u001b[0;34m\u001b[0m\u001b[0m\n\u001b[0m\u001b[1;32m    657\u001b[0m \u001b[0;34m\u001b[0m\u001b[0m\n\u001b[1;32m    658\u001b[0m \u001b[0;34m\u001b[0m\u001b[0m\n",
      "\u001b[0;32m~/opt/anaconda3/lib/python3.8/site-packages/scipy/interpolate/_fitpack_impl.py\u001b[0m in \u001b[0;36msplder\u001b[0;34m(tck, n)\u001b[0m\n\u001b[1;32m   1220\u001b[0m                 \u001b[0;31m# Pad coefficient array to same size as knots (FITPACK\u001b[0m\u001b[0;34m\u001b[0m\u001b[0;34m\u001b[0m\u001b[0;34m\u001b[0m\u001b[0m\n\u001b[1;32m   1221\u001b[0m                 \u001b[0;31m# convention)\u001b[0m\u001b[0;34m\u001b[0m\u001b[0;34m\u001b[0m\u001b[0;34m\u001b[0m\u001b[0m\n\u001b[0;32m-> 1222\u001b[0;31m                 \u001b[0mc\u001b[0m \u001b[0;34m=\u001b[0m \u001b[0mnp\u001b[0m\u001b[0;34m.\u001b[0m\u001b[0mr_\u001b[0m\u001b[0;34m[\u001b[0m\u001b[0mc\u001b[0m\u001b[0;34m,\u001b[0m \u001b[0mnp\u001b[0m\u001b[0;34m.\u001b[0m\u001b[0mzeros\u001b[0m\u001b[0;34m(\u001b[0m\u001b[0;34m(\u001b[0m\u001b[0mk\u001b[0m\u001b[0;34m,\u001b[0m\u001b[0;34m)\u001b[0m \u001b[0;34m+\u001b[0m \u001b[0mc\u001b[0m\u001b[0;34m.\u001b[0m\u001b[0mshape\u001b[0m\u001b[0;34m[\u001b[0m\u001b[0;36m1\u001b[0m\u001b[0;34m:\u001b[0m\u001b[0;34m]\u001b[0m\u001b[0;34m)\u001b[0m\u001b[0;34m]\u001b[0m\u001b[0;34m\u001b[0m\u001b[0;34m\u001b[0m\u001b[0m\n\u001b[0m\u001b[1;32m   1223\u001b[0m                 \u001b[0;31m# Adjust knots\u001b[0m\u001b[0;34m\u001b[0m\u001b[0;34m\u001b[0m\u001b[0;34m\u001b[0m\u001b[0m\n\u001b[1;32m   1224\u001b[0m                 \u001b[0mt\u001b[0m \u001b[0;34m=\u001b[0m \u001b[0mt\u001b[0m\u001b[0;34m[\u001b[0m\u001b[0;36m1\u001b[0m\u001b[0;34m:\u001b[0m\u001b[0;34m-\u001b[0m\u001b[0;36m1\u001b[0m\u001b[0;34m]\u001b[0m\u001b[0;34m\u001b[0m\u001b[0;34m\u001b[0m\u001b[0m\n",
      "\u001b[0;32m~/opt/anaconda3/lib/python3.8/site-packages/numpy/lib/index_tricks.py\u001b[0m in \u001b[0;36m__getitem__\u001b[0;34m(self, key)\u001b[0m\n\u001b[1;32m    399\u001b[0m \u001b[0;34m\u001b[0m\u001b[0m\n\u001b[1;32m    400\u001b[0m         \u001b[0;31m# Ensure that scalars won't up-cast unless warranted\u001b[0m\u001b[0;34m\u001b[0m\u001b[0;34m\u001b[0m\u001b[0;34m\u001b[0m\u001b[0m\n\u001b[0;32m--> 401\u001b[0;31m         \u001b[0mfinal_dtype\u001b[0m \u001b[0;34m=\u001b[0m \u001b[0mfind_common_type\u001b[0m\u001b[0;34m(\u001b[0m\u001b[0marraytypes\u001b[0m\u001b[0;34m,\u001b[0m \u001b[0mscalartypes\u001b[0m\u001b[0;34m)\u001b[0m\u001b[0;34m\u001b[0m\u001b[0;34m\u001b[0m\u001b[0m\n\u001b[0m\u001b[1;32m    402\u001b[0m         \u001b[0;32mif\u001b[0m \u001b[0mfinal_dtype\u001b[0m \u001b[0;32mis\u001b[0m \u001b[0;32mnot\u001b[0m \u001b[0;32mNone\u001b[0m\u001b[0;34m:\u001b[0m\u001b[0;34m\u001b[0m\u001b[0;34m\u001b[0m\u001b[0m\n\u001b[1;32m    403\u001b[0m             \u001b[0;32mfor\u001b[0m \u001b[0mk\u001b[0m \u001b[0;32min\u001b[0m \u001b[0mscalars\u001b[0m\u001b[0;34m:\u001b[0m\u001b[0;34m\u001b[0m\u001b[0;34m\u001b[0m\u001b[0m\n",
      "\u001b[0;32m~/opt/anaconda3/lib/python3.8/site-packages/numpy/core/numerictypes.py\u001b[0m in \u001b[0;36mfind_common_type\u001b[0;34m(array_types, scalar_types)\u001b[0m\n\u001b[1;32m    622\u001b[0m     \u001b[0mscalar_types\u001b[0m \u001b[0;34m=\u001b[0m \u001b[0;34m[\u001b[0m\u001b[0mdtype\u001b[0m\u001b[0;34m(\u001b[0m\u001b[0mx\u001b[0m\u001b[0;34m)\u001b[0m \u001b[0;32mfor\u001b[0m \u001b[0mx\u001b[0m \u001b[0;32min\u001b[0m \u001b[0mscalar_types\u001b[0m\u001b[0;34m]\u001b[0m\u001b[0;34m\u001b[0m\u001b[0;34m\u001b[0m\u001b[0m\n\u001b[1;32m    623\u001b[0m \u001b[0;34m\u001b[0m\u001b[0m\n\u001b[0;32m--> 624\u001b[0;31m     \u001b[0mmaxa\u001b[0m \u001b[0;34m=\u001b[0m \u001b[0m_can_coerce_all\u001b[0m\u001b[0;34m(\u001b[0m\u001b[0marray_types\u001b[0m\u001b[0;34m)\u001b[0m\u001b[0;34m\u001b[0m\u001b[0;34m\u001b[0m\u001b[0m\n\u001b[0m\u001b[1;32m    625\u001b[0m     \u001b[0mmaxsc\u001b[0m \u001b[0;34m=\u001b[0m \u001b[0m_can_coerce_all\u001b[0m\u001b[0;34m(\u001b[0m\u001b[0mscalar_types\u001b[0m\u001b[0;34m)\u001b[0m\u001b[0;34m\u001b[0m\u001b[0;34m\u001b[0m\u001b[0m\n\u001b[1;32m    626\u001b[0m \u001b[0;34m\u001b[0m\u001b[0m\n",
      "\u001b[0;32m~/opt/anaconda3/lib/python3.8/site-packages/numpy/core/numerictypes.py\u001b[0m in \u001b[0;36m_can_coerce_all\u001b[0;34m(dtypelist, start)\u001b[0m\n\u001b[1;32m    552\u001b[0m     \u001b[0;32mwhile\u001b[0m \u001b[0mthisind\u001b[0m \u001b[0;34m<\u001b[0m \u001b[0m__len_test_types\u001b[0m\u001b[0;34m:\u001b[0m\u001b[0;34m\u001b[0m\u001b[0;34m\u001b[0m\u001b[0m\n\u001b[1;32m    553\u001b[0m         \u001b[0mnewdtype\u001b[0m \u001b[0;34m=\u001b[0m \u001b[0mdtype\u001b[0m\u001b[0;34m(\u001b[0m\u001b[0m__test_types\u001b[0m\u001b[0;34m[\u001b[0m\u001b[0mthisind\u001b[0m\u001b[0;34m]\u001b[0m\u001b[0;34m)\u001b[0m\u001b[0;34m\u001b[0m\u001b[0;34m\u001b[0m\u001b[0m\n\u001b[0;32m--> 554\u001b[0;31m         \u001b[0mnumcoerce\u001b[0m \u001b[0;34m=\u001b[0m \u001b[0mlen\u001b[0m\u001b[0;34m(\u001b[0m\u001b[0;34m[\u001b[0m\u001b[0mx\u001b[0m \u001b[0;32mfor\u001b[0m \u001b[0mx\u001b[0m \u001b[0;32min\u001b[0m \u001b[0mdtypelist\u001b[0m \u001b[0;32mif\u001b[0m \u001b[0mnewdtype\u001b[0m \u001b[0;34m>=\u001b[0m \u001b[0mx\u001b[0m\u001b[0;34m]\u001b[0m\u001b[0;34m)\u001b[0m\u001b[0;34m\u001b[0m\u001b[0;34m\u001b[0m\u001b[0m\n\u001b[0m\u001b[1;32m    555\u001b[0m         \u001b[0;32mif\u001b[0m \u001b[0mnumcoerce\u001b[0m \u001b[0;34m==\u001b[0m \u001b[0mN\u001b[0m\u001b[0;34m:\u001b[0m\u001b[0;34m\u001b[0m\u001b[0;34m\u001b[0m\u001b[0m\n\u001b[1;32m    556\u001b[0m             \u001b[0;32mreturn\u001b[0m \u001b[0mnewdtype\u001b[0m\u001b[0;34m\u001b[0m\u001b[0;34m\u001b[0m\u001b[0m\n",
      "\u001b[0;31mKeyboardInterrupt\u001b[0m: "
     ]
    }
   ],
   "source": [
    "n = 200\n",
    "Abar = mix_grid(np.log10(1.5), np.log10(40), n)\n",
    "rho0 = 1.0e19# initial density value in MeV^4\n",
    "find_crit(Abar, rho0, 0.15, 0.3,sm_sigma = 2.0)"
   ]
  },
  {
   "cell_type": "code",
   "execution_count": null,
   "metadata": {},
   "outputs": [],
   "source": [
    "rho0val = np.array([1e1,1e2,1e3,1e4,1e5,1e6,1e7,1e8,1e9,1e10,1e11,1e12,1e13,1e14,1e15,1e16,1e17,1e18])\n",
    "lowerbound = np.array([0.2724609375,0.2724609375,0.2724609375,0.2724609375,0.27158203124999997,0.26923828125,0.2630859375,0.2643310546874999,0.25925903320312493,0.23671073913574214,0.259423828125,0.26030273437499996, 0.2666015625,0.27041015625,0.27041015625,0.26953125,0.271875,0.2724609375])\n",
    "upperbound = np.array([0.27304687499999997,0.27304687499999997,0.27304687499999997,0.27304687499999997,0.271875,0.26953125,0.26315917968749997,0.2644042968749999,0.25927734374999994,0.2367108821868896,0.25946044921875,0.26033935546875,0.26718749999999997,0.27055664062499996,0.270703125,0.271875,0.27304687499999997,0.27304687499999997])\n",
    "plt.semilogx(rho0val,upperbound)\n",
    "plt.semilogx(rho0val,lowerbound)\n",
    "rho0valqcd = np.array([1e2,1e3,1e4,1e5,1e6,1e7,1e8,1e9,1e10,1e11,1e12,1e13,1e14,1e15,1e16])\n",
    "lowerboundqcd = np.array([0.27187500000000003,0.27265625000000004, 0.27265625000000004,0.27255859375,0.27167968750000004,0.26904296875,0.265625,0.26298828125000007,0.2580078125,0.25078125,0.24492187499999998,0.261328125,0.264794921875,0.2701660156250001,0.27031250000000007])\n",
    "upperboundqcd = np.array([0.275,0.273046875,0.27285156250000003,0.27265625000000004,0.27187500000000003,0.269140625,0.26640625,0.26308593750000003,0.258056640625,0.2509765625,0.2453125,0.26171875,0.26480712890624997,0.27019042968750007,0.27187500000000003])\n",
    "plt.semilogx(rho0valqcd,upperboundqcd)\n",
    "plt.semilogx(rho0valqcd,lowerboundqcd)"
   ]
  },
  {
   "cell_type": "code",
   "execution_count": null,
   "metadata": {},
   "outputs": [],
   "source": [
    "rho0valnew = np.array([1,5.5,1e1,5.5e1,1e2,5.5e2,1e3,5.5e3,1e4,5.5e4,1e5,5.5e5,1e6,5.5e6,1e7,5.5e7,1e8,5.5e8,1e9,1e10,5.5e10,1e11,5.5e11,1e12,5.5e12,1e13,5.5e13,1e14,5.5e14,1e15,5.5e15,1e16,5.5e16,1e17,5.5e17,1e18,5.5e18,1e19,5.5e19,1e20,5.5e20,1e21,5.5e21,1e22,5.5e22,1e23])\n",
    "lower = np.array([0.27265625000000004, 0.27265625000000004,0.27265625000000004,0.27265625000000004,0.27265625000000004,0.27265625000000004,0.27265625000000004,0.27265625000000004,0.27265625000000004,0.27187500000000003,0.27167968750000004,0.2699218750000001,0.26933593750000007,0.265087890625,0.26308593750000003,0.263720703125,0.26435546874999993, 0.264697265625,0.25926513671875,0.23671417236328124,0.25898437500000004,0.25943603515625,0.25986328125,0.26031494140625,0.2640625,0.26679687500000004,0.27031250000000007,0.27031250000000007,0.27031250000000007,0.27031250000000007,0.27050781250000006,0.27031250000000007,0.271484375,0.27246093750000006,0.27265625000000004,0.27265625000000004,0.27265625000000004,0.27265625000000004,0.27265625000000004,0.27265625000000004,0.27265625000000004,0.27265625000000004,0.27265625000000004,0.27265625000000004,0.27265625000000004,0.27265625000000004])\n",
    "upper = np.array([0.27285156250000003,0.27285156250000003,0.27285156250000003,0.27285156250000003,0.27285156250000003,0.27285156250000003,0.27285156250000003,0.27285156250000003,0.27285156250000003,0.27265625000000004,0.27187500000000003,0.2700195312500001,0.26953125000000006,0.2651123046875,0.26318359375,0.26376953125,0.2643798828124999,0.26474609375,0.25927734375,0.23671426773071289,0.2590087890625,0.25944824218750007,0.25991210937500003,0.26032714843750004,0.264111328125,0.26699218750000003,0.27070312500000004,0.27070312500000004,0.27070312500000004,0.27070312500000004,0.27070312500000004,0.27109375,0.27167968750000004,0.27265625000000004,0.273046875,0.273046875,0.273046875,0.273046875,0.273046875,0.273046875,0.273046875,0.273046875,0.273046875,0.273046875,0.273046875,0.273046875])\n",
    "plt.semilogx(rho0valnew,upper)\n",
    "plt.semilogx(rho0valnew,lower)"
   ]
  },
  {
   "cell_type": "code",
   "execution_count": null,
   "metadata": {},
   "outputs": [],
   "source": [
    "rho0_val = np.array([3.25e1,4.375e1,5.5e1,6.625e1,7.75e1,8.875e1,1e2,2.125e2,3.25e2,4.375e2,5.5e2,6.625e2,7.75e2,8.875e2,1e3,2.125e3,3.25e3,4.375e3,5.5e3,6.625e3,7.75e3,8.875e3,1e4,2.125e4,3.25e4,4.375e4,5.5e4,6.625e4,7.75e4,8.875e4,1e5,2.125e5,3.25e5,4.375e5,5.5e5,6.625e5,7.75e5,8.875e5,1e6,2.125e6,3.25e6,4.375e6,5.5e6,6.625e6,7.75e6,8.875e6,1e7,2.125e7,3.25e7,4.375e7,5.5e7,6.625e7,7.75e7,8.875e7,1e8,2.125e8,3.25e8,4.375e8,5.5e8,6.625e8,7.75e8,8.875e8,1e9,2.125e9,3.25e9,4.375e9,5.5e9,6.625e9,7.75e9,8.875e9,1e10,2.125e10,3.25e10,4.375e10,5.5e10,6.625e10,7.75e10,8.875e10,1e11,2.125e11,3.25e11,4.375e11,5.5e11,6.625e11,7.75e11,8.875e11,1e12,2.125e12,3.25e12,4.375e12,5.5e12,6.625e12,7.75e12,8.875e12,1e13,2.125e13,3.25e13,4.375e13,5.5e13,6.625e13,7.75e13,8.875e13,1e14,2.125e14,3.25e14,4.375e14,5.5e14,6.625e14,7.75e14,8.875e14,1e15,2.125e15,3.25e15,4.375e15,5.5e15,6.625e15,7.75e15,8.875e15,1e16,2.125e16,3.25e16,4.375e16,5.5e16,6.625e16])\n",
    "lowerqcd = np.array([0.27421875,0.2734375,0.273828125,0.2736328125,0.2734375,0.2734375,0.27187500000000003,0.27265625000000004,0.27285156250000003,0.27285156250000003,0.27285156250000003,0.27265625000000004,0.27265625000000004,0.27265625000000004,0.27265625000000004,0.27275390625000007,0.27265625000000004,0.27265625000000004,0.27265625000000004,0.27265625000000004,0.27265625000000004,0.27265625000000004,0.27265625000000004,0.27265625000000004,0.27265625000000004,0.27265625000000004,0.27187500000000003,0.27187500000000003,0.27187500000000003,0.27187500000000003,0.27255859375,0.2723632812500001,0.27187500000000003,0.2720703125,0.27197265625,0.27187500000000003,0.26875000000000004,0.27177734375000007,0.27167968750000004,0.27119140625000004,0.27070312500000004,0.27031250000000007,0.2699218750000001,0.26972656250000004,0.26875000000000004,0.26923828125000004,0.26904296875,0.2671875,0.2671875,0.26699218750000003,0.26640625,0.26640625,0.265625,0.266015625,0.265625,0.26494140624999996,0.26435546874999993,0.26396484374999996,0.263671875,0.2634765625,0.26328125,0.26308593750000003,0.26298828125000007,0.26093750000000004,0.2606445312500001,0.25986328125,0.25917968750000003,0.2587890625,0.25847167968750007,0.258203125,0.2580078125,0.25694580078125,0.2561279296875,0.2552734375,0.25439453125,0.25349121093750004,0.25253906249999997,0.25166015625000004,0.25078125,0.2453125,0.24375,0.2431640625,0.2431640625,0.243359375,0.24375,0.24375,0.24492187499999998,0.250390625,0.25390625,0.25664062499999996,0.258203125,0.259375,0.2603515625,0.26103515625000007,0.261328125,0.2631905555725098,0.26358337402343746,0.2638214111328125,0.26401367187499997,0.26423339843749993,0.2644287109375,0.264599609375,0.264794921875,0.2662353515625,0.26727294921875006,0.26806640625,0.26868896484375004,0.269140625,0.26958007812500007,0.2699096679687501,0.2701660156250001,0.271240234375,0.27138671875,0.2712890625,0.2712890625,0.27119140625000004,0.27114257812500003,0.27109375,0.271044921875,0.27080078125000007, 0.27070312500000004,0.27070312500000004,0.27080078125000007,0.27031250000000007])\n",
    "upperqcd = np.array([0.275,0.275,0.2740234375,0.273828125,0.273828125,0.2736328125,0.275,0.2734375,0.273046875,0.273046875,0.27294921875,0.273046875,0.273046875,0.273046875,0.273046875,0.27285156250000003,0.27285156250000003,0.27285156250000003,0.27285156250000003,0.27285156250000003,0.27285156250000003,0.27285156250000003,0.27285156250000003, 0.27285156250000003,0.27285156250000003,0.27275390625000007,0.2734375,0.2734375,0.2734375,0.2734375,0.27265625000000004,0.27246093750000006,0.27265625000000004,0.27216796875000004,0.2720703125,0.2720703125,0.275,0.27187500000000003,0.27187500000000003,0.2712890625,0.27089843750000003,0.27050781250000006,0.27031250000000007,0.2699218750000001,0.27031250000000007,0.26933593750000007,0.269140625,0.26875000000000004,0.267578125,0.2671875,0.2671875,0.26679687500000004,0.2671875,0.26640625,0.26640625,0.2650390625,0.26445312499999996,0.2640625,0.2638671875,0.263671875,0.2634765625,0.26328125,0.26308593750000003,0.2625,0.26074218750000006,0.25996093750000004,0.259375,0.258837890625,0.25849609375000004,0.258251953125,0.258056640625,0.2569580078125,0.25615234374999996, 0.255322265625,0.25444335937499996,0.253515625,0.25263671874999993,0.2517578125,0.2509765625,0.24609375,0.2439453125,0.243359375,0.243359375,0.24375,0.244140625,0.2453125,0.2453125,0.25078125,0.25468749999999996,0.25703125,0.25859375,0.259765625,0.26054687500000007,0.26113281250000003,0.26171875,0.26319065093994143,0.26358413696289057,0.263824462890625,0.2640625,0.26424560546875,0.26444091796874997,0.2646484375,0.26480712890624997,0.26624755859375004,0.26728515625000004,0.268072509765625,0.26870117187500003,0.26923828125000004,0.26960449218750004,0.2699218750000001,0.27019042968750007,0.2712646484375,0.271435546875,0.271484375,0.271337890625,0.2712890625,0.27119140625000004,0.27114257812500003,0.27109375,0.27089843750000003,0.27089843750000003,0.27089843750000003,0.27089843750000003,0.27187500000000003])\n",
    "plt.semilogx(rho0_val,upperqcd)\n",
    "plt.semilogx(rho0_val,lowerqcd)"
   ]
  },
  {
   "cell_type": "code",
   "execution_count": null,
   "metadata": {},
   "outputs": [],
   "source": [
    "QCD_EOS().dPdrho_plot()"
   ]
  },
  {
   "cell_type": "code",
   "execution_count": null,
   "metadata": {},
   "outputs": [],
   "source": [
    "# TODO: fix the HM class stuff\n",
    "# reload(ms_hm.HM)\n",
    "# from ms_hm.HM import *\n",
    "# hm = HM(ms, mOverR=0.99, sm_sigma=15)\n",
    "# hm.adap_run_steps(550000)\n",
    "# print(hm.BH_mass2())"
   ]
  },
  {
   "cell_type": "code",
   "execution_count": null,
   "metadata": {},
   "outputs": [],
   "source": [
    "# find_mass(0.30, is_searching_for_crit=False)"
   ]
  },
  {
   "cell_type": "markdown",
   "metadata": {},
   "source": [
    "## Simulation Run\n",
    "\n",
    "Below is an example of all the code needed to find the critical scaling threshhold and exponent."
   ]
  },
  {
   "cell_type": "code",
   "execution_count": null,
   "metadata": {},
   "outputs": [],
   "source": [
    "# Find the critical point. It will be bounded between crit and lower.\n",
    "(crit, lower) = find_crit()\n",
    "# Find the mass of BHs at various amplitudes between lower_amp and lower_amp plus a bit.\n",
    "res = critical_scaling(crit, lower_amp, lower_amp + 1e-2, 20)"
   ]
  },
  {
   "cell_type": "code",
   "execution_count": null,
   "metadata": {},
   "outputs": [],
   "source": [
    "(a, b ) = np.polyfit(np.log10(res2[0][:,0] - res2[1])[:], np.log10(res2[0][:,1])[:], deg=1)\n",
    "plt.scatter(np.log10(res2[0][:,0] - res2[1])[:], np.log10(res2[0][:,1])[:])\n",
    "plt.plot(np.arange(-3.1,-1.6,0.01), a * np.arange(-3.1,-1.6,0.01) + b)"
   ]
  },
  {
   "cell_type": "code",
   "execution_count": null,
   "metadata": {},
   "outputs": [],
   "source": [
    "np.polyfit(np.log10(res[0][:,0] - 0.4265539636281781)[:], np.log10(res[0][:,1])[:], deg=1)"
   ]
  },
  {
   "cell_type": "code",
   "execution_count": null,
   "metadata": {},
   "outputs": [],
   "source": []
  }
 ],
 "metadata": {
  "kernelspec": {
   "display_name": "Python 3",
   "language": "python",
   "name": "python3"
  },
  "language_info": {
   "codemirror_mode": {
    "name": "ipython",
    "version": 3
   },
   "file_extension": ".py",
   "mimetype": "text/x-python",
   "name": "python",
   "nbconvert_exporter": "python",
   "pygments_lexer": "ipython3",
   "version": "3.8.5"
  }
 },
 "nbformat": 4,
 "nbformat_minor": 5
}
