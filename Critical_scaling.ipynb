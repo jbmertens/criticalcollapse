{
 "cells": [
  {
   "cell_type": "markdown",
   "id": "97cf3ffc",
   "metadata": {},
   "source": [
    "# Critical Collapse Study\n",
    "\n",
    "Below is code to help study the formation of black holes. The equations integrated are described in the work by Bloomfield et. al.\n",
    "\n",
    "arXiv paper on : [1504.02071](https://arxiv.org/pdf/1504.02071.pdf) ([ar5iv](https://ar5iv.org/abs/1504.02071))\n",
    "\n",
    "For collapse with an approximate QCD equation of state, a previous work is\n",
    "\n",
    "arXiv: [1801.06138](https://arxiv.org/pdf/1801.06138.pdf) ([ar5iv](https://ar5iv.org/abs/1801.06138))\n",
    "\n",
    "## Import Modules"
   ]
  },
  {
   "cell_type": "code",
   "execution_count": 1,
   "id": "c4d4d278",
   "metadata": {},
   "outputs": [],
   "source": [
    "import numpy as np\n",
    "import sys\n",
    "from importlib import reload \n",
    "import scipy.interpolate as interp\n",
    "import scipy.constants as const\n",
    "from scipy import stats\n",
    "\n",
    "import cython\n",
    "%load_ext Cython\n",
    "\n",
    "import matplotlib.pyplot as plt\n",
    "import matplotlib as mpl\n",
    "mpl.rc('xtick', direction='in', top=True)\n",
    "mpl.rc('ytick', direction='in', right=True)\n",
    "mpl.rc('xtick.minor', visible=True)\n",
    "mpl.rc('ytick.minor', visible=True)"
   ]
  },
  {
   "cell_type": "markdown",
   "id": "1d946917",
   "metadata": {},
   "source": [
    "## Import MS, HM modules\n",
    "\n",
    "...and reload modules if needed"
   ]
  },
  {
   "cell_type": "code",
   "execution_count": 2,
   "id": "239f6481",
   "metadata": {},
   "outputs": [
    {
     "name": "stdout",
     "output_type": "stream",
     "text": [
      "Did not reload modules, they may not have been imported yet.\n"
     ]
    }
   ],
   "source": [
    "# importing MS and HM modules. Reload modules if needed\n",
    "try :\n",
    "    reload(ms_hm)\n",
    "    reload(ms_hm.QCD_EOS)\n",
    "    reload(ms_hm.MS)\n",
    "    reload(ms_hm.HM)\n",
    "except :\n",
    "    print(\"Did not reload modules, they may not have been imported yet.\")\n",
    "\n",
    "import ms_hm\n",
    "from ms_hm.QCD_EOS import *\n",
    "from ms_hm.MS import *\n",
    "from ms_hm.HM import *"
   ]
  },
  {
   "cell_type": "markdown",
   "id": "7c185faf",
   "metadata": {},
   "source": [
    "## Various functions that use the MS and HM classes\n",
    "\n",
    "Functions below compute various things using the Misner-Sharp or Hernandez-Misher classes."
   ]
  },
  {
   "cell_type": "code",
   "execution_count": 3,
   "id": "9552be10",
   "metadata": {},
   "outputs": [],
   "source": [
    "%%cython\n",
    "\n",
    "import cython\n",
    "cimport numpy as np\n",
    "\n",
    "cimport cython\n",
    "ctypedef np.double_t DTYPE_t\n",
    "\n",
    "from libc.math cimport exp\n",
    "from libc.math cimport sqrt\n",
    "\n",
    "from cython.parallel import prange\n",
    "\n",
    "@cython.boundscheck(False)  # Deactivate bounds checking\n",
    "cpdef zero_crossing(np.ndarray x_in, double [::1] y):\n",
    "    \"\"\"\n",
    "    Given an array of inputs y, find x where the function y(x) = 0\n",
    "    \"\"\"\n",
    "    cdef int size = x_in.shape[0]\n",
    "    cdef double [:] x = x_in\n",
    "    cdef double w, zero=-1\n",
    "    cdef int i\n",
    "    \n",
    "    for i in range(size-1): # loop through all y values\n",
    "        if(y[i] * y[i+1] < 0): # if subsequent elements have opposite signs, a zero-crossing was found.\n",
    "            # linearly extrapolate zero-crossing\n",
    "            w = abs(y[i] / (y[i+1] - y[i])) \n",
    "            zero = x[i] * (1 - w) + x[i+1] * w\n",
    "            break\n",
    "            \n",
    "    return zero"
   ]
  },
  {
   "cell_type": "code",
   "execution_count": 4,
   "id": "60beaed8",
   "metadata": {},
   "outputs": [],
   "source": [
    "def mix_grid(left, right, n):\n",
    "    \"\"\"\n",
    "    Function to generate coordinate spacings with a mix of uniform and logarithmic spacings,\n",
    "    with uniform spacing at small values (0 to \"left\") then logarithmically spaced (\"left\" to \"right\").\n",
    "    \n",
    "    Returns an array of coordinate positions.\n",
    "    \"\"\"\n",
    "    \n",
    "    # Generate logarithmically spaced coordinates between \"left\" and \"right\"\n",
    "    A = np.exp(np.linspace(left, right, n))\n",
    "    dA = A[1] - A[0]\n",
    "    \n",
    "    # Generate uniformly spaced coordinates\n",
    "    A = np.concatenate( (np.linspace(0, A[0], int(np.ceil(A[0] / dA)), endpoint=False), A))\n",
    "    \n",
    "    return A\n",
    "\n",
    "def uni_grid(right, n):\n",
    "    \"\"\"\n",
    "    Function to generate a uniformly-spaced array of coordinate positions\n",
    "    \n",
    "    Returns the array of uniformly spaced coordinates.\n",
    "    \"\"\"\n",
    "    A = np.linspace(0, np.exp(right), n)\n",
    "    return A\n",
    "\n",
    "def exp_grid(left, right, n):\n",
    "    \"\"\"\n",
    "    Function to generate an exponentially-spaced array of coordinate positions\n",
    "    \"\"\"\n",
    "    # Generate logarithmically spaced coordinates between \"left\" and \"right\"\n",
    "    A = np.logspace(left, right, n)\n",
    "    A = np.concatenate( ([0], A))\n",
    "\n",
    "    return A"
   ]
  },
  {
   "cell_type": "code",
   "execution_count": 5,
   "id": "723ccbc7",
   "metadata": {},
   "outputs": [],
   "source": [
    "# Check if a BH forms\n",
    "# The MS run should proceed until MS until it breaks. If 2m / R > 1, return true\n",
    "def BH_form(Abar, rho0, amp, default_steps=1500000, sm_sigma=0.0, fixw=False):\n",
    "    \n",
    "    ms = MS(Abar, rho0, amp, trace_ray=False, BH_threshold=-1,\n",
    "        sm_sigma=sm_sigma, fixw=fixw)\n",
    "    \n",
    "    run_result = ms.adap_run_steps(default_steps)\n",
    "    if run_result == -1 :\n",
    "        return (True, run_result, ms.delta, ms)\n",
    "    \n",
    "    return (False, run_result, ms.delta, ms)"
   ]
  },
  {
   "cell_type": "code",
   "execution_count": 6,
   "id": "6faa9bdd",
   "metadata": {},
   "outputs": [],
   "source": [
    "def find_crit(Abar, rho0, lower_amp, upper_amp,\n",
    "    sm_sigma=0.0, fixw=False):\n",
    "    \"\"\"\n",
    "    Binary search between lower and upper to find a critical amplitude\n",
    "    (Note that this is NOT the critical density)\n",
    "    return (critical, upper value)\n",
    "    \"\"\"\n",
    "    upper_ms = -1\n",
    "    lower_ms = -1\n",
    "    bisection_factor = 1/2\n",
    "    for i in range(20):\n",
    "        try :\n",
    "            amp_diff = upper_amp - lower_amp\n",
    "            middle_amp = upper_amp - amp_diff*bisection_factor\n",
    "            print('Iteration No', str(i), '-- Checking to see if a BH forms at amplitude', str(middle_amp),\n",
    "                ' (bracket is ', lower_amp, '/', upper_amp, ')')\n",
    "\n",
    "            forms, result, delta, ms = BH_form(Abar, rho0, middle_amp, sm_sigma=sm_sigma, fixw=fixw)\n",
    "\n",
    "            if result > 0 : # Some sort of error during run\n",
    "                print(\"Encountered error during run. Trying again with a different amplitude.\")\n",
    "                # change bisection factor (don't divide just in half; walk in by 1/4, 1/8, ... from the ends.)\n",
    "                if bisection_factor >= 1/2 :\n",
    "                    bisection_factor = (1-bisection_factor)/2\n",
    "                else :\n",
    "                    bisection_factor = 1-bisection_factor\n",
    "            else :\n",
    "                bisection_factor = 1/2\n",
    "                if(forms == True):\n",
    "                    upper_amp = middle_amp\n",
    "                    upper_ms = ms\n",
    "                else:\n",
    "                    lower_amp = middle_amp\n",
    "                    lower_ms = ms\n",
    "\n",
    "        except Exception as e :\n",
    "            print(\"Run failed! Stopping search. Reason below.\")\n",
    "            print(e)\n",
    "            break\n",
    "    \n",
    "    print(\"Critical amplitude appears to be between\", lower_amp, \"and\", upper_amp)\n",
    "    try :\n",
    "        upper_ms.plot_fields(True)\n",
    "        plt.fig(2)\n",
    "        lower_ms.plot_fields(True)\n",
    "    except :\n",
    "        pass\n",
    "\n",
    "    return (lower_amp, upper_amp)"
   ]
  },
  {
   "cell_type": "code",
   "execution_count": 12,
   "id": "efc6f8d9",
   "metadata": {},
   "outputs": [],
   "source": [
    "def find_mass(Abar, rho0, amp, mOverR_thresh=0.98,\n",
    "        is_searching_for_crit=False, ms_steps=1500000,\n",
    "        MS_sm_sigma=0.0,\n",
    "        hm_steps=1500000, HM_sm_sigma=15.0,\n",
    "        HM_Abar=None, # can specify a different Abar for HM run\n",
    "        HM_cflfac=0.1\n",
    "    ):\n",
    "    \"\"\"\n",
    "    Find mass of BHs for certain amplitude\n",
    "    set is_searching_for_crit=True when searching for the critical point\n",
    "    \"\"\"\n",
    "    print('Finding mass with amp ' + str(amp))\n",
    "            \n",
    "    # Perform an MS run without raytracing to get the overdensity delta\n",
    "    ms = MS(Abar, rho0, amp, trace_ray=False, BH_threshold=-1e1, sm_sigma=MS_sm_sigma)\n",
    "    ms.adap_run_steps(ms_steps)\n",
    "    delta = ms.delta\n",
    "    \n",
    "    # Perform an MS run with raytracing to get ICs for an HM run\n",
    "    ms = MS(Abar, rho0, amp, trace_ray=True, BH_threshold=-1e1, sm_sigma=MS_sm_sigma)\n",
    "    flag = ms.adap_run_steps(ms_steps)\n",
    "    if(flag != 0):\n",
    "        raise ValueError('Not finishing ray-tracing with the amplitude ' + str(amp))\n",
    "        \n",
    "    # Perform an HM run\n",
    "    hm = HM(ms, mOverR=mOverR_thresh, sm_sigma=HM_sm_sigma, Abar=HM_Abar, cflfac=HM_cflfac)\n",
    "    bh_formed = hm.run_steps(hm_steps) == 1\n",
    "    if(not bh_formed and is_searching_for_crit==False):\n",
    "        print('Unable to reach the target 2m/R with the amplitude ' + str(amp))\n",
    "    \n",
    "    return (delta, hm.BH_mass2(), ms, hm)"
   ]
  },
  {
   "cell_type": "code",
   "execution_count": 8,
   "id": "014384d0",
   "metadata": {},
   "outputs": [],
   "source": [
    "# Generate critical scaling data \n",
    "def critical_scaling_data(Abar, rho0, crit_amp, lower_amp, upper_amp, n=10, mOverR_thresh=0.98,\n",
    "    MS_sm_sigma=0.0, HM_sm_sigma=15.0, HM_Abar=None, HM_cflfac=0.1):\n",
    "    \n",
    "    amps = 10**np.linspace(np.log10(lower_amp - crit_amp), np.log10(upper_amp - crit_amp), n) + crit_amp\n",
    "    print(\"Attempting to find masses for runs with amplitudes:\\n\", amps)\n",
    "    \n",
    "    masses = [find_mass(Abar, rho0, amp, mOverR_thresh=mOverR_thresh, is_searching_for_crit=True,\n",
    "        MS_sm_sigma=MS_sm_sigma, HM_sm_sigma=HM_sm_sigma, HM_Abar=HM_Abar, HM_cflfac=HM_cflfac) for amp in amps]\n",
    "    return masses"
   ]
  },
  {
   "cell_type": "markdown",
   "id": "238b810f",
   "metadata": {},
   "source": [
    "## Simulation setup\n",
    "\n",
    "Code below will set up grids (arrays) for running the simulations."
   ]
  },
  {
   "cell_type": "code",
   "execution_count": 9,
   "id": "be08bf1c",
   "metadata": {},
   "outputs": [
    {
     "name": "stdout",
     "output_type": "stream",
     "text": [
      "The grid of Abar values is linearly spaced from Abar = 0 to 5.650000000000001 then log spaced until Abar = 21.0\n"
     ]
    },
    {
     "data": {
      "image/png": "[encoded data removed]",
      "text/plain": [
       "<Figure size 432x288 with 1 Axes>"
      ]
     },
     "metadata": {
      "needs_background": "light"
     },
     "output_type": "display_data"
    }
   ],
   "source": [
    "# simulation resolution parameter\n",
    "# (Not exactly the number of gridpoints for a mixed grid)\n",
    "n_mix = 3200\n",
    "n_uni = 3200\n",
    "\n",
    "# Generate an array of coordinate positions for the simulation to run at\n",
    "lower = np.log(5.65) # The coordinates will be linearly spaced from 0 to e^lower\n",
    "upper = np.log(21.0) # The coordinates will be log spaced from e^lower to e^upper\n",
    "Abar_mix = mix_grid(lower, upper, n_mix)\n",
    "Abar_uni = uni_grid(upper, n_uni)\n",
    "\n",
    "plt.plot(Abar_mix, 'k.')\n",
    "plt.plot(Abar_uni, 'b.')\n",
    "print(\"The grid of Abar values is linearly spaced from Abar = 0 to\", np.exp(lower),\n",
    "      \"then log spaced until Abar =\", np.exp(upper))"
   ]
  },
  {
   "cell_type": "markdown",
   "id": "5b9976e9",
   "metadata": {},
   "source": [
    "## Critical scaling parameters"
   ]
  },
  {
   "cell_type": "code",
   "execution_count": 60,
   "id": "d6ff40d4",
   "metadata": {},
   "outputs": [
    {
     "name": "stdout",
     "output_type": "stream",
     "text": [
      "Iteration No 0 -- Checking to see if a BH forms at amplitude 0.22499999999999998  (bracket is  0.15 / 0.3 )\n",
      "Initial w is 0.3316004747425083 and Horizon radius is 0.3454941494713355\n",
      "Not Tracing ray and NO excision will be performed!\n",
      "Density near origin has dropped significantly, so a black hole likely won't be forming! This occurred at step 3901\n",
      "Iteration No 1 -- Checking to see if a BH forms at amplitude 0.26249999999999996  (bracket is  0.22499999999999998 / 0.3 )\n",
      "Initial w is 0.3316004747425083 and Horizon radius is 0.3454941494713355\n",
      "Not Tracing ray and NO excision will be performed!\n",
      "Density near origin has dropped significantly, so a black hole likely won't be forming! This occurred at step 4561\n",
      "Iteration No 2 -- Checking to see if a BH forms at amplitude 0.28125  (bracket is  0.26249999999999996 / 0.3 )\n",
      "Initial w is 0.3316004747425083 and Horizon radius is 0.3454941494713355\n",
      "Not Tracing ray and NO excision will be performed!\n",
      "Horizon is found, MS run will be terminated! Finished at step 3558\n",
      "Iteration No 3 -- Checking to see if a BH forms at amplitude 0.271875  (bracket is  0.26249999999999996 / 0.28125 )\n",
      "Initial w is 0.3316004747425083 and Horizon radius is 0.3454941494713355\n",
      "Not Tracing ray and NO excision will be performed!\n",
      "Density near origin has dropped significantly, so a black hole likely won't be forming! This occurred at step 5674\n",
      "Iteration No 4 -- Checking to see if a BH forms at amplitude 0.2765625  (bracket is  0.271875 / 0.28125 )\n",
      "Initial w is 0.3316004747425083 and Horizon radius is 0.3454941494713355\n",
      "Not Tracing ray and NO excision will be performed!\n",
      "Horizon is found, MS run will be terminated! Finished at step 4094\n",
      "Iteration No 5 -- Checking to see if a BH forms at amplitude 0.27421874999999996  (bracket is  0.271875 / 0.2765625 )\n",
      "Initial w is 0.3316004747425083 and Horizon radius is 0.3454941494713355\n",
      "Not Tracing ray and NO excision will be performed!\n",
      "Horizon is found, MS run will be terminated! Finished at step 4643\n",
      "Iteration No 6 -- Checking to see if a BH forms at amplitude 0.27304687499999997  (bracket is  0.271875 / 0.27421874999999996 )\n",
      "Initial w is 0.3316004747425083 and Horizon radius is 0.3454941494713355\n",
      "Not Tracing ray and NO excision will be performed!\n",
      "Horizon is found, MS run will be terminated! Finished at step 5358\n",
      "Iteration No 7 -- Checking to see if a BH forms at amplitude 0.2724609375  (bracket is  0.271875 / 0.27304687499999997 )\n",
      "Initial w is 0.3316004747425083 and Horizon radius is 0.3454941494713355\n",
      "Not Tracing ray and NO excision will be performed!\n",
      "Density near origin has dropped significantly, so a black hole likely won't be forming! This occurred at step 6127\n",
      "Iteration No 8 -- Checking to see if a BH forms at amplitude 0.27275390624999996  (bracket is  0.2724609375 / 0.27304687499999997 )\n",
      "Initial w is 0.3316004747425083 and Horizon radius is 0.3454941494713355\n",
      "Not Tracing ray and NO excision will be performed!\n",
      "Horizon is found, MS run will be terminated! Finished at step 5943\n",
      "Iteration No 9 -- Checking to see if a BH forms at amplitude 0.272607421875  (bracket is  0.2724609375 / 0.27275390624999996 )\n",
      "Initial w is 0.3316004747425083 and Horizon radius is 0.3454941494713355\n",
      "Not Tracing ray and NO excision will be performed!\n",
      "Density near origin has dropped significantly, so a black hole likely won't be forming! This occurred at step 6482\n",
      "Iteration No 10 -- Checking to see if a BH forms at amplitude 0.27268066406249997  (bracket is  0.272607421875 / 0.27275390624999996 )\n",
      "Initial w is 0.3316004747425083 and Horizon radius is 0.3454941494713355\n",
      "Not Tracing ray and NO excision will be performed!\n",
      "Horizon is found, MS run will be terminated! Finished at step 6581\n",
      "Iteration No 11 -- Checking to see if a BH forms at amplitude 0.27264404296875  (bracket is  0.272607421875 / 0.27268066406249997 )\n",
      "Initial w is 0.3316004747425083 and Horizon radius is 0.3454941494713355\n",
      "Not Tracing ray and NO excision will be performed!\n",
      "Warning, the time step is too small! Stopping run at step 7935 with timestep 7.603822866275072e-11\n",
      "Encountered error during run. Trying again with a different amplitude.\n",
      "Iteration No 12 -- Checking to see if a BH forms at amplitude 0.27266235351562496  (bracket is  0.272607421875 / 0.27268066406249997 )\n",
      "Initial w is 0.3316004747425083 and Horizon radius is 0.3454941494713355\n",
      "Not Tracing ray and NO excision will be performed!\n",
      "Warning, the time step is too small! Stopping run at step 7125 with timestep 9.18491058760342e-11\n",
      "Encountered error during run. Trying again with a different amplitude.\n",
      "Iteration No 13 -- Checking to see if a BH forms at amplitude 0.272625732421875  (bracket is  0.272607421875 / 0.27268066406249997 )\n",
      "Initial w is 0.3316004747425083 and Horizon radius is 0.3454941494713355\n",
      "Not Tracing ray and NO excision will be performed!\n",
      "Density near origin has dropped significantly, so a black hole likely won't be forming! This occurred at step 7006\n",
      "Iteration No 14 -- Checking to see if a BH forms at amplitude 0.2726531982421875  (bracket is  0.272625732421875 / 0.27268066406249997 )\n",
      "Initial w is 0.3316004747425083 and Horizon radius is 0.3454941494713355\n",
      "Not Tracing ray and NO excision will be performed!\n",
      "Warning, the time step is too small! Stopping run at step 7641 with timestep 8.361108453034957e-11\n",
      "Encountered error during run. Trying again with a different amplitude.\n",
      "Iteration No 15 -- Checking to see if a BH forms at amplitude 0.27266693115234375  (bracket is  0.272625732421875 / 0.27268066406249997 )\n",
      "Initial w is 0.3316004747425083 and Horizon radius is 0.3454941494713355\n",
      "Not Tracing ray and NO excision will be performed!\n",
      "Warning, the time step is too small! Stopping run at step 6831 with timestep 2.0503415491993927e-11\n",
      "Encountered error during run. Trying again with a different amplitude.\n",
      "Iteration No 16 -- Checking to see if a BH forms at amplitude 0.2726394653320312  (bracket is  0.272625732421875 / 0.27268066406249997 )\n",
      "Initial w is 0.3316004747425083 and Horizon radius is 0.3454941494713355\n",
      "Not Tracing ray and NO excision will be performed!\n",
      "Warning, the time step is too small! Stopping run at step 9660 with timestep 8.594136773694405e-11\n",
      "Encountered error during run. Trying again with a different amplitude.\n",
      "Iteration No 17 -- Checking to see if a BH forms at amplitude 0.27267379760742183  (bracket is  0.272625732421875 / 0.27268066406249997 )\n",
      "Initial w is 0.3316004747425083 and Horizon radius is 0.3454941494713355\n",
      "Not Tracing ray and NO excision will be performed!\n",
      "Warning, the time step is too small! Stopping run at step 6907 with timestep 1.768510810706023e-11\n",
      "Encountered error during run. Trying again with a different amplitude.\n",
      "Iteration No 18 -- Checking to see if a BH forms at amplitude 0.2726325988769531  (bracket is  0.272625732421875 / 0.27268066406249997 )\n",
      "Initial w is 0.3316004747425083 and Horizon radius is 0.3454941494713355\n",
      "Not Tracing ray and NO excision will be performed!\n",
      "Density near origin has dropped significantly, so a black hole likely won't be forming! This occurred at step 9537\n",
      "Iteration No 19 -- Checking to see if a BH forms at amplitude 0.2726566314697265  (bracket is  0.2726325988769531 / 0.27268066406249997 )\n",
      "Initial w is 0.3316004747425083 and Horizon radius is 0.3454941494713355\n",
      "Not Tracing ray and NO excision will be performed!\n",
      "Warning, the time step is too small! Stopping run at step 7374 with timestep 9.777886638586579e-11\n",
      "Encountered error during run. Trying again with a different amplitude.\n",
      "Critical amplitude appears to be between 0.2726325988769531 and 0.27268066406249997\n"
     ]
    },
    {
     "data": {
      "image/png": "[encoded data removed]",
      "text/plain": [
       "<Figure size 432x288 with 1 Axes>"
      ]
     },
     "metadata": {
      "needs_background": "light"
     },
     "output_type": "display_data"
    }
   ],
   "source": [
    "# Find bounds on a critical point\n",
    "lower_amp, upper_amp = find_crit(Abar_mix, # Coordinate grid\n",
    "                                 1.0e0, # initial density \n",
    "                                 0.15, # Amplitude a BH does *not* form\n",
    "                                 0.3, # amplitude a BH *does* form\n",
    "                                 sm_sigma=0.0, # Hopefully no smoothing is needed here\n",
    "                                 fixw=False # Fixed equation of state or not?\n",
    "                                )"
   ]
  },
  {
   "cell_type": "code",
   "execution_count": 13,
   "id": "c9d4d5c3",
   "metadata": {},
   "outputs": [
    {
     "name": "stdout",
     "output_type": "stream",
     "text": [
      "Finding mass with amp 0.2727\n",
      "Initial w is 0.3316004747425083 and Horizon radius is 0.3454941494713355\n",
      "Not Tracing ray and NO excision will be performed!\n",
      "Horizon is found, MS run will be terminated! Finished at step 6270\n",
      "Initial w is 0.3316004747425083 and Horizon radius is 0.3454941494713355\n",
      "Tracing ray is enabled and excision will be performed!\n"
     ]
    },
    {
     "ename": "KeyboardInterrupt",
     "evalue": "",
     "output_type": "error",
     "traceback": [
      "\u001b[0;31m---------------------------------------------------------------------------\u001b[0m",
      "\u001b[0;31mKeyboardInterrupt\u001b[0m                         Traceback (most recent call last)",
      "\u001b[0;32m<ipython-input-13-5e18b2ceedf8>\u001b[0m in \u001b[0;36m<module>\u001b[0;34m\u001b[0m\n\u001b[0;32m----> 1\u001b[0;31m delta, mass, ms, hm = find_mass(Abar_mix, 1.0e0, 0.2727, mOverR_thresh=0.994,\n\u001b[0m\u001b[1;32m      2\u001b[0m           MS_sm_sigma=0.0, hm_steps=78000, HM_sm_sigma=30.0, HM_Abar=Abar_mix, HM_cflfac=0.1)\n",
      "\u001b[0;32m<ipython-input-12-44722ae464f6>\u001b[0m in \u001b[0;36mfind_mass\u001b[0;34m(Abar, rho0, amp, mOverR_thresh, is_searching_for_crit, ms_steps, MS_sm_sigma, hm_steps, HM_sm_sigma, HM_Abar, HM_cflfac)\u001b[0m\n\u001b[1;32m     19\u001b[0m     \u001b[0;31m# Perform an MS run with raytracing to get ICs for an HM run\u001b[0m\u001b[0;34m\u001b[0m\u001b[0;34m\u001b[0m\u001b[0;34m\u001b[0m\u001b[0m\n\u001b[1;32m     20\u001b[0m     \u001b[0mms\u001b[0m \u001b[0;34m=\u001b[0m \u001b[0mMS\u001b[0m\u001b[0;34m(\u001b[0m\u001b[0mAbar\u001b[0m\u001b[0;34m,\u001b[0m \u001b[0mrho0\u001b[0m\u001b[0;34m,\u001b[0m \u001b[0mamp\u001b[0m\u001b[0;34m,\u001b[0m \u001b[0mtrace_ray\u001b[0m\u001b[0;34m=\u001b[0m\u001b[0;32mTrue\u001b[0m\u001b[0;34m,\u001b[0m \u001b[0mBH_threshold\u001b[0m\u001b[0;34m=\u001b[0m\u001b[0;34m-\u001b[0m\u001b[0;36m1e1\u001b[0m\u001b[0;34m,\u001b[0m \u001b[0msm_sigma\u001b[0m\u001b[0;34m=\u001b[0m\u001b[0mMS_sm_sigma\u001b[0m\u001b[0;34m)\u001b[0m\u001b[0;34m\u001b[0m\u001b[0;34m\u001b[0m\u001b[0m\n\u001b[0;32m---> 21\u001b[0;31m     \u001b[0mflag\u001b[0m \u001b[0;34m=\u001b[0m \u001b[0mms\u001b[0m\u001b[0;34m.\u001b[0m\u001b[0madap_run_steps\u001b[0m\u001b[0;34m(\u001b[0m\u001b[0mms_steps\u001b[0m\u001b[0;34m)\u001b[0m\u001b[0;34m\u001b[0m\u001b[0;34m\u001b[0m\u001b[0m\n\u001b[0m\u001b[1;32m     22\u001b[0m     \u001b[0;32mif\u001b[0m\u001b[0;34m(\u001b[0m\u001b[0mflag\u001b[0m \u001b[0;34m!=\u001b[0m \u001b[0;36m0\u001b[0m\u001b[0;34m)\u001b[0m\u001b[0;34m:\u001b[0m\u001b[0;34m\u001b[0m\u001b[0;34m\u001b[0m\u001b[0m\n\u001b[1;32m     23\u001b[0m         \u001b[0;32mraise\u001b[0m \u001b[0mValueError\u001b[0m\u001b[0;34m(\u001b[0m\u001b[0;34m'Not finishing ray-tracing with the amplitude '\u001b[0m \u001b[0;34m+\u001b[0m \u001b[0mstr\u001b[0m\u001b[0;34m(\u001b[0m\u001b[0mamp\u001b[0m\u001b[0;34m)\u001b[0m\u001b[0;34m)\u001b[0m\u001b[0;34m\u001b[0m\u001b[0;34m\u001b[0m\u001b[0m\n",
      "\u001b[0;32m~/criticalcollapse/ms_hm/MS.py\u001b[0m in \u001b[0;36madap_run_steps\u001b[0;34m(self, n_steps, adjust_steps, tol)\u001b[0m\n\u001b[1;32m    458\u001b[0m \u001b[0;34m\u001b[0m\u001b[0m\n\u001b[1;32m    459\u001b[0m \u001b[0;34m\u001b[0m\u001b[0m\n\u001b[0;32m--> 460\u001b[0;31m             \u001b[0mkR1\u001b[0m\u001b[0;34m,\u001b[0m \u001b[0mkm1\u001b[0m\u001b[0;34m,\u001b[0m \u001b[0mkU1\u001b[0m\u001b[0;34m,\u001b[0m \u001b[0mkA_p1\u001b[0m \u001b[0;34m=\u001b[0m \u001b[0mself\u001b[0m\u001b[0;34m.\u001b[0m\u001b[0mk_coeffs\u001b[0m\u001b[0;34m(\u001b[0m\u001b[0mself\u001b[0m\u001b[0;34m.\u001b[0m\u001b[0mR\u001b[0m\u001b[0;34m,\u001b[0m \u001b[0mself\u001b[0m\u001b[0;34m.\u001b[0m\u001b[0mm\u001b[0m\u001b[0;34m,\u001b[0m \u001b[0mself\u001b[0m\u001b[0;34m.\u001b[0m\u001b[0mU\u001b[0m\u001b[0;34m,\u001b[0m \u001b[0mself\u001b[0m\u001b[0;34m.\u001b[0m\u001b[0mAbar_p\u001b[0m\u001b[0;34m,\u001b[0m \u001b[0mself\u001b[0m\u001b[0;34m.\u001b[0m\u001b[0mxi\u001b[0m\u001b[0;34m)\u001b[0m\u001b[0;34m\u001b[0m\u001b[0;34m\u001b[0m\u001b[0m\n\u001b[0m\u001b[1;32m    461\u001b[0m             kR2, km2, kU2, kA_p2 = self.k_coeffs(self.R + deltau/2*kR1, self.m + deltau/2*km1,\n\u001b[1;32m    462\u001b[0m                                                  \u001b[0mself\u001b[0m\u001b[0;34m.\u001b[0m\u001b[0mU\u001b[0m \u001b[0;34m+\u001b[0m \u001b[0mdeltau\u001b[0m\u001b[0;34m/\u001b[0m\u001b[0;36m2\u001b[0m\u001b[0;34m*\u001b[0m\u001b[0mkU1\u001b[0m\u001b[0;34m,\u001b[0m \u001b[0mself\u001b[0m\u001b[0;34m.\u001b[0m\u001b[0mAbar_p\u001b[0m \u001b[0;34m+\u001b[0m \u001b[0mdeltau\u001b[0m\u001b[0;34m/\u001b[0m\u001b[0;36m2\u001b[0m\u001b[0;34m*\u001b[0m\u001b[0mkA_p1\u001b[0m\u001b[0;34m,\u001b[0m\u001b[0;34m\u001b[0m\u001b[0;34m\u001b[0m\u001b[0m\n",
      "\u001b[0;32m~/criticalcollapse/ms_hm/MS.py\u001b[0m in \u001b[0;36mk_coeffs\u001b[0;34m(self, R, m, U, Abar_p, xi)\u001b[0m\n\u001b[1;32m    173\u001b[0m         \u001b[0mp\u001b[0m \u001b[0;34m=\u001b[0m \u001b[0mself\u001b[0m\u001b[0;34m.\u001b[0m\u001b[0mP\u001b[0m\u001b[0;34m(\u001b[0m\u001b[0mr\u001b[0m\u001b[0;34m)\u001b[0m\u001b[0;34m\u001b[0m\u001b[0;34m\u001b[0m\u001b[0m\n\u001b[1;32m    174\u001b[0m \u001b[0;34m\u001b[0m\u001b[0m\n\u001b[0;32m--> 175\u001b[0;31m         \u001b[0mPprime\u001b[0m \u001b[0;34m=\u001b[0m \u001b[0mself\u001b[0m\u001b[0;34m.\u001b[0m\u001b[0mPprime\u001b[0m\u001b[0;34m(\u001b[0m\u001b[0mR\u001b[0m\u001b[0;34m,\u001b[0m \u001b[0mm\u001b[0m\u001b[0;34m)\u001b[0m\u001b[0;34m\u001b[0m\u001b[0;34m\u001b[0m\u001b[0m\n\u001b[0m\u001b[1;32m    176\u001b[0m         \u001b[0mep\u001b[0m \u001b[0;34m=\u001b[0m \u001b[0mnp\u001b[0m\u001b[0;34m.\u001b[0m\u001b[0mexp\u001b[0m\u001b[0;34m(\u001b[0m\u001b[0mself\u001b[0m\u001b[0;34m.\u001b[0m\u001b[0mpsi\u001b[0m\u001b[0;34m(\u001b[0m\u001b[0mr\u001b[0m\u001b[0;34m,\u001b[0m \u001b[0mp\u001b[0m\u001b[0;34m,\u001b[0m \u001b[0mPprime\u001b[0m\u001b[0;34m)\u001b[0m\u001b[0;34m)\u001b[0m\u001b[0;34m\u001b[0m\u001b[0;34m\u001b[0m\u001b[0m\n\u001b[1;32m    177\u001b[0m \u001b[0;34m\u001b[0m\u001b[0m\n",
      "\u001b[0;32m~/criticalcollapse/ms_hm/MS.py\u001b[0m in \u001b[0;36mPprime\u001b[0;34m(self, R, m)\u001b[0m\n\u001b[1;32m    157\u001b[0m         \u001b[0mrho_stg\u001b[0m \u001b[0;34m=\u001b[0m \u001b[0mm_stg\u001b[0m \u001b[0;34m+\u001b[0m \u001b[0mms_rho_term_stg\u001b[0m\u001b[0;34m(\u001b[0m\u001b[0mR\u001b[0m\u001b[0;34m,\u001b[0m \u001b[0mm\u001b[0m\u001b[0;34m,\u001b[0m \u001b[0mself\u001b[0m\u001b[0;34m.\u001b[0m\u001b[0mAbar\u001b[0m\u001b[0;34m,\u001b[0m \u001b[0mR_stg\u001b[0m\u001b[0;34m,\u001b[0m \u001b[0mself\u001b[0m\u001b[0;34m.\u001b[0m\u001b[0mAbar_stg\u001b[0m\u001b[0;34m)\u001b[0m\u001b[0;34m\u001b[0m\u001b[0;34m\u001b[0m\u001b[0m\n\u001b[1;32m    158\u001b[0m \u001b[0;34m\u001b[0m\u001b[0m\n\u001b[0;32m--> 159\u001b[0;31m         \u001b[0mP_stg\u001b[0m \u001b[0;34m=\u001b[0m \u001b[0mself\u001b[0m\u001b[0;34m.\u001b[0m\u001b[0mP\u001b[0m\u001b[0;34m(\u001b[0m\u001b[0mrho_stg\u001b[0m\u001b[0;34m)\u001b[0m\u001b[0;34m\u001b[0m\u001b[0;34m\u001b[0m\u001b[0m\n\u001b[0m\u001b[1;32m    160\u001b[0m         \u001b[0mdPdAbar\u001b[0m \u001b[0;34m=\u001b[0m \u001b[0mnp\u001b[0m\u001b[0;34m.\u001b[0m\u001b[0mconcatenate\u001b[0m\u001b[0;34m(\u001b[0m \u001b[0;34m(\u001b[0m\u001b[0;34m[\u001b[0m\u001b[0;36m0\u001b[0m\u001b[0;34m]\u001b[0m\u001b[0;34m,\u001b[0m \u001b[0mstg_dfdA\u001b[0m\u001b[0;34m(\u001b[0m\u001b[0mP_stg\u001b[0m\u001b[0;34m,\u001b[0m \u001b[0mself\u001b[0m\u001b[0;34m.\u001b[0m\u001b[0mAbar_stg\u001b[0m\u001b[0;34m)\u001b[0m\u001b[0;34m,\u001b[0m \u001b[0;34m[\u001b[0m\u001b[0;36m0\u001b[0m\u001b[0;34m]\u001b[0m\u001b[0;34m)\u001b[0m \u001b[0;34m)\u001b[0m\u001b[0;34m\u001b[0m\u001b[0;34m\u001b[0m\u001b[0m\n\u001b[1;32m    161\u001b[0m \u001b[0;34m\u001b[0m\u001b[0m\n",
      "\u001b[0;32m~/criticalcollapse/ms_hm/MS.py\u001b[0m in \u001b[0;36mP\u001b[0;34m(self, rho)\u001b[0m\n\u001b[1;32m    125\u001b[0m         \u001b[0mrhob\u001b[0m \u001b[0;34m=\u001b[0m \u001b[0;36m3\u001b[0m \u001b[0;34m/\u001b[0m \u001b[0;34m(\u001b[0m\u001b[0;36m8\u001b[0m\u001b[0;34m*\u001b[0m\u001b[0mnp\u001b[0m\u001b[0;34m.\u001b[0m\u001b[0mpi\u001b[0m\u001b[0;34m)\u001b[0m \u001b[0;34m*\u001b[0m \u001b[0mH\u001b[0m\u001b[0;34m**\u001b[0m\u001b[0;36m2\u001b[0m\u001b[0;34m\u001b[0m\u001b[0;34m\u001b[0m\u001b[0m\n\u001b[1;32m    126\u001b[0m         \u001b[0mrealRho\u001b[0m \u001b[0;34m=\u001b[0m \u001b[0mrho\u001b[0m \u001b[0;34m*\u001b[0m \u001b[0mrhob\u001b[0m\u001b[0;34m\u001b[0m\u001b[0;34m\u001b[0m\u001b[0m\n\u001b[0;32m--> 127\u001b[0;31m         \u001b[0mrealP\u001b[0m \u001b[0;34m=\u001b[0m \u001b[0mself\u001b[0m\u001b[0;34m.\u001b[0m\u001b[0mqcd\u001b[0m\u001b[0;34m.\u001b[0m\u001b[0mP\u001b[0m\u001b[0;34m(\u001b[0m\u001b[0mrealRho\u001b[0m\u001b[0;34m)\u001b[0m\u001b[0;34m\u001b[0m\u001b[0;34m\u001b[0m\u001b[0m\n\u001b[0m\u001b[1;32m    128\u001b[0m         \u001b[0mP\u001b[0m \u001b[0;34m=\u001b[0m \u001b[0mrealP\u001b[0m\u001b[0;34m/\u001b[0m\u001b[0mrhob\u001b[0m \u001b[0;31m# P is Ptilde\u001b[0m\u001b[0;34m\u001b[0m\u001b[0;34m\u001b[0m\u001b[0m\n\u001b[1;32m    129\u001b[0m         \u001b[0mself\u001b[0m\u001b[0;34m.\u001b[0m\u001b[0mtimer\u001b[0m\u001b[0;34m.\u001b[0m\u001b[0mstop\u001b[0m\u001b[0;34m(\u001b[0m\u001b[0;34m\"P\"\u001b[0m\u001b[0;34m)\u001b[0m\u001b[0;34m\u001b[0m\u001b[0;34m\u001b[0m\u001b[0m\n",
      "\u001b[0;32m~/criticalcollapse/ms_hm/QCD_EOS.py\u001b[0m in \u001b[0;36mP\u001b[0;34m(self, rho)\u001b[0m\n\u001b[1;32m     75\u001b[0m         \"\"\"\n\u001b[1;32m     76\u001b[0m         \u001b[0mh\u001b[0m \u001b[0;34m=\u001b[0m \u001b[0mnp\u001b[0m\u001b[0;34m.\u001b[0m\u001b[0mheaviside\u001b[0m\u001b[0;34m(\u001b[0m\u001b[0mrho\u001b[0m \u001b[0;34m-\u001b[0m \u001b[0;36m1.0e-10\u001b[0m\u001b[0;34m,\u001b[0m \u001b[0;36m0.0\u001b[0m\u001b[0;34m)\u001b[0m\u001b[0;34m\u001b[0m\u001b[0;34m\u001b[0m\u001b[0m\n\u001b[0;32m---> 77\u001b[0;31m         \u001b[0mrho\u001b[0m \u001b[0;34m=\u001b[0m \u001b[0mrho\u001b[0m\u001b[0;34m*\u001b[0m\u001b[0mh\u001b[0m \u001b[0;34m+\u001b[0m \u001b[0;36m1.0e-10\u001b[0m\u001b[0;34m*\u001b[0m\u001b[0;34m(\u001b[0m\u001b[0;36m1\u001b[0m\u001b[0;34m-\u001b[0m\u001b[0mh\u001b[0m\u001b[0;34m)\u001b[0m \u001b[0;31m# minimum density floor\u001b[0m\u001b[0;34m\u001b[0m\u001b[0;34m\u001b[0m\u001b[0m\n\u001b[0m\u001b[1;32m     78\u001b[0m         \u001b[0;32mif\u001b[0m \u001b[0mself\u001b[0m\u001b[0;34m.\u001b[0m\u001b[0muse_fixedw\u001b[0m \u001b[0;34m:\u001b[0m\u001b[0;34m\u001b[0m\u001b[0;34m\u001b[0m\u001b[0m\n\u001b[1;32m     79\u001b[0m             \u001b[0;32mreturn\u001b[0m \u001b[0mself\u001b[0m\u001b[0;34m.\u001b[0m\u001b[0mfixedw\u001b[0m \u001b[0;34m*\u001b[0m \u001b[0mrho\u001b[0m\u001b[0;34m\u001b[0m\u001b[0;34m\u001b[0m\u001b[0m\n",
      "\u001b[0;31mKeyboardInterrupt\u001b[0m: "
     ]
    }
   ],
   "source": [
    "delta, mass, ms, hm = find_mass(Abar_mix, 1.0e0, 0.2727, mOverR_thresh=0.994,\n",
    "          MS_sm_sigma=0.0, hm_steps=78000, HM_sm_sigma=30.0, HM_Abar=Abar_mix, HM_cflfac=0.1)"
   ]
  },
  {
   "cell_type": "code",
   "execution_count": null,
   "id": "3039ffc1",
   "metadata": {},
   "outputs": [],
   "source": [
    "# Get data to generate critical scaling exponent\n",
    "crit_amp = (lower_amp+upper_amp)/2 # best guess for critical amplitude\n",
    "data_lower_amp = upper_amp # look for critical data at/above the upper bound for the critical point\n",
    "data_upper_amp = 1.05*upper_amp # Look for critical data at up to 5% larger amplitudes\n",
    "\n",
    "scaling_data = critical_scaling_data(Abar_mix,\n",
    "                      1.0e0, # Same density as above\n",
    "                      crit_amp,\n",
    "                      data_lower_amp,\n",
    "                      data_upper_amp,\n",
    "                      n=10, # Try to get masses at 10 points\n",
    "                      mOverR_thresh=0.97,\n",
    "                      MS_sm_sigma=0.0, HM_sm_sigma=15.0, HM_Abar=None, HM_cflfac=0.1)"
   ]
  },
  {
   "cell_type": "code",
   "execution_count": null,
   "id": "c11375a9",
   "metadata": {},
   "outputs": [],
   "source": [
    "# importing MS and HM modules. Reload modules if needed\n",
    "try :\n",
    "    reload(ms_hm.QCD_EOS)\n",
    "    reload(ms_hm.MS)\n",
    "    reload(ms_hm.HM)\n",
    "except :\n",
    "    print(\"Did not reload modules, they may not have been imported yet.\")\n",
    "\n",
    "import ms_hm\n",
    "from ms_hm.QCD_EOS import *\n",
    "from ms_hm.MS import *\n",
    "from ms_hm.HM import *\n",
    "\n",
    "hm = HM(ms, mOverR=0.99, sm_sigma=14)\n",
    "hm.run_steps(100)\n",
    "\n"
   ]
  },
  {
   "cell_type": "markdown",
   "id": "d96e59df",
   "metadata": {},
   "source": [
    "## Critical data fit\n",
    "\n",
    "Below is an example of all the code needed to find the critical scaling threshhold and exponent."
   ]
  },
  {
   "cell_type": "code",
   "execution_count": null,
   "id": "a2408447",
   "metadata": {},
   "outputs": [],
   "source": [
    "# Find the critical point. It will be bounded between crit and lower.\n",
    "(crit, lower) = find_crit()\n",
    "# Find the mass of BHs at various amplitudes between lower_amp and lower_amp plus a bit.\n",
    "res = critical_scaling(crit, lower_amp, lower_amp + 1e-2, 20)"
   ]
  },
  {
   "cell_type": "code",
   "execution_count": null,
   "id": "b47cb5d4",
   "metadata": {},
   "outputs": [],
   "source": [
    "(a, b ) = np.polyfit(np.log10(res2[0][:,0] - res2[1])[:], np.log10(res2[0][:,1])[:], deg=1)\n",
    "plt.scatter(np.log10(res2[0][:,0] - res2[1])[:], np.log10(res2[0][:,1])[:])\n",
    "plt.plot(np.arange(-3.1,-1.6,0.01), a * np.arange(-3.1,-1.6,0.01) + b)"
   ]
  },
  {
   "cell_type": "code",
   "execution_count": null,
   "id": "8bcd84cf",
   "metadata": {},
   "outputs": [],
   "source": [
    "np.polyfit(np.log10(res[0][:,0] - 0.4265539636281781)[:], np.log10(res[0][:,1])[:], deg=1)"
   ]
  },
  {
   "cell_type": "code",
   "execution_count": null,
   "id": "35df5fb4",
   "metadata": {},
   "outputs": [],
   "source": []
  }
 ],
 "metadata": {
  "kernelspec": {
   "display_name": "Python 3",
   "language": "python",
   "name": "python3"
  },
  "language_info": {
   "codemirror_mode": {
    "name": "ipython",
    "version": 3
   },
   "file_extension": ".py",
   "mimetype": "text/x-python",
   "name": "python",
   "nbconvert_exporter": "python",
   "pygments_lexer": "ipython3",
   "version": "3.8.10"
  }
 },
 "nbformat": 4,
 "nbformat_minor": 5
}
