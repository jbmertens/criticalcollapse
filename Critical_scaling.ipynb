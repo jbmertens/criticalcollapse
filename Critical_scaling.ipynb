{
 "cells": [
  {
   "cell_type": "code",
   "execution_count": 807,
   "metadata": {},
   "outputs": [
    {
     "name": "stdout",
     "output_type": "stream",
     "text": [
      "The Cython extension is already loaded. To reload it, use:\n",
      "  %reload_ext Cython\n"
     ]
    }
   ],
   "source": [
    "import numpy as np\n",
    "import sys\n",
    "import matplotlib.pyplot as plt\n",
    "import matplotlib as mpl\n",
    "from importlib import reload \n",
    "\n",
    "import cython\n",
    "%load_ext Cython\n",
    "mpl.rc('xtick', direction='in', top=True)\n",
    "mpl.rc('ytick', direction='in', right=True)\n",
    "mpl.rc('xtick.minor', visible=True)\n",
    "mpl.rc('ytick.minor', visible=True)"
   ]
  },
  {
   "cell_type": "code",
   "execution_count": 808,
   "metadata": {},
   "outputs": [],
   "source": [
    "reload(ms_hm.MS)\n",
    "reload(ms_hm.HM)\n",
    "# importing MS and HM modules\n",
    "import ms_hm \n",
    "from ms_hm.MS import *\n",
    "from ms_hm.HM import *"
   ]
  },
  {
   "cell_type": "code",
   "execution_count": 809,
   "metadata": {},
   "outputs": [],
   "source": [
    "%%cython\n",
    "\n",
    "import numpy as np\n",
    "import cython\n",
    "cimport numpy as np\n",
    "\n",
    "cimport cython\n",
    "ctypedef np.double_t DTYPE_t\n",
    "\n",
    "from libc.math cimport exp\n",
    "from libc.math cimport sqrt\n",
    "\n",
    "from cython.parallel import prange\n",
    "\n",
    "# find x_0 where the function y(x_0) = 0 \n",
    "@cython.boundscheck(False)  # Deactivate bounds checking\n",
    "cpdef zero_crossing(np.ndarray x_in, double [::1] y):\n",
    "    cdef int size = x_in.shape[0]\n",
    "    cdef double [:] x = x_in\n",
    "    cdef double w, res=-1\n",
    "    cdef int i\n",
    "    for i in range(size-1):\n",
    "        if(y[i] * y[i+1] < 0):\n",
    "            w = abs(y[i] / (y[i+1] - y[i]))\n",
    "            res = x[i] * (1 - w) + x[i+1] * w\n",
    "            break\n",
    "    return res"
   ]
  },
  {
   "cell_type": "code",
   "execution_count": 810,
   "metadata": {},
   "outputs": [],
   "source": [
    "# creating a mix of uniform and logarithmic grids\n",
    "def mix_grid(left, right, n):\n",
    "    A = np.exp(np.linspace(left, right, n))\n",
    "    dA = A[1] - A[0]\n",
    "    A = np.concatenate( (np.linspace(0, A[0],int(np.ceil(A[0] / dA)), endpoint=False), A))\n",
    "    return A\n",
    "# creating uniform grids\n",
    "def uni_grid( right, n):\n",
    "    A = np.linspace(0, np.exp(right), n)\n",
    "    return A"
   ]
  },
  {
   "cell_type": "code",
   "execution_count": 811,
   "metadata": {},
   "outputs": [],
   "source": [
    "# some general set-ups\n",
    "n=8000 # number of grids\n",
    "\n",
    "lower = -0.5\n",
    "upper = 2.0\n",
    "A = mix_grid(lower,upper,n)\n",
    "\n",
    "w = 0.01\n",
    "alpha = (2 / 3) * (1+w) # alpha = 1/2 for w = 1/3\n",
    "\n",
    "\n",
    "rho0 = 1\n",
    "t0 = alpha * np.sqrt(3 / (8*np.pi*rho0))\n",
    "RH = t0 / alpha\n",
    "Abar = A / RH\n",
    "\n",
    "deltaL = 0\n",
    "\n",
    "L = Abar[-1]\n",
    "deltaA = Abar[1] - Abar[0]\n",
    "\n",
    "# amp = 0.27337198\n",
    "# delta0 = amp * np.exp(-Abar**2 / 2 /(1.6)**2)\n",
    "# delta0P = amp * delta0 * 2 * (-1 / 2 / (1.6)**2 ) * Abar\n",
    "\n",
    "\n",
    "# m = 1 + delta0 \n",
    "# U = 1 - alpha * delta0 / 2\n",
    "# R = 1 - alpha / 2 * (delta0 + w * Abar * delta0P / (1 + 3 * w) )\n",
    "\n",
    "\n",
    "# ms = MS(R,m,U,w,alpha,A,rho0, trace_ray=True,BH_threshold=-1e100,dt_frac=0.05)"
   ]
  },
  {
   "cell_type": "code",
   "execution_count": 812,
   "metadata": {},
   "outputs": [],
   "source": [
    "# generate initial data for MS formula\n",
    "def gen_init(amp):\n",
    "    delta0 = amp * np.exp(-Abar**2 / 2 /(1.6)**2)\n",
    "    delta0P = amp * delta0 * 2 * (-1 / 2 / (1.6)**2 ) * Abar\n",
    "\n",
    "\n",
    "    m = 1 + delta0 \n",
    "    U = 1 - alpha * delta0 / 2\n",
    "    R = 1 - alpha / 2 * (delta0 + w * Abar * delta0P / (1 + 3 * w) )\n",
    "    return (R, m, U)"
   ]
  },
  {
   "cell_type": "code",
   "execution_count": 813,
   "metadata": {},
   "outputs": [],
   "source": [
    "# Tell is is BH forms\n",
    "# It evolves MS until it breaks. If 2m / R > 1, return true \n",
    "def BH_form(amp):\n",
    "    \n",
    "    (R, m, U) = gen_init(amp)\n",
    "\n",
    "    ms = MS(R,m,U,w,alpha,A,rho0, trace_ray=False, BH_threshold=-999)\n",
    "    if (ms.adap_run_steps(2500000) == -1):\n",
    "        return (True, ms.delta)\n",
    "    return (False, ms.delta)"
   ]
  },
  {
   "cell_type": "code",
   "execution_count": 814,
   "metadata": {},
   "outputs": [],
   "source": [
    "# Binary search to find criticle amplitude (NOT the critical density)\n",
    "# return (critical, upper value)\n",
    "def find_crit():\n",
    "    lower = 0.2728846216201781\n",
    "    upper = 0.30\n",
    "    \n",
    "    for i in range(20):\n",
    "        mid = (lower + upper) / 2\n",
    "        print('Iteration No ' + str(i))\n",
    "        print('Trying with amplitude ' + str(mid))\n",
    "        #(is_form, delta) = BH_form(mid)\n",
    "        if(BH_form(mid)[0] == True):\n",
    "            upper = mid\n",
    "        else:\n",
    "            lower = mid\n",
    "    return ((upper + lower) / 2, upper)"
   ]
  },
  {
   "cell_type": "code",
   "execution_count": 815,
   "metadata": {},
   "outputs": [
    {
     "name": "stdout",
     "output_type": "stream",
     "text": [
      "Not Tracing ray and NO excision will be performed!\n"
     ]
    },
    {
     "name": "stderr",
     "output_type": "stream",
     "text": [
      "/Users/drewrosenblum/Documents/GitHub/criticalcollapse/ms_hm/MS.py:97: RuntimeWarning: overflow encountered in exp\n",
      "  ep = np.exp(self.psi(r, p, Pprime))\n",
      "/Users/drewrosenblum/Documents/GitHub/criticalcollapse/ms_hm/MS.py:71: RuntimeWarning: invalid value encountered in subtract\n",
      "  + (self.Abar * R)**2 * (U**2 - m))\n",
      "/Users/drewrosenblum/Documents/GitHub/criticalcollapse/ms_hm/MS.py:75: RuntimeWarning: invalid value encountered in add\n",
      "  temp = m + ms_rho_term(R, m, self.Abar)\n",
      "/Users/drewrosenblum/Documents/GitHub/criticalcollapse/ms_hm/MS.py:107: RuntimeWarning: invalid value encountered in add\n",
      "  + (2 * U**2 + m + 3 * p) / 2)\n"
     ]
    },
    {
     "data": {
      "image/png": "[encoded data removed]",
      "text/plain": [
       "<Figure size 432x288 with 1 Axes>"
      ]
     },
     "metadata": {
      "needs_background": "light"
     },
     "output_type": "display_data"
    }
   ],
   "source": [
    "ms = MS(R,m,U,w,alpha,A,rho0, trace_ray=False, BH_threshold=-999)\n",
    "ms.run_steps(17844)"
   ]
  },
  {
   "cell_type": "code",
   "execution_count": null,
   "metadata": {},
   "outputs": [],
   "source": [
    "# Find mass of BHs for certain amplitude\n",
    "def find_mass(amp, is_crit=False):\n",
    "    print('Finding mass with amp ' + str(amp))\n",
    "    (R, m, U) = gen_init(amp)\n",
    "    ms = MS(R,m,U,w,alpha,A,rho0, trace_ray=False, BH_threshold=-1e1)\n",
    "    ms.adap_run_steps(1500000, plot_interval=150000)\n",
    "    delta = ms.delta\n",
    "    ms = MS(R,m,U,w,alpha,A,rho0, trace_ray=True, BH_threshold=-1e100)\n",
    "    flag = ms.run_steps(1500000)\n",
    "    if(flag != 0):\n",
    "        raise ValueError('Not finishing ray-tracing with the amplitude ' + str(amp))\n",
    "    hm = HM(ms, mOverR=0.99, sm_sigma=50)\n",
    "    flag = hm.adap_run_steps(550000)\n",
    "    if(flag != 1 and is_crit == False):\n",
    "        raise ValueError('Cannot get the target 2m/R with the amplitude ' + str(amp))\n",
    "    print(ms.delta, hm.BH_mass2())\n",
    "    return (ms.delta, hm.BH_mass2())"
   ]
  },
  {
   "cell_type": "code",
   "execution_count": 170,
   "metadata": {},
   "outputs": [],
   "source": [
    "# Generate critical scaling data \n",
    "def critical_scaling(crit_amp, lower_amp, upper_amp, n=10):\n",
    "    amps = 10**np.linspace(np.log10(lower_amp - crit_amp), np.log10(upper_amp - crit_amp), n) + crit_amp\n",
    "    print(amps)\n",
    "    masses = np.array([find_mass(amp) for amp in amps])\n",
    "    crit_delta = find_mass(crit_amp, is_crit=True)[0]\n",
    "    \n",
    "    return (masses, crit_delta)"
   ]
  },
  {
   "cell_type": "code",
   "execution_count": 107,
   "metadata": {},
   "outputs": [
    {
     "name": "stdout",
     "output_type": "stream",
     "text": [
      "Finding mass with amp 0.3\n",
      "Tracing ray is enabled and excision will be performed!\n",
      "Photon has gone out of the outter boundary!\n"
     ]
    },
    {
     "data": {
      "image/png": "[encoded data removed]",
      "text/plain": [
       "<Figure size 432x288 with 1 Axes>"
      ]
     },
     "metadata": {
      "needs_background": "light"
     },
     "output_type": "display_data"
    }
   ],
   "source": [
    "amp=0.30\n",
    "print('Finding mass with amp ' + str(amp))\n",
    "(R, m, U) = gen_init(amp)\n",
    "ms = MS(R,m,U,w,alpha,A,rho0, trace_ray=True, BH_threshold=-1e100)\n",
    "flag = ms.run_steps(1500000)"
   ]
  },
  {
   "cell_type": "code",
   "execution_count": 258,
   "metadata": {},
   "outputs": [],
   "source": [
    "# R = ms.R # get the array of R values from the ms class, store in a shorthand \"R\" variable\n",
    "# m = ms.m # get the array of m values from the ms class, store in a shorthand \"m\" variable\n",
    "# U = ms.U # get the array of U values from the ms class, store in a shorthand \"U\" variable\n",
    "# xi = ms.xi # get the array of xi values from the ms class, store in a shorthand \"xi\" variable\n",
    "\n",
    "# r = ms.rho(R, m) # call the ms rho function to compute an array of rho values, store the array in the \"r\" variable\n",
    "# p = ms.P(r) # call the ms P function to compute an array of pressure values, store the array in the \"p\" variable\n",
    "# Pprime = ms.Pprime(R, m) # call the ms Pprime function to compute an array of P' values, store in the \"Pprime\" variable\n",
    "\n",
    "# psi = ms.psi(r, p, Pprime) # now we can finally compute psi! Call the ms.psi function, store the array it returns in the \"psi\" variable.\n",
    "# plt.plot(psi)"
   ]
  },
  {
   "cell_type": "code",
   "execution_count": 259,
   "metadata": {},
   "outputs": [],
   "source": [
    "# reload(ms_hm.HM)\n",
    "# hm = HM(ms, mOverR=0.99, sm_sigma=15)\n",
    "# flag = hm.adap_run_steps(550000)\n",
    "# print(ms.delta, hm.BH_mass2())"
   ]
  },
  {
   "cell_type": "code",
   "execution_count": 108,
   "metadata": {},
   "outputs": [
    {
     "name": "stdout",
     "output_type": "stream",
     "text": [
      "Finding mass with amp 0.3\n",
      "Not Tracing ray and NO excision will be performed!\n",
      "Warning, the time step is too small!\n",
      "Tracing ray is enabled and excision will be performed!\n",
      "Photon has gone out of the outter boundary!\n",
      "2m/R is larger than 0.99\n",
      "0.481968477049894 60.14672721366863\n"
     ]
    },
    {
     "data": {
      "text/plain": [
       "(0.481968477049894, 60.14672721366863)"
      ]
     },
     "execution_count": 108,
     "metadata": {},
     "output_type": "execute_result"
    },
    {
     "data": {
      "image/png": "[encoded data removed]",
      "text/plain": [
       "<Figure size 432x288 with 1 Axes>"
      ]
     },
     "metadata": {
      "needs_background": "light"
     },
     "output_type": "display_data"
    }
   ],
   "source": [
    "find_mass(0.30, is_crit=False)"
   ]
  },
  {
   "cell_type": "code",
   "execution_count": 171,
   "metadata": {},
   "outputs": [
    {
     "name": "stdout",
     "output_type": "stream",
     "text": [
      "Finding mass with amp 0.29957632221281527\n",
      "Not Tracing ray and NO excision will be performed!\n",
      "Warning, the time step is too small!\n",
      "Tracing ray is enabled and excision will be performed!\n",
      "Photon has gone out of the outter boundary!\n",
      "2m/R is larger than 0.99\n",
      "0.4812869164555946 60.53504515280334\n"
     ]
    },
    {
     "data": {
      "text/plain": [
       "(0.4812869164555946, 60.53504515280334)"
      ]
     },
     "execution_count": 171,
     "metadata": {},
     "output_type": "execute_result"
    },
    {
     "data": {
      "image/png": "[encoded data removed]",
      "text/plain": [
       "<Figure size 432x288 with 1 Axes>"
      ]
     },
     "metadata": {
      "needs_background": "light"
     },
     "output_type": "display_data"
    }
   ],
   "source": [
    "find_mass(0.29957632221281527, is_crit=False)"
   ]
  },
  {
   "cell_type": "code",
   "execution_count": 14,
   "metadata": {},
   "outputs": [
    {
     "name": "stdout",
     "output_type": "stream",
     "text": [
      "Finding mass with amp 0.2728846216201781\n",
      "Not Tracing ray and NO excision will be performed!\n",
      "Warning, the time step is too small!\n",
      "Tracing ray is enabled and excision will be performed!\n",
      "Photon has gone out of the outter boundary!\n",
      "Warning, the time step is too small!\n",
      "0.42650921473655545 0.46829034947396747\n"
     ]
    },
    {
     "data": {
      "text/plain": [
       "(0.42650921473655545, 0.46829034947396747)"
      ]
     },
     "execution_count": 14,
     "metadata": {},
     "output_type": "execute_result"
    }
   ],
   "source": [
    "find_mass(0.2728846216201781, is_crit=True)"
   ]
  },
  {
   "cell_type": "code",
   "execution_count": null,
   "metadata": {},
   "outputs": [],
   "source": [
    "# Pipeline\n",
    "(crit, lower) = find_crit()\n",
    "\n",
    "lower_amp = lower + 5e-4\n",
    "\n",
    "res=critical_scaling(crit, lower_amp, lower_amp + 1e-3, n=10)"
   ]
  },
  {
   "cell_type": "code",
   "execution_count": null,
   "metadata": {},
   "outputs": [],
   "source": []
  },
  {
   "cell_type": "code",
   "execution_count": null,
   "metadata": {},
   "outputs": [],
   "source": []
  },
  {
   "cell_type": "code",
   "execution_count": null,
   "metadata": {},
   "outputs": [],
   "source": []
  },
  {
   "cell_type": "code",
   "execution_count": null,
   "metadata": {},
   "outputs": [],
   "source": []
  },
  {
   "cell_type": "code",
   "execution_count": null,
   "metadata": {},
   "outputs": [],
   "source": []
  },
  {
   "cell_type": "code",
   "execution_count": null,
   "metadata": {},
   "outputs": [],
   "source": []
  },
  {
   "cell_type": "code",
   "execution_count": null,
   "metadata": {},
   "outputs": [],
   "source": []
  },
  {
   "cell_type": "code",
   "execution_count": 108,
   "metadata": {},
   "outputs": [],
   "source": [
    "crit=0.2728846216201781"
   ]
  },
  {
   "cell_type": "code",
   "execution_count": 12,
   "metadata": {},
   "outputs": [],
   "source": [
    "lower_amp=crit+1e-6"
   ]
  },
  {
   "cell_type": "code",
   "execution_count": 16,
   "metadata": {},
   "outputs": [],
   "source": [
    "lower_amp=0.27337198"
   ]
  },
  {
   "cell_type": "code",
   "execution_count": null,
   "metadata": {
    "collapsed": true,
    "jupyter": {
     "outputs_hidden": true
    },
    "tags": []
   },
   "outputs": [
    {
     "name": "stdout",
     "output_type": "stream",
     "text": [
      "[0.27337198 0.27345479 0.27355236 0.27366732 0.27380277 0.27396237\n",
      " 0.27415042 0.27437198]\n",
      "Finding mass with amp 0.27337198\n",
      "Not Tracing ray and NO excision will be performed!\n",
      "Horizon is found, code will be terminated!\n",
      "Tracing ray is enabled and excision will be performed!\n",
      "Photon has gone out of the outter boundary!\n",
      "2m/R is larger than 0.99\n",
      "0.4273823294430452 1.148034605332311\n",
      "Finding mass with amp 0.2734547890533645\n",
      "Not Tracing ray and NO excision will be performed!\n",
      "Horizon is found, code will be terminated!\n",
      "Tracing ray is enabled and excision will be performed!\n",
      "Photon has gone out of the outter boundary!\n",
      "2m/R is larger than 0.99\n",
      "0.427527124118255 1.204846748688422\n",
      "Finding mass with amp 0.273552358712059\n",
      "Not Tracing ray and NO excision will be performed!\n",
      "Photon has gone out of the outter boundary!\n",
      "2m/R is larger than 0.99\n",
      "0.4277033295203114 1.2652040726771652\n",
      "Finding mass with amp 0.27366732003465566\n",
      "Not Tracing ray and NO excision will be performed!\n",
      "Horizon is found, code will be terminated!\n",
      "Tracing ray is enabled and excision will be performed!\n",
      "Photon has gone out of the outter boundary!\n",
      "2m/R is larger than 0.99\n",
      "0.42790853881163793 1.330387071168814\n",
      "Finding mass with amp 0.27380277306247186\n",
      "Not Tracing ray and NO excision will be performed!\n",
      "Horizon is found, code will be terminated!\n",
      "Tracing ray is enabled and excision will be performed!\n",
      "Photon has gone out of the outter boundary!\n",
      "Horizon is found, code will be terminated!\n",
      "Tracing ray is enabled and excision will be performed!\n",
      "Photon has gone out of the outter boundary!\n",
      "2m/R is larger than 0.99\n",
      "0.42844121141605496 1.4733379137699345\n",
      "Finding mass with amp 0.2741504157869203\n",
      "Not Tracing ray and NO excision will be performed!\n",
      "Horizon is found, code will be terminated!\n",
      "Tracing ray is enabled and excision will be performed!\n",
      "Photon has gone out of the outter boundary!\n",
      "2m/R is larger than 0.99\n",
      "0.42877516590169584 1.551574885556534\n",
      "Finding mass with amp 0.27437198\n",
      "Not Tracing ray and NO excision will be performed!\n",
      "Horizon is found, code will be terminated!\n",
      "Tracing ray is enabled and excision will be performed!\n",
      "Photon has gone out of the outter boundary!\n",
      "2m/R is larger than 0.99\n",
      "0.42917188835123476 1.6359810520062932\n",
      "Finding mass with amp 0.2729074096679687\n",
      "Not Tracing ray and NO excision will be performed!\n",
      "Horizon is found, code will be terminated!\n",
      "Tracing ray is enabled and excision will be performed!\n",
      "Photon has gone out of the outter boundary!\n"
     ]
    }
   ],
   "source": [
    "#(crit, lower_amp) = find_crit()\n",
    "res = critical_scaling(crit, lower_amp, lower_amp + 1e-3, 8)"
   ]
  },
  {
   "cell_type": "code",
   "execution_count": null,
   "metadata": {},
   "outputs": [],
   "source": []
  },
  {
   "cell_type": "code",
   "execution_count": 93,
   "metadata": {
    "collapsed": true,
    "jupyter": {
     "outputs_hidden": true
    },
    "tags": []
   },
   "outputs": [
    {
     "name": "stdout",
     "output_type": "stream",
     "text": [
      "Iteration No 0\n",
      "Trying with amplitude 0.265\n",
      "Not Tracing ray and NO excision will be performed!\n",
      "Iteration No 1\n",
      "Trying with amplitude 0.2725\n",
      "Not Tracing ray and NO excision will be performed!\n",
      "Iteration No 2\n",
      "Trying with amplitude 0.27625\n",
      "Not Tracing ray and NO excision will be performed!\n",
      "Horizon is found, code will be terminated!\n",
      "Iteration No 3\n",
      "Trying with amplitude 0.27437500000000004\n",
      "Not Tracing ray and NO excision will be performed!\n",
      "Horizon is found, code will be terminated!\n",
      "Iteration No 4\n",
      "Trying with amplitude 0.2734375\n",
      "Not Tracing ray and NO excision will be performed!\n",
      "Horizon is found, code will be terminated!\n",
      "Iteration No 5\n",
      "Trying with amplitude 0.27296875\n",
      "Not Tracing ray and NO excision will be performed!\n",
      "Horizon is found, code will be terminated!\n",
      "Iteration No 6\n",
      "Trying with amplitude 0.272734375\n",
      "Not Tracing ray and NO excision will be performed!\n",
      "Warning, the time step is too small!\n",
      "Iteration No 7\n",
      "Trying with amplitude 0.2728515625\n",
      "Not Tracing ray and NO excision will be performed!\n",
      "Warning, the time step is too small!\n",
      "Iteration No 8\n",
      "Trying with amplitude 0.27291015625\n",
      "Not Tracing ray and NO excision will be performed!\n",
      "Horizon is found, code will be terminated!\n",
      "Iteration No 9\n",
      "Trying with amplitude 0.27288085937499995\n",
      "Not Tracing ray and NO excision will be performed!\n",
      "Warning, the time step is too small!\n",
      "Iteration No 10\n",
      "Trying with amplitude 0.27289550781249994\n",
      "Not Tracing ray and NO excision will be performed!\n",
      "Horizon is found, code will be terminated!\n",
      "Iteration No 11\n",
      "Trying with amplitude 0.27288818359374994\n",
      "Not Tracing ray and NO excision will be performed!\n",
      "Horizon is found, code will be terminated!\n",
      "Iteration No 12\n",
      "Trying with amplitude 0.2728845214843749\n",
      "Not Tracing ray and NO excision will be performed!\n",
      "Warning, the time step is too small!\n",
      "Iteration No 13\n",
      "Trying with amplitude 0.27288635253906246\n",
      "Not Tracing ray and NO excision will be performed!\n",
      "Horizon is found, code will be terminated!\n",
      "Iteration No 14\n",
      "Trying with amplitude 0.2728854370117187\n",
      "Not Tracing ray and NO excision will be performed!\n",
      "Horizon is found, code will be terminated!\n",
      "Iteration No 15\n",
      "Trying with amplitude 0.2728849792480468\n",
      "Not Tracing ray and NO excision will be performed!\n",
      "Horizon is found, code will be terminated!\n",
      "Iteration No 16\n",
      "Trying with amplitude 0.27288475036621085\n",
      "Not Tracing ray and NO excision will be performed!\n",
      "Horizon is found, code will be terminated!\n",
      "Iteration No 17\n",
      "Trying with amplitude 0.2728846359252929\n",
      "Not Tracing ray and NO excision will be performed!\n",
      "Horizon is found, code will be terminated!\n",
      "Iteration No 18\n",
      "Trying with amplitude 0.2728845787048339\n",
      "Not Tracing ray and NO excision will be performed!\n",
      "Warning, the time step is too small!\n",
      "Iteration No 19\n",
      "Trying with amplitude 0.27288460731506337\n",
      "Not Tracing ray and NO excision will be performed!\n",
      "Warning, the time step is too small!\n"
     ]
    },
    {
     "data": {
      "text/plain": [
       "(0.2728846216201781, 0.2728846359252929)"
      ]
     },
     "execution_count": 93,
     "metadata": {},
     "output_type": "execute_result"
    }
   ],
   "source": [
    "find_crit()"
   ]
  },
  {
   "cell_type": "code",
   "execution_count": null,
   "metadata": {},
   "outputs": [
    {
     "name": "stdout",
     "output_type": "stream",
     "text": [
      "[0.27337198 0.27345741 0.27355782 0.27367583 0.27381453 0.27397755\n",
      " 0.27416913 0.27439431 0.27465895 0.27496999 0.27533555 0.2757652\n",
      " 0.27627016 0.27686364 0.27756116 0.27838095 0.27934445 0.28047685\n",
      " 0.28180776 0.28337198]\n",
      "Finding mass with amp 0.27337198\n",
      "Not Tracing ray and NO excision will be performed!\n",
      "Horizon is found, code will be terminated!\n",
      "Tracing ray is enabled and excision will be performed!\n",
      "Photon has gone out of the outter boundary!\n",
      "2m/R is larger than 0.99\n",
      "0.4273823294430452 1.148034605332311\n",
      "Finding mass with amp 0.2734574133467499\n",
      "Not Tracing ray and NO excision will be performed!\n",
      "Horizon is found, code will be terminated!\n",
      "Tracing ray is enabled and excision will be performed!\n",
      "Photon has gone out of the outter boundary!\n",
      "2m/R is larger than 0.99\n",
      "0.42753149745780306 1.2062082615909515\n",
      "Finding mass with amp 0.27355782305799675\n",
      "Not Tracing ray and NO excision will be performed!\n",
      "Horizon is found, code will be terminated!\n",
      "Tracing ray is enabled and excision will be performed!\n",
      "Photon has gone out of the outter boundary!\n",
      "2m/R is larger than 0.99\n",
      "0.4277124364979126 1.2684743872703175\n",
      "Finding mass with amp 0.2736758344726987\n",
      "Not Tracing ray and NO excision will be performed!\n"
     ]
    }
   ],
   "source": [
    "res = critical_scaling(crit, lower_amp, lower_amp + 1e-2, 20)"
   ]
  },
  {
   "cell_type": "code",
   "execution_count": null,
   "metadata": {},
   "outputs": [],
   "source": []
  },
  {
   "cell_type": "code",
   "execution_count": null,
   "metadata": {},
   "outputs": [],
   "source": []
  },
  {
   "cell_type": "code",
   "execution_count": null,
   "metadata": {},
   "outputs": [],
   "source": []
  },
  {
   "cell_type": "code",
   "execution_count": null,
   "metadata": {},
   "outputs": [],
   "source": []
  },
  {
   "cell_type": "code",
   "execution_count": null,
   "metadata": {},
   "outputs": [],
   "source": []
  },
  {
   "cell_type": "code",
   "execution_count": null,
   "metadata": {},
   "outputs": [],
   "source": []
  },
  {
   "cell_type": "code",
   "execution_count": 111,
   "metadata": {},
   "outputs": [
    {
     "data": {
      "text/plain": [
       "(array([[0.42738233, 1.14803461],\n",
       "        [0.42773956, 1.27594266],\n",
       "        [0.42823779, 1.42151099],\n",
       "        [0.42893848, 1.58691422],\n",
       "        [0.42992537, 1.77564082],\n",
       "        [0.43130684, 1.99096766],\n",
       "        [0.43326321, 2.23871257],\n",
       "        [0.43601007, 2.52723787],\n",
       "        [0.43987987, 2.86390604],\n",
       "        [0.44533904, 3.25821521]]),\n",
       " 0.42650921473654746)"
      ]
     },
     "execution_count": 111,
     "metadata": {},
     "output_type": "execute_result"
    }
   ],
   "source": [
    "res2"
   ]
  },
  {
   "cell_type": "code",
   "execution_count": 83,
   "metadata": {},
   "outputs": [
    {
     "data": {
      "text/plain": [
       "(array([[0.42738233, 1.14803461],\n",
       "        [0.42752712, 1.20484675],\n",
       "        [0.42770333, 1.26520407],\n",
       "        [0.42790854, 1.33038707],\n",
       "        [0.42815473, 1.39946888],\n",
       "        [0.42844121, 1.47333791],\n",
       "        [0.42877517, 1.55157489],\n",
       "        [0.42917189, 1.63598105]]),\n",
       " 0.4265539636281781)"
      ]
     },
     "execution_count": 83,
     "metadata": {},
     "output_type": "execute_result"
    }
   ],
   "source": [
    "res"
   ]
  },
  {
   "cell_type": "code",
   "execution_count": null,
   "metadata": {},
   "outputs": [],
   "source": [
    "0.42650921473654746"
   ]
  },
  {
   "cell_type": "code",
   "execution_count": null,
   "metadata": {},
   "outputs": [],
   "source": []
  },
  {
   "cell_type": "code",
   "execution_count": 127,
   "metadata": {},
   "outputs": [
    {
     "data": {
      "text/plain": [
       "[<matplotlib.lines.Line2D at 0x7f7ef35f7580>]"
      ]
     },
     "execution_count": 127,
     "metadata": {},
     "output_type": "execute_result"
    },
    {
     "data": {
      "image/png": "[encoded data removed]",
      "text/plain": [
       "<Figure size 432x288 with 1 Axes>"
      ]
     },
     "metadata": {
      "needs_background": "light"
     },
     "output_type": "display_data"
    }
   ],
   "source": [
    "(a, b ) = np.polyfit(np.log10(res2[0][:,0] - res2[1])[:], np.log10(res2[0][:,1])[:], deg=1)\n",
    "plt.scatter(np.log10(res2[0][:,0] - res2[1])[:], np.log10(res2[0][:,1])[:])\n",
    "plt.plot(np.arange(-3.1,-1.6,0.01), a * np.arange(-3.1,-1.6,0.01) + b)"
   ]
  },
  {
   "cell_type": "code",
   "execution_count": 107,
   "metadata": {},
   "outputs": [
    {
     "data": {
      "text/plain": [
       "4.474889163064155e-05"
      ]
     },
     "execution_count": 107,
     "metadata": {},
     "output_type": "execute_result"
    }
   ],
   "source": [
    "0.4265539636281781-0.42650921473654746"
   ]
  },
  {
   "cell_type": "code",
   "execution_count": 106,
   "metadata": {},
   "outputs": [
    {
     "data": {
      "text/plain": [
       "array([0.30727515, 1.00595765])"
      ]
     },
     "execution_count": 106,
     "metadata": {},
     "output_type": "execute_result"
    }
   ],
   "source": [
    "np.polyfit(np.log10(res[0][:,0] - 0.4265539636281781)[:], np.log10(res[0][:,1])[:], deg=1)"
   ]
  },
  {
   "cell_type": "code",
   "execution_count": 112,
   "metadata": {},
   "outputs": [
    {
     "data": {
      "text/plain": [
       "array([0.33894519, 1.08986276])"
      ]
     },
     "execution_count": 112,
     "metadata": {},
     "output_type": "execute_result"
    }
   ],
   "source": [
    "np.polyfit(np.log10(res2[0][:,0] - 0.42650921473654746)[:], np.log10(res2[0][:,1])[:], deg=1)"
   ]
  },
  {
   "cell_type": "code",
   "execution_count": 12,
   "metadata": {
    "tags": []
   },
   "outputs": [
    {
     "name": "stdout",
     "output_type": "stream",
     "text": [
      "Not Tracing ray and NO excision will be performed!\n",
      "Horizon is found, code will be terminated!\n",
      "CPU times: user 20.8 s, sys: 3.07 ms, total: 20.8 s\n",
      "Wall time: 20.8 s\n"
     ]
    },
    {
     "data": {
      "text/plain": [
       "-1"
      ]
     },
     "execution_count": 12,
     "metadata": {},
     "output_type": "execute_result"
    }
   ],
   "source": [
    "%%time\n",
    "ms.adap_run_steps(10000)"
   ]
  },
  {
   "cell_type": "code",
   "execution_count": 43,
   "metadata": {},
   "outputs": [
    {
     "name": "stdout",
     "output_type": "stream",
     "text": [
      "Tracing ray is enabled and excision will be performed!\n",
      "Photon has gone out of the outter boundary\n",
      "CPU times: user 3min 13s, sys: 13.5 ms, total: 3min 13s\n",
      "Wall time: 3min 13s\n"
     ]
    },
    {
     "data": {
      "text/plain": [
       "0"
      ]
     },
     "execution_count": 43,
     "metadata": {},
     "output_type": "execute_result"
    }
   ],
   "source": [
    "%%time\n",
    "ms.adap_run_steps(50000)"
   ]
  },
  {
   "cell_type": "code",
   "execution_count": 105,
   "metadata": {},
   "outputs": [
    {
     "data": {
      "text/plain": [
       "228.2141912190679"
      ]
     },
     "execution_count": 105,
     "metadata": {},
     "output_type": "execute_result"
    }
   ],
   "source": [
    "np.exp(ms.xi)"
   ]
  },
  {
   "cell_type": "code",
   "execution_count": 147,
   "metadata": {},
   "outputs": [
    {
     "data": {
      "text/plain": [
       "[<matplotlib.lines.Line2D at 0x7fa6401d28e0>]"
      ]
     },
     "execution_count": 147,
     "metadata": {},
     "output_type": "execute_result"
    },
    {
     "data": {
      "image/png": "[encoded data removed]",
      "text/plain": [
       "<Figure size 432x288 with 1 Axes>"
      ]
     },
     "metadata": {
      "needs_background": "light"
     },
     "output_type": "display_data"
    }
   ],
   "source": [
    "plt.plot(ms.Abar,ms.Abar-1/np.exp((ms.alpha-1) * ms.xi)/ms.R)"
   ]
  },
  {
   "cell_type": "code",
   "execution_count": 13,
   "metadata": {},
   "outputs": [
    {
     "data": {
      "text/plain": [
       "0.4260966968657298"
      ]
     },
     "execution_count": 13,
     "metadata": {},
     "output_type": "execute_result"
    }
   ],
   "source": [
    "ms.delta"
   ]
  },
  {
   "cell_type": "code",
   "execution_count": 138,
   "metadata": {},
   "outputs": [
    {
     "data": {
      "text/plain": [
       "0.4256870334507039"
      ]
     },
     "execution_count": 138,
     "metadata": {},
     "output_type": "execute_result"
    }
   ],
   "source": [
    "ms.delta"
   ]
  },
  {
   "cell_type": "code",
   "execution_count": 61,
   "metadata": {},
   "outputs": [
    {
     "data": {
      "text/plain": [
       "[<matplotlib.lines.Line2D at 0x7fa6405f8a90>]"
      ]
     },
     "execution_count": 61,
     "metadata": {},
     "output_type": "execute_result"
    },
    {
     "data": {
      "image/png": "[encoded data removed]",
      "text/plain": [
       "<Figure size 432x288 with 1 Axes>"
      ]
     },
     "metadata": {
      "needs_background": "light"
     },
     "output_type": "display_data"
    }
   ],
   "source": [
    "plt.plot(ms.Abar, ms.rho(ms.R, ms.m))\n",
    "#plt.plot(ms_std.Abar[0:ms.N-1], ms_std.U_hm)"
   ]
  },
  {
   "cell_type": "code",
   "execution_count": 63,
   "metadata": {},
   "outputs": [
    {
     "name": "stdout",
     "output_type": "stream",
     "text": [
      "Not Tracing ray and NO excision will be performed!\n"
     ]
    },
    {
     "name": "stderr",
     "output_type": "stream",
     "text": [
      "/home/chit/home/chit/criticalcollapse/ms_hm/MS.py:92: RuntimeWarning: overflow encountered in exp\n",
      "  ep = np.exp(self.psi(r, p, Pprime))\n",
      "/home/chit/home/chit/criticalcollapse/ms_hm/MS.py:68: RuntimeWarning: invalid value encountered in subtract\n",
      "  + (self.Abar * R)**2 * (U**2 - m))\n",
      "/home/chit/home/chit/criticalcollapse/ms_hm/MS.py:72: RuntimeWarning: invalid value encountered in add\n",
      "  return m + ms_rho_term(R, m, self.Abar)\n",
      "/home/chit/home/chit/criticalcollapse/ms_hm/MS.py:68: RuntimeWarning: overflow encountered in multiply\n",
      "  + (self.Abar * R)**2 * (U**2 - m))\n",
      "/home/chit/home/chit/criticalcollapse/ms_hm/MS.py:102: RuntimeWarning: overflow encountered in multiply\n",
      "  (self.Abar[1:]) ))  / (R * (AR_prime) * (r + p))\n",
      "/home/chit/home/chit/criticalcollapse/ms_hm/MS.py:100: RuntimeWarning: invalid value encountered in true_divide\n",
      "  (   g**2 * np.concatenate( ([self.w\n",
      "/home/chit/home/chit/criticalcollapse/ms_hm/MS.py:103: RuntimeWarning: invalid value encountered in add\n",
      "  + (2 * U**2 + m + 3 * p) / 2)\n"
     ]
    },
    {
     "data": {
      "text/plain": [
       "(0.0, 2.0)"
      ]
     },
     "execution_count": 63,
     "metadata": {},
     "output_type": "execute_result"
    },
    {
     "data": {
      "image/png": "[encoded data removed]",
      "text/plain": [
       "<Figure size 432x288 with 1 Axes>"
      ]
     },
     "metadata": {
      "needs_background": "light"
     },
     "output_type": "display_data"
    }
   ],
   "source": [
    "ms.run_steps(200)\n",
    "plt.plot(ms.Abar,ms.R**2 * ms.m * ms.Abar**2 * np.exp(2 * (ms.alpha-1) * ms.xi))\n",
    "plt.xlim(0,3)\n",
    "plt.ylim(0,2)"
   ]
  },
  {
   "cell_type": "code",
   "execution_count": 390,
   "metadata": {
    "tags": []
   },
   "outputs": [
    {
     "name": "stdout",
     "output_type": "stream",
     "text": [
      "Tracing ray is enabled and excision will be performed!\n",
      "Photon has gone out of the outter boundary!\n",
      "CPU times: user 19min 4s, sys: 72 ms, total: 19min 4s\n",
      "Wall time: 19min 4s\n"
     ]
    },
    {
     "data": {
      "text/plain": [
       "0"
      ]
     },
     "execution_count": 390,
     "metadata": {},
     "output_type": "execute_result"
    }
   ],
   "source": [
    "%%time\n",
    "ms.run_steps(250000)"
   ]
  },
  {
   "cell_type": "code",
   "execution_count": 391,
   "metadata": {},
   "outputs": [
    {
     "data": {
      "text/plain": [
       "[<matplotlib.lines.Line2D at 0x7fd47bf89dc0>]"
      ]
     },
     "execution_count": 391,
     "metadata": {},
     "output_type": "execute_result"
    },
    {
     "data": {
      "image/png": "[encoded data removed]",
      "text/plain": [
       "<Figure size 432x288 with 1 Axes>"
      ]
     },
     "metadata": {
      "needs_background": "light"
     },
     "output_type": "display_data"
    }
   ],
   "source": [
    "plt.plot(ms.Abar[0:ms.N-1], ms.U_hm )\n",
    "#plt.plot(ms_std.Abar[0:ms.N-1], ms_std.U_hm)"
   ]
  },
  {
   "cell_type": "code",
   "execution_count": 381,
   "metadata": {},
   "outputs": [],
   "source": [
    "import copy\n",
    "ms_high_bak = copy.copy(ms)"
   ]
  },
  {
   "cell_type": "code",
   "execution_count": 413,
   "metadata": {},
   "outputs": [],
   "source": [
    "hm = HM(ms, 0.99, 15)"
   ]
  },
  {
   "cell_type": "code",
   "execution_count": 309,
   "metadata": {},
   "outputs": [],
   "source": [
    "hm.adap_run_steps(1000)"
   ]
  },
  {
   "cell_type": "code",
   "execution_count": 301,
   "metadata": {
    "collapsed": true,
    "jupyter": {
     "outputs_hidden": true
    },
    "tags": []
   },
   "outputs": [
    {
     "name": "stdout",
     "output_type": "stream",
     "text": [
      "Warning, the time step is too small!\n",
      "Warning, the time step is too small!\n",
      "Warning, the time step is too small!\n",
      "Warning, the time step is too small!\n",
      "Warning, the time step is too small!\n",
      "Warning, the time step is too small!\n",
      "Warning, the time step is too small!\n",
      "Warning, the time step is too small!\n",
      "Warning, the time step is too small!\n",
      "Warning, the time step is too small!\n",
      "Warning, the time step is too small!\n",
      "Warning, the time step is too small!\n",
      "Warning, the time step is too small!\n",
      "Warning, the time step is too small!\n",
      "Warning, the time step is too small!\n",
      "Warning, the time step is too small!\n",
      "Warning, the time step is too small!\n",
      "Warning, the time step is too small!\n",
      "Warning, the time step is too small!\n",
      "Warning, the time step is too small!\n",
      "Warning, the time step is too small!\n",
      "Warning, the time step is too small!\n",
      "Warning, the time step is too small!\n",
      "Warning, the time step is too small!\n",
      "Warning, the time step is too small!\n",
      "Warning, the time step is too small!\n",
      "Warning, the time step is too small!\n",
      "Warning, the time step is too small!\n",
      "Warning, the time step is too small!\n",
      "Warning, the time step is too small!\n",
      "Warning, the time step is too small!\n",
      "Warning, the time step is too small!\n",
      "Warning, the time step is too small!\n",
      "Warning, the time step is too small!\n",
      "Warning, the time step is too small!\n",
      "Warning, the time step is too small!\n",
      "Warning, the time step is too small!\n",
      "Warning, the time step is too small!\n",
      "Warning, the time step is too small!\n",
      "Warning, the time step is too small!\n",
      "Warning, the time step is too small!\n",
      "Warning, the time step is too small!\n",
      "Warning, the time step is too small!\n",
      "Warning, the time step is too small!\n",
      "Warning, the time step is too small!\n",
      "Warning, the time step is too small!\n",
      "Warning, the time step is too small!\n",
      "Warning, the time step is too small!\n",
      "Warning, the time step is too small!\n",
      "Warning, the time step is too small!\n",
      "Warning, the time step is too small!\n",
      "Warning, the time step is too small!\n",
      "Warning, the time step is too small!\n",
      "Warning, the time step is too small!\n",
      "Warning, the time step is too small!\n",
      "Warning, the time step is too small!\n",
      "Warning, the time step is too small!\n",
      "Warning, the time step is too small!\n",
      "Warning, the time step is too small!\n",
      "Warning, the time step is too small!\n",
      "Warning, the time step is too small!\n",
      "Warning, the time step is too small!\n",
      "Warning, the time step is too small!\n",
      "Warning, the time step is too small!\n",
      "Warning, the time step is too small!\n",
      "Warning, the time step is too small!\n",
      "Warning, the time step is too small!\n",
      "Warning, the time step is too small!\n",
      "Warning, the time step is too small!\n",
      "Warning, the time step is too small!\n",
      "Warning, the time step is too small!\n",
      "Warning, the time step is too small!\n",
      "Warning, the time step is too small!\n",
      "Warning, the time step is too small!\n",
      "Warning, the time step is too small!\n",
      "Warning, the time step is too small!\n",
      "Warning, the time step is too small!\n",
      "Warning, the time step is too small!\n",
      "Warning, the time step is too small!\n",
      "Warning, the time step is too small!\n",
      "Warning, the time step is too small!\n",
      "Warning, the time step is too small!\n",
      "Warning, the time step is too small!\n",
      "Warning, the time step is too small!\n",
      "Warning, the time step is too small!\n",
      "Warning, the time step is too small!\n",
      "Warning, the time step is too small!\n",
      "Warning, the time step is too small!\n",
      "Warning, the time step is too small!\n",
      "Warning, the time step is too small!\n",
      "Warning, the time step is too small!\n",
      "Warning, the time step is too small!\n",
      "Warning, the time step is too small!\n",
      "Warning, the time step is too small!\n",
      "Warning, the time step is too small!\n",
      "Warning, the time step is too small!\n",
      "Warning, the time step is too small!\n",
      "Warning, the time step is too small!\n",
      "Warning, the time step is too small!\n",
      "Warning, the time step is too small!\n",
      "Warning, the time step is too small!\n",
      "Warning, the time step is too small!\n",
      "Warning, the time step is too small!\n",
      "Warning, the time step is too small!\n",
      "Warning, the time step is too small!\n",
      "Warning, the time step is too small!\n",
      "Warning, the time step is too small!\n",
      "Warning, the time step is too small!\n",
      "Warning, the time step is too small!\n",
      "Warning, the time step is too small!\n",
      "Warning, the time step is too small!\n",
      "Warning, the time step is too small!\n",
      "Warning, the time step is too small!\n",
      "Warning, the time step is too small!\n",
      "Warning, the time step is too small!\n",
      "Warning, the time step is too small!\n",
      "Warning, the time step is too small!\n",
      "Warning, the time step is too small!\n",
      "Warning, the time step is too small!\n",
      "Warning, the time step is too small!\n",
      "Warning, the time step is too small!\n",
      "Warning, the time step is too small!\n",
      "Warning, the time step is too small!\n",
      "Warning, the time step is too small!\n",
      "Warning, the time step is too small!\n",
      "Warning, the time step is too small!\n",
      "Warning, the time step is too small!\n",
      "Warning, the time step is too small!\n",
      "Warning, the time step is too small!\n",
      "Warning, the time step is too small!\n",
      "Warning, the time step is too small!\n",
      "Warning, the time step is too small!\n",
      "Warning, the time step is too small!\n",
      "Warning, the time step is too small!\n",
      "Warning, the time step is too small!\n",
      "Warning, the time step is too small!\n",
      "Warning, the time step is too small!\n",
      "Warning, the time step is too small!\n",
      "Warning, the time step is too small!\n",
      "Warning, the time step is too small!\n",
      "Warning, the time step is too small!\n",
      "Warning, the time step is too small!\n",
      "Warning, the time step is too small!\n",
      "Warning, the time step is too small!\n",
      "Warning, the time step is too small!\n",
      "Warning, the time step is too small!\n",
      "Warning, the time step is too small!\n",
      "Warning, the time step is too small!\n",
      "Warning, the time step is too small!\n",
      "Warning, the time step is too small!\n",
      "Warning, the time step is too small!\n",
      "Warning, the time step is too small!\n",
      "Warning, the time step is too small!\n",
      "Warning, the time step is too small!\n",
      "Warning, the time step is too small!\n",
      "Warning, the time step is too small!\n",
      "Warning, the time step is too small!\n",
      "Warning, the time step is too small!\n",
      "Warning, the time step is too small!\n",
      "Warning, the time step is too small!\n",
      "Warning, the time step is too small!\n",
      "Warning, the time step is too small!\n",
      "Warning, the time step is too small!\n",
      "Warning, the time step is too small!\n",
      "Warning, the time step is too small!\n",
      "Warning, the time step is too small!\n",
      "Warning, the time step is too small!\n",
      "Warning, the time step is too small!\n",
      "Warning, the time step is too small!\n",
      "Warning, the time step is too small!\n",
      "Warning, the time step is too small!\n",
      "Warning, the time step is too small!\n",
      "Warning, the time step is too small!\n",
      "Warning, the time step is too small!\n",
      "Warning, the time step is too small!\n",
      "Warning, the time step is too small!\n",
      "Warning, the time step is too small!\n",
      "Warning, the time step is too small!\n",
      "Warning, the time step is too small!\n",
      "Warning, the time step is too small!\n",
      "Warning, the time step is too small!\n",
      "Warning, the time step is too small!\n",
      "Warning, the time step is too small!\n",
      "Warning, the time step is too small!\n",
      "Warning, the time step is too small!\n",
      "Warning, the time step is too small!\n",
      "Warning, the time step is too small!\n",
      "Warning, the time step is too small!\n",
      "Warning, the time step is too small!\n",
      "Warning, the time step is too small!\n",
      "Warning, the time step is too small!\n",
      "Warning, the time step is too small!\n",
      "Warning, the time step is too small!\n",
      "Warning, the time step is too small!\n",
      "Warning, the time step is too small!\n",
      "Warning, the time step is too small!\n",
      "Warning, the time step is too small!\n",
      "Warning, the time step is too small!\n",
      "Warning, the time step is too small!\n",
      "Warning, the time step is too small!\n",
      "Warning, the time step is too small!\n",
      "Warning, the time step is too small!\n",
      "Warning, the time step is too small!\n",
      "Warning, the time step is too small!\n",
      "Warning, the time step is too small!\n",
      "Warning, the time step is too small!\n",
      "Warning, the time step is too small!\n",
      "Warning, the time step is too small!\n",
      "Warning, the time step is too small!\n",
      "Warning, the time step is too small!\n",
      "Warning, the time step is too small!\n",
      "Warning, the time step is too small!\n",
      "Warning, the time step is too small!\n",
      "Warning, the time step is too small!\n",
      "Warning, the time step is too small!\n",
      "Warning, the time step is too small!\n",
      "Warning, the time step is too small!\n",
      "Warning, the time step is too small!\n",
      "Warning, the time step is too small!\n",
      "Warning, the time step is too small!\n",
      "Warning, the time step is too small!\n",
      "Warning, the time step is too small!\n",
      "Warning, the time step is too small!\n",
      "Warning, the time step is too small!\n",
      "Warning, the time step is too small!\n",
      "Warning, the time step is too small!\n",
      "Warning, the time step is too small!\n",
      "Warning, the time step is too small!\n",
      "Warning, the time step is too small!\n",
      "Warning, the time step is too small!\n",
      "Warning, the time step is too small!\n",
      "Warning, the time step is too small!\n",
      "Warning, the time step is too small!\n",
      "Warning, the time step is too small!\n",
      "Warning, the time step is too small!\n",
      "Warning, the time step is too small!\n",
      "Warning, the time step is too small!\n",
      "Warning, the time step is too small!\n",
      "Warning, the time step is too small!\n",
      "Warning, the time step is too small!\n",
      "Warning, the time step is too small!\n",
      "Warning, the time step is too small!\n",
      "Warning, the time step is too small!\n",
      "Warning, the time step is too small!\n",
      "Warning, the time step is too small!\n",
      "Warning, the time step is too small!\n",
      "Warning, the time step is too small!\n",
      "Warning, the time step is too small!\n",
      "Warning, the time step is too small!\n",
      "Warning, the time step is too small!\n",
      "Warning, the time step is too small!\n",
      "Warning, the time step is too small!\n",
      "Warning, the time step is too small!\n",
      "Warning, the time step is too small!\n",
      "Warning, the time step is too small!\n",
      "Warning, the time step is too small!\n",
      "Warning, the time step is too small!\n",
      "Warning, the time step is too small!\n",
      "Warning, the time step is too small!\n",
      "Warning, the time step is too small!\n",
      "Warning, the time step is too small!\n",
      "Warning, the time step is too small!\n",
      "Warning, the time step is too small!\n",
      "Warning, the time step is too small!\n",
      "Warning, the time step is too small!\n",
      "Warning, the time step is too small!\n",
      "Warning, the time step is too small!\n",
      "Warning, the time step is too small!\n",
      "Warning, the time step is too small!\n",
      "Warning, the time step is too small!\n",
      "Warning, the time step is too small!\n",
      "Warning, the time step is too small!\n",
      "Warning, the time step is too small!\n",
      "Warning, the time step is too small!\n",
      "Warning, the time step is too small!\n",
      "Warning, the time step is too small!\n",
      "Warning, the time step is too small!\n",
      "Warning, the time step is too small!\n",
      "Warning, the time step is too small!\n",
      "Warning, the time step is too small!\n",
      "Warning, the time step is too small!\n",
      "Warning, the time step is too small!\n",
      "Warning, the time step is too small!\n",
      "Warning, the time step is too small!\n",
      "Warning, the time step is too small!\n",
      "Warning, the time step is too small!\n",
      "Warning, the time step is too small!\n",
      "Warning, the time step is too small!\n",
      "Warning, the time step is too small!\n",
      "Warning, the time step is too small!\n",
      "Warning, the time step is too small!\n",
      "Warning, the time step is too small!\n",
      "Warning, the time step is too small!\n",
      "Warning, the time step is too small!\n",
      "Warning, the time step is too small!\n",
      "Warning, the time step is too small!\n",
      "Warning, the time step is too small!\n",
      "Warning, the time step is too small!\n",
      "Warning, the time step is too small!\n",
      "Warning, the time step is too small!\n",
      "Warning, the time step is too small!\n",
      "Warning, the time step is too small!\n",
      "Warning, the time step is too small!\n",
      "Warning, the time step is too small!\n",
      "Warning, the time step is too small!\n",
      "Warning, the time step is too small!\n",
      "Warning, the time step is too small!\n",
      "Warning, the time step is too small!\n",
      "Warning, the time step is too small!\n",
      "Warning, the time step is too small!\n",
      "Warning, the time step is too small!\n",
      "Warning, the time step is too small!\n",
      "Warning, the time step is too small!\n",
      "Warning, the time step is too small!\n",
      "Warning, the time step is too small!\n",
      "Warning, the time step is too small!\n",
      "Warning, the time step is too small!\n",
      "Warning, the time step is too small!\n",
      "Warning, the time step is too small!\n",
      "Warning, the time step is too small!\n",
      "Warning, the time step is too small!\n",
      "Warning, the time step is too small!\n",
      "Warning, the time step is too small!\n",
      "Warning, the time step is too small!\n",
      "Warning, the time step is too small!\n",
      "Warning, the time step is too small!\n",
      "Warning, the time step is too small!\n",
      "Warning, the time step is too small!\n",
      "Warning, the time step is too small!\n",
      "Warning, the time step is too small!\n",
      "Warning, the time step is too small!\n",
      "Warning, the time step is too small!\n",
      "Warning, the time step is too small!\n",
      "Warning, the time step is too small!\n",
      "Warning, the time step is too small!\n",
      "Warning, the time step is too small!\n",
      "Warning, the time step is too small!\n",
      "Warning, the time step is too small!\n",
      "Warning, the time step is too small!\n",
      "Warning, the time step is too small!\n",
      "Warning, the time step is too small!\n",
      "Warning, the time step is too small!\n",
      "Warning, the time step is too small!\n",
      "Warning, the time step is too small!\n",
      "Warning, the time step is too small!\n",
      "Warning, the time step is too small!\n",
      "Warning, the time step is too small!\n",
      "Warning, the time step is too small!\n",
      "Warning, the time step is too small!\n",
      "Warning, the time step is too small!\n",
      "Warning, the time step is too small!\n",
      "Warning, the time step is too small!\n",
      "Warning, the time step is too small!\n",
      "Warning, the time step is too small!\n",
      "Warning, the time step is too small!\n",
      "Warning, the time step is too small!\n",
      "Warning, the time step is too small!\n",
      "Warning, the time step is too small!\n",
      "Warning, the time step is too small!\n",
      "Warning, the time step is too small!\n",
      "Warning, the time step is too small!\n",
      "Warning, the time step is too small!\n",
      "Warning, the time step is too small!\n",
      "Warning, the time step is too small!\n",
      "Warning, the time step is too small!\n",
      "Warning, the time step is too small!\n",
      "Warning, the time step is too small!\n",
      "Warning, the time step is too small!\n",
      "Warning, the time step is too small!\n",
      "Warning, the time step is too small!\n",
      "Warning, the time step is too small!\n",
      "Warning, the time step is too small!\n",
      "Warning, the time step is too small!\n",
      "Warning, the time step is too small!\n",
      "Warning, the time step is too small!\n",
      "Warning, the time step is too small!\n",
      "Warning, the time step is too small!\n",
      "Warning, the time step is too small!\n",
      "Warning, the time step is too small!\n",
      "Warning, the time step is too small!\n",
      "Warning, the time step is too small!\n",
      "Warning, the time step is too small!\n",
      "Warning, the time step is too small!\n",
      "Warning, the time step is too small!\n",
      "Warning, the time step is too small!\n",
      "Warning, the time step is too small!\n",
      "Warning, the time step is too small!\n",
      "Warning, the time step is too small!\n",
      "Warning, the time step is too small!\n",
      "Warning, the time step is too small!\n",
      "Warning, the time step is too small!\n",
      "Warning, the time step is too small!\n",
      "Warning, the time step is too small!\n",
      "Warning, the time step is too small!\n",
      "Warning, the time step is too small!\n",
      "Warning, the time step is too small!\n",
      "Warning, the time step is too small!\n",
      "Warning, the time step is too small!\n",
      "Warning, the time step is too small!\n",
      "Warning, the time step is too small!\n",
      "Warning, the time step is too small!\n",
      "Warning, the time step is too small!\n",
      "Warning, the time step is too small!\n",
      "Warning, the time step is too small!\n",
      "Warning, the time step is too small!\n",
      "Warning, the time step is too small!\n",
      "Warning, the time step is too small!\n",
      "Warning, the time step is too small!\n",
      "Warning, the time step is too small!\n",
      "Warning, the time step is too small!\n",
      "Warning, the time step is too small!\n",
      "Warning, the time step is too small!\n",
      "Warning, the time step is too small!\n",
      "Warning, the time step is too small!\n",
      "Warning, the time step is too small!\n",
      "Warning, the time step is too small!\n",
      "Warning, the time step is too small!\n",
      "Warning, the time step is too small!\n",
      "Warning, the time step is too small!\n",
      "Warning, the time step is too small!\n",
      "Warning, the time step is too small!\n",
      "Warning, the time step is too small!\n",
      "Warning, the time step is too small!\n",
      "Warning, the time step is too small!\n",
      "Warning, the time step is too small!\n",
      "Warning, the time step is too small!\n",
      "Warning, the time step is too small!\n",
      "Warning, the time step is too small!\n",
      "Warning, the time step is too small!\n",
      "Warning, the time step is too small!\n",
      "Warning, the time step is too small!\n",
      "Warning, the time step is too small!\n",
      "Warning, the time step is too small!\n",
      "Warning, the time step is too small!\n",
      "Warning, the time step is too small!\n",
      "Warning, the time step is too small!\n",
      "Warning, the time step is too small!\n",
      "Warning, the time step is too small!\n",
      "Warning, the time step is too small!\n",
      "Warning, the time step is too small!\n",
      "Warning, the time step is too small!\n",
      "Warning, the time step is too small!\n",
      "Warning, the time step is too small!\n",
      "Warning, the time step is too small!\n",
      "Warning, the time step is too small!\n",
      "Warning, the time step is too small!\n",
      "Warning, the time step is too small!\n",
      "Warning, the time step is too small!\n",
      "Warning, the time step is too small!\n",
      "Warning, the time step is too small!\n",
      "Warning, the time step is too small!\n",
      "Warning, the time step is too small!\n",
      "Warning, the time step is too small!\n",
      "Warning, the time step is too small!\n",
      "Warning, the time step is too small!\n",
      "Warning, the time step is too small!\n",
      "Warning, the time step is too small!\n",
      "Warning, the time step is too small!\n",
      "Warning, the time step is too small!\n",
      "Warning, the time step is too small!\n",
      "Warning, the time step is too small!\n",
      "Warning, the time step is too small!\n",
      "Warning, the time step is too small!\n",
      "Warning, the time step is too small!\n",
      "Warning, the time step is too small!\n",
      "Warning, the time step is too small!\n",
      "Warning, the time step is too small!\n",
      "Warning, the time step is too small!\n",
      "Warning, the time step is too small!\n",
      "Warning, the time step is too small!\n",
      "Warning, the time step is too small!\n",
      "Warning, the time step is too small!\n",
      "Warning, the time step is too small!\n",
      "Warning, the time step is too small!\n",
      "Warning, the time step is too small!\n",
      "Warning, the time step is too small!\n",
      "Warning, the time step is too small!\n",
      "Warning, the time step is too small!\n",
      "Warning, the time step is too small!\n",
      "Warning, the time step is too small!\n",
      "Warning, the time step is too small!\n",
      "Warning, the time step is too small!\n",
      "Warning, the time step is too small!\n",
      "Warning, the time step is too small!\n",
      "Warning, the time step is too small!\n",
      "Warning, the time step is too small!\n",
      "Warning, the time step is too small!\n",
      "Warning, the time step is too small!\n",
      "Warning, the time step is too small!\n",
      "Warning, the time step is too small!\n",
      "Warning, the time step is too small!\n",
      "Warning, the time step is too small!\n",
      "Warning, the time step is too small!\n",
      "Warning, the time step is too small!\n",
      "Warning, the time step is too small!\n",
      "Warning, the time step is too small!\n",
      "Warning, the time step is too small!\n",
      "Warning, the time step is too small!\n",
      "Warning, the time step is too small!\n",
      "Warning, the time step is too small!\n",
      "Warning, the time step is too small!\n",
      "Warning, the time step is too small!\n",
      "Warning, the time step is too small!\n",
      "Warning, the time step is too small!\n",
      "Warning, the time step is too small!\n",
      "Warning, the time step is too small!\n",
      "Warning, the time step is too small!\n",
      "Warning, the time step is too small!\n",
      "Warning, the time step is too small!\n",
      "Warning, the time step is too small!\n",
      "Warning, the time step is too small!\n",
      "Warning, the time step is too small!\n",
      "Warning, the time step is too small!\n",
      "Warning, the time step is too small!\n",
      "Warning, the time step is too small!\n",
      "Warning, the time step is too small!\n",
      "Warning, the time step is too small!\n",
      "Warning, the time step is too small!\n",
      "Warning, the time step is too small!\n",
      "Warning, the time step is too small!\n",
      "Warning, the time step is too small!\n",
      "Warning, the time step is too small!\n",
      "Warning, the time step is too small!\n",
      "Warning, the time step is too small!\n",
      "Warning, the time step is too small!\n",
      "Warning, the time step is too small!\n",
      "Warning, the time step is too small!\n",
      "Warning, the time step is too small!\n",
      "Warning, the time step is too small!\n",
      "Warning, the time step is too small!\n",
      "Warning, the time step is too small!\n",
      "Warning, the time step is too small!\n",
      "Warning, the time step is too small!\n",
      "Warning, the time step is too small!\n",
      "Warning, the time step is too small!\n",
      "Warning, the time step is too small!\n",
      "Warning, the time step is too small!\n",
      "Warning, the time step is too small!\n",
      "Warning, the time step is too small!\n",
      "Warning, the time step is too small!\n",
      "Warning, the time step is too small!\n",
      "Warning, the time step is too small!\n",
      "Warning, the time step is too small!\n",
      "Warning, the time step is too small!\n",
      "Warning, the time step is too small!\n",
      "Warning, the time step is too small!\n",
      "Warning, the time step is too small!\n",
      "Warning, the time step is too small!\n",
      "Warning, the time step is too small!\n",
      "Warning, the time step is too small!\n",
      "Warning, the time step is too small!\n",
      "Warning, the time step is too small!\n",
      "Warning, the time step is too small!\n",
      "Warning, the time step is too small!\n",
      "Warning, the time step is too small!\n",
      "Warning, the time step is too small!\n",
      "Warning, the time step is too small!\n",
      "Warning, the time step is too small!\n",
      "Warning, the time step is too small!\n",
      "Warning, the time step is too small!\n",
      "Warning, the time step is too small!\n",
      "Warning, the time step is too small!\n",
      "Warning, the time step is too small!\n",
      "Warning, the time step is too small!\n",
      "Warning, the time step is too small!\n",
      "Warning, the time step is too small!\n",
      "Warning, the time step is too small!\n",
      "Warning, the time step is too small!\n",
      "Warning, the time step is too small!\n",
      "Warning, the time step is too small!\n",
      "Warning, the time step is too small!\n",
      "Warning, the time step is too small!\n",
      "Warning, the time step is too small!\n",
      "Warning, the time step is too small!\n",
      "Warning, the time step is too small!\n",
      "Warning, the time step is too small!\n",
      "Warning, the time step is too small!\n",
      "Warning, the time step is too small!\n",
      "Warning, the time step is too small!\n",
      "Warning, the time step is too small!\n",
      "Warning, the time step is too small!\n",
      "Warning, the time step is too small!\n",
      "Warning, the time step is too small!\n",
      "Warning, the time step is too small!\n",
      "Warning, the time step is too small!\n",
      "Warning, the time step is too small!\n",
      "Warning, the time step is too small!\n",
      "Warning, the time step is too small!\n",
      "Warning, the time step is too small!\n",
      "Warning, the time step is too small!\n",
      "Warning, the time step is too small!\n",
      "Warning, the time step is too small!\n",
      "Warning, the time step is too small!\n",
      "Warning, the time step is too small!\n",
      "Warning, the time step is too small!\n",
      "Warning, the time step is too small!\n",
      "Warning, the time step is too small!\n",
      "Warning, the time step is too small!\n",
      "Warning, the time step is too small!\n",
      "Warning, the time step is too small!\n",
      "Warning, the time step is too small!\n",
      "Warning, the time step is too small!\n",
      "Warning, the time step is too small!\n",
      "Warning, the time step is too small!\n",
      "Warning, the time step is too small!\n",
      "Warning, the time step is too small!\n",
      "Warning, the time step is too small!\n",
      "Warning, the time step is too small!\n",
      "Warning, the time step is too small!\n",
      "Warning, the time step is too small!\n",
      "Warning, the time step is too small!\n",
      "Warning, the time step is too small!\n",
      "Warning, the time step is too small!\n",
      "Warning, the time step is too small!\n",
      "Warning, the time step is too small!\n",
      "Warning, the time step is too small!\n",
      "Warning, the time step is too small!\n",
      "Warning, the time step is too small!\n",
      "Warning, the time step is too small!\n",
      "Warning, the time step is too small!\n",
      "Warning, the time step is too small!\n",
      "Warning, the time step is too small!\n",
      "Warning, the time step is too small!\n",
      "Warning, the time step is too small!\n",
      "Warning, the time step is too small!\n",
      "Warning, the time step is too small!\n",
      "Warning, the time step is too small!\n",
      "Warning, the time step is too small!\n",
      "Warning, the time step is too small!\n",
      "Warning, the time step is too small!\n",
      "Warning, the time step is too small!\n",
      "Warning, the time step is too small!\n",
      "Warning, the time step is too small!\n",
      "Warning, the time step is too small!\n",
      "Warning, the time step is too small!\n",
      "Warning, the time step is too small!\n",
      "Warning, the time step is too small!\n",
      "Warning, the time step is too small!\n",
      "Warning, the time step is too small!\n",
      "Warning, the time step is too small!\n",
      "Warning, the time step is too small!\n",
      "Warning, the time step is too small!\n",
      "Warning, the time step is too small!\n",
      "Warning, the time step is too small!\n",
      "Warning, the time step is too small!\n",
      "Warning, the time step is too small!\n",
      "Warning, the time step is too small!\n",
      "Warning, the time step is too small!\n",
      "Warning, the time step is too small!\n",
      "Warning, the time step is too small!\n",
      "Warning, the time step is too small!\n",
      "Warning, the time step is too small!\n",
      "Warning, the time step is too small!\n",
      "Warning, the time step is too small!\n",
      "Warning, the time step is too small!\n",
      "Warning, the time step is too small!\n",
      "Warning, the time step is too small!\n",
      "Warning, the time step is too small!\n",
      "Warning, the time step is too small!\n",
      "Warning, the time step is too small!\n",
      "Warning, the time step is too small!\n",
      "Warning, the time step is too small!\n",
      "Warning, the time step is too small!\n",
      "Warning, the time step is too small!\n",
      "Warning, the time step is too small!\n",
      "Warning, the time step is too small!\n",
      "Warning, the time step is too small!\n",
      "Warning, the time step is too small!\n",
      "Warning, the time step is too small!\n",
      "Warning, the time step is too small!\n",
      "Warning, the time step is too small!\n",
      "Warning, the time step is too small!\n",
      "Warning, the time step is too small!\n",
      "Warning, the time step is too small!\n",
      "Warning, the time step is too small!\n",
      "Warning, the time step is too small!\n",
      "Warning, the time step is too small!\n",
      "Warning, the time step is too small!\n",
      "Warning, the time step is too small!\n",
      "Warning, the time step is too small!\n",
      "Warning, the time step is too small!\n",
      "Warning, the time step is too small!\n",
      "Warning, the time step is too small!\n",
      "Warning, the time step is too small!\n",
      "Warning, the time step is too small!\n",
      "Warning, the time step is too small!\n",
      "Warning, the time step is too small!\n",
      "Warning, the time step is too small!\n",
      "Warning, the time step is too small!\n",
      "Warning, the time step is too small!\n",
      "Warning, the time step is too small!\n",
      "Warning, the time step is too small!\n",
      "Warning, the time step is too small!\n",
      "Warning, the time step is too small!\n",
      "Warning, the time step is too small!\n",
      "Warning, the time step is too small!\n",
      "Warning, the time step is too small!\n",
      "Warning, the time step is too small!\n",
      "Warning, the time step is too small!\n",
      "Warning, the time step is too small!\n",
      "Warning, the time step is too small!\n",
      "Warning, the time step is too small!\n",
      "Warning, the time step is too small!\n",
      "Warning, the time step is too small!\n",
      "Warning, the time step is too small!\n",
      "Warning, the time step is too small!\n",
      "Warning, the time step is too small!\n",
      "Warning, the time step is too small!\n",
      "Warning, the time step is too small!\n",
      "Warning, the time step is too small!\n",
      "Warning, the time step is too small!\n",
      "Warning, the time step is too small!\n",
      "Warning, the time step is too small!\n",
      "Warning, the time step is too small!\n",
      "Warning, the time step is too small!\n",
      "Warning, the time step is too small!\n",
      "Warning, the time step is too small!\n",
      "Warning, the time step is too small!\n",
      "Warning, the time step is too small!\n",
      "Warning, the time step is too small!\n",
      "Warning, the time step is too small!\n",
      "Warning, the time step is too small!\n",
      "Warning, the time step is too small!\n",
      "Warning, the time step is too small!\n",
      "Warning, the time step is too small!\n",
      "Warning, the time step is too small!\n",
      "Warning, the time step is too small!\n",
      "Warning, the time step is too small!\n",
      "Warning, the time step is too small!\n",
      "Warning, the time step is too small!\n",
      "Warning, the time step is too small!\n",
      "Warning, the time step is too small!\n",
      "Warning, the time step is too small!\n",
      "Warning, the time step is too small!\n",
      "Warning, the time step is too small!\n",
      "Warning, the time step is too small!\n",
      "Warning, the time step is too small!\n",
      "Warning, the time step is too small!\n",
      "Warning, the time step is too small!\n",
      "Warning, the time step is too small!\n",
      "Warning, the time step is too small!\n",
      "Warning, the time step is too small!\n",
      "Warning, the time step is too small!\n",
      "Warning, the time step is too small!\n",
      "Warning, the time step is too small!\n",
      "Warning, the time step is too small!\n",
      "Warning, the time step is too small!\n",
      "Warning, the time step is too small!\n",
      "Warning, the time step is too small!\n",
      "Warning, the time step is too small!\n",
      "Warning, the time step is too small!\n",
      "Warning, the time step is too small!\n",
      "Warning, the time step is too small!\n",
      "Warning, the time step is too small!\n",
      "Warning, the time step is too small!\n",
      "Warning, the time step is too small!\n",
      "Warning, the time step is too small!\n",
      "Warning, the time step is too small!\n",
      "Warning, the time step is too small!\n",
      "Warning, the time step is too small!\n",
      "Warning, the time step is too small!\n",
      "Warning, the time step is too small!\n",
      "Warning, the time step is too small!\n",
      "Warning, the time step is too small!\n",
      "Warning, the time step is too small!\n",
      "Warning, the time step is too small!\n",
      "Warning, the time step is too small!\n",
      "Warning, the time step is too small!\n",
      "Warning, the time step is too small!\n",
      "Warning, the time step is too small!\n",
      "Warning, the time step is too small!\n",
      "Warning, the time step is too small!\n",
      "Warning, the time step is too small!\n",
      "Warning, the time step is too small!\n",
      "Warning, the time step is too small!\n",
      "Warning, the time step is too small!\n",
      "Warning, the time step is too small!\n",
      "Warning, the time step is too small!\n",
      "Warning, the time step is too small!\n",
      "Warning, the time step is too small!\n",
      "Warning, the time step is too small!\n",
      "Warning, the time step is too small!\n",
      "Warning, the time step is too small!\n",
      "Warning, the time step is too small!\n",
      "Warning, the time step is too small!\n",
      "Warning, the time step is too small!\n",
      "Warning, the time step is too small!\n",
      "Warning, the time step is too small!\n",
      "Warning, the time step is too small!\n",
      "Warning, the time step is too small!\n",
      "Warning, the time step is too small!\n",
      "Warning, the time step is too small!\n",
      "Warning, the time step is too small!\n",
      "Warning, the time step is too small!\n",
      "Warning, the time step is too small!\n",
      "Warning, the time step is too small!\n",
      "Warning, the time step is too small!\n",
      "Warning, the time step is too small!\n",
      "Warning, the time step is too small!\n",
      "Warning, the time step is too small!\n",
      "Warning, the time step is too small!\n",
      "Warning, the time step is too small!\n",
      "Warning, the time step is too small!\n",
      "Warning, the time step is too small!\n",
      "Warning, the time step is too small!\n",
      "Warning, the time step is too small!\n",
      "Warning, the time step is too small!\n",
      "Warning, the time step is too small!\n",
      "Warning, the time step is too small!\n",
      "Warning, the time step is too small!\n",
      "Warning, the time step is too small!\n",
      "Warning, the time step is too small!\n",
      "Warning, the time step is too small!\n",
      "Warning, the time step is too small!\n",
      "Warning, the time step is too small!\n",
      "Warning, the time step is too small!\n",
      "Warning, the time step is too small!\n",
      "Warning, the time step is too small!\n",
      "Warning, the time step is too small!\n",
      "Warning, the time step is too small!\n",
      "Warning, the time step is too small!\n",
      "Warning, the time step is too small!\n",
      "Warning, the time step is too small!\n",
      "Warning, the time step is too small!\n",
      "Warning, the time step is too small!\n",
      "Warning, the time step is too small!\n",
      "Warning, the time step is too small!\n",
      "Warning, the time step is too small!\n",
      "Warning, the time step is too small!\n",
      "Warning, the time step is too small!\n",
      "Warning, the time step is too small!\n",
      "Warning, the time step is too small!\n",
      "Warning, the time step is too small!\n",
      "Warning, the time step is too small!\n",
      "Warning, the time step is too small!\n",
      "Warning, the time step is too small!\n",
      "Warning, the time step is too small!\n",
      "Warning, the time step is too small!\n",
      "Warning, the time step is too small!\n",
      "Warning, the time step is too small!\n",
      "Warning, the time step is too small!\n",
      "Warning, the time step is too small!\n",
      "Warning, the time step is too small!\n",
      "Warning, the time step is too small!\n",
      "Warning, the time step is too small!\n",
      "Warning, the time step is too small!\n",
      "Warning, the time step is too small!\n",
      "Warning, the time step is too small!\n",
      "Warning, the time step is too small!\n",
      "Warning, the time step is too small!\n",
      "Warning, the time step is too small!\n",
      "Warning, the time step is too small!\n",
      "Warning, the time step is too small!\n",
      "Warning, the time step is too small!\n",
      "Warning, the time step is too small!\n",
      "Warning, the time step is too small!\n",
      "Warning, the time step is too small!\n",
      "Warning, the time step is too small!\n",
      "Warning, the time step is too small!\n",
      "Warning, the time step is too small!\n",
      "Warning, the time step is too small!\n",
      "Warning, the time step is too small!\n",
      "Warning, the time step is too small!\n",
      "Warning, the time step is too small!\n",
      "Warning, the time step is too small!\n",
      "Warning, the time step is too small!\n",
      "Warning, the time step is too small!\n",
      "Warning, the time step is too small!\n",
      "Warning, the time step is too small!\n",
      "Warning, the time step is too small!\n",
      "Warning, the time step is too small!\n",
      "Warning, the time step is too small!\n",
      "Warning, the time step is too small!\n",
      "Warning, the time step is too small!\n",
      "Warning, the time step is too small!\n",
      "Warning, the time step is too small!\n",
      "Warning, the time step is too small!\n",
      "Warning, the time step is too small!\n",
      "Warning, the time step is too small!\n",
      "Warning, the time step is too small!\n",
      "Warning, the time step is too small!\n",
      "Warning, the time step is too small!\n",
      "Warning, the time step is too small!\n",
      "Warning, the time step is too small!\n",
      "Warning, the time step is too small!\n",
      "Warning, the time step is too small!\n",
      "Warning, the time step is too small!\n",
      "Warning, the time step is too small!\n",
      "Warning, the time step is too small!\n",
      "Warning, the time step is too small!\n",
      "Warning, the time step is too small!\n",
      "Warning, the time step is too small!\n",
      "Warning, the time step is too small!\n",
      "Warning, the time step is too small!\n",
      "Warning, the time step is too small!\n",
      "Warning, the time step is too small!\n",
      "Warning, the time step is too small!\n",
      "Warning, the time step is too small!\n",
      "Warning, the time step is too small!\n",
      "Warning, the time step is too small!\n",
      "Warning, the time step is too small!\n",
      "Warning, the time step is too small!\n",
      "Warning, the time step is too small!\n",
      "Warning, the time step is too small!\n",
      "Warning, the time step is too small!\n",
      "Warning, the time step is too small!\n",
      "Warning, the time step is too small!\n",
      "Warning, the time step is too small!\n",
      "Warning, the time step is too small!\n",
      "Warning, the time step is too small!\n",
      "Warning, the time step is too small!\n",
      "Warning, the time step is too small!\n",
      "Warning, the time step is too small!\n",
      "Warning, the time step is too small!\n",
      "Warning, the time step is too small!\n",
      "Warning, the time step is too small!\n",
      "Warning, the time step is too small!\n",
      "Warning, the time step is too small!\n",
      "Warning, the time step is too small!\n",
      "Warning, the time step is too small!\n",
      "Warning, the time step is too small!\n",
      "Warning, the time step is too small!\n",
      "Warning, the time step is too small!\n",
      "Warning, the time step is too small!\n",
      "Warning, the time step is too small!\n",
      "Warning, the time step is too small!\n",
      "Warning, the time step is too small!\n",
      "Warning, the time step is too small!\n",
      "Warning, the time step is too small!\n",
      "Warning, the time step is too small!\n",
      "Warning, the time step is too small!\n",
      "Warning, the time step is too small!\n",
      "Warning, the time step is too small!\n",
      "Warning, the time step is too small!\n",
      "Warning, the time step is too small!\n",
      "Warning, the time step is too small!\n",
      "Warning, the time step is too small!\n",
      "Warning, the time step is too small!\n",
      "Warning, the time step is too small!\n",
      "Warning, the time step is too small!\n",
      "Warning, the time step is too small!\n",
      "Warning, the time step is too small!\n",
      "Warning, the time step is too small!\n",
      "Warning, the time step is too small!\n",
      "Warning, the time step is too small!\n",
      "Warning, the time step is too small!\n",
      "Warning, the time step is too small!\n",
      "Warning, the time step is too small!\n",
      "Warning, the time step is too small!\n",
      "Warning, the time step is too small!\n",
      "Warning, the time step is too small!\n",
      "Warning, the time step is too small!\n",
      "Warning, the time step is too small!\n",
      "Warning, the time step is too small!\n",
      "Warning, the time step is too small!\n",
      "Warning, the time step is too small!\n",
      "Warning, the time step is too small!\n",
      "Warning, the time step is too small!\n",
      "Warning, the time step is too small!\n",
      "Warning, the time step is too small!\n",
      "Warning, the time step is too small!\n",
      "Warning, the time step is too small!\n",
      "Warning, the time step is too small!\n",
      "Warning, the time step is too small!\n",
      "Warning, the time step is too small!\n",
      "Warning, the time step is too small!\n",
      "Warning, the time step is too small!\n",
      "Warning, the time step is too small!\n",
      "Warning, the time step is too small!\n",
      "Warning, the time step is too small!\n",
      "Warning, the time step is too small!\n",
      "Warning, the time step is too small!\n",
      "Warning, the time step is too small!\n",
      "Warning, the time step is too small!\n",
      "Warning, the time step is too small!\n",
      "Warning, the time step is too small!\n",
      "Warning, the time step is too small!\n",
      "Warning, the time step is too small!\n",
      "Warning, the time step is too small!\n",
      "Warning, the time step is too small!\n",
      "Warning, the time step is too small!\n",
      "Warning, the time step is too small!\n",
      "Warning, the time step is too small!\n",
      "Warning, the time step is too small!\n",
      "Warning, the time step is too small!\n",
      "Warning, the time step is too small!\n",
      "Warning, the time step is too small!\n",
      "Warning, the time step is too small!\n",
      "Warning, the time step is too small!\n",
      "Warning, the time step is too small!\n",
      "Warning, the time step is too small!\n",
      "Warning, the time step is too small!\n",
      "Warning, the time step is too small!\n",
      "Warning, the time step is too small!\n",
      "Warning, the time step is too small!\n",
      "Warning, the time step is too small!\n",
      "Warning, the time step is too small!\n",
      "Warning, the time step is too small!\n",
      "Warning, the time step is too small!\n",
      "Warning, the time step is too small!\n",
      "Warning, the time step is too small!\n",
      "Warning, the time step is too small!\n",
      "Warning, the time step is too small!\n",
      "Warning, the time step is too small!\n",
      "Warning, the time step is too small!\n",
      "Warning, the time step is too small!\n",
      "Warning, the time step is too small!\n",
      "Warning, the time step is too small!\n",
      "Warning, the time step is too small!\n",
      "Warning, the time step is too small!\n",
      "Warning, the time step is too small!\n",
      "Warning, the time step is too small!\n",
      "Warning, the time step is too small!\n",
      "Warning, the time step is too small!\n",
      "Warning, the time step is too small!\n",
      "Warning, the time step is too small!\n",
      "Warning, the time step is too small!\n",
      "Warning, the time step is too small!\n",
      "Warning, the time step is too small!\n",
      "Warning, the time step is too small!\n",
      "Warning, the time step is too small!\n",
      "Warning, the time step is too small!\n",
      "Warning, the time step is too small!\n",
      "Warning, the time step is too small!\n",
      "Warning, the time step is too small!\n",
      "Warning, the time step is too small!\n",
      "Warning, the time step is too small!\n",
      "Warning, the time step is too small!\n",
      "Warning, the time step is too small!\n",
      "Warning, the time step is too small!\n",
      "Warning, the time step is too small!\n",
      "Warning, the time step is too small!\n",
      "Warning, the time step is too small!\n",
      "Warning, the time step is too small!\n",
      "Warning, the time step is too small!\n",
      "Warning, the time step is too small!\n",
      "Warning, the time step is too small!\n",
      "Warning, the time step is too small!\n",
      "Warning, the time step is too small!\n",
      "Warning, the time step is too small!\n",
      "Warning, the time step is too small!\n",
      "Warning, the time step is too small!\n",
      "Warning, the time step is too small!\n",
      "Warning, the time step is too small!\n",
      "Warning, the time step is too small!\n",
      "Warning, the time step is too small!\n",
      "Warning, the time step is too small!\n",
      "Warning, the time step is too small!\n",
      "Warning, the time step is too small!\n",
      "Warning, the time step is too small!\n",
      "Warning, the time step is too small!\n",
      "Warning, the time step is too small!\n",
      "Warning, the time step is too small!\n",
      "Warning, the time step is too small!\n",
      "Warning, the time step is too small!\n",
      "Warning, the time step is too small!\n",
      "Warning, the time step is too small!\n",
      "Warning, the time step is too small!\n",
      "Warning, the time step is too small!\n",
      "Warning, the time step is too small!\n",
      "Warning, the time step is too small!\n",
      "Warning, the time step is too small!\n",
      "Warning, the time step is too small!\n",
      "Warning, the time step is too small!\n",
      "Warning, the time step is too small!\n",
      "Warning, the time step is too small!\n",
      "Warning, the time step is too small!\n",
      "Warning, the time step is too small!\n",
      "Warning, the time step is too small!\n",
      "Warning, the time step is too small!\n",
      "Warning, the time step is too small!\n",
      "Warning, the time step is too small!\n",
      "Warning, the time step is too small!\n",
      "Warning, the time step is too small!\n",
      "Warning, the time step is too small!\n",
      "Warning, the time step is too small!\n",
      "Warning, the time step is too small!\n",
      "Warning, the time step is too small!\n",
      "Warning, the time step is too small!\n",
      "Warning, the time step is too small!\n",
      "Warning, the time step is too small!\n",
      "Warning, the time step is too small!\n",
      "Warning, the time step is too small!\n",
      "Warning, the time step is too small!\n",
      "Warning, the time step is too small!\n",
      "Warning, the time step is too small!\n",
      "Warning, the time step is too small!\n",
      "Warning, the time step is too small!\n",
      "Warning, the time step is too small!\n",
      "Warning, the time step is too small!\n",
      "Warning, the time step is too small!\n",
      "Warning, the time step is too small!\n",
      "Warning, the time step is too small!\n",
      "Warning, the time step is too small!\n",
      "Warning, the time step is too small!\n",
      "Warning, the time step is too small!\n",
      "Warning, the time step is too small!\n",
      "Warning, the time step is too small!\n",
      "Warning, the time step is too small!\n",
      "Warning, the time step is too small!\n",
      "Warning, the time step is too small!\n",
      "Warning, the time step is too small!\n",
      "Warning, the time step is too small!\n",
      "Warning, the time step is too small!\n",
      "Warning, the time step is too small!\n",
      "Warning, the time step is too small!\n",
      "Warning, the time step is too small!\n",
      "Warning, the time step is too small!\n",
      "Warning, the time step is too small!\n",
      "Warning, the time step is too small!\n",
      "Warning, the time step is too small!\n",
      "Warning, the time step is too small!\n",
      "Warning, the time step is too small!\n",
      "Warning, the time step is too small!\n",
      "Warning, the time step is too small!\n",
      "Warning, the time step is too small!\n",
      "Warning, the time step is too small!\n",
      "Warning, the time step is too small!\n",
      "Warning, the time step is too small!\n",
      "Warning, the time step is too small!\n",
      "Warning, the time step is too small!\n",
      "Warning, the time step is too small!\n",
      "Warning, the time step is too small!\n",
      "Warning, the time step is too small!\n",
      "Warning, the time step is too small!\n",
      "Warning, the time step is too small!\n",
      "Warning, the time step is too small!\n",
      "Warning, the time step is too small!\n",
      "Warning, the time step is too small!\n",
      "Warning, the time step is too small!\n",
      "Warning, the time step is too small!\n",
      "Warning, the time step is too small!\n",
      "Warning, the time step is too small!\n",
      "Warning, the time step is too small!\n",
      "Warning, the time step is too small!\n",
      "Warning, the time step is too small!\n",
      "Warning, the time step is too small!\n",
      "Warning, the time step is too small!\n",
      "Warning, the time step is too small!\n",
      "Warning, the time step is too small!\n",
      "Warning, the time step is too small!\n",
      "Warning, the time step is too small!\n",
      "Warning, the time step is too small!\n",
      "Warning, the time step is too small!\n",
      "Warning, the time step is too small!\n",
      "Warning, the time step is too small!\n",
      "Warning, the time step is too small!\n",
      "Warning, the time step is too small!\n",
      "Warning, the time step is too small!\n",
      "Warning, the time step is too small!\n",
      "Warning, the time step is too small!\n",
      "Warning, the time step is too small!\n",
      "Warning, the time step is too small!\n",
      "Warning, the time step is too small!\n",
      "Warning, the time step is too small!\n",
      "Warning, the time step is too small!\n",
      "Warning, the time step is too small!\n",
      "Warning, the time step is too small!\n",
      "Warning, the time step is too small!\n",
      "Warning, the time step is too small!\n",
      "Warning, the time step is too small!\n",
      "Warning, the time step is too small!\n",
      "Warning, the time step is too small!\n",
      "Warning, the time step is too small!\n",
      "Warning, the time step is too small!\n",
      "Warning, the time step is too small!\n",
      "Warning, the time step is too small!\n",
      "Warning, the time step is too small!\n",
      "Warning, the time step is too small!\n",
      "Warning, the time step is too small!\n",
      "Warning, the time step is too small!\n",
      "Warning, the time step is too small!\n",
      "Warning, the time step is too small!\n",
      "Warning, the time step is too small!\n",
      "Warning, the time step is too small!\n",
      "Warning, the time step is too small!\n",
      "Warning, the time step is too small!\n",
      "Warning, the time step is too small!\n",
      "Warning, the time step is too small!\n",
      "Warning, the time step is too small!\n",
      "Warning, the time step is too small!\n",
      "Warning, the time step is too small!\n",
      "Warning, the time step is too small!\n",
      "Warning, the time step is too small!\n",
      "Warning, the time step is too small!\n",
      "Warning, the time step is too small!\n",
      "Warning, the time step is too small!\n",
      "Warning, the time step is too small!\n",
      "Warning, the time step is too small!\n",
      "Warning, the time step is too small!\n",
      "Warning, the time step is too small!\n",
      "Warning, the time step is too small!\n",
      "Warning, the time step is too small!\n",
      "Warning, the time step is too small!\n",
      "Warning, the time step is too small!\n",
      "Warning, the time step is too small!\n",
      "Warning, the time step is too small!\n",
      "Warning, the time step is too small!\n",
      "Warning, the time step is too small!\n",
      "Warning, the time step is too small!\n",
      "Warning, the time step is too small!\n",
      "Warning, the time step is too small!\n",
      "Warning, the time step is too small!\n",
      "Warning, the time step is too small!\n",
      "Warning, the time step is too small!\n",
      "Warning, the time step is too small!\n",
      "Warning, the time step is too small!\n",
      "Warning, the time step is too small!\n",
      "Warning, the time step is too small!\n",
      "Warning, the time step is too small!\n",
      "Warning, the time step is too small!\n",
      "Warning, the time step is too small!\n",
      "Warning, the time step is too small!\n",
      "Warning, the time step is too small!\n",
      "Warning, the time step is too small!\n",
      "Warning, the time step is too small!\n",
      "Warning, the time step is too small!\n",
      "Warning, the time step is too small!\n",
      "Warning, the time step is too small!\n",
      "Warning, the time step is too small!\n",
      "Warning, the time step is too small!\n",
      "Warning, the time step is too small!\n",
      "Warning, the time step is too small!\n",
      "Warning, the time step is too small!\n",
      "Warning, the time step is too small!\n",
      "Warning, the time step is too small!\n",
      "Warning, the time step is too small!\n",
      "Warning, the time step is too small!\n",
      "Warning, the time step is too small!\n",
      "Warning, the time step is too small!\n",
      "Warning, the time step is too small!\n",
      "Warning, the time step is too small!\n",
      "Warning, the time step is too small!\n",
      "Warning, the time step is too small!\n",
      "Warning, the time step is too small!\n",
      "Warning, the time step is too small!\n",
      "Warning, the time step is too small!\n",
      "Warning, the time step is too small!\n",
      "Warning, the time step is too small!\n",
      "Warning, the time step is too small!\n",
      "Warning, the time step is too small!\n",
      "Warning, the time step is too small!\n",
      "Warning, the time step is too small!\n",
      "Warning, the time step is too small!\n",
      "Warning, the time step is too small!\n",
      "Warning, the time step is too small!\n",
      "Warning, the time step is too small!\n",
      "Warning, the time step is too small!\n",
      "Warning, the time step is too small!\n",
      "Warning, the time step is too small!\n",
      "Warning, the time step is too small!\n",
      "Warning, the time step is too small!\n",
      "Warning, the time step is too small!\n",
      "Warning, the time step is too small!\n",
      "Warning, the time step is too small!\n",
      "Warning, the time step is too small!\n",
      "Warning, the time step is too small!\n",
      "Warning, the time step is too small!\n",
      "Warning, the time step is too small!\n",
      "Warning, the time step is too small!\n",
      "Warning, the time step is too small!\n",
      "Warning, the time step is too small!\n",
      "Warning, the time step is too small!\n",
      "Warning, the time step is too small!\n",
      "Warning, the time step is too small!\n",
      "Warning, the time step is too small!\n",
      "Warning, the time step is too small!\n",
      "Warning, the time step is too small!\n",
      "Warning, the time step is too small!\n",
      "Warning, the time step is too small!\n",
      "Warning, the time step is too small!\n",
      "Warning, the time step is too small!\n",
      "Warning, the time step is too small!\n",
      "Warning, the time step is too small!\n",
      "Warning, the time step is too small!\n",
      "Warning, the time step is too small!\n",
      "Warning, the time step is too small!\n",
      "Warning, the time step is too small!\n",
      "Warning, the time step is too small!\n",
      "Warning, the time step is too small!\n",
      "Warning, the time step is too small!\n",
      "Warning, the time step is too small!\n",
      "Warning, the time step is too small!\n",
      "Warning, the time step is too small!\n",
      "Warning, the time step is too small!\n",
      "Warning, the time step is too small!\n",
      "Warning, the time step is too small!\n",
      "Warning, the time step is too small!\n",
      "Warning, the time step is too small!\n",
      "Warning, the time step is too small!\n",
      "Warning, the time step is too small!\n",
      "Warning, the time step is too small!\n",
      "Warning, the time step is too small!\n",
      "Warning, the time step is too small!\n",
      "Warning, the time step is too small!\n",
      "Warning, the time step is too small!\n",
      "Warning, the time step is too small!\n",
      "Warning, the time step is too small!\n",
      "Warning, the time step is too small!\n",
      "Warning, the time step is too small!\n",
      "Warning, the time step is too small!\n",
      "Warning, the time step is too small!\n",
      "Warning, the time step is too small!\n",
      "Warning, the time step is too small!\n",
      "Warning, the time step is too small!\n",
      "Warning, the time step is too small!\n",
      "Warning, the time step is too small!\n",
      "Warning, the time step is too small!\n",
      "Warning, the time step is too small!\n",
      "Warning, the time step is too small!\n",
      "Warning, the time step is too small!\n",
      "Warning, the time step is too small!\n",
      "Warning, the time step is too small!\n",
      "Warning, the time step is too small!\n",
      "Warning, the time step is too small!\n",
      "Warning, the time step is too small!\n",
      "Warning, the time step is too small!\n",
      "Warning, the time step is too small!\n",
      "Warning, the time step is too small!\n",
      "Warning, the time step is too small!\n",
      "Warning, the time step is too small!\n",
      "Warning, the time step is too small!\n",
      "Warning, the time step is too small!\n",
      "Warning, the time step is too small!\n",
      "Warning, the time step is too small!\n",
      "Warning, the time step is too small!\n",
      "Warning, the time step is too small!\n",
      "Warning, the time step is too small!\n",
      "Warning, the time step is too small!\n",
      "Warning, the time step is too small!\n",
      "Warning, the time step is too small!\n",
      "Warning, the time step is too small!\n",
      "Warning, the time step is too small!\n",
      "Warning, the time step is too small!\n",
      "Warning, the time step is too small!\n",
      "Warning, the time step is too small!\n",
      "Warning, the time step is too small!\n",
      "Warning, the time step is too small!\n",
      "Warning, the time step is too small!\n",
      "Warning, the time step is too small!\n",
      "Warning, the time step is too small!\n",
      "Warning, the time step is too small!\n",
      "Warning, the time step is too small!\n",
      "Warning, the time step is too small!\n",
      "Warning, the time step is too small!\n",
      "Warning, the time step is too small!\n",
      "Warning, the time step is too small!\n",
      "Warning, the time step is too small!\n",
      "Warning, the time step is too small!\n",
      "Warning, the time step is too small!\n",
      "Warning, the time step is too small!\n",
      "Warning, the time step is too small!\n",
      "Warning, the time step is too small!\n",
      "Warning, the time step is too small!\n",
      "Warning, the time step is too small!\n",
      "Warning, the time step is too small!\n",
      "Warning, the time step is too small!\n",
      "Warning, the time step is too small!\n",
      "Warning, the time step is too small!\n",
      "Warning, the time step is too small!\n",
      "Warning, the time step is too small!\n",
      "Warning, the time step is too small!\n",
      "Warning, the time step is too small!\n",
      "Warning, the time step is too small!\n",
      "Warning, the time step is too small!\n",
      "Warning, the time step is too small!\n",
      "Warning, the time step is too small!\n",
      "Warning, the time step is too small!\n",
      "Warning, the time step is too small!\n",
      "Warning, the time step is too small!\n",
      "Warning, the time step is too small!\n",
      "Warning, the time step is too small!\n",
      "Warning, the time step is too small!\n",
      "Warning, the time step is too small!\n",
      "Warning, the time step is too small!\n",
      "Warning, the time step is too small!\n",
      "Warning, the time step is too small!\n",
      "Warning, the time step is too small!\n",
      "Warning, the time step is too small!\n",
      "Warning, the time step is too small!\n",
      "Warning, the time step is too small!\n",
      "Warning, the time step is too small!\n",
      "Warning, the time step is too small!\n",
      "Warning, the time step is too small!\n",
      "Warning, the time step is too small!\n",
      "Warning, the time step is too small!\n",
      "Warning, the time step is too small!\n",
      "Warning, the time step is too small!\n",
      "Warning, the time step is too small!\n",
      "Warning, the time step is too small!\n",
      "Warning, the time step is too small!\n",
      "Warning, the time step is too small!\n",
      "Warning, the time step is too small!\n",
      "Warning, the time step is too small!\n",
      "Warning, the time step is too small!\n",
      "Warning, the time step is too small!\n",
      "Warning, the time step is too small!\n",
      "Warning, the time step is too small!\n",
      "Warning, the time step is too small!\n",
      "Warning, the time step is too small!\n",
      "Warning, the time step is too small!\n",
      "Warning, the time step is too small!\n",
      "Warning, the time step is too small!\n",
      "Warning, the time step is too small!\n",
      "Warning, the time step is too small!\n",
      "Warning, the time step is too small!\n",
      "Warning, the time step is too small!\n",
      "Warning, the time step is too small!\n",
      "Warning, the time step is too small!\n",
      "Warning, the time step is too small!\n",
      "Warning, the time step is too small!\n",
      "Warning, the time step is too small!\n",
      "Warning, the time step is too small!\n",
      "Warning, the time step is too small!\n",
      "Warning, the time step is too small!\n",
      "Warning, the time step is too small!\n",
      "Warning, the time step is too small!\n",
      "Warning, the time step is too small!\n",
      "Warning, the time step is too small!\n",
      "Warning, the time step is too small!\n",
      "Warning, the time step is too small!\n",
      "Warning, the time step is too small!\n",
      "Warning, the time step is too small!\n",
      "Warning, the time step is too small!\n",
      "Warning, the time step is too small!\n",
      "Warning, the time step is too small!\n",
      "Warning, the time step is too small!\n",
      "Warning, the time step is too small!\n",
      "Warning, the time step is too small!\n",
      "Warning, the time step is too small!\n",
      "Warning, the time step is too small!\n"
     ]
    },
    {
     "ename": "KeyboardInterrupt",
     "evalue": "",
     "output_type": "error",
     "traceback": [
      "\u001b[0;31m---------------------------------------------------------------------------\u001b[0m",
      "\u001b[0;31mKeyboardInterrupt\u001b[0m                         Traceback (most recent call last)",
      "\u001b[0;32m<timed exec>\u001b[0m in \u001b[0;36m<module>\u001b[0;34m\u001b[0m\n",
      "\u001b[0;32m/home/chit/home/chit/criticalcollapse/ms_hm/HM.py\u001b[0m in \u001b[0;36madap_run_steps\u001b[0;34m(self, n_steps, adj_intv, tol)\u001b[0m\n\u001b[1;32m    154\u001b[0m         \u001b[0mstep\u001b[0m \u001b[0;34m=\u001b[0m \u001b[0;36m0\u001b[0m\u001b[0;34m\u001b[0m\u001b[0;34m\u001b[0m\u001b[0m\n\u001b[1;32m    155\u001b[0m         \u001b[0mdeltau\u001b[0m \u001b[0;34m=\u001b[0m \u001b[0mself\u001b[0m\u001b[0;34m.\u001b[0m\u001b[0mdeltau_adap\u001b[0m\u001b[0;34m\u001b[0m\u001b[0;34m\u001b[0m\u001b[0m\n\u001b[0;32m--> 156\u001b[0;31m         \u001b[0mkxi1\u001b[0m\u001b[0;34m,\u001b[0m \u001b[0mkR1\u001b[0m\u001b[0;34m,\u001b[0m \u001b[0mkm1\u001b[0m\u001b[0;34m,\u001b[0m \u001b[0mkU1\u001b[0m \u001b[0;34m=\u001b[0m \u001b[0mself\u001b[0m\u001b[0;34m.\u001b[0m\u001b[0mk_coeffs\u001b[0m\u001b[0;34m(\u001b[0m\u001b[0mself\u001b[0m\u001b[0;34m.\u001b[0m\u001b[0mR\u001b[0m\u001b[0;34m,\u001b[0m \u001b[0mself\u001b[0m\u001b[0;34m.\u001b[0m\u001b[0mm\u001b[0m\u001b[0;34m,\u001b[0m \u001b[0mself\u001b[0m\u001b[0;34m.\u001b[0m\u001b[0mU\u001b[0m\u001b[0;34m,\u001b[0m  \u001b[0mself\u001b[0m\u001b[0;34m.\u001b[0m\u001b[0mxi\u001b[0m\u001b[0;34m)\u001b[0m\u001b[0;34m\u001b[0m\u001b[0;34m\u001b[0m\u001b[0m\n\u001b[0m\u001b[1;32m    157\u001b[0m         \u001b[0;32mwhile\u001b[0m\u001b[0;34m(\u001b[0m\u001b[0mstep\u001b[0m \u001b[0;34m<\u001b[0m \u001b[0mn_steps\u001b[0m\u001b[0;34m)\u001b[0m \u001b[0;34m:\u001b[0m\u001b[0;34m\u001b[0m\u001b[0;34m\u001b[0m\u001b[0m\n\u001b[1;32m    158\u001b[0m \u001b[0;34m\u001b[0m\u001b[0m\n",
      "\u001b[0;32m/home/chit/home/chit/criticalcollapse/ms_hm/HM.py\u001b[0m in \u001b[0;36mk_coeffs\u001b[0;34m(self, R, m, U, xi)\u001b[0m\n\u001b[1;32m    120\u001b[0m \u001b[0;34m\u001b[0m\u001b[0m\n\u001b[1;32m    121\u001b[0m         \u001b[0mexi\u001b[0m \u001b[0;34m=\u001b[0m \u001b[0mnp\u001b[0m\u001b[0;34m.\u001b[0m\u001b[0mexp\u001b[0m\u001b[0;34m(\u001b[0m\u001b[0mxi\u001b[0m\u001b[0;34m)\u001b[0m\u001b[0;34m\u001b[0m\u001b[0;34m\u001b[0m\u001b[0m\n\u001b[0;32m--> 122\u001b[0;31m         \u001b[0mephi\u001b[0m \u001b[0;34m=\u001b[0m \u001b[0mself\u001b[0m\u001b[0;34m.\u001b[0m\u001b[0mephi\u001b[0m\u001b[0;34m(\u001b[0m\u001b[0mR\u001b[0m\u001b[0;34m,\u001b[0m \u001b[0mU\u001b[0m\u001b[0;34m,\u001b[0m \u001b[0mg\u001b[0m\u001b[0;34m,\u001b[0m \u001b[0mxi\u001b[0m\u001b[0;34m,\u001b[0m \u001b[0mxiprime\u001b[0m\u001b[0;34m,\u001b[0m \u001b[0mRprime\u001b[0m\u001b[0;34m)\u001b[0m\u001b[0;34m\u001b[0m\u001b[0;34m\u001b[0m\u001b[0m\n\u001b[0m\u001b[1;32m    123\u001b[0m         \u001b[0melambda\u001b[0m \u001b[0;34m=\u001b[0m \u001b[0mself\u001b[0m\u001b[0;34m.\u001b[0m\u001b[0melambda\u001b[0m\u001b[0;34m(\u001b[0m\u001b[0mephi\u001b[0m\u001b[0;34m,\u001b[0m \u001b[0mexi\u001b[0m\u001b[0;34m,\u001b[0m \u001b[0mxiprime\u001b[0m\u001b[0;34m)\u001b[0m\u001b[0;34m\u001b[0m\u001b[0;34m\u001b[0m\u001b[0m\n\u001b[1;32m    124\u001b[0m         \u001b[0mepsi\u001b[0m \u001b[0;34m=\u001b[0m \u001b[0mself\u001b[0m\u001b[0;34m.\u001b[0m\u001b[0mepsi\u001b[0m\u001b[0;34m(\u001b[0m\u001b[0mR\u001b[0m\u001b[0;34m,\u001b[0m \u001b[0mU\u001b[0m\u001b[0;34m,\u001b[0m \u001b[0mg\u001b[0m\u001b[0;34m,\u001b[0m \u001b[0mxi\u001b[0m\u001b[0;34m,\u001b[0m \u001b[0mr\u001b[0m\u001b[0;34m,\u001b[0m \u001b[0mephi\u001b[0m\u001b[0;34m)\u001b[0m\u001b[0;34m\u001b[0m\u001b[0;34m\u001b[0m\u001b[0m\n",
      "\u001b[0;32m/home/chit/home/chit/criticalcollapse/ms_hm/HM.py\u001b[0m in \u001b[0;36mephi\u001b[0;34m(self, R, U, g, xi, xiprime, Rprime)\u001b[0m\n\u001b[1;32m     85\u001b[0m \u001b[0;34m\u001b[0m\u001b[0m\n\u001b[1;32m     86\u001b[0m     \u001b[0;32mdef\u001b[0m \u001b[0mephi\u001b[0m\u001b[0;34m(\u001b[0m\u001b[0mself\u001b[0m\u001b[0;34m,\u001b[0m \u001b[0mR\u001b[0m\u001b[0;34m,\u001b[0m \u001b[0mU\u001b[0m\u001b[0;34m,\u001b[0m \u001b[0mg\u001b[0m\u001b[0;34m,\u001b[0m \u001b[0mxi\u001b[0m\u001b[0;34m,\u001b[0m \u001b[0mxiprime\u001b[0m\u001b[0;34m,\u001b[0m \u001b[0mRprime\u001b[0m\u001b[0;34m)\u001b[0m\u001b[0;34m:\u001b[0m\u001b[0;34m\u001b[0m\u001b[0;34m\u001b[0m\u001b[0m\n\u001b[0;32m---> 87\u001b[0;31m         \u001b[0;32mreturn\u001b[0m \u001b[0mephi_term\u001b[0m\u001b[0;34m(\u001b[0m\u001b[0mR\u001b[0m\u001b[0;34m,\u001b[0m \u001b[0mU\u001b[0m\u001b[0;34m,\u001b[0m \u001b[0mself\u001b[0m\u001b[0;34m.\u001b[0m\u001b[0mAbar\u001b[0m\u001b[0;34m,\u001b[0m \u001b[0mxi\u001b[0m\u001b[0;34m,\u001b[0m \u001b[0mg\u001b[0m\u001b[0;34m,\u001b[0m \u001b[0mself\u001b[0m\u001b[0;34m.\u001b[0m\u001b[0malpha\u001b[0m\u001b[0;34m)\u001b[0m\u001b[0;34m\u001b[0m\u001b[0;34m\u001b[0m\u001b[0m\n\u001b[0m\u001b[1;32m     88\u001b[0m \u001b[0;34m\u001b[0m\u001b[0m\n\u001b[1;32m     89\u001b[0m     \u001b[0;32mdef\u001b[0m \u001b[0melambda\u001b[0m\u001b[0;34m(\u001b[0m\u001b[0mself\u001b[0m\u001b[0;34m,\u001b[0m \u001b[0mephi\u001b[0m\u001b[0;34m,\u001b[0m \u001b[0mexi\u001b[0m\u001b[0;34m,\u001b[0m \u001b[0mxiprime\u001b[0m\u001b[0;34m)\u001b[0m\u001b[0;34m:\u001b[0m\u001b[0;34m\u001b[0m\u001b[0;34m\u001b[0m\u001b[0m\n",
      "\u001b[0;32mcython/utils.pyx\u001b[0m in \u001b[0;36mutils.ephi_term\u001b[0;34m()\u001b[0m\n",
      "\u001b[0;32mcython/utils.pyx\u001b[0m in \u001b[0;36mutils.ephi_term\u001b[0;34m()\u001b[0m\n",
      "\u001b[0;32m/usr/local/lib/python3.8/dist-packages/numpy/core/_asarray.py\u001b[0m in \u001b[0;36masarray\u001b[0;34m(a, dtype, order, like)\u001b[0m\n\u001b[1;32m     21\u001b[0m \u001b[0;34m\u001b[0m\u001b[0m\n\u001b[1;32m     22\u001b[0m \u001b[0;34m\u001b[0m\u001b[0m\n\u001b[0;32m---> 23\u001b[0;31m \u001b[0;34m@\u001b[0m\u001b[0mset_array_function_like_doc\u001b[0m\u001b[0;34m\u001b[0m\u001b[0;34m\u001b[0m\u001b[0m\n\u001b[0m\u001b[1;32m     24\u001b[0m \u001b[0;34m@\u001b[0m\u001b[0mset_module\u001b[0m\u001b[0;34m(\u001b[0m\u001b[0;34m'numpy'\u001b[0m\u001b[0;34m)\u001b[0m\u001b[0;34m\u001b[0m\u001b[0;34m\u001b[0m\u001b[0m\n\u001b[1;32m     25\u001b[0m \u001b[0;32mdef\u001b[0m \u001b[0masarray\u001b[0m\u001b[0;34m(\u001b[0m\u001b[0ma\u001b[0m\u001b[0;34m,\u001b[0m \u001b[0mdtype\u001b[0m\u001b[0;34m=\u001b[0m\u001b[0;32mNone\u001b[0m\u001b[0;34m,\u001b[0m \u001b[0morder\u001b[0m\u001b[0;34m=\u001b[0m\u001b[0;32mNone\u001b[0m\u001b[0;34m,\u001b[0m \u001b[0;34m*\u001b[0m\u001b[0;34m,\u001b[0m \u001b[0mlike\u001b[0m\u001b[0;34m=\u001b[0m\u001b[0;32mNone\u001b[0m\u001b[0;34m)\u001b[0m\u001b[0;34m:\u001b[0m\u001b[0;34m\u001b[0m\u001b[0;34m\u001b[0m\u001b[0m\n",
      "\u001b[0;31mKeyboardInterrupt\u001b[0m: "
     ]
    }
   ],
   "source": [
    "%%time\n",
    "mOverR=[]\n",
    "for i in range(5000):\n",
    "    hm.adap_run_steps(10)\n",
    "    mOverR.append(( hm.R**2 * hm.m * hm.Abar**2 * np.exp(2*(hm.alpha-1)*hm.xi)).max() )"
   ]
  },
  {
   "cell_type": "code",
   "execution_count": 414,
   "metadata": {
    "tags": []
   },
   "outputs": [
    {
     "name": "stdout",
     "output_type": "stream",
     "text": [
      "2m/R is larger than 0.99\n",
      "2m/R is larger than 0.99\n",
      "2m/R is larger than 0.99\n",
      "2m/R is larger than 0.99\n",
      "2m/R is larger than 0.99\n",
      "2m/R is larger than 0.99\n",
      "2m/R is larger than 0.99\n",
      "2m/R is larger than 0.99\n",
      "2m/R is larger than 0.99\n",
      "2m/R is larger than 0.99\n",
      "2m/R is larger than 0.99\n",
      "2m/R is larger than 0.99\n",
      "2m/R is larger than 0.99\n",
      "2m/R is larger than 0.99\n",
      "2m/R is larger than 0.99\n",
      "2m/R is larger than 0.99\n",
      "CPU times: user 22min 48s, sys: 96 ms, total: 22min 48s\n",
      "Wall time: 22min 48s\n"
     ]
    }
   ],
   "source": [
    "%%time\n",
    "mOverR=[]\n",
    "for i in range(50):\n",
    "    hm.adap_run_steps(1000)\n",
    "    #plt.plot((hm.Abar), hm.U)\n",
    "    #plt.show()\n",
    "    mOverR.append(( hm.R**2 * hm.m * hm.Abar**2 * np.exp(2*(hm.alpha-1)*hm.xi)).max() )"
   ]
  },
  {
   "cell_type": "code",
   "execution_count": 427,
   "metadata": {},
   "outputs": [
    {
     "data": {
      "text/plain": [
       "(-80.0, 10.0)"
      ]
     },
     "execution_count": 427,
     "metadata": {},
     "output_type": "execute_result"
    },
    {
     "data": {
      "image/png": "[encoded data removed]",
      "text/plain": [
       "<Figure size 432x288 with 1 Axes>"
      ]
     },
     "metadata": {
      "needs_background": "light"
     },
     "output_type": "display_data"
    }
   ],
   "source": [
    "plt.scatter((hm.Abar*hm.R * np.exp((hm.alpha) * hm.xi)), hm.U)\n",
    "#plt.plot((hm_uni.Abar), hm_uni.U)\n",
    "\n",
    "\n",
    "\n",
    "plt.xlim(0,25)\n",
    "plt.ylim(-80,10)\n",
    "#plt.yscale('log')"
   ]
  },
  {
   "cell_type": "code",
   "execution_count": 415,
   "metadata": {},
   "outputs": [
    {
     "data": {
      "text/plain": [
       "[<matplotlib.lines.Line2D at 0x7fd47a762970>]"
      ]
     },
     "execution_count": 415,
     "metadata": {},
     "output_type": "execute_result"
    },
    {
     "data": {
      "image/png": "[encoded data removed]",
      "text/plain": [
       "<Figure size 432x288 with 1 Axes>"
      ]
     },
     "metadata": {
      "needs_background": "light"
     },
     "output_type": "display_data"
    }
   ],
   "source": [
    "plt.plot(mOverR[3:])\n"
   ]
  },
  {
   "cell_type": "code",
   "execution_count": 416,
   "metadata": {},
   "outputs": [
    {
     "data": {
      "text/plain": [
       "(0.0, 1.0)"
      ]
     },
     "execution_count": 416,
     "metadata": {},
     "output_type": "execute_result"
    },
    {
     "data": {
      "image/png": "[encoded data removed]",
      "text/plain": [
       "<Figure size 432x288 with 1 Axes>"
      ]
     },
     "metadata": {
      "needs_background": "light"
     },
     "output_type": "display_data"
    }
   ],
   "source": [
    "plt.plot((hm.Abar*hm.R * np.exp((hm.alpha) * hm.xi)), hm.R**2 * hm.m * hm.Abar**2 * np.exp(2*(hm.alpha-1)*hm.xi))\n",
    "#plt.plot(hm.Abar, hm_bak.R**2 * hm_bak.m * hm_bak.Abar**2 * np.exp(2*(hm_bak.alpha-1)*(hm_bak.xi)))\n",
    "\n",
    "plt.xlim(0,25)\n",
    "plt.ylim(0.,1)"
   ]
  },
  {
   "cell_type": "code",
   "execution_count": 417,
   "metadata": {},
   "outputs": [
    {
     "data": {
      "text/plain": [
       "1.148034605332311"
      ]
     },
     "execution_count": 417,
     "metadata": {},
     "output_type": "execute_result"
    }
   ],
   "source": [
    "hm.BH_mass2()"
   ]
  },
  {
   "cell_type": "code",
   "execution_count": 406,
   "metadata": {},
   "outputs": [
    {
     "data": {
      "text/plain": [
       "1.1218923237461527"
      ]
     },
     "execution_count": 406,
     "metadata": {},
     "output_type": "execute_result"
    }
   ],
   "source": [
    "hm.BH_mass2()"
   ]
  },
  {
   "cell_type": "code",
   "execution_count": 418,
   "metadata": {},
   "outputs": [
    {
     "data": {
      "text/plain": [
       "[<matplotlib.lines.Line2D at 0x7fd47a4c6ac0>]"
      ]
     },
     "execution_count": 418,
     "metadata": {},
     "output_type": "execute_result"
    },
    {
     "data": {
      "image/png": "[encoded data removed]",
      "text/plain": [
       "<Figure size 432x288 with 1 Axes>"
      ]
     },
     "metadata": {
      "needs_background": "light"
     },
     "output_type": "display_data"
    }
   ],
   "source": [
    "plt.plot((hm.Abar), hm.U)\n",
    "#plt.plot((hm.Abar), hm_mix_adp_bak.U)\n",
    "\n",
    "\n",
    "\n",
    "#plt.xlim(20,28)\n",
    "#plt.ylim(-0.95,1.2)\n",
    "#plt.yscale('log')"
   ]
  },
  {
   "cell_type": "code",
   "execution_count": 419,
   "metadata": {},
   "outputs": [
    {
     "data": {
      "image/png": "[encoded data removed]",
      "text/plain": [
       "<Figure size 432x288 with 1 Axes>"
      ]
     },
     "metadata": {
      "needs_background": "light"
     },
     "output_type": "display_data"
    }
   ],
   "source": [
    "        xiprime = dfdA(hm.xi,  hm.Abar, 1e100)\n",
    "        Rprime = dfdA(hm.R, hm.Abar, 1e100)\n",
    "        mprime = dfdA(hm.m, hm.Abar, 1e100)\n",
    "\n",
    "\n",
    "        \n",
    "        #xiprime.fill(1)\n",
    "        \n",
    "        g = hm.gamma(hm.R, hm.m, hm.U, hm.xi)\n",
    "        r = hm.rho(hm.R, hm.m, hm.U, hm.xi, g, xiprime, Rprime, mprime)\n",
    "        drho = hm.drho(hm.R, hm.m, hm.U, g, hm.xi, Rprime, mprime, xiprime)\n",
    "        exi = np.exp(hm.xi)\n",
    "        ephi = hm.ephi(hm.R, hm.U, g, hm.xi, xiprime, Rprime)\n",
    "        elambda = hm.elambda(ephi, exi, xiprime)\n",
    "        epsi = hm.epsi(hm.R, hm.U, g, hm.xi, r, ephi)\n",
    "        \n",
    "        #plt.plot(np.arange(hm.N-1), ddfddA(hm.U, hm.deltaL, hm.Abar, 0)[1:])\n",
    "        #plt.plot(np.arange(hm.N), dfdA(r, hm.deltaL, hm.Abar, 1e100))\n",
    "        plt.plot((hm.Abar*hm.R * np.exp((hm.alpha) * hm.xi)), epsi)\n",
    "        #plt.plot(np.arange(hm.N), ephi)\n",
    "        #plt.plot(np.arange(hm.N), epsi)\n",
    "        #plt.plot(np.arange(hm.N),elambda / epsi)\n",
    "        plt.xlim(0,4)\n",
    "        #plt.ylim(1e-8,1)\n",
    "        plt.yscale('log')\n",
    "#plt.ylim(0.915,0.93)"
   ]
  },
  {
   "cell_type": "code",
   "execution_count": 371,
   "metadata": {},
   "outputs": [
    {
     "data": {
      "text/plain": [
       "(0.0, 1.0)"
      ]
     },
     "execution_count": 371,
     "metadata": {},
     "output_type": "execute_result"
    },
    {
     "data": {
      "image/png": "[encoded data removed]",
      "text/plain": [
       "<Figure size 432x288 with 1 Axes>"
      ]
     },
     "metadata": {
      "needs_background": "light"
     },
     "output_type": "display_data"
    }
   ],
   "source": [
    "plt.plot((hm.Abar*hm.R * np.exp((hm.alpha) * hm.xi)), hm.R**2 * hm.m * hm.Abar**2 * np.exp(2*(hm.alpha-1)*hm.xi))\n",
    "#plt.plot(hm.Abar, hm_bak.R**2 * hm_bak.m * hm_bak.Abar**2 * np.exp(2*(hm_bak.alpha-1)*(hm_bak.xi)))\n",
    "\n",
    "plt.xlim(0,15)\n",
    "plt.ylim(0.,1)"
   ]
  },
  {
   "cell_type": "code",
   "execution_count": 183,
   "metadata": {},
   "outputs": [
    {
     "data": {
      "text/plain": [
       "186.12964528729714"
      ]
     },
     "execution_count": 183,
     "metadata": {},
     "output_type": "execute_result"
    }
   ],
   "source": [
    "((np.exp(-hm.xi/2) * hm.R **3 * hm.Abar**3 * hm.m ) / 2)[(hm.R**2 * hm.m * hm.Abar**2 * np.exp(2*(hm.alpha-1)*hm.xi)).argmax()]"
   ]
  },
  {
   "cell_type": "code",
   "execution_count": 420,
   "metadata": {},
   "outputs": [
    {
     "data": {
      "text/plain": [
       "(0.0, 2.0)"
      ]
     },
     "execution_count": 420,
     "metadata": {},
     "output_type": "execute_result"
    },
    {
     "data": {
      "image/png": "[encoded data removed]",
      "text/plain": [
       "<Figure size 432x288 with 1 Axes>"
      ]
     },
     "metadata": {
      "needs_background": "light"
     },
     "output_type": "display_data"
    }
   ],
   "source": [
    "a = np.exp(hm.alpha * hm.xi)\n",
    "H = np.exp(-hm.xi) / hm.RH\n",
    "rho_b = a**(1+hm.w)\n",
    "Rb = a * hm.A\n",
    "plt.plot(hm.R * Rb ,  (np.exp(-hm.xi/2) * hm.R **3 * hm.Abar**3 * hm.m ) / 2 )\n",
    "#plt.plot(hm.R * Rb ,  np.array([5] * hm.N) )\n",
    "plt.xlim(0,4)\n",
    "plt.ylim(0,2)\n",
    "#plt.yscale('log')"
   ]
  },
  {
   "cell_type": "code",
   "execution_count": 17,
   "metadata": {},
   "outputs": [
    {
     "data": {
      "text/plain": [
       "4.3613534732611505"
      ]
     },
     "execution_count": 17,
     "metadata": {},
     "output_type": "execute_result"
    }
   ],
   "source": [
    "hm.BH_mass()"
   ]
  },
  {
   "cell_type": "code",
   "execution_count": 27,
   "metadata": {},
   "outputs": [
    {
     "data": {
      "text/plain": [
       "4.361353211290671"
      ]
     },
     "execution_count": 27,
     "metadata": {},
     "output_type": "execute_result"
    }
   ],
   "source": [
    "hm.BH_mass()"
   ]
  },
  {
   "cell_type": "code",
   "execution_count": null,
   "metadata": {},
   "outputs": [],
   "source": []
  }
 ],
 "metadata": {
  "kernelspec": {
   "display_name": "Python 3",
   "language": "python",
   "name": "python3"
  },
  "language_info": {
   "codemirror_mode": {
    "name": "ipython",
    "version": 3
   },
   "file_extension": ".py",
   "mimetype": "text/x-python",
   "name": "python",
   "nbconvert_exporter": "python",
   "pygments_lexer": "ipython3",
   "version": "3.8.5"
  }
 },
 "nbformat": 4,
 "nbformat_minor": 5
}
