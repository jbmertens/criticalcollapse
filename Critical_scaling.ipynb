{
 "cells": [
  {
   "cell_type": "code",
   "execution_count": 1,
   "id": "7d6522ca",
   "metadata": {},
   "outputs": [],
   "source": [
    "import ctypes\n",
    "import numpy as np\n",
    "import matplotlib.pyplot as plt\n",
    "\n",
    "c_lib = ctypes.CDLL('cpp/ms.so')"
   ]
  },
  {
   "cell_type": "code",
   "execution_count": 2,
   "id": "feea3dcf",
   "metadata": {},
   "outputs": [
    {
     "data": {
      "text/plain": [
       "[<matplotlib.lines.Line2D at 0x7f2ce4697460>]"
      ]
     },
     "execution_count": 2,
     "metadata": {},
     "output_type": "execute_result"
    },
    {
     "data": {
      "image/png": "[encoded data removed]",
      "text/plain": [
       "<Figure size 432x288 with 1 Axes>"
      ]
     },
     "metadata": {
      "needs_background": "light"
     },
     "output_type": "display_data"
    }
   ],
   "source": [
    "c_lib.P_of_rho.restype = ctypes.c_float\n",
    "c_lib.P_of_rho.argtypes = [ctypes.c_float]\n",
    "c_lib.dPdrho.restype = ctypes.c_float\n",
    "c_lib.dPdrho.argtypes = [ctypes.c_float]\n",
    "\n",
    "rhos = np.logspace(-10,35,500)\n",
    "\n",
    "ps = np.array([c_lib.P_of_rho(rho)/rho for rho in rhos])\n",
    "plt.loglog(rhos, ps)\n",
    "\n",
    "dps = np.array([c_lib.dPdrho(rho) for rho in rhos])\n",
    "plt.loglog(rhos, dps)"
   ]
  },
  {
   "cell_type": "code",
   "execution_count": 6,
   "id": "845a075c",
   "metadata": {},
   "outputs": [],
   "source": [
    "c_lib.ics.argtypes = [ ctypes.POINTER(ctypes.c_float), ctypes.POINTER(ctypes.c_float),\n",
    "    ctypes.POINTER(ctypes.c_float), ctypes.POINTER(ctypes.c_float), ctypes.POINTER(ctypes.c_float),\n",
    "    ctypes.c_float, ctypes.c_int ]\n",
    "c_lib.ics.restype = None\n",
    "\n",
    "c_lib.run_sim.argtypes = [ ctypes.c_int, ctypes.c_int, ctypes.c_float, ctypes.c_float, ctypes.c_int,\n",
    "    ctypes.POINTER(ctypes.c_float), ctypes.POINTER(ctypes.c_float), ctypes.POINTER(ctypes.c_float),\n",
    "    ctypes.POINTER(ctypes.c_float), ctypes.POINTER(ctypes.c_float), ctypes.POINTER(ctypes.c_float) ]\n",
    "c_lib.run_sim.restype = ctypes.c_int\n",
    "\n",
    "\n",
    "def run_sim(N=400, max_steps=100000, amp=0.2732, rho0=1.0) :\n",
    "    \n",
    "    xi = ctypes.c_float(-1)\n",
    "\n",
    "    Abar = (ctypes.c_float*N)()\n",
    "    Rtilde = (ctypes.c_float*N)()\n",
    "    mtilde = (ctypes.c_float*N)()\n",
    "    Utilde = (ctypes.c_float*N)()\n",
    "    agg = (ctypes.c_float*(N*13))()\n",
    "\n",
    "    c_lib.ics(Abar, Rtilde, mtilde, Utilde, ctypes.byref(xi), amp, N)\n",
    "    res = c_lib.run_sim(N, max_steps, amp, rho0, -1,\n",
    "        Abar, Rtilde, mtilde, Utilde, agg, ctypes.byref(xi));\n",
    "    \n",
    "    print(xi)\n",
    "    \n",
    "    return np.array(agg), xi, res"
   ]
  },
  {
   "cell_type": "code",
   "execution_count": 4,
   "id": "69d45534",
   "metadata": {},
   "outputs": [
    {
     "name": "stdout",
     "output_type": "stream",
     "text": [
      "c_float(5.165252208709717)\n",
      "0\n"
     ]
    }
   ],
   "source": [
    "N = 400\n",
    "agg, xi, res = run_sim(N, 100000)\n",
    "print(res)"
   ]
  },
  {
   "cell_type": "code",
   "execution_count": 5,
   "id": "d888ce00",
   "metadata": {},
   "outputs": [
    {
     "data": {
      "text/plain": [
       "<matplotlib.collections.LineCollection at 0x7f2ce241c880>"
      ]
     },
     "execution_count": 5,
     "metadata": {},
     "output_type": "execute_result"
    },
    {
     "data": {
      "image/png": "[encoded data removed]",
      "text/plain": [
       "<Figure size 432x288 with 1 Axes>"
      ]
     },
     "metadata": {
      "needs_background": "light"
     },
     "output_type": "display_data"
    }
   ],
   "source": [
    "f = 2\n",
    "var = agg[N*f:N*(f+1)]\n",
    "Abar = agg[N*0:N*(0+1)]\n",
    "plt.semilogy(Abar, var, 'b-')\n",
    "plt.semilogy(Abar, -var, \"b:\")\n",
    "plt.hlines(1.0, Abar[0], Abar[-1])"
   ]
  },
  {
   "cell_type": "markdown",
   "id": "97cf3ffc",
   "metadata": {},
   "source": [
    "# Critical Collapse Study\n",
    "\n",
    "Below is code to help study the formation of black holes. The equations integrated are described in the work by Bloomfield et. al.\n",
    "\n",
    "arXiv paper on : [1504.02071](https://arxiv.org/pdf/1504.02071.pdf) ([ar5iv](https://ar5iv.org/abs/1504.02071))\n",
    "\n",
    "For collapse with an approximate QCD equation of state, a previous work is\n",
    "\n",
    "arXiv: [1801.06138](https://arxiv.org/pdf/1801.06138.pdf) ([ar5iv](https://ar5iv.org/abs/1801.06138))\n",
    "\n",
    "## Import Modules"
   ]
  },
  {
   "cell_type": "code",
   "execution_count": null,
   "id": "c4d4d278",
   "metadata": {},
   "outputs": [],
   "source": [
    "import numpy as np\n",
    "import sys\n",
    "from importlib import reload \n",
    "import scipy.interpolate as interp\n",
    "import scipy.constants as const\n",
    "from scipy import stats\n",
    "import subprocess\n",
    "\n",
    "import cython\n",
    "%load_ext Cython\n",
    "\n",
    "import matplotlib.pyplot as plt\n",
    "import matplotlib as mpl\n",
    "mpl.rc('xtick', direction='in', top=True)\n",
    "mpl.rc('ytick', direction='in', right=True)\n",
    "mpl.rc('xtick.minor', visible=True)\n",
    "mpl.rc('ytick.minor', visible=True)"
   ]
  },
  {
   "cell_type": "markdown",
   "id": "1d946917",
   "metadata": {},
   "source": [
    "## Import MS, HM modules\n",
    "\n",
    "...and reload modules if needed"
   ]
  },
  {
   "cell_type": "code",
   "execution_count": 16,
   "id": "239f6481",
   "metadata": {},
   "outputs": [
    {
     "name": "stdout",
     "output_type": "stream",
     "text": [
      "Did not reload modules, they may not have been imported yet.\n"
     ]
    }
   ],
   "source": [
    "# importing MS and HM modules. Reload modules if needed\n",
    "try :\n",
    "    reload(ms_hm)\n",
    "    reload(ms_hm.QCD_EOS)\n",
    "    reload(ms_hm.MS)\n",
    "    reload(ms_hm.HM)\n",
    "except :\n",
    "    print(\"Did not reload modules, they may not have been imported yet.\")\n",
    "\n",
    "import ms_hm\n",
    "from ms_hm.QCD_EOS import *\n",
    "from ms_hm.MS import *\n",
    "from ms_hm.HM import *"
   ]
  },
  {
   "cell_type": "markdown",
   "id": "7c185faf",
   "metadata": {},
   "source": [
    "## Various functions that use the MS and HM classes\n",
    "\n",
    "Functions below compute various things using the Misner-Sharp or Hernandez-Misher classes."
   ]
  },
  {
   "cell_type": "code",
   "execution_count": null,
   "id": "9552be10",
   "metadata": {},
   "outputs": [],
   "source": [
    "%%cython\n",
    "\n",
    "import cython\n",
    "cimport numpy as np\n",
    "\n",
    "cimport cython\n",
    "ctypedef np.double_t DTYPE_t\n",
    "\n",
    "from libc.math cimport exp\n",
    "from libc.math cimport sqrt\n",
    "\n",
    "from cython.parallel import prange\n",
    "\n",
    "@cython.boundscheck(False)  # Deactivate bounds checking\n",
    "cpdef zero_crossing(np.ndarray x_in, double [::1] y):\n",
    "    \"\"\"\n",
    "    Given an array of inputs y, find x where the function y(x) = 0\n",
    "    \"\"\"\n",
    "    cdef int size = x_in.shape[0]\n",
    "    cdef double [:] x = x_in\n",
    "    cdef double w, zero=-1\n",
    "    cdef int i\n",
    "    \n",
    "    for i in range(size-1): # loop through all y values\n",
    "        if(y[i] * y[i+1] < 0): # if subsequent elements have opposite signs, a zero-crossing was found.\n",
    "            # linearly extrapolate zero-crossing\n",
    "            w = abs(y[i] / (y[i+1] - y[i])) \n",
    "            zero = x[i] * (1 - w) + x[i+1] * w\n",
    "            break\n",
    "            \n",
    "    return zero"
   ]
  },
  {
   "cell_type": "code",
   "execution_count": null,
   "id": "60beaed8",
   "metadata": {},
   "outputs": [],
   "source": [
    "def mix_grid(left, right, n):\n",
    "    \"\"\"\n",
    "    Function to generate coordinate spacings with a mix of uniform and logarithmic spacings,\n",
    "    with uniform spacing at small values (0 to \"left\") then logarithmically spaced (\"left\" to \"right\").\n",
    "    \n",
    "    Returns an array of coordinate positions.\n",
    "    \"\"\"\n",
    "    \n",
    "    # Generate logarithmically spaced coordinates between \"left\" and \"right\"\n",
    "    A = np.exp(np.linspace(left, right, n))\n",
    "    dA = A[1] - A[0]\n",
    "    \n",
    "    # Generate uniformly spaced coordinates\n",
    "    A = np.concatenate( (np.linspace(0, A[0], int(np.ceil(A[0] / dA)), endpoint=False), A))\n",
    "    \n",
    "    return A\n",
    "\n",
    "def uni_grid(right, n):\n",
    "    \"\"\"\n",
    "    Function to generate a uniformly-spaced array of coordinate positions\n",
    "    \n",
    "    Returns the array of uniformly spaced coordinates.\n",
    "    \"\"\"\n",
    "    A = np.linspace(0, np.exp(right), n)\n",
    "    return A\n",
    "\n",
    "def exp_grid(left, right, n):\n",
    "    \"\"\"\n",
    "    Function to generate an exponentially-spaced array of coordinate positions\n",
    "    \"\"\"\n",
    "    # Generate logarithmically spaced coordinates between \"left\" and \"right\"\n",
    "    A = np.logspace(left, right, n)\n",
    "    A = np.concatenate( ([0], A))\n",
    "\n",
    "    return A"
   ]
  },
  {
   "cell_type": "code",
   "execution_count": null,
   "id": "723ccbc7",
   "metadata": {},
   "outputs": [],
   "source": [
    "# Check if a BH forms\n",
    "# The MS run should proceed until MS until it breaks. If 2m / R > 1, return true\n",
    "def BH_form(Abar, rho0, amp, default_steps=1500000, sm_sigma=0.0, fixw=False):\n",
    "    \n",
    "    ms = MS(Abar, rho0, amp, trace_ray=False, BH_threshold=-1,\n",
    "        sm_sigma=sm_sigma, fixw=fixw)\n",
    "    \n",
    "    run_result = ms.adap_run_steps(default_steps)\n",
    "    if run_result == -1 :\n",
    "        return (True, run_result, ms.delta, ms)\n",
    "    \n",
    "    return (False, run_result, ms.delta, ms)"
   ]
  },
  {
   "cell_type": "code",
   "execution_count": null,
   "id": "6faa9bdd",
   "metadata": {},
   "outputs": [],
   "source": [
    "def find_crit(Abar, rho0, lower_amp, upper_amp, steps=1500000,\n",
    "    sm_sigma=0.0, fixw=False):\n",
    "    \"\"\"\n",
    "    Binary search between lower and upper to find a critical amplitude\n",
    "    (Note that this is NOT the critical density)\n",
    "    return (critical, upper value)\n",
    "    \"\"\"\n",
    "    upper_ms = -1\n",
    "    lower_ms = -1\n",
    "    bisection_factor = 1/2\n",
    "    for i in range(20):\n",
    "        try :\n",
    "            amp_diff = upper_amp - lower_amp\n",
    "            middle_amp = upper_amp - amp_diff*bisection_factor\n",
    "            print('Iteration No', str(i), '-- Checking to see if a BH forms at amplitude', str(middle_amp),\n",
    "                ' (bracket is ', lower_amp, '/', upper_amp, ')')\n",
    "\n",
    "            forms, result, delta, ms = BH_form(Abar, rho0, middle_amp, default_steps=steps,\n",
    "                                               sm_sigma=sm_sigma, fixw=fixw)\n",
    "\n",
    "            if result > 0 : # Some sort of error during run\n",
    "                print(\"Encountered error during run. Trying again with a different amplitude.\")\n",
    "                # change bisection factor (don't divide just in half; walk in by 1/4, 1/8, ... from the ends.)\n",
    "                if bisection_factor >= 1/2 :\n",
    "                    bisection_factor = (1-bisection_factor)/2\n",
    "                else :\n",
    "                    bisection_factor = 1-bisection_factor\n",
    "            else :\n",
    "                bisection_factor = 1/2\n",
    "                if(forms == True):\n",
    "                    upper_amp = middle_amp\n",
    "                    upper_ms = ms\n",
    "                else:\n",
    "                    lower_amp = middle_amp\n",
    "                    lower_ms = ms\n",
    "\n",
    "        except Exception as e :\n",
    "            print(\"Run failed! Stopping search. Reason below.\")\n",
    "            print(e)\n",
    "            break\n",
    "    \n",
    "    print(\"Critical amplitude appears to be between\", lower_amp, \"and\", upper_amp)\n",
    "    try :\n",
    "        upper_ms.plot_fields(True)\n",
    "        plt.fig(2)\n",
    "        lower_ms.plot_fields(True)\n",
    "    except :\n",
    "        pass\n",
    "\n",
    "    return (lower_amp, upper_amp)"
   ]
  },
  {
   "cell_type": "code",
   "execution_count": null,
   "id": "efc6f8d9",
   "metadata": {},
   "outputs": [],
   "source": [
    "def find_mass(Abar, rho0, amp, mOverR_thresh=0.98,\n",
    "        is_searching_for_crit=False, ms_steps=1500000,\n",
    "        MS_sm_sigma=0.0,\n",
    "        hm_steps=1500000, HM_sm_sigma=15.0,\n",
    "        HM_Abar=None, # can specify a different Abar for HM run\n",
    "        HM_cflfac=0.1\n",
    "    ):\n",
    "    \"\"\"\n",
    "    Find mass of BHs for certain amplitude\n",
    "    set is_searching_for_crit=True when searching for the critical point\n",
    "    \"\"\"\n",
    "    print('Finding mass with amp ' + str(amp))\n",
    "            \n",
    "    # Perform an MS run without raytracing to get the overdensity delta\n",
    "    ms = MS(Abar, rho0, amp, trace_ray=False, BH_threshold=-1e1, sm_sigma=MS_sm_sigma)\n",
    "    ms.adap_run_steps(ms_steps)\n",
    "    delta = ms.delta\n",
    "    \n",
    "    # Perform an MS run with raytracing to get ICs for an HM run\n",
    "    ms = MS(Abar, rho0, amp, trace_ray=True, BH_threshold=-1e1, sm_sigma=MS_sm_sigma)\n",
    "    flag = ms.adap_run_steps(ms_steps)\n",
    "    if(flag != 0):\n",
    "        raise ValueError('Not finishing ray-tracing with the amplitude ' + str(amp))\n",
    "        \n",
    "    # Perform an HM run\n",
    "    hm = HM(ms, mOverR=mOverR_thresh, sm_sigma=HM_sm_sigma, Abar=HM_Abar, cflfac=HM_cflfac)\n",
    "    bh_formed = hm.run_steps(hm_steps) == 1\n",
    "    if(not bh_formed and is_searching_for_crit==False):\n",
    "        print('Unable to reach the target 2m/R with the amplitude ' + str(amp))\n",
    "    \n",
    "    return (delta, hm.BH_mass2(), ms, hm)"
   ]
  },
  {
   "cell_type": "code",
   "execution_count": null,
   "id": "014384d0",
   "metadata": {},
   "outputs": [],
   "source": [
    "# Generate critical scaling data \n",
    "def critical_scaling_data(Abar, rho0, crit_amp, lower_amp, upper_amp, n=10, mOverR_thresh=0.98,\n",
    "    MS_sm_sigma=0.0, HM_sm_sigma=15.0, HM_Abar=None, HM_cflfac=0.1):\n",
    "    \n",
    "    amps = 10**np.linspace(np.log10(lower_amp - crit_amp), np.log10(upper_amp - crit_amp), n) + crit_amp\n",
    "    print(\"Attempting to find masses for runs with amplitudes:\\n\", amps)\n",
    "    \n",
    "    masses = [find_mass(Abar, rho0, amp, mOverR_thresh=mOverR_thresh, is_searching_for_crit=True,\n",
    "        MS_sm_sigma=MS_sm_sigma, HM_sm_sigma=HM_sm_sigma, HM_Abar=HM_Abar, HM_cflfac=HM_cflfac) for amp in amps]\n",
    "    return masses"
   ]
  },
  {
   "cell_type": "markdown",
   "id": "238b810f",
   "metadata": {},
   "source": [
    "## Simulation setup\n",
    "\n",
    "Code below will set up grids (arrays) for running the simulations."
   ]
  },
  {
   "cell_type": "code",
   "execution_count": null,
   "id": "be08bf1c",
   "metadata": {},
   "outputs": [],
   "source": [
    "# simulation resolution parameter\n",
    "# (Not exactly the number of gridpoints for a mixed grid)\n",
    "n_mix = 400\n",
    "n_uni = 400\n",
    "\n",
    "# Generate an array of coordinate positions for the simulation to run at\n",
    "lower = np.log(5.65) # The coordinates will be linearly spaced from 0 to e^lower\n",
    "upper = np.log(21.0) # The coordinates will be log spaced from e^lower to e^upper\n",
    "Abar_mix = mix_grid(lower, upper, n_mix)\n",
    "Abar_uni = uni_grid(upper, n_uni)\n",
    "Abar_mix2 = mix_grid(lower, upper, n_mix//2)\n",
    "Abar_uni2 = uni_grid(upper, n_uni//2)\n",
    "\n",
    "plt.plot(Abar_mix, 'k.')\n",
    "plt.plot(Abar_uni, 'b.')\n",
    "print(\"The grid of Abar values is linearly spaced from Abar = 0 to\", np.exp(lower),\n",
    "      \"then log spaced until Abar =\", np.exp(upper))"
   ]
  },
  {
   "cell_type": "markdown",
   "id": "5b9976e9",
   "metadata": {},
   "source": [
    "## Critical scaling parameters"
   ]
  },
  {
   "cell_type": "code",
   "execution_count": null,
   "id": "d6ff40d4",
   "metadata": {},
   "outputs": [],
   "source": [
    "# Find bounds on a critical point\n",
    "\n",
    "# lower_amp, upper_amp = find_crit(Abar_mix, # Coordinate grid\n",
    "#                                  1.0e0, # initial density \n",
    "#                                  0.15, # Amplitude a BH does *not* form\n",
    "#                                  0.3, # amplitude a BH *does* form\n",
    "#                                  steps=25000,\n",
    "#                                  sm_sigma=0.5, # Hopefully no smoothing is needed here\n",
    "#                                  fixw=False # Fixed equation of state or not?\n",
    "#                                 )"
   ]
  },
  {
   "cell_type": "code",
   "execution_count": null,
   "id": "ae451ff0",
   "metadata": {},
   "outputs": [],
   "source": [
    "reload(ms_hm.MS)\n",
    "from ms_hm.MS import *\n",
    "\n",
    "ms = MS(Abar_uni, 1.0e0, 0.27, trace_ray=False, fixw=True)\n",
    "ms.adap_run_steps(0)\n",
    "print(ms.xi)"
   ]
  },
  {
   "cell_type": "code",
   "execution_count": null,
   "id": "059727ae",
   "metadata": {},
   "outputs": [],
   "source": [
    "def loadData(N) :\n",
    "    data = np.fromfile(\"cpp/output.dat\", dtype=np.float64)\n",
    "    data = np.reshape(arr, (len(data)//N,N))\n",
    "    print(arr.shape)\n",
    "\n",
    "    R = data[0::13, :]\n",
    "    m = data[1::13, :]\n",
    "    U = data[2::13, :]\n",
    "    Abar = data[3, :]\n",
    "    m2oR = data[11::13, :]\n",
    "    phi = data[10::13, :]\n",
    "    P = data[8::13, :]\n",
    "    Q = data[12::13, :]\n",
    "    Pprime = data[9::13, :]\n",
    "\n",
    "    n = -1\n",
    "    plt.loglog(Abar, phi[n], \"c-\", label=\"phi\");\n",
    "    plt.loglog(Abar, -phi[n], \"c:\", label=None);\n",
    "    plt.loglog(Abar, R[n], label=\"R\");\n",
    "    plt.loglog(Abar, m[n], label=\"m\");\n",
    "    plt.loglog(Abar, U[n], \"g-\", label=\"U\");\n",
    "    plt.loglog(Abar, -U[n], \"g:\");\n",
    "    plt.loglog(Abar, m2oR[n], \"k\", label=\"2m/R\");\n",
    "    plt.loglog(Abar, P[n], \"r\", label=\"P\");\n",
    "    plt.loglog(Abar, Q[n], \"m:\", label=\"Q\");\n",
    "    plt.hlines(1,0,Abar[-1],\"k\")\n",
    "\n",
    "    plt.legend()\n",
    "    plt.ylim(1.0e-3, 1.0e4);"
   ]
  },
  {
   "cell_type": "code",
   "execution_count": null,
   "id": "7cdf25de",
   "metadata": {},
   "outputs": [],
   "source": [
    "N = 800;\n",
    "call = subprocess.run(\"cd cpp; make clean && make fast=1 && ./ms -N \"+str(N)+\" -s 20000 -o 0 -a 0.272\", \n",
    "            stdout=subprocess.PIPE, shell=True)\n",
    "print(call.stdout.decode())\n",
    "loadData(N)"
   ]
  },
  {
   "cell_type": "code",
   "execution_count": null,
   "id": "d47b511d",
   "metadata": {},
   "outputs": [],
   "source": [
    "msPp = ms.Pprime(ms.R, ms.m, ms.U)\n",
    "msrho = ms.rho(ms.R, ms.m)\n",
    "msP = ms.P(msrho, ms.R, ms.U)\n",
    "msPp2 = dfdA(msP, ms.Abar)\n",
    "mspsi = ms.psi(msrho, msP, msPp)\n",
    "mspsi2 = ms.psi(msrho, msP, msPp2)\n",
    "\n",
    "plt.plot(ms.Abar, msPp)\n",
    "plt.plot(ms.Abar, msPp2)\n",
    "plt.plot(Abar, Pprime[0])\n",
    "\n",
    "# plt.plot( mspsi)\n",
    "# plt.plot( mspsi2)\n",
    "# plt.plot(phi[0])"
   ]
  },
  {
   "cell_type": "markdown",
   "id": "b07ecc66",
   "metadata": {},
   "source": [
    "## Hernandez-Misner runs"
   ]
  },
  {
   "cell_type": "code",
   "execution_count": null,
   "id": "750202fa",
   "metadata": {},
   "outputs": [],
   "source": [
    "delta, mass, ms, hm = find_mass(Abar_mix, 1.0e0, 0.2727, mOverR_thresh=0.994,\n",
    "          MS_sm_sigma=0.0, hm_steps=10, HM_sm_sigma=30.0, HM_Abar=Abar_mix, HM_cflfac=0.1)"
   ]
  },
  {
   "cell_type": "code",
   "execution_count": null,
   "id": "a20a0b53",
   "metadata": {},
   "outputs": [],
   "source": [
    "import copy \n",
    "reload(ms_hm.HM)\n",
    "from ms_hm.HM import *\n",
    "\n",
    "steps = 3000\n",
    "\n",
    "hm = HM(ms, mOverR=0.95, sm_sigma=0.2, Abar=Abar_uni, cflfac=0.1)\n",
    "Us, Ms, Rs, xis, rhops = [], [], [], [], []\n",
    "try :\n",
    "    for n in range(steps):\n",
    "        hm.run_steps(hm.step+1)\n",
    "        Us.append(copy.deepcopy(hm.U))\n",
    "        Ms.append(copy.deepcopy(hm.m))\n",
    "        Rs.append(copy.deepcopy(hm.R))\n",
    "        xis.append(copy.deepcopy(hm.xi))\n",
    "        rhops.append(copy.deepcopy(hm.rho_p))\n",
    "except :\n",
    "    pass\n",
    "\n",
    "hm2 = HM(ms, mOverR=0.95, sm_sigma=0.1, Abar=Abar_uni2, cflfac=0.1)\n",
    "Us2, Ms2, Rs2, xis2, rhops2 = [], [], [], [], []\n",
    "\n",
    "try :\n",
    "    for n in range(steps//2):\n",
    "        hm2.run_steps(hm2.step+1)\n",
    "        Us2.append(copy.deepcopy(hm2.U))\n",
    "        Ms2.append(copy.deepcopy(hm2.m))\n",
    "        Rs2.append(copy.deepcopy(hm2.R))\n",
    "        xis2.append(copy.deepcopy(hm2.xi))\n",
    "        rhops2.append(copy.deepcopy(hm2.rho_p))\n",
    "except :\n",
    "    pass\n"
   ]
  },
  {
   "cell_type": "code",
   "execution_count": null,
   "id": "d433199d",
   "metadata": {},
   "outputs": [],
   "source": [
    "for n in range(0,len(Us),100) :\n",
    "    \n",
    "    plt.loglog(hm.Abar+hm.Abar[1], Us[n], color='b')\n",
    "    plt.loglog(hm2.Abar+hm.Abar[1], Us2[n//2], color='r')\n",
    "    \n",
    "    plt.loglog(hm.Abar+hm.Abar[1], rhops[n], color='y')\n",
    "    plt.loglog(hm2.Abar+hm.Abar[1], rhops2[n//2], color='g')\n"
   ]
  },
  {
   "cell_type": "code",
   "execution_count": null,
   "id": "041adcca",
   "metadata": {},
   "outputs": [],
   "source": [
    "import matplotlib.animation\n",
    "import matplotlib.pyplot as plt\n",
    "import numpy as np\n",
    "plt.rcParams[\"animation.html\"] = \"jshtml\"\n",
    "plt.rcParams['figure.dpi'] = 150\n",
    "plt.ioff()\n",
    "fig, ax = plt.subplots()\n",
    "\n",
    "nn = len(Us)\n",
    "frames = 100\n",
    "ii = nn//frames\n",
    "\n",
    "def animate(j):\n",
    "    i = ii*j-ii+1\n",
    "    R, m, U, xi = Rs[i], Ms[i], Us[i], xis[i]\n",
    "    \n",
    "    g = hm.gamma(R, m, U, xi)\n",
    "    xiprime = WENO_dfdA(xi, hm.Abar, 1e100)\n",
    "    Rprime = WENO_dfdA(R, hm.Abar, 1e100)\n",
    "    mprime = WENO_dfdA(m, hm.Abar, 1e100)\n",
    "    Uprime = WENO_dfdA(U, hm.Abar, 1e100)\n",
    "\n",
    "    r = hm.rho(R, m, U, xi, g, xiprime, Rprime, mprime)\n",
    "    p = hm.P(r)\n",
    "\n",
    "    plt.cla()\n",
    "#     plt.semilogy(p[:50])\n",
    "#     plt.semilogy(r[:50])\n",
    "    plt.plot((p/r)[:50])\n",
    "#     plt.plot(U[:50])\n",
    "\n",
    "\n",
    "matplotlib.animation.FuncAnimation(fig, animate, frames=frames)\n"
   ]
  },
  {
   "cell_type": "code",
   "execution_count": null,
   "id": "3039ffc1",
   "metadata": {},
   "outputs": [],
   "source": [
    "# Get data to generate critical scaling exponent\n",
    "crit_amp = (lower_amp+upper_amp)/2 # best guess for critical amplitude\n",
    "data_lower_amp = upper_amp # look for critical data at/above the upper bound for the critical point\n",
    "data_upper_amp = 1.05*upper_amp # Look for critical data at up to 5% larger amplitudes\n",
    "\n",
    "scaling_data = critical_scaling_data(Abar_mix,\n",
    "                      1.0e0, # Same density as above\n",
    "                      crit_amp,\n",
    "                      data_lower_amp,\n",
    "                      data_upper_amp,\n",
    "                      n=10, # Try to get masses at 10 points\n",
    "                      mOverR_thresh=0.97,\n",
    "                      MS_sm_sigma=0.0, HM_sm_sigma=15.0, HM_Abar=None, HM_cflfac=0.1)"
   ]
  },
  {
   "cell_type": "code",
   "execution_count": null,
   "id": "c11375a9",
   "metadata": {},
   "outputs": [],
   "source": [
    "# importing MS and HM modules. Reload modules if needed\n",
    "try :\n",
    "    reload(ms_hm.QCD_EOS)\n",
    "    reload(ms_hm.MS)\n",
    "    reload(ms_hm.HM)\n",
    "except :\n",
    "    print(\"Did not reload modules, they may not have been imported yet.\")\n",
    "\n",
    "import ms_hm\n",
    "from ms_hm.QCD_EOS import *\n",
    "from ms_hm.MS import *\n",
    "from ms_hm.HM import *\n",
    "\n",
    "hm = HM(ms, mOverR=0.99, sm_sigma=14)\n",
    "hm.run_steps(100)\n",
    "\n"
   ]
  },
  {
   "cell_type": "markdown",
   "id": "d96e59df",
   "metadata": {},
   "source": [
    "## Critical data fit\n",
    "\n",
    "Below is an example of all the code needed to find the critical scaling threshhold and exponent."
   ]
  },
  {
   "cell_type": "code",
   "execution_count": null,
   "id": "a2408447",
   "metadata": {},
   "outputs": [],
   "source": [
    "# Find the critical point. It will be bounded between crit and lower.\n",
    "(crit, lower) = find_crit()\n",
    "# Find the mass of BHs at various amplitudes between lower_amp and lower_amp plus a bit.\n",
    "res = critical_scaling(crit, lower_amp, lower_amp + 1e-2, 20)"
   ]
  },
  {
   "cell_type": "code",
   "execution_count": null,
   "id": "b47cb5d4",
   "metadata": {},
   "outputs": [],
   "source": [
    "(a, b ) = np.polyfit(np.log10(res2[0][:,0] - res2[1])[:], np.log10(res2[0][:,1])[:], deg=1)\n",
    "plt.scatter(np.log10(res2[0][:,0] - res2[1])[:], np.log10(res2[0][:,1])[:])\n",
    "plt.plot(np.arange(-3.1,-1.6,0.01), a * np.arange(-3.1,-1.6,0.01) + b)"
   ]
  },
  {
   "cell_type": "code",
   "execution_count": null,
   "id": "8bcd84cf",
   "metadata": {},
   "outputs": [],
   "source": [
    "np.polyfit(np.log10(res[0][:,0] - 0.4265539636281781)[:], np.log10(res[0][:,1])[:], deg=1)"
   ]
  },
  {
   "cell_type": "code",
   "execution_count": null,
   "id": "35df5fb4",
   "metadata": {},
   "outputs": [],
   "source": []
  }
 ],
 "metadata": {
  "kernelspec": {
   "display_name": "Python 3",
   "language": "python",
   "name": "python3"
  },
  "language_info": {
   "codemirror_mode": {
    "name": "ipython",
    "version": 3
   },
   "file_extension": ".py",
   "mimetype": "text/x-python",
   "name": "python",
   "nbconvert_exporter": "python",
   "pygments_lexer": "ipython3",
   "version": "3.8.10"
  }
 },
 "nbformat": 4,
 "nbformat_minor": 5
}
