{
 "cells": [
  {
   "cell_type": "markdown",
   "id": "1c729698",
   "metadata": {},
   "source": [
    "# Critical Collapse Study\n",
    "\n",
    "Below is code to help study the formation of black holes. The equations integrated are described in the work by Bloomfield et. al.\n",
    "\n",
    "arXiv paper on : [1504.02071](https://arxiv.org/pdf/1504.02071.pdf) ([ar5iv](https://ar5iv.org/abs/1504.02071))\n",
    "\n",
    "For collapse with an approximate QCD equation of state, a previous work is\n",
    "\n",
    "arXiv: [1801.06138](https://arxiv.org/pdf/1801.06138.pdf) ([ar5iv](https://ar5iv.org/abs/1801.06138))\n",
    "\n",
    "## Import Modules"
   ]
  },
  {
   "cell_type": "code",
   "execution_count": 1,
   "id": "2927842a",
   "metadata": {},
   "outputs": [],
   "source": [
    "import numpy as np\n",
    "import sys\n",
    "from importlib import reload \n",
    "import scipy.interpolate as interp\n",
    "import scipy.constants as const\n",
    "\n",
    "import cython\n",
    "%load_ext Cython\n",
    "\n",
    "import matplotlib.pyplot as plt\n",
    "import matplotlib as mpl\n",
    "mpl.rc('xtick', direction='in', top=True)\n",
    "mpl.rc('ytick', direction='in', right=True)\n",
    "mpl.rc('xtick.minor', visible=True)\n",
    "mpl.rc('ytick.minor', visible=True)"
   ]
  },
  {
   "cell_type": "markdown",
   "id": "fd246b73",
   "metadata": {},
   "source": [
    "## Import MS, HM modules\n",
    "\n",
    "...and reload modules if needed"
   ]
  },
  {
   "cell_type": "code",
   "execution_count": 2,
   "id": "8b5c1b07",
   "metadata": {},
   "outputs": [],
   "source": [
    "# importing MS and HM modules. Reload modules if needed\n",
    "try :\n",
    "    reload(ms_hm.MS)\n",
    "    reload(ms_hm.HM)\n",
    "    reload(ms_hm.QCD_EOS)\n",
    "except :\n",
    "    pass\n",
    "\n",
    "import ms_hm\n",
    "from ms_hm.QCD_EOS import *\n",
    "from ms_hm.MS import *\n",
    "from ms_hm.HM import *"
   ]
  },
  {
   "cell_type": "markdown",
   "id": "e63c0592",
   "metadata": {},
   "source": [
    "## Various functions that use the MS and HM classes\n",
    "\n",
    "Functions below compute various things using the Misner-Sharp or Hernandez-Misher classes."
   ]
  },
  {
   "cell_type": "code",
   "execution_count": 3,
   "id": "d8124c6f",
   "metadata": {},
   "outputs": [],
   "source": [
    "%%cython\n",
    "\n",
    "import cython\n",
    "cimport numpy as np\n",
    "\n",
    "cimport cython\n",
    "ctypedef np.double_t DTYPE_t\n",
    "\n",
    "from libc.math cimport exp\n",
    "from libc.math cimport sqrt\n",
    "\n",
    "from cython.parallel import prange\n",
    "\n",
    "@cython.boundscheck(False)  # Deactivate bounds checking\n",
    "cpdef zero_crossing(np.ndarray x_in, double [::1] y):\n",
    "    \"\"\"\n",
    "    Given an array of inputs y, find x where the function y(x) = 0\n",
    "    \"\"\"\n",
    "    cdef int size = x_in.shape[0]\n",
    "    cdef double [:] x = x_in\n",
    "    cdef double w, zero=-1\n",
    "    cdef int i\n",
    "    \n",
    "    for i in range(size-1): # loop through all y values\n",
    "        if(y[i] * y[i+1] < 0): # if subsequent elements have opposite signs, a zero-crossing was found.\n",
    "            # linearly extrapolate zero-crossing\n",
    "            w = abs(y[i] / (y[i+1] - y[i])) \n",
    "            zero = x[i] * (1 - w) + x[i+1] * w\n",
    "            break\n",
    "            \n",
    "    return zero"
   ]
  },
  {
   "cell_type": "code",
   "execution_count": 4,
   "id": "6eb35ba8",
   "metadata": {},
   "outputs": [],
   "source": [
    "def mix_grid(left, right, n):\n",
    "    \"\"\"\n",
    "    Function to generate coordinate spacings with a mix of uniform and logarithmic spacings,\n",
    "    with uniform spacing at small values (0 to \"left\") then logarithmically spaced (\"left\" to \"right\").\n",
    "    \n",
    "    Returns an array of coordinate positions.\n",
    "    \"\"\"\n",
    "    \n",
    "    # Generate logarithmically spaced coordinates between \"left\" and \"right\"\n",
    "    A = np.exp(np.linspace(left, right, n))\n",
    "    dA = A[1] - A[0]\n",
    "    \n",
    "    # Generate uniformly spaced coordinates\n",
    "    A = np.concatenate( (np.linspace(0, A[0], int(np.ceil(A[0] / dA)), endpoint=False), A))\n",
    "    \n",
    "    return A\n",
    "\n",
    "def uni_grid(right, n):\n",
    "    \"\"\"\n",
    "    Function to generate a uniformly-spaced array of coordinate positions\n",
    "    \n",
    "    Returns the array of uniformly spaced coordinates.\n",
    "    \"\"\"\n",
    "    A = np.linspace(0, np.exp(right), n)\n",
    "    return A\n",
    "\n",
    "def exp_grid(left, right, n):\n",
    "    \"\"\"\n",
    "    Function to generate an exponentially-spaced array of coordinate positions\n",
    "    \"\"\"\n",
    "    # Generate logarithmically spaced coordinates between \"left\" and \"right\"\n",
    "    A = np.logspace(left, right, n)\n",
    "    A = np.concatenate( ([0], A))\n",
    "\n",
    "    return A"
   ]
  },
  {
   "cell_type": "code",
   "execution_count": 5,
   "id": "5c438a78",
   "metadata": {},
   "outputs": [],
   "source": [
    "# Check if a BH forms\n",
    "# The MS run should proceed until MS until it breaks. If 2m / R > 1, return true\n",
    "def BH_form(Abar, rho0, amp, default_steps=1500000):\n",
    "    \n",
    "    ms = MS(Abar, rho0, amp, trace_ray=False, BH_threshold=-1, sm_sigma=2.0)\n",
    "    \n",
    "    if (ms.run_steps(default_steps) == -1):\n",
    "        return (True, ms.delta)\n",
    "    \n",
    "    return (False, ms.delta)"
   ]
  },
  {
   "cell_type": "code",
   "execution_count": 6,
   "id": "d8615b2f",
   "metadata": {},
   "outputs": [],
   "source": [
    "def find_crit(Abar, rho0, lower_amp, upper_amp):\n",
    "    \"\"\"\n",
    "    Binary search between lower and upper to find a critical amplitude\n",
    "    (Note that this is NOT the critical density)\n",
    "    return (critical, upper value)\n",
    "    \"\"\"    \n",
    "    for i in range(20):\n",
    "        middle_amp = (lower_amp + upper_amp) / 2\n",
    "        print('Iteration No', str(i), ' -- Checking to see if a BH forms at amplitude ' + str(middle_amp))\n",
    "\n",
    "        if(BH_form(Abar, rho0, middle_amp)[0] == True):\n",
    "            upper_amp = middle_amp\n",
    "        else:\n",
    "            lower_amp = middle_amp\n",
    "    \n",
    "    return ((upper_amp + lower_amp) / 2, upper_amp)"
   ]
  },
  {
   "cell_type": "code",
   "execution_count": 7,
   "id": "aa152418",
   "metadata": {},
   "outputs": [],
   "source": [
    "def find_mass(Abar, rho0, amp, is_searching_for_crit=False, default_steps=1500000):\n",
    "    \"\"\"\n",
    "    Find mass of BHs for certain amplitude\n",
    "    set is_searching_for_crit=True when searching for the critical point\n",
    "    \"\"\"\n",
    "    print('Finding mass with amp ' + str(amp))\n",
    "            \n",
    "    # Perform a MS run without raytracing\n",
    "    ms = MS(Abar, rho0, amp, trace_ray=False, BH_threshold=-1e1)\n",
    "    ms.run_steps(default_steps)\n",
    "    delta = ms.delta\n",
    "    \n",
    "    # Perform a run *with* raytracing to get ICs for an HM run\n",
    "    ms = MS(Abar, rho0, amp, trace_ray=True, BH_threshold=-1e1)\n",
    "    flag = ms.run_steps(default_steps)\n",
    "    if(flag != 0):\n",
    "        raise ValueError('Not finishing ray-tracing with the amplitude ' + str(amp))\n",
    "        \n",
    "    # Perform an HM run\n",
    "    hm = HM(ms, mOverR=0.99, sm_sigma=50)\n",
    "    bh_formed = hm.adap_run_steps(550000) == 1\n",
    "    if(not bh_formed and is_searching_for_crit==False):\n",
    "        raise ValueError('Cannot get the target 2m/R with the amplitude ' + str(amp))\n",
    "    \n",
    "    print(ms.delta, hm.BH_mass2())\n",
    "    return (ms.delta, hm.BH_mass2())"
   ]
  },
  {
   "cell_type": "code",
   "execution_count": 8,
   "id": "dd50a970",
   "metadata": {},
   "outputs": [],
   "source": [
    "# # Generate critical scaling data \n",
    "# def critical_scaling(crit_amp, lower_amp, upper_amp, n=10):\n",
    "#     amps = 10**np.linspace(np.log10(lower_amp - crit_amp), np.log10(upper_amp - crit_amp), n) + crit_amp\n",
    "#     print(amps)\n",
    "#     masses = np.array([find_mass(amp) for amp in amps])\n",
    "#     crit_delta = find_mass(crit_amp, is_searching_for_crit=True)[0]  \n",
    "#     return (masses, crit_delta)"
   ]
  },
  {
   "cell_type": "markdown",
   "id": "369692c8",
   "metadata": {},
   "source": [
    "## Simulation setup\n",
    "\n",
    "Code below will set up grids (arrays) for running the simulations."
   ]
  },
  {
   "cell_type": "code",
   "execution_count": 9,
   "id": "7149d2f2",
   "metadata": {},
   "outputs": [
    {
     "name": "stdout",
     "output_type": "stream",
     "text": [
      "The grid of Abar values is linearly spaced from Abar = 0 to 0.5476822525425332 then log spaced until Abar = 3.673077974307203\n"
     ]
    },
    {
     "data": {
      "image/png": "[encoded data removed]",
      "text/plain": [
       "<Figure size 432x288 with 1 Axes>"
      ]
     },
     "metadata": {
      "needs_background": "light"
     },
     "output_type": "display_data"
    }
   ],
   "source": [
    "# simulation resolution parameter\n",
    "# (Not exactly the number of gridpoints for a mixed grid)\n",
    "n = 400\n",
    "\n",
    "# Generate an array of coordinate positions for the simulation to run at\n",
    "lower = np.log10(0.25) # The coordinates will be linearly spaced from 0 to e^lower\n",
    "upper = np.log10(20) # The coordinates will be log spaced from e^lower to e^upper\n",
    "# Abar = mix_grid(lower, upper, n)\n",
    "# Abar = exp_grid(lower, upper, n)\n",
    "Abar = uni_grid(upper, n)\n",
    "plt.semilogy(Abar, 'k.')\n",
    "print(\"The grid of Abar values is linearly spaced from Abar = 0 to\", np.exp(lower),\n",
    "      \"then log spaced until Abar =\", np.exp(upper))"
   ]
  },
  {
   "cell_type": "code",
   "execution_count": 14,
   "id": "52d05801",
   "metadata": {},
   "outputs": [
    {
     "data": {
      "image/png": "[encoded data removed]",
      "text/plain": [
       "<Figure size 432x288 with 1 Axes>"
      ]
     },
     "metadata": {
      "needs_background": "light"
     },
     "output_type": "display_data"
    }
   ],
   "source": [
    "qcd = QCD_EOS()\n",
    "qcd.dPdrho_plot()"
   ]
  },
  {
   "cell_type": "markdown",
   "id": "f0162197",
   "metadata": {},
   "source": [
    "## Scratch Work\n",
    "\n",
    "Below is some scratch work useful for testing simulations and getting things set up to run"
   ]
  },
  {
   "cell_type": "code",
   "execution_count": 10,
   "id": "3603b07b",
   "metadata": {
    "scrolled": false
   },
   "outputs": [
    {
     "name": "stdout",
     "output_type": "stream",
     "text": [
      "Initial w is [0.22969897] and Horizon radius is [3.45494149e-06]\n",
      "Not tracing ray and NO excision will be performed!\n",
      "Horizon was found at step 10670 ! code will be terminated.\n"
     ]
    },
    {
     "data": {
      "image/png": "[encoded data removed]",
      "text/plain": [
       "<Figure size 432x288 with 1 Axes>"
      ]
     },
     "metadata": {
      "needs_background": "light"
     },
     "output_type": "display_data"
    }
   ],
   "source": [
    "# Reload MS module and try a run\n",
    "reload(ms_hm.QCD_EOS)\n",
    "from ms_hm.QCD_EOS import *\n",
    "reload(ms_hm.MS)\n",
    "from ms_hm.MS import *\n",
    "rho0 = 1.0e10 # initial density value in MeV^4, should just be w=1/3 here.\n",
    "amp = 0.25804443359375\n",
    "\n",
    "ms = MS(Abar, rho0, amp, trace_ray=False, BH_threshold=-999, sm_sigma=2.0)\n",
    "ms.run_steps(200000)\n",
    "ms.plot_fields(True)"
   ]
  },
  {
   "cell_type": "code",
   "execution_count": 15,
   "id": "57b5026b",
   "metadata": {},
   "outputs": [
    {
     "name": "stdout",
     "output_type": "stream",
     "text": [
      "Iteration No 0  -- Checking to see if a BH forms at amplitude 0.2\n",
      "Initial w is [0.22969897] and Horizon radius is [3.45494149e-06]\n",
      "Not tracing ray and NO excision will be performed!\n",
      "Density near origin has dropped significantly, so a black hole likely won't be forming! This occurred at step 9182\n",
      "Iteration No 1  -- Checking to see if a BH forms at amplitude 0.25\n",
      "Initial w is [0.22969897] and Horizon radius is [3.45494149e-06]\n",
      "Not tracing ray and NO excision will be performed!\n",
      "Density near origin has dropped significantly, so a black hole likely won't be forming! This occurred at step 9802\n",
      "Iteration No 2  -- Checking to see if a BH forms at amplitude 0.275\n",
      "Initial w is [0.22969897] and Horizon radius is [3.45494149e-06]\n",
      "Not tracing ray and NO excision will be performed!\n",
      "Horizon was found at step 8150 ! code will be terminated.\n",
      "Iteration No 3  -- Checking to see if a BH forms at amplitude 0.2625\n",
      "Initial w is [0.22969897] and Horizon radius is [3.45494149e-06]\n",
      "Not tracing ray and NO excision will be performed!\n",
      "Horizon was found at step 9110 ! code will be terminated.\n",
      "Iteration No 4  -- Checking to see if a BH forms at amplitude 0.25625\n",
      "Initial w is [0.22969897] and Horizon radius is [3.45494149e-06]\n",
      "Not tracing ray and NO excision will be performed!\n",
      "Density near origin has dropped significantly, so a black hole likely won't be forming! This occurred at step 10280\n",
      "Iteration No 5  -- Checking to see if a BH forms at amplitude 0.259375\n",
      "Initial w is [0.22969897] and Horizon radius is [3.45494149e-06]\n",
      "Not tracing ray and NO excision will be performed!\n",
      "Horizon was found at step 9720 ! code will be terminated.\n",
      "Iteration No 6  -- Checking to see if a BH forms at amplitude 0.2578125\n",
      "Initial w is [0.22969897] and Horizon radius is [3.45494149e-06]\n",
      "Not tracing ray and NO excision will be performed!\n",
      "Density near origin has dropped significantly, so a black hole likely won't be forming! This occurred at step 10782\n",
      "Iteration No 7  -- Checking to see if a BH forms at amplitude 0.25859375\n",
      "Initial w is [0.22969897] and Horizon radius is [3.45494149e-06]\n",
      "Not tracing ray and NO excision will be performed!\n",
      "Horizon was found at step 10050 ! code will be terminated.\n",
      "Iteration No 8  -- Checking to see if a BH forms at amplitude 0.258203125\n",
      "Initial w is [0.22969897] and Horizon radius is [3.45494149e-06]\n",
      "Not tracing ray and NO excision will be performed!\n",
      "Horizon was found at step 10370 ! code will be terminated.\n",
      "Iteration No 9  -- Checking to see if a BH forms at amplitude 0.2580078125\n",
      "Initial w is [0.22969897] and Horizon radius is [3.45494149e-06]\n",
      "Not tracing ray and NO excision will be performed!\n",
      "Horizon was found at step 10820 ! code will be terminated.\n",
      "Iteration No 10  -- Checking to see if a BH forms at amplitude 0.25791015625\n",
      "Initial w is [0.22969897] and Horizon radius is [3.45494149e-06]\n",
      "Not tracing ray and NO excision will be performed!\n",
      "Density near origin has dropped significantly, so a black hole likely won't be forming! This occurred at step 10925\n",
      "Iteration No 11  -- Checking to see if a BH forms at amplitude 0.257958984375\n",
      "Initial w is [0.22969897] and Horizon radius is [3.45494149e-06]\n",
      "Not tracing ray and NO excision will be performed!\n",
      "Density near origin has dropped significantly, so a black hole likely won't be forming! This occurred at step 11121\n",
      "Iteration No 12  -- Checking to see if a BH forms at amplitude 0.25798339843749996\n",
      "Initial w is [0.22969897] and Horizon radius is [3.45494149e-06]\n",
      "Not tracing ray and NO excision will be performed!\n",
      "Horizon was found at step 11060 ! code will be terminated.\n",
      "Iteration No 13  -- Checking to see if a BH forms at amplitude 0.25797119140624997\n",
      "Initial w is [0.22969897] and Horizon radius is [3.45494149e-06]\n",
      "Not tracing ray and NO excision will be performed!\n",
      "Density near origin has dropped significantly, so a black hole likely won't be forming! This occurred at step 11271\n",
      "Iteration No 14  -- Checking to see if a BH forms at amplitude 0.25797729492187493\n",
      "Initial w is [0.22969897] and Horizon radius is [3.45494149e-06]\n",
      "Not tracing ray and NO excision will be performed!\n"
     ]
    },
    {
     "name": "stderr",
     "output_type": "stream",
     "text": [
      "/home/jmertens/criticalcollapse/ms_hm/MS.py:97: RuntimeWarning: invalid value encountered in sqrt\n",
      "  return np.sqrt( np.exp(2 * (1 - self.alpha) * xi)\n"
     ]
    },
    {
     "name": "stdout",
     "output_type": "stream",
     "text": [
      "Horizon was found at step 11290 ! code will be terminated.\n",
      "Iteration No 15  -- Checking to see if a BH forms at amplitude 0.2579742431640625\n",
      "Initial w is [0.22969897] and Horizon radius is [3.45494149e-06]\n",
      "Not tracing ray and NO excision will be performed!\n"
     ]
    },
    {
     "ename": "ValueError",
     "evalue": "Large psi detected at step 11287!",
     "output_type": "error",
     "traceback": [
      "\u001b[0;31m---------------------------------------------------------------------------\u001b[0m",
      "\u001b[0;31mValueError\u001b[0m                                Traceback (most recent call last)",
      "\u001b[0;32m<ipython-input-15-6919277a8928>\u001b[0m in \u001b[0;36m<module>\u001b[0;34m\u001b[0m\n\u001b[1;32m      1\u001b[0m \u001b[0mrho0\u001b[0m \u001b[0;34m=\u001b[0m \u001b[0;36m1.0e10\u001b[0m \u001b[0;31m# initial density value in MeV^4\u001b[0m\u001b[0;34m\u001b[0m\u001b[0;34m\u001b[0m\u001b[0m\n\u001b[0;32m----> 2\u001b[0;31m \u001b[0mfind_crit\u001b[0m\u001b[0;34m(\u001b[0m\u001b[0mAbar\u001b[0m\u001b[0;34m,\u001b[0m \u001b[0mrho0\u001b[0m\u001b[0;34m,\u001b[0m \u001b[0;36m0.10\u001b[0m\u001b[0;34m,\u001b[0m \u001b[0;36m0.30\u001b[0m\u001b[0;34m)\u001b[0m\u001b[0;34m\u001b[0m\u001b[0;34m\u001b[0m\u001b[0m\n\u001b[0m",
      "\u001b[0;32m<ipython-input-6-dcb39fa021e3>\u001b[0m in \u001b[0;36mfind_crit\u001b[0;34m(Abar, rho0, lower_amp, upper_amp)\u001b[0m\n\u001b[1;32m      9\u001b[0m         \u001b[0mprint\u001b[0m\u001b[0;34m(\u001b[0m\u001b[0;34m'Iteration No'\u001b[0m\u001b[0;34m,\u001b[0m \u001b[0mstr\u001b[0m\u001b[0;34m(\u001b[0m\u001b[0mi\u001b[0m\u001b[0;34m)\u001b[0m\u001b[0;34m,\u001b[0m \u001b[0;34m' -- Checking to see if a BH forms at amplitude '\u001b[0m \u001b[0;34m+\u001b[0m \u001b[0mstr\u001b[0m\u001b[0;34m(\u001b[0m\u001b[0mmiddle_amp\u001b[0m\u001b[0;34m)\u001b[0m\u001b[0;34m)\u001b[0m\u001b[0;34m\u001b[0m\u001b[0;34m\u001b[0m\u001b[0m\n\u001b[1;32m     10\u001b[0m \u001b[0;34m\u001b[0m\u001b[0m\n\u001b[0;32m---> 11\u001b[0;31m         \u001b[0;32mif\u001b[0m\u001b[0;34m(\u001b[0m\u001b[0mBH_form\u001b[0m\u001b[0;34m(\u001b[0m\u001b[0mAbar\u001b[0m\u001b[0;34m,\u001b[0m \u001b[0mrho0\u001b[0m\u001b[0;34m,\u001b[0m \u001b[0mmiddle_amp\u001b[0m\u001b[0;34m)\u001b[0m\u001b[0;34m[\u001b[0m\u001b[0;36m0\u001b[0m\u001b[0;34m]\u001b[0m \u001b[0;34m==\u001b[0m \u001b[0;32mTrue\u001b[0m\u001b[0;34m)\u001b[0m\u001b[0;34m:\u001b[0m\u001b[0;34m\u001b[0m\u001b[0;34m\u001b[0m\u001b[0m\n\u001b[0m\u001b[1;32m     12\u001b[0m             \u001b[0mupper_amp\u001b[0m \u001b[0;34m=\u001b[0m \u001b[0mmiddle_amp\u001b[0m\u001b[0;34m\u001b[0m\u001b[0;34m\u001b[0m\u001b[0m\n\u001b[1;32m     13\u001b[0m         \u001b[0;32melse\u001b[0m\u001b[0;34m:\u001b[0m\u001b[0;34m\u001b[0m\u001b[0;34m\u001b[0m\u001b[0m\n",
      "\u001b[0;32m<ipython-input-5-750811c4009f>\u001b[0m in \u001b[0;36mBH_form\u001b[0;34m(Abar, rho0, amp, default_steps)\u001b[0m\n\u001b[1;32m      5\u001b[0m     \u001b[0mms\u001b[0m \u001b[0;34m=\u001b[0m \u001b[0mMS\u001b[0m\u001b[0;34m(\u001b[0m\u001b[0mAbar\u001b[0m\u001b[0;34m,\u001b[0m \u001b[0mrho0\u001b[0m\u001b[0;34m,\u001b[0m \u001b[0mamp\u001b[0m\u001b[0;34m,\u001b[0m \u001b[0mtrace_ray\u001b[0m\u001b[0;34m=\u001b[0m\u001b[0;32mFalse\u001b[0m\u001b[0;34m,\u001b[0m \u001b[0mBH_threshold\u001b[0m\u001b[0;34m=\u001b[0m\u001b[0;34m-\u001b[0m\u001b[0;36m1\u001b[0m\u001b[0;34m,\u001b[0m \u001b[0msm_sigma\u001b[0m\u001b[0;34m=\u001b[0m\u001b[0;36m2.0\u001b[0m\u001b[0;34m)\u001b[0m\u001b[0;34m\u001b[0m\u001b[0;34m\u001b[0m\u001b[0m\n\u001b[1;32m      6\u001b[0m \u001b[0;34m\u001b[0m\u001b[0m\n\u001b[0;32m----> 7\u001b[0;31m     \u001b[0;32mif\u001b[0m \u001b[0;34m(\u001b[0m\u001b[0mms\u001b[0m\u001b[0;34m.\u001b[0m\u001b[0mrun_steps\u001b[0m\u001b[0;34m(\u001b[0m\u001b[0mdefault_steps\u001b[0m\u001b[0;34m)\u001b[0m \u001b[0;34m==\u001b[0m \u001b[0;34m-\u001b[0m\u001b[0;36m1\u001b[0m\u001b[0;34m)\u001b[0m\u001b[0;34m:\u001b[0m\u001b[0;34m\u001b[0m\u001b[0;34m\u001b[0m\u001b[0m\n\u001b[0m\u001b[1;32m      8\u001b[0m         \u001b[0;32mreturn\u001b[0m \u001b[0;34m(\u001b[0m\u001b[0;32mTrue\u001b[0m\u001b[0;34m,\u001b[0m \u001b[0mms\u001b[0m\u001b[0;34m.\u001b[0m\u001b[0mdelta\u001b[0m\u001b[0;34m)\u001b[0m\u001b[0;34m\u001b[0m\u001b[0;34m\u001b[0m\u001b[0m\n\u001b[1;32m      9\u001b[0m \u001b[0;34m\u001b[0m\u001b[0m\n",
      "\u001b[0;32m~/criticalcollapse/ms_hm/MS.py\u001b[0m in \u001b[0;36mrun_steps\u001b[0;34m(self, n_steps, exc_intv)\u001b[0m\n\u001b[1;32m    300\u001b[0m \u001b[0;34m\u001b[0m\u001b[0m\n\u001b[1;32m    301\u001b[0m             \u001b[0mkR1\u001b[0m\u001b[0;34m,\u001b[0m \u001b[0mkm1\u001b[0m\u001b[0;34m,\u001b[0m \u001b[0mkU1\u001b[0m\u001b[0;34m,\u001b[0m \u001b[0mkA_p1\u001b[0m \u001b[0;34m=\u001b[0m \u001b[0mself\u001b[0m\u001b[0;34m.\u001b[0m\u001b[0mk_coeffs\u001b[0m\u001b[0;34m(\u001b[0m\u001b[0mself\u001b[0m\u001b[0;34m.\u001b[0m\u001b[0mR\u001b[0m\u001b[0;34m,\u001b[0m \u001b[0mself\u001b[0m\u001b[0;34m.\u001b[0m\u001b[0mm\u001b[0m\u001b[0;34m,\u001b[0m \u001b[0mself\u001b[0m\u001b[0;34m.\u001b[0m\u001b[0mU\u001b[0m\u001b[0;34m,\u001b[0m \u001b[0mself\u001b[0m\u001b[0;34m.\u001b[0m\u001b[0mAbar_p\u001b[0m\u001b[0;34m,\u001b[0m \u001b[0mself\u001b[0m\u001b[0;34m.\u001b[0m\u001b[0mxi\u001b[0m\u001b[0;34m)\u001b[0m\u001b[0;34m\u001b[0m\u001b[0;34m\u001b[0m\u001b[0m\n\u001b[0;32m--> 302\u001b[0;31m             kR2, km2, kU2, kA_p2 = self.k_coeffs(self.R + deltau/2*kR1, self.m + deltau/2*km1,\n\u001b[0m\u001b[1;32m    303\u001b[0m                                                  \u001b[0mself\u001b[0m\u001b[0;34m.\u001b[0m\u001b[0mU\u001b[0m \u001b[0;34m+\u001b[0m \u001b[0mdeltau\u001b[0m\u001b[0;34m/\u001b[0m\u001b[0;36m2\u001b[0m\u001b[0;34m*\u001b[0m\u001b[0mkU1\u001b[0m\u001b[0;34m,\u001b[0m \u001b[0mself\u001b[0m\u001b[0;34m.\u001b[0m\u001b[0mAbar_p\u001b[0m \u001b[0;34m+\u001b[0m \u001b[0mdeltau\u001b[0m\u001b[0;34m/\u001b[0m\u001b[0;36m2\u001b[0m\u001b[0;34m*\u001b[0m\u001b[0mkA_p1\u001b[0m\u001b[0;34m,\u001b[0m\u001b[0;34m\u001b[0m\u001b[0;34m\u001b[0m\u001b[0m\n\u001b[1;32m    304\u001b[0m                                                 self.xi + deltau / 2)\n",
      "\u001b[0;32m~/criticalcollapse/ms_hm/MS.py\u001b[0m in \u001b[0;36mk_coeffs\u001b[0;34m(self, R, m, U, Abar_p, xi)\u001b[0m\n\u001b[1;32m    144\u001b[0m \u001b[0;34m\u001b[0m\u001b[0m\n\u001b[1;32m    145\u001b[0m         \u001b[0mPprime\u001b[0m \u001b[0;34m=\u001b[0m \u001b[0mself\u001b[0m\u001b[0;34m.\u001b[0m\u001b[0mPprime\u001b[0m\u001b[0;34m(\u001b[0m\u001b[0mR\u001b[0m\u001b[0;34m,\u001b[0m \u001b[0mm\u001b[0m\u001b[0;34m)\u001b[0m\u001b[0;34m\u001b[0m\u001b[0;34m\u001b[0m\u001b[0m\n\u001b[0;32m--> 146\u001b[0;31m         \u001b[0mep\u001b[0m \u001b[0;34m=\u001b[0m \u001b[0mnp\u001b[0m\u001b[0;34m.\u001b[0m\u001b[0mexp\u001b[0m\u001b[0;34m(\u001b[0m\u001b[0mself\u001b[0m\u001b[0;34m.\u001b[0m\u001b[0mpsi\u001b[0m\u001b[0;34m(\u001b[0m\u001b[0mr\u001b[0m\u001b[0;34m,\u001b[0m \u001b[0mp\u001b[0m\u001b[0;34m,\u001b[0m \u001b[0mPprime\u001b[0m\u001b[0;34m)\u001b[0m\u001b[0;34m)\u001b[0m\u001b[0;34m\u001b[0m\u001b[0;34m\u001b[0m\u001b[0m\n\u001b[0m\u001b[1;32m    147\u001b[0m \u001b[0;34m\u001b[0m\u001b[0m\n\u001b[1;32m    148\u001b[0m         \u001b[0mkR\u001b[0m \u001b[0;34m=\u001b[0m \u001b[0mself\u001b[0m\u001b[0;34m.\u001b[0m\u001b[0malpha\u001b[0m \u001b[0;34m*\u001b[0m \u001b[0mR\u001b[0m \u001b[0;34m*\u001b[0m \u001b[0;34m(\u001b[0m\u001b[0mU\u001b[0m \u001b[0;34m*\u001b[0m \u001b[0mep\u001b[0m \u001b[0;34m-\u001b[0m \u001b[0;36m1\u001b[0m\u001b[0;34m)\u001b[0m\u001b[0;34m\u001b[0m\u001b[0;34m\u001b[0m\u001b[0m\n",
      "\u001b[0;32m~/criticalcollapse/ms_hm/MS.py\u001b[0m in \u001b[0;36mpsi\u001b[0;34m(self, rho, p, Pprime)\u001b[0m\n\u001b[1;32m    119\u001b[0m         \u001b[0mpsi\u001b[0m \u001b[0;34m=\u001b[0m \u001b[0minv_derv_phi\u001b[0m\u001b[0;34m(\u001b[0m\u001b[0mrho\u001b[0m\u001b[0;34m,\u001b[0m \u001b[0mp\u001b[0m\u001b[0;34m,\u001b[0m \u001b[0moffset\u001b[0m\u001b[0;34m)\u001b[0m\u001b[0;34m\u001b[0m\u001b[0;34m\u001b[0m\u001b[0m\n\u001b[1;32m    120\u001b[0m         \u001b[0;32mif\u001b[0m \u001b[0;34m(\u001b[0m\u001b[0mpsi\u001b[0m\u001b[0;34m>\u001b[0m\u001b[0;36m100\u001b[0m\u001b[0;34m)\u001b[0m\u001b[0;34m.\u001b[0m\u001b[0many\u001b[0m\u001b[0;34m(\u001b[0m\u001b[0;34m)\u001b[0m \u001b[0;34m:\u001b[0m\u001b[0;34m\u001b[0m\u001b[0;34m\u001b[0m\u001b[0m\n\u001b[0;32m--> 121\u001b[0;31m             \u001b[0;32mraise\u001b[0m \u001b[0mValueError\u001b[0m\u001b[0;34m(\u001b[0m\u001b[0;34m\"Large psi detected at step \"\u001b[0m\u001b[0;34m+\u001b[0m\u001b[0mstr\u001b[0m\u001b[0;34m(\u001b[0m\u001b[0mself\u001b[0m\u001b[0;34m.\u001b[0m\u001b[0mstep\u001b[0m\u001b[0;34m)\u001b[0m\u001b[0;34m+\u001b[0m\u001b[0;34m\"!\"\u001b[0m\u001b[0;34m)\u001b[0m\u001b[0;34m\u001b[0m\u001b[0;34m\u001b[0m\u001b[0m\n\u001b[0m\u001b[1;32m    122\u001b[0m         \u001b[0;32mreturn\u001b[0m \u001b[0mpsi\u001b[0m\u001b[0;34m\u001b[0m\u001b[0;34m\u001b[0m\u001b[0m\n\u001b[1;32m    123\u001b[0m \u001b[0;34m\u001b[0m\u001b[0m\n",
      "\u001b[0;31mValueError\u001b[0m: Large psi detected at step 11287!"
     ]
    }
   ],
   "source": [
    "rho0 = 1.0e10 # initial density value in MeV^4\n",
    "find_crit(Abar, rho0, 0.10, 0.30)"
   ]
  },
  {
   "cell_type": "code",
   "execution_count": 16,
   "id": "7abf25c0",
   "metadata": {},
   "outputs": [],
   "source": [
    "# TODO: fix the HM class stuff\n",
    "# reload(ms_hm.HM)\n",
    "# from ms_hm.HM import *\n",
    "# hm = HM(ms, mOverR=0.99, sm_sigma=15)\n",
    "# hm.adap_run_steps(550000)\n",
    "# print(hm.BH_mass2())"
   ]
  },
  {
   "cell_type": "code",
   "execution_count": null,
   "id": "288c809a",
   "metadata": {},
   "outputs": [],
   "source": [
    "# find_mass(0.30, is_searching_for_crit=False)"
   ]
  },
  {
   "cell_type": "markdown",
   "id": "75ae3e52",
   "metadata": {},
   "source": [
    "## Simulation Run\n",
    "\n",
    "Below is an example of all the code needed to find the critical scaling threshhold and exponent."
   ]
  },
  {
   "cell_type": "code",
   "execution_count": null,
   "id": "964a78c3",
   "metadata": {},
   "outputs": [],
   "source": [
    "# Find the critical point. It will be bounded between crit and lower.\n",
    "(crit, lower) = find_crit()\n",
    "# Find the mass of BHs at various amplitudes between lower_amp and lower_amp plus a bit.\n",
    "res = critical_scaling(crit, lower_amp, lower_amp + 1e-2, 20)"
   ]
  },
  {
   "cell_type": "code",
   "execution_count": null,
   "id": "27ca9e3c",
   "metadata": {},
   "outputs": [],
   "source": [
    "(a, b ) = np.polyfit(np.log10(res2[0][:,0] - res2[1])[:], np.log10(res2[0][:,1])[:], deg=1)\n",
    "plt.scatter(np.log10(res2[0][:,0] - res2[1])[:], np.log10(res2[0][:,1])[:])\n",
    "plt.plot(np.arange(-3.1,-1.6,0.01), a * np.arange(-3.1,-1.6,0.01) + b)"
   ]
  },
  {
   "cell_type": "code",
   "execution_count": null,
   "id": "af974226",
   "metadata": {},
   "outputs": [],
   "source": [
    "np.polyfit(np.log10(res[0][:,0] - 0.4265539636281781)[:], np.log10(res[0][:,1])[:], deg=1)"
   ]
  },
  {
   "cell_type": "code",
   "execution_count": null,
   "id": "bdb3bf9a",
   "metadata": {},
   "outputs": [],
   "source": []
  }
 ],
 "metadata": {
  "kernelspec": {
   "display_name": "Python 3",
   "language": "python",
   "name": "python3"
  },
  "language_info": {
   "codemirror_mode": {
    "name": "ipython",
    "version": 3
   },
   "file_extension": ".py",
   "mimetype": "text/x-python",
   "name": "python",
   "nbconvert_exporter": "python",
   "pygments_lexer": "ipython3",
   "version": "3.8.10"
  }
 },
 "nbformat": 4,
 "nbformat_minor": 5
}
