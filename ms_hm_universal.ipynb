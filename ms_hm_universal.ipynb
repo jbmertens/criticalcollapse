{
 "cells": [
  {
   "cell_type": "code",
   "execution_count": 1,
   "id": "d96bc72e-6442-4225-9d70-92b01bdf60aa",
   "metadata": {},
   "outputs": [],
   "source": [
    "import numpy as np\n",
    "import scipy.integrate as integ\n",
    "import scipy.interpolate as interp\n",
    "\n",
    "\n",
    "import matplotlib.pyplot as plt\n",
    "import matplotlib as mpl\n",
    "mpl.rc('xtick', direction='in', top=True)\n",
    "mpl.rc('ytick', direction='in', right=True)\n",
    "mpl.rc('xtick.minor', visible=True)\n",
    "mpl.rc('ytick.minor', visible=True)\n",
    "import cython\n",
    "%load_ext Cython"
   ]
  },
  {
   "cell_type": "code",
   "execution_count": null,
   "id": "fc396711-edd2-49b4-8414-ed692c2ebf27",
   "metadata": {},
   "outputs": [],
   "source": []
  },
  {
   "cell_type": "code",
   "execution_count": 644,
   "id": "27c11657-b909-45b7-81b5-754d4bdc417c",
   "metadata": {},
   "outputs": [
    {
     "name": "stderr",
     "output_type": "stream",
     "text": [
      "In file included from /usr/local/lib/python3.8/dist-packages/numpy/core/include/numpy/ndarraytypes.h:1944,\n",
      "                 from /usr/local/lib/python3.8/dist-packages/numpy/core/include/numpy/ndarrayobject.h:12,\n",
      "                 from /usr/local/lib/python3.8/dist-packages/numpy/core/include/numpy/arrayobject.h:4,\n",
      "                 from /root/.cache/ipython/cython/_cython_magic_025f702f87655240695731200949dc7c.c:645:\n",
      "/usr/local/lib/python3.8/dist-packages/numpy/core/include/numpy/npy_1_7_deprecated_api.h:17:2: warning: #warning \"Using deprecated NumPy API, disable it with \" \"#define NPY_NO_DEPRECATED_API NPY_1_7_API_VERSION\" [-Wcpp]\n",
      "   17 | #warning \"Using deprecated NumPy API, disable it with \" \\\n",
      "      |  ^~~~~~~\n"
     ]
    }
   ],
   "source": [
    "%%cython\n",
    "\n",
    "import numpy as np\n",
    "import cython\n",
    "cimport numpy as np\n",
    "\n",
    "cimport cython\n",
    "ctypedef np.double_t DTYPE_t\n",
    "\n",
    "from libc.math cimport exp\n",
    "from libc.math cimport sqrt\n",
    "\n",
    "from cython.parallel import prange\n",
    "\n",
    "# first derivative\n",
    "@cython.boundscheck(False)  # Deactivate bounds checking\n",
    "cpdef dfdA(np.ndarray arr, double deltaL, double [::1] A, double bd = 0, int exec_pos = -1):\n",
    "    cdef int size = arr.shape[0]\n",
    "    cdef double [:] f = arr\n",
    "    cdef double [:] res =  np.zeros(size, dtype=np.double)\n",
    "    \n",
    "    cdef int i\n",
    "    for i in prange(exec_pos+2, size - 1,nogil=True):\n",
    "        res[i] = (f[i+1] - f[i-1]) / (A[i+1] - A[i-1])\n",
    "    if(exec_pos > -1):\n",
    "        res[exec_pos+1] = (f[exec_pos+2] - f[exec_pos+1]) / (A[exec_pos+2]-A[exec_pos+1]) \n",
    "    elif(bd < 1e99): # if bd value is valid, set 0th component to bd\n",
    "        res[0] = bd\n",
    "    else: # invalid bd value, so use one-side derivative\n",
    "        res[0] = (f[1] - f[0]) / (A[1] - A[0])\n",
    "    res[size - 1] = (f[-1] - f[-2]) / (A[size - 1] - A[size-2]) \n",
    "    return np.asarray(res)\n",
    "\n",
    "# second derivative\n",
    "@cython.boundscheck(False)  # Deactivate bounds checking\n",
    "cpdef ddfddA(np.ndarray arr, double deltaL, double [::1] A, double bd = 0, int exec_pos = -1):\n",
    "    cdef int size = arr.shape[0]\n",
    "    cdef double [:] f = arr\n",
    "    cdef double [:] res =  np.zeros(size, dtype=np.double)\n",
    "    \n",
    "    cdef int i\n",
    "    for i in prange(exec_pos+2, size - 1,nogil=True):\n",
    "        res[i] = ((f[i+1] - f[i]) / (A[i+1] - A[i]) - (f[i] - f[i-1]) / (A[i] - A[i-1])) \\\n",
    "            / (0.5 * (A[i+1] - A[i-1]))\n",
    "    if(exec_pos > -1):\n",
    "        res[exec_pos+1] = res[exec_pos+2]\n",
    "    else:\n",
    "        res[0] = (f[1] + f[1] - 2 * f[0]) /(A[1]**2)\n",
    "    res[size - 1] = (f[-3] + f[-1] - 2*f[-2]) / ( (A[-1] - A[-3])/2 )**2 \n",
    "    return np.asarray(res)\n",
    "\n",
    "@cython.boundscheck(False)  # Deactivate bounds checking\n",
    "cpdef derv_phi(np.ndarray rho, np.ndarray P, double off_set=0, int exec_pos = -1):\n",
    "    cdef int size = rho.shape[0]\n",
    "    cdef double [:] res =  np.zeros(size, dtype=np.double)\n",
    "    cdef int i\n",
    "    res[exec_pos + 1] = off_set\n",
    "    res[exec_pos+2] = - (P[exec_pos+2] - P[exec_pos+1]) / (P[exec_pos+1] + rho[exec_pos+1]) + res[exec_pos+1]\n",
    "\n",
    "    for i in range(exec_pos+3, size):\n",
    "        res[i] = - (P[i] - P[i-2]) / (P[i-1] + rho[i-1]) + res[i-2]\n",
    "    return np.asarray(res)\n",
    "\n",
    "@cython.boundscheck(False)  # Deactivate bounds checking\n",
    "cpdef inv_derv_phi(np.ndarray rho, np.ndarray P, double off_set=0, int exec_pos = -1):\n",
    "    cdef int size = rho.shape[0]\n",
    "    cdef double [:] res =  np.zeros(size, dtype=np.double)\n",
    "    cdef int i\n",
    "    res[size - 1] = off_set\n",
    "    res[size - 2] =  (P[size-1] - P[size-2]) / (P[size-2] + rho[size-2]) + res[size-1]\n",
    "    for i in range(size-3, -1, -1):\n",
    "        res[i] = (P[i+2] - P[i]) / (P[i+1] + rho[i+1]) + res[i+2]\n",
    "    return np.asarray(res)\n",
    "\n",
    "@cython.boundscheck(False)  # Deactivate bounds checking\n",
    "# for exp(\\psi) in Eq. 165e\n",
    "cpdef derv_psi( np.ndarray xi, np.ndarray c, double off_set=0):\n",
    "    cdef int size = xi.shape[0]\n",
    "    cdef double [:] res =  np.zeros(size, dtype=np.double)\n",
    "    cdef int i\n",
    "    res[0] = off_set\n",
    "    res[1] = - (xi[2] - xi[1]) * c[0] + res[0]\n",
    "\n",
    "    for i in range(2, size):\n",
    "        res[i] = - (xi[i] - xi[i-2]) * c[i - 1] + res[i-2]\n",
    "    return np.asarray(res)\n",
    "\n",
    "@cython.boundscheck(False)  # Deactivate bounds checking\n",
    "# for exp(\\psi) in Eq. 165e\n",
    "cpdef inv_derv_psi( np.ndarray xi, np.ndarray c, double off_set=0):\n",
    "    cdef int size = xi.shape[0]\n",
    "    cdef double [:] res =  np.zeros(size, dtype=np.double)\n",
    "    cdef int i\n",
    "    res[size - 1] = off_set\n",
    "    res[size - 2] =  (xi[size-1] - xi[size-2]) * c[size-2] + res[size-1]\n",
    "    for i in range(size-3, -1, -1):\n",
    "        res[i] = (xi[i+2] - xi[i]) * c[i+1] + res[i+2]\n",
    "    return np.asarray(res)\n",
    "\n",
    "@cython.boundscheck(False)  # Deactivate bounds checking\n",
    "cpdef find_exec_pos(np.ndarray arr):\n",
    "    cdef int size = arr.shape[0]\n",
    "    cdef double [:] f = arr\n",
    "    \n",
    "    cdef int i\n",
    "    for i in range(size - 1, 1,-1):\n",
    "        if(arr[i] < 1 and arr[i-1] > 1): # found a horizon\n",
    "            return i-1\n",
    "    return -1\n",
    "\n",
    "\n",
    "@cython.boundscheck(False)  # Deactivate bounds checking\n",
    "cpdef p_prime(np.ndarray g_in, double [:] R, double [:] m, double [:] U, \n",
    "                double [:] A, double [:] xi, \n",
    "               double [:] gp, double [:] Rp, double [:] Up, double [:] mp, double [:] xip,\n",
    "               double [:] gpp, double [:] Rpp, double [:] Upp, double [:] mpp, double [:] xipp,\n",
    "               double a):\n",
    "    cdef int size = g_in.shape[0]\n",
    "    cdef double [:] res =  np.zeros(size, dtype=np.double)\n",
    "    cdef double [:] g = g_in\n",
    "    cdef int i\n",
    "    #for i in prange(0, size - 1,nogil=True):\n",
    "    #    temp = (m[i] + (A[i] * R[i] * (mp[i] - 2 * m[i] * xip[i])) \n",
    "    #                / (3 * (R[i] + A[i] * Rp[i] + A * a * R[i] * xip[i]) ) )\n",
    "    #    res[i] =  (-(A[i] * R[i] * U[i] + g[i]) * gp[i] * temp\n",
    "    #              + g[i] * (A[i] * U[i] * Rp[i] + R[i] * (U[i] + A[i] * Up[i]) + gp[i]) * temp \n",
    "    #              + g[i] * (1111)) / g[i]**2\n",
    "    return np.asarray(res)\n",
    "    \n",
    "    \n",
    "@cython.boundscheck(False)  # Deactivate bounds checking\n",
    "cpdef rho_prime(np.ndarray R_in, double [:] m, double [:] A, double [:] xi,\n",
    "               double [:] Rp, double [:] mp, double [:] xip,\n",
    "               double [:] Rpp, double [:] mpp, double [:] xipp, double a):\n",
    "    cdef int size = R_in.shape[0]\n",
    "    cdef double [:] res =  np.zeros(size, dtype=np.double)\n",
    "    cdef double [:] R = R_in\n",
    "    cdef int i\n",
    "    for i in prange(0, size - 1,nogil=True):\n",
    "        res[i] = ((R[i] + A[i] * Rp[i] + A[i] * a * R[i] * xip[i]  ) \n",
    "                  * (-2 * mp[i] * xip[i] + mpp[i] - 2 * m[i] * xipp[i]) \n",
    "                 - (mp[i] - 2 * m[i] * xip[i] ) * (Rp[i] * (2 + A[i] * a * xip[i]) \n",
    "                        + A[i] * Rpp[i] + a * R[i] * (xip[i] + A[i] * xipp[i])) ) \\\n",
    "                / (R[i] + A[i] * Rp[i] + A[i] * a * R[i] * xip[i])**2\n",
    "    return np.asarray(res)"
   ]
  },
  {
   "cell_type": "code",
   "execution_count": 660,
   "id": "1d076c7c-8e53-49a0-b181-ec9def5094dd",
   "metadata": {},
   "outputs": [],
   "source": [
    "class MS:\n",
    "    \n",
    "    def __init__(self, R, m, U, w, alpha, A, rho0, deltaL, L, R0=-1):\n",
    "        self.R = R\n",
    "        self.m = m\n",
    "        self.U = U\n",
    "        self.w = w\n",
    "        self.deltaL = deltaL\n",
    "        self.L = L\n",
    "        self.A = A\n",
    "        self.alpha = alpha\n",
    "        self.N = R.shape[0]\n",
    "        self.exec_pos = -1\n",
    "\n",
    "\n",
    "        self.t0 = self.alpha * np.sqrt(3 / (8*np.pi*rho0))\n",
    "        self.t = t0\n",
    "        self.xi = 0\n",
    "\n",
    "        self.RH = self.t0 / self.alpha\n",
    "        self.Abar = self.A / self.RH\n",
    "        self.Abar_h = self.to_h(self.A)\n",
    "        \n",
    "        self.q = 1\n",
    "        self.deltau_i = self.cfl_deltau(self.R, self.m, self.U) * 0.1\n",
    "        \n",
    "        # initialize the poton\n",
    "        self.Abar_p = self.Abar[0]\n",
    "        self.U_p = self.U[0]\n",
    "        self.m_p = self.m[0]\n",
    "        self.R_p = self.R[0]\n",
    "        \n",
    "        self.U_hm = np.zeros(self.N-1)\n",
    "        self.m_hm = np.zeros(self.N-1)\n",
    "        self.R_hm = np.zeros(self.N-1)\n",
    "        self.xi_hm = np.zeros(self.N-1)\n",
    "        \n",
    "        self.U_hm[0] = self.U[0]\n",
    "        self.m_hm[0] = self.m[0]\n",
    "        self.R_hm[0] = self.R[0]\n",
    "        \n",
    "        if R0 < 0:\n",
    "            R0 = self.R[0]\n",
    "        \n",
    "        self.xi_hm[0] = 0\n",
    "        return\n",
    "    # convert to half grid\n",
    "    def to_h(self,arr):\n",
    "        return np.concatenate(([arr[0]],(arr[0:-1] + arr[1:]) / 2))\n",
    "    def to_idx(self, pos):\n",
    "        return np.searchsorted(self.Abar, pos, \"right\") - 1\n",
    "    def gamma(self, R, m, U): \n",
    "        return np.sqrt(np.exp(2 * (1 - self.alpha) * self.xi) \n",
    "                       + (self.Abar * R)**2 * (U**2 - m))\n",
    "    def P(self, rho) : \n",
    "        return self.w * rho\n",
    "    def rho(self, R, m):\n",
    "        return m + (dfdA(m, self.deltaL, self.Abar,0, self.exec_pos) * self.Abar * R)  \\\n",
    "            / (3* (self.Abar * dfdA(R, self.deltaL, self.Abar, 0, self.exec_pos) \n",
    "                  + R ))\n",
    "    def psi(self, rho, p, Pprime):\n",
    "        #return np.log(rho ** (-3 * self.alpha * self.w / 2))\n",
    "        offset = + np.log(rho[-1]**(-3 * self.alpha * self.w / 2))\n",
    "        return inv_derv_phi(rho, p, offset) \n",
    "    \n",
    "    def Pprime(self, R, m):\n",
    "        mprime = dfdA(m, self.deltaL, self.Abar, 0, self.exec_pos)\n",
    "        Rprime = dfdA(R, self.deltaL, self.Abar, 0, self.exec_pos)\n",
    "        mpp = ddfddA(m, self.deltaL, self.Abar, 0, self.exec_pos)\n",
    "        Rpp = ddfddA(R, self.deltaL, self.Abar, 0, self.exec_pos)\n",
    "        return self.w * (4 * self.Abar**2 * mprime * Rprime**2 \n",
    "                + R**2 * (4 * mprime + self.Abar * mpp)\n",
    "               + self.Abar * R * (self.Abar * Rprime * mpp + mprime * (6 * Rprime - self.Abar * Rpp))) \\\n",
    "                / (3 * (R + self.Abar * Rprime)**2)\n",
    "    def k_coeffs(self, R, m, U, Abar_p) :\n",
    "        g = self.gamma(R, m, U)\n",
    "        r = self.rho(R, m)\n",
    "        p = self.P(r)\n",
    "        \n",
    "        Pprime = self.Pprime(R, m)\n",
    "        ep = np.exp(self.psi(r, p, Pprime))\n",
    "        #print(g,r,p,ep)\n",
    "        kR = self.alpha * R * (U * ep - 1)\n",
    "        km = 2 * m - 3 * self.alpha * U * ep * (p + m)\n",
    "        \n",
    "        AR_prime = R + self.Abar * dfdA(R, self.deltaL, self.Abar, 0, self.exec_pos)\n",
    "        \n",
    "        kU = U - self.alpha * ep * \\\n",
    "            (   g**2 * np.concatenate( ([self.w\n",
    "                            * ((m[1] + m[1] - 2 * m[0]) /( self.Abar[1]**2)) *  (1**2 * 5/3)] ,Pprime[1:] / \n",
    "             (self.Abar[1:]) ))  / (R * (AR_prime) * (r + p))  \n",
    "            + (2 * U**2 + m + 3 * p) / 2) \n",
    "\n",
    "        kA_p = self.alpha * interp.griddata(self.Abar, ep * g / AR_prime, \n",
    "                                            Abar_p, method='linear') \n",
    "        #kA_p.fill(0)\n",
    "        return kR, km, kU, kA_p\n",
    "    \n",
    "\n",
    "    \n",
    "    def run_steps(self,n_steps, exc_intv=0) :\n",
    "        step = 0\n",
    "        \n",
    "        deltau = self.deltau_i\n",
    "        while(step < n_steps) :\n",
    "            #if(step % 1000 == 0):\n",
    "                #deltau = self.cfl_deltau(self.R, self.m, self.U) * 0.1\n",
    "            if(self.to_idx(self.Abar_p) > 100):\n",
    "                self.exec_pos = np.max([self.exec_pos, self.to_idx(self.Abar_p) - 10])\n",
    "            exec_arr = np.concatenate(([0] * (self.exec_pos+1),[1] * (self.N - self.exec_pos - 1)))\n",
    "            #if(self.exec_pos > 0):\n",
    "                #print('Performing excision at pos '+ str(self.exec_pos))\n",
    "            kR1, km1, kU1, kA_p1 = self.k_coeffs(self.R, self.m, self.U, self.Abar_p)\n",
    "            kR2, km2, kU2, kA_p2 = self.k_coeffs(self.R + deltau/2*kR1, self.m + deltau/2*km1, \n",
    "                                                 self.U + deltau/2*kU1, self.Abar_p + deltau/2*kA_p1)\n",
    "            kR3, km3, kU3, kA_p3 = self.k_coeffs(self.R + deltau/2*kR2, self.m + deltau/2*km2, \n",
    "                                                 self.U + deltau/2*kU2, self.Abar_p + deltau/2*kA_p2)\n",
    "            kR4, km4, kU4, kA_p4 = self.k_coeffs(self.R + deltau*kR3, self.m + deltau*km3, \n",
    "                                                 self.U + deltau*kU3, self.Abar_p + deltau*kA_p3)\n",
    "            \n",
    "            self.R = self.R + (deltau/6*(kR1 + 2*kR2 + 2*kR3 + kR4)) * exec_arr\n",
    "            self.m = self.m + (deltau/6*(km1 + 2*km2 + 2*km3 + km4)) * exec_arr\n",
    "            self.U = self.U + (deltau/6*(kU1 + 2*kU2 + 2*kU3 + kU4)) * exec_arr\n",
    "            \n",
    "            Abar_p_new = self.Abar_p + deltau/6*(kA_p1 + 2*kA_p2 + 2*kA_p3 + kA_p4)\n",
    "            idx_p_new = self.to_idx(Abar_p_new)\n",
    "            U_p_new = interp.griddata(self.Abar, self.U, Abar_p_new, method='linear')\n",
    "            m_p_new = interp.griddata(self.Abar, self.m, Abar_p_new, method='linear')\n",
    "            R_p_new = interp.griddata(self.Abar, self.R, Abar_p_new, method='linear')\n",
    "            #print(kA_p1, kA_p2, kA_p3, kA_p4, deltau, Abar_p_new)\n",
    "            diff = idx_p_new - self.to_idx(self.Abar_p)\n",
    "            if (diff > 1): ##move across more than two grid pints!\n",
    "                print('Warning!' + str(self.Abar_p) + ' ' + str(Abar_p_new))\n",
    "                #break\n",
    "            if ( diff > 0): # move across one grid point            \n",
    "                interp_w = (self.Abar[idx_p_new] - self.Abar_p) / (Abar_p_new - self.Abar_p)\n",
    "                # linear interpolation\n",
    "                self.U_hm[idx_p_new] = U_p_new * interp_w + self.U_p * (1 - interp_w)\n",
    "                self.m_hm[idx_p_new] = m_p_new * interp_w + self.m_p * (1 - interp_w)\n",
    "                self.R_hm[idx_p_new] = R_p_new * interp_w + self.R_p * (1 - interp_w)\n",
    "                self.xi_hm[idx_p_new] = self.xi + deltau * interp_w\n",
    "            \n",
    "            if(self.xi >= self.xi_hm[0]): #only start advancing photon when the system time is large enough\n",
    "                self.Abar_p = Abar_p_new\n",
    "                self.U_p = U_p_new\n",
    "                self.m_p = m_p_new\n",
    "                self.R_p = R_p_new\n",
    "            \n",
    "            step+=1\n",
    "            self.xi += deltau\n",
    "            if(idx_p_new == self.N-2): #going out of the boundary\n",
    "                break\n",
    "        if step < n_steps:\n",
    "            print(\"Photon has gone out of the outter boundary!\")\n",
    "  \n",
    "    def run_steps_rk2(self,n_steps) :\n",
    "        step = 0\n",
    "        \n",
    "        #deltau = self.cfl_deltau(R, m, U) * 0.9\n",
    "        deltau = self.deltau_i\n",
    "        while(step < n_steps) :\n",
    "            deltau = self.cfl_deltau(R, m, U) * 0.9\n",
    "            kR1, km1, kU1 = self.k_coeffs(self.R, self.m, self.U)\n",
    "            kR2, km2, kU2 = self.k_coeffs(self.R + deltau/2*kR1, self.m + deltau/2*km1, self.U + deltau/2*kU1)\n",
    "\n",
    "\n",
    "            self.R = self.R + deltau * kR2 \n",
    "            self.m = self.m + deltau * km2 \n",
    "            self.U = self.U + deltau * kU2\n",
    "            \n",
    "            step+=1\n",
    "            self.xi += deltau\n",
    "            \n",
    "    def adap_run_steps(self,n_steps, adjust_steps=100, tol=1e-7) :\n",
    "        step = 0\n",
    "        deltau = self.deltau_i\n",
    "        #q = 1\n",
    "        while(step < n_steps) :\n",
    "            #if (step % adjust_steps == 0): # reset_stepping size\n",
    "            #    deltau = self.cfl_deltau(R, m, U) * 0.9\n",
    "            #    q = 1\n",
    "            \n",
    "            kR1, km1, kU1 = self.k_coeffs(self.R, self.m, self.U)\n",
    "            \n",
    "            kR2, km2, kU2 = self.k_coeffs(self.R + deltau/2*kR1, self.m + deltau/2*km1, self.U + deltau/2*kU1)\n",
    "            \n",
    "            kR3, km3, kU3 = self.k_coeffs(self.R + 3*deltau/4*kR2, self.m + 3*deltau/4*km2, self.U + 3*deltau/4*kU2)\n",
    "\n",
    "            \n",
    "\n",
    "            R_new = self.R + deltau/9*(2*kR1 + 3*kR2 + 4*kR3 )\n",
    "            m_new = self.m + deltau/9*(2*km1 + 3*km2 + 4*km3 )\n",
    "            U_new = self.U + deltau/9*(2*kU1 + 3*kU2 + 4*kU3 )\n",
    "            \n",
    "            kR4, km4, kU4 = self.k_coeffs(R_new , m_new , U_new )\n",
    "            \n",
    "            E_R = np.max( np.abs((deltau * (-5*kR1/72 + kR2/12 + kR3/9 - kR4/8))))\n",
    "            E_m = np.max( np.abs(deltau * (-5*km1/72 + km2/12 + km3/9 - km4/8)))\n",
    "            E_U = np.max( np.abs(deltau * (-5*kU1/72 + kU2/12 + kU3/9 - kU4/8)))\n",
    "    \n",
    "            max_err_R = np.max(np.abs(self.R)) * tol\n",
    "            max_err_m = np.max(np.abs(self.m)) * tol\n",
    "            max_err_U = np.max(np.abs(self.U)) * tol\n",
    "            \n",
    "            if(E_R < max_err_R and E_m < max_err_m and E_U < max_err_U):\n",
    "                self.R = R_new\n",
    "                self.m = m_new\n",
    "                self.U = U_new\n",
    "                \n",
    "                kR1 = kR4\n",
    "                km1 = km4\n",
    "                kU1 = kU4\n",
    "                \n",
    "                step+=1\n",
    "                self.xi += deltau\n",
    "                         \n",
    "            # Adjust step size.\n",
    "            self.q = 0.8*np.min((max_err_R/E_R, max_err_m/E_m, max_err_U/E_U) )**(1/3)   # conservative optimal step factor\n",
    "            self.q = min(self.q,10)               # limit stepsize growth\n",
    "            deltau *= self.q\n",
    "            #print(q, E_R, max_err_R)\n",
    "            \n",
    "    def cfl_deltau(self,R, m, U):\n",
    "        a = np.exp(self.alpha * self.xi)\n",
    "        H = np.exp(-self.xi) / self.RH\n",
    "        \n",
    "        g = self.gamma(R, m, U)\n",
    "        r = self.rho(R, m)\n",
    "        p = self.P(r)\n",
    "  \n",
    "        Pprime = self.Pprime(R, m)\n",
    "                           \n",
    "        ep = np.exp(self.psi(r, p, Pprime))\n",
    "        el = (a * H * self.RH * g) / (dfdA(a * self.A * self.R, self.deltaL, self.Abar, 1) / self.RH) \n",
    "        #print(el, ep.min())\n",
    "        #return (np.log(1 + el / ep / np.exp(self.xi)  \n",
    "        #               * self.alpha * np.concatenate( ([1e10],(Abar[1:] - Abar[0:-1])) ) / np.sqrt(self.w))).min()\n",
    "        return (np.log(1 + el / ep / np.exp(self.xi)  \n",
    "                       * self.alpha * np.concatenate( ([1e10],(self.Abar[1:] - self.Abar[0:-1])) ) / np.sqrt(self.w))).min()"
   ]
  },
  {
   "cell_type": "code",
   "execution_count": 724,
   "id": "a3bf354a-4894-4f0c-9f6c-39f8f9604aef",
   "metadata": {},
   "outputs": [],
   "source": [
    "class HM:\n",
    "    \n",
    "    def __init__(self, MS):\n",
    "        self.R = MS.R_hm\n",
    "        self.m = MS.m_hm\n",
    "        self.U = MS.U_hm\n",
    "        self.xi = MS.xi_hm\n",
    "        self.N = MS.R_hm.shape[0]\n",
    "        \n",
    "        self.w = MS.w\n",
    "        self.deltaL = MS.deltaL\n",
    "        self.L = MS.L\n",
    "        self.A = MS.A[:self.N]\n",
    "        self.alpha = MS.alpha\n",
    "\n",
    "\n",
    "        self.t0 = MS.t0\n",
    "        self.t = t0\n",
    "        self.u = 0\n",
    "\n",
    "        self.RH = self.t0 / self.alpha\n",
    "        self.Abar = MS.Abar[:self.N]\n",
    "        \n",
    "        self.q = 1\n",
    "        self.deltau_i = self.cfl_deltau(self.R, self.m, self.U, self.xi) * 0.02\n",
    "        \n",
    "        \n",
    "        return\n",
    "    # convert to half grid\n",
    "    def to_h(self,arr):\n",
    "        return np.concatenate(([arr[0]],(arr[0:-1] + arr[1:]) / 2))\n",
    "\n",
    "    def gamma(self, R, m, U): \n",
    "        return np.sqrt(np.exp(2 * (1 - self.alpha) * self.xi) \n",
    "                       + (self.Abar * R)**2 * (U**2 - m))\n",
    "    def P(self, rho) : \n",
    "        return self.w * rho\n",
    "    def rho(self, R, m, U, xi, g, xiprime, Rprime, mprime):\n",
    "        temp = (g + self.Abar * R * U) / (g - (self.w ) * self.Abar * R * U ) \\\n",
    "            * (m + self.Abar * R * (mprime - 2 * m * xiprime) \n",
    "               / (3 * (self.alpha * self.Abar * R * xiprime + R + self.Abar * Rprime)))\n",
    "        #temp[-1] = 0.98164112512\n",
    "        return temp\n",
    "        return (g + self.Abar * R * U) / (g - (self.w ) * self.Abar * R * U ) \\\n",
    "            * (m + self.Abar * R * (mprime - 2 * m * xiprime) \n",
    "               / (3 * (self.alpha * self.Abar * R * xiprime + R + self.Abar * Rprime)))\n",
    "    def ephi(self, R, U, g, xiprime, Rprime):\n",
    "        #return (self.alpha * xiprime * self.Abar * R + self.Abar * Rprime + R) \n",
    "    \n",
    "        return (self.alpha * xiprime * self.Abar * R + self.Abar * Rprime + R) \\\n",
    "            / (self.alpha * xiprime* (g + self.Abar * R * U))\n",
    "    \n",
    "    def elambda(self, ephi, exi, xiprime):\n",
    "        return self.alpha * ephi * exi * xiprime\n",
    "    \n",
    "    def epsi(self, R, U, g, xi, rho, ephi):\n",
    "        c = self.alpha - 1 + ephi * self.Abar * R * rho * (1 + self.w) /\\\n",
    "            ((g + self.Abar * R * U) * (1+self.w))\n",
    "        #offset = 0\n",
    "        #temp = derv_psi(xi, c, offset)\n",
    "        offset = np.log(1/ephi[-1] * (g[-1] + self.Abar[-1] * R[-1] * U[-1])) \n",
    "        temp = inv_derv_psi(xi, c, offset)\n",
    "        return  (g + self.Abar * R * U) / np.exp(temp)\n",
    "    def drho(self, R, m, U, g, xi, Rp, mp, xip):\n",
    "        Rpp = ddfddA(R, self.deltaL, self.Abar, 0)\n",
    "        mpp = ddfddA(m, self.deltaL, self.Abar, 0)\n",
    "        xipp = ddfddA(xi, self.deltaL, self.Abar, 0)\n",
    "        \n",
    "        A1p = dfdA(m * (g + self.Abar * R * U) / (g - (self.w ) * self.Abar * R * U ),\n",
    "                   self.deltaL, self.Abar, 1e100)\n",
    "        B1 = self.Abar * R * (g + self.Abar * R * U) /(3* (g - (self.w ) * self.Abar * R * U ))\n",
    "        B1p = dfdA(B1,self.deltaL, self.Abar, 1e100)\n",
    "        B2 = (mp -2 * m * xip) / (self.alpha * self.Abar * R * xip + R + self.Abar * Rp)\n",
    "        B2p = rho_prime(R, m, self.Abar, xi, Rp, mp, xip, Rpp, mpp, xipp, self.alpha)\n",
    "        return A1p + B1p * B2 + B1 * B2p\n",
    "    \n",
    "            \n",
    "    def k_coeffs(self, R, m, U, xi) :\n",
    "        xiprime = dfdA(xi, self.deltaL, self.Abar, 1e100)\n",
    "        Rprime = dfdA(R, self.deltaL, self.Abar, 1e100)\n",
    "        mprime = dfdA(m, self.deltaL, self.Abar, 1e100)\n",
    "        Uprime = dfdA(U, self.deltaL, self.Abar, 1e100)\n",
    "        \n",
    "        #xiprime.fill(1)\n",
    "        \n",
    "        g = self.gamma(R, m, U)\n",
    "        r = self.rho(R, m, U, xi, g, xiprime, Rprime, mprime)\n",
    "        p = self.P(r)\n",
    "        \n",
    "        #g.fill(1)\n",
    "        \n",
    "        exi = np.exp(xi)\n",
    "        ephi = self.ephi(R, U, g, xiprime, Rprime)\n",
    "        elambda = self.elambda(ephi, exi, xiprime)\n",
    "        epsi = self.epsi(R, U, g, xi, r, ephi)\n",
    "        \n",
    "        #drho = dfdA(r, self.deltaL, self.Abar, 0)\n",
    "        drho = self.drho(R, m, U, g, xi, Rprime, mprime, xiprime)\n",
    "        \n",
    "        kxi = epsi / ephi / np.exp(xi) / self.alpha\n",
    "        \n",
    "        kR = epsi / exi * R * (U - 1/ephi)\n",
    "        \n",
    "        km = 3 * epsi / exi * (1/ephi * m * (1+w) - U * (p +m)) \n",
    "                \n",
    "        kU = - epsi / exi / (1 - w) * (\n",
    "            (m + 3 * p) / 2 + U**2 - U / self.alpha / ephi \n",
    "        + (w) * exi / elambda * Uprime + g * (w) / ( np.concatenate( ([1], self.Abar[1:]) ) * R * (1+w)) * (\n",
    "         + 3 * (1 + w) * (U - 1 / ephi) + exi / elambda * drho / r) )\n",
    "        \n",
    "        # boundary conditions \n",
    "        kxi[0] = epsi[0] / elambda[0] * (xi[1] - xi[0]) / ( (self.Abar[1] - self.Abar[0]) )\n",
    "        kR[0] = epsi[0] / elambda[0] * (R[1] - R[0]) / ( (self.Abar[1] - self.Abar[0]) )\n",
    "        km[0] = epsi[0] / elambda[0] * (m[1] - m[0]) / ( (self.Abar[1] - self.Abar[0]) )\n",
    "        kU[0] = epsi[0] / elambda[0] * (U[1] - U[0]) / ( (self.Abar[1] - self.Abar[0]) )\n",
    "        \n",
    "        return kxi, kR, km, kU\n",
    "    \n",
    "\n",
    "    \n",
    "    def run_steps(self,n_steps, exc_intv=0) :\n",
    "        step = 0\n",
    "        \n",
    "        deltau = self.deltau_i\n",
    "        while(step < n_steps) :\n",
    "            #if(step % 1000 == 0):\n",
    "            #    deltau = self.cfl_deltau(self.R, self.m, self.U, self.xi) * 0.02\n",
    "            kxi1, kR1, km1, kU1 = self.k_coeffs(self.R, self.m, self.U,  self.xi)\n",
    "            kxi2, kR2, km2, kU2 = self.k_coeffs(self.R + deltau/2*kR1, self.m + deltau/2*km1, \n",
    "                                                 self.U + deltau/2*kU1, self.xi)\n",
    "            kxi3, kR3, km3, kU3 = self.k_coeffs(self.R + deltau/2*kR2, self.m + deltau/2*km2, \n",
    "                                                 self.U + deltau/2*kU2, self.xi)\n",
    "            kxi4, kR4, km4, kU4 = self.k_coeffs(self.R + deltau*kR3, self.m + deltau*km3, \n",
    "                                                 self.U + deltau*kU3,  self.xi)\n",
    "            \n",
    "            self.xi = self.xi + (deltau/6*(kxi1 + 2*kxi2 + 2*kxi3 + kxi4)) \n",
    "            self.R = self.R + (deltau/6*(kR1 + 2*kR2 + 2*kR3 + kR4)) \n",
    "            self.m = self.m + (deltau/6*(km1 + 2*km2 + 2*km3 + km4))\n",
    "            self.U = self.U + (deltau/6*(kU1 + 2*kU2 + 2*kU3 + kU4))\n",
    "            \n",
    "            step+=1\n",
    "            self.u += deltau\n",
    "            if self.u > 1100:\n",
    "                print(\"u is larger than 1100!\" )\n",
    "                break\n",
    "              \n",
    "    def cfl_deltau(self,R, m, U, xi):\n",
    "        xiprime = dfdA(xi, self.deltaL, self.Abar, 1e100)\n",
    "        Rprime = dfdA(R, self.deltaL, self.Abar, 1e100)\n",
    "        mprime = dfdA(m, self.deltaL, self.Abar, 1e100)\n",
    "        Uprime = dfdA(U, self.deltaL, self.Abar, 1e100)\n",
    "        #print((xiprime ))\n",
    "        g = self.gamma(R, m, U)\n",
    "        r = self.rho(R, m, U, xi, g, xiprime, Rprime, mprime)\n",
    "        p = self.P(r)\n",
    "        exi = np.exp(xi)\n",
    "        ephi = self.ephi(R, U, g, xiprime, Rprime)\n",
    "        elambda = self.elambda(ephi, exi, xiprime)\n",
    "        epsi = self.epsi(R, U, g, xi, r, ephi)\n",
    " \n",
    "        return ((1 / np.sqrt(w) - 1)  * (self.Abar[1] - self.Abar[0]) * elambda / epsi).min()\n",
    "    "
   ]
  },
  {
   "cell_type": "code",
   "execution_count": 463,
   "id": "784229b7-83fd-410a-889a-a70588230cfb",
   "metadata": {},
   "outputs": [],
   "source": [
    "# creating a mix of uniform and logarithmic grids\n",
    "def mix_grid(left, right, n):\n",
    "    A = np.exp(np.linspace(left, right, n))\n",
    "    dA = A[1] - A[0]\n",
    "    A = np.concatenate( (np.linspace(0, A[0],int(np.ceil(A[0] / dA)), endpoint=False), A))\n",
    "    return A"
   ]
  },
  {
   "cell_type": "code",
   "execution_count": 646,
   "id": "14cad629-84aa-4355-80c2-558f0c32f84b",
   "metadata": {},
   "outputs": [],
   "source": [
    "# creating uniform grids\n",
    "def uni_grid( right, n):\n",
    "    A = np.linspace(0, np.exp(right), n)\n",
    "    return A"
   ]
  },
  {
   "cell_type": "code",
   "execution_count": 661,
   "id": "37eaf136-0360-48f6-8c52-bc1dae5ed777",
   "metadata": {},
   "outputs": [],
   "source": [
    "n=500\n",
    "\n",
    "#L = np.linspace(-6, 1.5, n)\n",
    "#A = np.exp(L)\n",
    "A = np.linspace(0, np.exp(1.5), n)\n",
    "A = mix_grid(-3,1.5,n)\n",
    "A = uni_grid(1.5, n)\n",
    "\n",
    "w = 1 / 3\n",
    "alpha = 1/2 # alpha = 1/2 for w = 1/3\n",
    "\n",
    "\n",
    "rho0 = 1\n",
    "t0 = alpha * np.sqrt(3 / (8*np.pi*rho0))\n",
    "RH = t0 / alpha\n",
    "Abar = A / RH\n",
    "\n",
    "deltaL = 0\n",
    "\n",
    "deltaA = Abar[1] - Abar[0]\n",
    "\n",
    "amp = 0.3\n",
    "delta0 = amp * np.exp(-2 * Abar**2 / RH / 30)\n",
    "delta0P = amp * delta0 * 2 * (-2 / RH / 30 ) * Abar\n",
    "\n",
    "m = 1 + delta0 \n",
    "U = 1 - alpha * delta0 / 2\n",
    "R = 1 - alpha / 2 * (delta0 + w * Abar * delta0P / (1 + 3 * w) )\n",
    "\n",
    "\n",
    "ms = MS(R,m,U,w,alpha,A,rho0, deltaL,L, 1 - alpha / 2 * (amp ))"
   ]
  },
  {
   "cell_type": "code",
   "execution_count": 662,
   "id": "cb0932dd-8815-452f-94ef-fe75c38fa818",
   "metadata": {
    "tags": []
   },
   "outputs": [
    {
     "name": "stdout",
     "output_type": "stream",
     "text": [
      "Photon has gone out of the outter boundary!\n"
     ]
    }
   ],
   "source": [
    "ms.run_steps(100000)"
   ]
  },
  {
   "cell_type": "code",
   "execution_count": 543,
   "id": "09e9a9bc-a63c-4990-838f-a76ee7679064",
   "metadata": {},
   "outputs": [],
   "source": [
    "import copy\n",
    "ms_mix = copy.copy(ms)"
   ]
  },
  {
   "cell_type": "code",
   "execution_count": 664,
   "id": "fd2949ba-fd64-43b8-ac5a-79982cc5161d",
   "metadata": {},
   "outputs": [],
   "source": [
    "import copy\n",
    "ms_uni = copy.copy(ms)"
   ]
  },
  {
   "cell_type": "code",
   "execution_count": 685,
   "id": "96114c0d-c2a9-4c9e-96e1-1150b856c4fb",
   "metadata": {},
   "outputs": [],
   "source": [
    "hm_uni = HM(ms_uni)"
   ]
  },
  {
   "cell_type": "code",
   "execution_count": 725,
   "id": "8af668c9-c4e0-4dd1-8464-f3d494e11409",
   "metadata": {},
   "outputs": [],
   "source": [
    "hm = HM(ms_uni)"
   ]
  },
  {
   "cell_type": "code",
   "execution_count": 713,
   "id": "61783ba8-da38-4dea-a31d-ead61691975e",
   "metadata": {},
   "outputs": [],
   "source": [
    "hm_uni.run_steps(98200)\n",
    "hm=hm_uni"
   ]
  },
  {
   "cell_type": "code",
   "execution_count": 729,
   "id": "7a277045-3178-4597-ab8d-10e649ae3a9d",
   "metadata": {},
   "outputs": [],
   "source": [
    "hm_mix = HM(ms_mix)"
   ]
  },
  {
   "cell_type": "code",
   "execution_count": 730,
   "id": "e99a0767-c8af-4ec2-ba30-c1d1bf56aa3f",
   "metadata": {},
   "outputs": [
    {
     "data": {
      "text/plain": [
       "0.007730363859045439"
      ]
     },
     "execution_count": 730,
     "metadata": {},
     "output_type": "execute_result"
    }
   ],
   "source": [
    "hm_uni.deltau_i"
   ]
  },
  {
   "cell_type": "code",
   "execution_count": null,
   "id": "d7539671-ee1d-4b90-9847-0a3821f5c7c4",
   "metadata": {},
   "outputs": [],
   "source": [
    "hm_mix.run_steps(1001000)\n",
    "hm=hm_mix"
   ]
  },
  {
   "cell_type": "code",
   "execution_count": 692,
   "id": "63ab0cf6-3230-4b8b-9c43-1549c142b32b",
   "metadata": {},
   "outputs": [
    {
     "data": {
      "text/plain": [
       "759.1217309588485"
      ]
     },
     "execution_count": 692,
     "metadata": {},
     "output_type": "execute_result"
    }
   ],
   "source": [
    "hm.u"
   ]
  },
  {
   "cell_type": "code",
   "execution_count": 512,
   "id": "0dd5ea8b-fcd5-4933-94ab-cc58bb4b2865",
   "metadata": {},
   "outputs": [],
   "source": [
    "hm = copy.copy(hm_bak)"
   ]
  },
  {
   "cell_type": "code",
   "execution_count": 517,
   "id": "29dd853d-e268-4a13-89ff-f1b8ed014b29",
   "metadata": {
    "tags": []
   },
   "outputs": [],
   "source": [
    "hm.run_steps(1000000)"
   ]
  },
  {
   "cell_type": "code",
   "execution_count": 734,
   "id": "7049c575-cc39-4e55-ba58-9c6eccc7deab",
   "metadata": {},
   "outputs": [
    {
     "data": {
      "text/plain": [
       "37.684028873978036"
      ]
     },
     "execution_count": 734,
     "metadata": {},
     "output_type": "execute_result"
    }
   ],
   "source": [
    "hm.u"
   ]
  },
  {
   "cell_type": "code",
   "execution_count": 402,
   "id": "11aa57be-03c8-4bf0-80fc-9f33dc173386",
   "metadata": {},
   "outputs": [
    {
     "data": {
      "text/plain": [
       "1275.5100367470268"
      ]
     },
     "execution_count": 402,
     "metadata": {},
     "output_type": "execute_result"
    }
   ],
   "source": [
    "hm.u"
   ]
  },
  {
   "cell_type": "code",
   "execution_count": 386,
   "id": "de1a1c45-b2b6-4aba-95b0-c2a8ba170d14",
   "metadata": {},
   "outputs": [
    {
     "data": {
      "text/plain": [
       "1082.2509402684757"
      ]
     },
     "execution_count": 386,
     "metadata": {},
     "output_type": "execute_result"
    }
   ],
   "source": [
    "hm_bak.u"
   ]
  },
  {
   "cell_type": "code",
   "execution_count": null,
   "id": "6c029916-a705-4108-b9eb-5f1af651f4a1",
   "metadata": {},
   "outputs": [],
   "source": []
  },
  {
   "cell_type": "code",
   "execution_count": null,
   "id": "e4881fca-ea34-4b24-9c24-a02f3875b5b2",
   "metadata": {},
   "outputs": [],
   "source": []
  },
  {
   "cell_type": "code",
   "execution_count": null,
   "id": "9167f115-b4bb-4fc7-8cfd-b73f4a1cd3ce",
   "metadata": {},
   "outputs": [],
   "source": []
  },
  {
   "cell_type": "code",
   "execution_count": null,
   "id": "37b3981f-f013-4a59-9e05-ebbe94b897c2",
   "metadata": {},
   "outputs": [],
   "source": []
  },
  {
   "cell_type": "code",
   "execution_count": null,
   "id": "020969b3-020c-4d89-ae7b-9c4bb9b860b6",
   "metadata": {},
   "outputs": [],
   "source": []
  },
  {
   "cell_type": "code",
   "execution_count": null,
   "id": "af9356b9-ac4d-4108-b3f8-5a1d968e579e",
   "metadata": {},
   "outputs": [],
   "source": []
  },
  {
   "cell_type": "code",
   "execution_count": null,
   "id": "8a70b2c9-835a-43e5-8700-196bc2559a5a",
   "metadata": {},
   "outputs": [],
   "source": []
  },
  {
   "cell_type": "code",
   "execution_count": 735,
   "id": "29c9fc06-59f5-4df6-a502-fe3c35ec289d",
   "metadata": {},
   "outputs": [
    {
     "data": {
      "text/plain": [
       "(0.0, 10.0)"
      ]
     },
     "execution_count": 735,
     "metadata": {},
     "output_type": "execute_result"
    },
    {
     "data": {
      "image/png": "[encoded data removed]",
      "text/plain": [
       "<Figure size 432x288 with 1 Axes>"
      ]
     },
     "metadata": {
      "needs_background": "light"
     },
     "output_type": "display_data"
    }
   ],
   "source": [
    "a = np.exp(hm.alpha * hm.xi)\n",
    "H = np.exp(-hm.xi) / hm.RH\n",
    "rho_b = a**(1+hm.w)\n",
    "Rb = a * hm.A\n",
    "plt.plot(hm.R * Rb ,  (np.exp(-hm.xi/2) * hm.R **3 * hm.Abar**3 * hm.m ) / 2 )\n",
    "plt.xlim(0,15)\n",
    "plt.ylim(0,10)\n",
    "#plt.yscale('log')"
   ]
  },
  {
   "cell_type": "code",
   "execution_count": 677,
   "id": "d83126d2-1a5f-4609-a5cb-7e198c313a48",
   "metadata": {},
   "outputs": [
    {
     "data": {
      "text/plain": [
       "(449.0, 499.0)"
      ]
     },
     "execution_count": 677,
     "metadata": {},
     "output_type": "execute_result"
    },
    {
     "data": {
      "image/png": "[encoded data removed]",
      "text/plain": [
       "<Figure size 432x288 with 1 Axes>"
      ]
     },
     "metadata": {
      "needs_background": "light"
     },
     "output_type": "display_data"
    }
   ],
   "source": [
    "plt.scatter(np.arange(hm.N), hm.U[:])\n",
    "plt.xlim(hm.N-50,hm.N)\n",
    "#plt.ylim(0,30)"
   ]
  },
  {
   "cell_type": "code",
   "execution_count": 716,
   "id": "6464e79a-3dc6-445b-ba42-429896714dce",
   "metadata": {},
   "outputs": [
    {
     "data": {
      "text/plain": [
       "(0.0, 499.0)"
      ]
     },
     "execution_count": 716,
     "metadata": {},
     "output_type": "execute_result"
    },
    {
     "data": {
      "image/png": "[encoded data removed]",
      "text/plain": [
       "<Figure size 432x288 with 1 Axes>"
      ]
     },
     "metadata": {
      "needs_background": "light"
     },
     "output_type": "display_data"
    }
   ],
   "source": [
    "        xiprime = dfdA(hm.xi, hm.deltaL, hm.Abar, 1e100)\n",
    "        Rprime = dfdA(hm.R, hm.deltaL, hm.Abar, 1e100)\n",
    "        mprime = dfdA(hm.m, hm.deltaL, hm.Abar, 1e100)\n",
    "\n",
    "\n",
    "        \n",
    "        #xiprime.fill(1)\n",
    "        \n",
    "        g = hm.gamma(hm.R, hm.m, hm.U)\n",
    "        r = hm.rho(hm.R, hm.m, hm.U, hm.xi, g, xiprime, Rprime, mprime)\n",
    "        exi = np.exp(hm.xi)\n",
    "        ephi = hm.ephi(hm.R, hm.U, g, xiprime, Rprime)\n",
    "        elambda = hm.elambda(ephi, exi, xiprime)\n",
    "        epsi = hm.epsi(hm.R, hm.U, g, hm.xi, r, ephi)\n",
    "\n",
    "        #plt.plot(np.arange(hm.N), r)\n",
    "        #plt.plot(np.arange(hm.N), ephi)\n",
    "        #plt.plot(np.arange(hm.N), epsi)\n",
    "        plt.plot(np.arange(hm.N),elambda / epsi)\n",
    "        plt.xlim(0,hm.N)\n",
    "#plt.ylim(0.915,0.93)"
   ]
  },
  {
   "cell_type": "code",
   "execution_count": 720,
   "id": "04a4d361-a98a-437c-8db5-1dbe5612f3ec",
   "metadata": {},
   "outputs": [
    {
     "data": {
      "text/plain": [
       "19.6296183725244"
      ]
     },
     "execution_count": 720,
     "metadata": {},
     "output_type": "execute_result"
    }
   ],
   "source": [
    "(elambda / epsi).min()"
   ]
  },
  {
   "cell_type": "code",
   "execution_count": 718,
   "id": "77c45a70-908c-4046-bd34-516296db8100",
   "metadata": {},
   "outputs": [
    {
     "data": {
      "text/plain": [
       "(0.0, 610.0)"
      ]
     },
     "execution_count": 718,
     "metadata": {},
     "output_type": "execute_result"
    },
    {
     "data": {
      "image/png": "[encoded data removed]",
      "text/plain": [
       "<Figure size 432x288 with 1 Axes>"
      ]
     },
     "metadata": {
      "needs_background": "light"
     },
     "output_type": "display_data"
    }
   ],
   "source": [
    "        xiprime = dfdA(hm_mix.xi, hm_mix.deltaL, hm_mix.Abar, 1e100)\n",
    "        Rprime = dfdA(hm_mix.R, hm_mix.deltaL, hm_mix.Abar, 1e100)\n",
    "        mprime = dfdA(hm_mix.m, hm_mix.deltaL, hm_mix.Abar, 1e100)\n",
    "\n",
    "\n",
    "        \n",
    "        #xiprime.fill(1)\n",
    "        \n",
    "        g = hm_mix.gamma(hm_mix.R, hm_mix.m, hm_mix.U)\n",
    "        r = hm_mix.rho(hm_mix.R, hm_mix.m, hm_mix.U, hm_mix.xi, g, xiprime, Rprime, mprime)\n",
    "        exi = np.exp(hm_mix.xi)\n",
    "        ephi = hm_mix.ephi(hm_mix.R, hm_mix.U, g, xiprime, Rprime)\n",
    "        elambda = hm_mix.elambda(ephi, exi, xiprime)\n",
    "        epsi = hm_mix.epsi(hm_mix.R, hm_mix.U, g, hm_mix.xi, r, ephi)\n",
    "\n",
    "        #plt.plot(np.arange(hm_mix.N), r)\n",
    "        #plt.plot(np.arange(hm_mix.N), ephi)\n",
    "        #plt.plot(np.arange(hm_mix.N), epsi)\n",
    "        plt.plot(np.arange(hm_mix.N),elambda / epsi)\n",
    "        plt.xlim(0,hm_mix.N)\n",
    "#plt.ylim(0.915,0.93)"
   ]
  },
  {
   "cell_type": "code",
   "execution_count": 691,
   "id": "66e66bb3-8e03-41f8-b6bf-a547957f302e",
   "metadata": {},
   "outputs": [
    {
     "data": {
      "text/plain": [
       "[<matplotlib.lines.Line2D at 0x7f5a44f2e8b0>]"
      ]
     },
     "execution_count": 691,
     "metadata": {},
     "output_type": "execute_result"
    },
    {
     "data": {
      "image/png": "[encoded data removed]",
      "text/plain": [
       "<Figure size 432x288 with 1 Axes>"
      ]
     },
     "metadata": {
      "needs_background": "light"
     },
     "output_type": "display_data"
    }
   ],
   "source": [
    "plt.plot(hm.Abar[:], hm.U[:])\n",
    "#plt.plot(hm_bak.Abar[:], hm_bak.U[:])\n",
    "\n",
    "\n",
    "#plt.xlim(0,30)\n",
    "#plt.ylim(-10,-19.5)"
   ]
  },
  {
   "cell_type": "code",
   "execution_count": 689,
   "id": "c1f710f9-e77f-4e66-959a-857530094a9d",
   "metadata": {},
   "outputs": [
    {
     "data": {
      "text/plain": [
       "0.9551846074385022"
      ]
     },
     "execution_count": 689,
     "metadata": {},
     "output_type": "execute_result"
    }
   ],
   "source": [
    "(hm.R**2 * hm.m * hm.Abar**2 * np.exp(2*(hm.alpha-1)*hm.xi)).max()"
   ]
  },
  {
   "cell_type": "code",
   "execution_count": 688,
   "id": "e897cfdc-a660-4f70-b6ec-2783a1f43176",
   "metadata": {},
   "outputs": [
    {
     "data": {
      "text/plain": [
       "(0.0, 1.0)"
      ]
     },
     "execution_count": 688,
     "metadata": {},
     "output_type": "execute_result"
    },
    {
     "data": {
      "image/png": "[encoded data removed]",
      "text/plain": [
       "<Figure size 432x288 with 1 Axes>"
      ]
     },
     "metadata": {
      "needs_background": "light"
     },
     "output_type": "display_data"
    }
   ],
   "source": [
    "plt.plot(hm.Abar, hm.R**2 * hm.m * hm.Abar**2 * np.exp(2*(hm.alpha-1)*hm.xi))\n",
    "#plt.plot(hm.Abar, hm_bak.R**2 * hm_bak.m * hm_bak.Abar**2 * np.exp(2*(hm_bak.alpha-1)*(hm_bak.xi)))\n",
    "\n",
    "\n",
    "#plt.xlim(0,300)\n",
    "plt.ylim(0.,1)"
   ]
  },
  {
   "cell_type": "code",
   "execution_count": 690,
   "id": "c53340c6-2530-4a65-9cbe-11a3667379d0",
   "metadata": {},
   "outputs": [
    {
     "name": "stderr",
     "output_type": "stream",
     "text": [
      "/tmp/ipykernel_1959/1084215351.py:50: RuntimeWarning: divide by zero encountered in true_divide\n",
      "  return (self.alpha * xiprime * self.Abar * R + self.Abar * Rprime + R) \\\n",
      "/tmp/ipykernel_1959/1084215351.py:57: RuntimeWarning: invalid value encountered in multiply\n",
      "  c = self.alpha - 1 + ephi * self.Abar * R * rho * (1 + self.w) /\\\n"
     ]
    },
    {
     "data": {
      "text/plain": [
       "[<matplotlib.lines.Line2D at 0x7f5a3d778880>]"
      ]
     },
     "execution_count": 690,
     "metadata": {},
     "output_type": "execute_result"
    },
    {
     "data": {
      "image/png": "[encoded data removed]",
      "text/plain": [
       "<Figure size 432x288 with 1 Axes>"
      ]
     },
     "metadata": {
      "needs_background": "light"
     },
     "output_type": "display_data"
    }
   ],
   "source": [
    "        xiprime = dfdA(hm.xi, hm.deltaL, hm.Abar, 0)\n",
    "        Rprime = dfdA(hm.R, hm.deltaL, hm.Abar, 0)\n",
    "        mprime = dfdA(hm.m, hm.deltaL, hm.Abar, 0)\n",
    "        Uprime = dfdA(hm.U, hm.deltaL, hm.Abar, 0)\n",
    "        #print((xiprime ))\n",
    "        g = hm.gamma(hm.R, hm.m, hm.U)\n",
    "        r = hm.rho(hm.R, hm.m, hm.U, hm.xi, g, xiprime, Rprime, mprime)\n",
    "        p = hm.P(r)\n",
    "        exi = np.exp(hm.xi)\n",
    "        ephi = hm.ephi(hm.R, hm.U, g, xiprime, Rprime)\n",
    "        \n",
    "        epsi = hm.epsi(hm.R, hm.U, g, hm.xi, r, ephi)\n",
    "        plt.plot(hm.Abar, epsi)"
   ]
  },
  {
   "cell_type": "code",
   "execution_count": 590,
   "id": "6e462a28-d677-4874-b0cb-3bd20fbf7449",
   "metadata": {},
   "outputs": [
    {
     "data": {
      "text/plain": [
       "(0.0, 4.0)"
      ]
     },
     "execution_count": 590,
     "metadata": {},
     "output_type": "execute_result"
    },
    {
     "data": {
      "image/png": "[encoded data removed]",
      "text/plain": [
       "<Figure size 432x288 with 1 Axes>"
      ]
     },
     "metadata": {
      "needs_background": "light"
     },
     "output_type": "display_data"
    }
   ],
   "source": [
    "plt.plot(Abar, ms.R**2 * ms.m * ms.Abar**2 * np.exp(2 * (ms.alpha-1) * ms.xi))\n",
    "plt.plot(Abar, np.array([1]*n))\n",
    "plt.xlim(0,4)"
   ]
  },
  {
   "cell_type": "code",
   "execution_count": 185,
   "id": "78bd45c5-4ecc-4061-98f7-4664bac9b075",
   "metadata": {},
   "outputs": [
    {
     "data": {
      "text/plain": [
       "<matplotlib.collections.PathCollection at 0x7f5a4f7dacd0>"
      ]
     },
     "execution_count": 185,
     "metadata": {},
     "output_type": "execute_result"
    },
    {
     "data": {
      "image/png": "[encoded data removed]",
      "text/plain": [
       "<Figure size 432x288 with 1 Axes>"
      ]
     },
     "metadata": {
      "needs_background": "light"
     },
     "output_type": "display_data"
    }
   ],
   "source": [
    "plt.scatter(Abar[:], ms.U[:])\n",
    "#plt.xlim(0,30)\n",
    "#plt.ylim(0,1)"
   ]
  },
  {
   "cell_type": "code",
   "execution_count": 707,
   "id": "49842670-8707-4a3d-9587-b0430c3ecc59",
   "metadata": {},
   "outputs": [
    {
     "data": {
      "text/plain": [
       "[<matplotlib.lines.Line2D at 0x7f5a400f9580>]"
      ]
     },
     "execution_count": 707,
     "metadata": {},
     "output_type": "execute_result"
    },
    {
     "data": {
      "image/png": "[encoded data removed]",
      "text/plain": [
       "<Figure size 432x288 with 1 Axes>"
      ]
     },
     "metadata": {
      "needs_background": "light"
     },
     "output_type": "display_data"
    }
   ],
   "source": [
    "plt.plot(ms_mix.Abar[:ms_mix.N-1], ms_mix.U_hm[:ms_mix.N-1])\n",
    "\n"
   ]
  },
  {
   "cell_type": "code",
   "execution_count": 663,
   "id": "bda0946a-4807-4409-9351-7300c1242068",
   "metadata": {},
   "outputs": [
    {
     "data": {
      "text/plain": [
       "[<matplotlib.lines.Line2D at 0x7f5a4aadc3a0>]"
      ]
     },
     "execution_count": 663,
     "metadata": {},
     "output_type": "execute_result"
    },
    {
     "data": {
      "image/png": "[encoded data removed]",
      "text/plain": [
       "<Figure size 432x288 with 1 Axes>"
      ]
     },
     "metadata": {
      "needs_background": "light"
     },
     "output_type": "display_data"
    }
   ],
   "source": [
    "plt.plot(ms.Abar[:ms.N-1], ms.U_hm[:ms.N-1])\n",
    "\n"
   ]
  },
  {
   "cell_type": "code",
   "execution_count": 194,
   "id": "c43fd32c-8fe1-4687-ba68-ca2f0b069452",
   "metadata": {},
   "outputs": [
    {
     "data": {
      "text/plain": [
       "0.038651819295227194"
      ]
     },
     "execution_count": 194,
     "metadata": {},
     "output_type": "execute_result"
    }
   ],
   "source": [
    "hm.deltau_i"
   ]
  },
  {
   "cell_type": "code",
   "execution_count": null,
   "id": "bee8ed1c-593f-4f4d-8c95-3a30dc25008a",
   "metadata": {},
   "outputs": [],
   "source": []
  },
  {
   "cell_type": "code",
   "execution_count": 618,
   "id": "49c9bf92-257b-4fe8-a8a5-fd70d6ac2efc",
   "metadata": {},
   "outputs": [],
   "source": [
    "import copy\n",
    "ms_std = copy.copy(ms)"
   ]
  },
  {
   "cell_type": "code",
   "execution_count": 665,
   "id": "5c4004b6-26b3-4517-b4fa-a205f8583619",
   "metadata": {},
   "outputs": [],
   "source": [
    "ms = copy.copy(ms_std)"
   ]
  },
  {
   "cell_type": "code",
   "execution_count": 1026,
   "id": "0cf3b195-a0ad-4d1b-b0a7-04dede8550b0",
   "metadata": {
    "tags": []
   },
   "outputs": [],
   "source": [
    "hm = HM(ms)"
   ]
  },
  {
   "cell_type": "code",
   "execution_count": 7,
   "id": "32adfb3b-0580-48c8-96fe-d26418fac5b3",
   "metadata": {
    "tags": []
   },
   "outputs": [
    {
     "ename": "NameError",
     "evalue": "name 'hm' is not defined",
     "output_type": "error",
     "traceback": [
      "\u001b[0;31m---------------------------------------------------------------------------\u001b[0m",
      "\u001b[0;31mNameError\u001b[0m                                 Traceback (most recent call last)",
      "\u001b[0;32m/tmp/ipykernel_1959/4170168912.py\u001b[0m in \u001b[0;36m<module>\u001b[0;34m\u001b[0m\n\u001b[0;32m----> 1\u001b[0;31m \u001b[0mhm\u001b[0m\u001b[0;34m.\u001b[0m\u001b[0mrun_steps\u001b[0m\u001b[0;34m(\u001b[0m\u001b[0;36m2000\u001b[0m\u001b[0;34m)\u001b[0m\u001b[0;34m\u001b[0m\u001b[0;34m\u001b[0m\u001b[0m\n\u001b[0m",
      "\u001b[0;31mNameError\u001b[0m: name 'hm' is not defined"
     ]
    }
   ],
   "source": [
    "hm.run_steps(2000)"
   ]
  },
  {
   "cell_type": "code",
   "execution_count": 820,
   "id": "f7023f12-4166-4750-a808-e7c1441b6d63",
   "metadata": {},
   "outputs": [],
   "source": [
    "import copy\n",
    "hm_bak = copy.copy(hm)"
   ]
  },
  {
   "cell_type": "code",
   "execution_count": 933,
   "id": "49845c7a-e181-49a6-ac70-f0ea7a4eea01",
   "metadata": {},
   "outputs": [],
   "source": [
    "import copy\n",
    "hm_bak2 = copy.copy(hm)"
   ]
  },
  {
   "cell_type": "code",
   "execution_count": 1009,
   "id": "e0d18735-c561-474b-becd-c40aed8ba34d",
   "metadata": {},
   "outputs": [],
   "source": [
    "hm = copy.copy(hm_bak2)"
   ]
  },
  {
   "cell_type": "code",
   "execution_count": 977,
   "id": "89c29619-90c6-4634-acbc-e1c1a36d6e78",
   "metadata": {},
   "outputs": [],
   "source": [
    "import copy\n",
    "hm_bak3 = copy.copy(hm)"
   ]
  },
  {
   "cell_type": "code",
   "execution_count": 953,
   "id": "7c57577f-8e67-47b3-8079-90e4434fdee3",
   "metadata": {},
   "outputs": [
    {
     "data": {
      "text/plain": [
       "142219.99999575678"
      ]
     },
     "execution_count": 953,
     "metadata": {},
     "output_type": "execute_result"
    }
   ],
   "source": [
    "hm.u / hm.deltau_i / 10"
   ]
  },
  {
   "cell_type": "code",
   "execution_count": 1024,
   "id": "b8246cf2-65fc-4ccb-ae35-3b7ad8706496",
   "metadata": {},
   "outputs": [
    {
     "data": {
      "text/plain": [
       "(0.0, 10.0)"
      ]
     },
     "execution_count": 1024,
     "metadata": {},
     "output_type": "execute_result"
    },
    {
     "data": {
      "image/png": "[encoded data removed]",
      "text/plain": [
       "<Figure size 432x288 with 1 Axes>"
      ]
     },
     "metadata": {
      "needs_background": "light"
     },
     "output_type": "display_data"
    }
   ],
   "source": [
    "a = np.exp(hm.alpha * hm.xi)\n",
    "H = np.exp(-hm.xi) / hm.RH\n",
    "rho_b = a**(1+hm.w)\n",
    "Rb = a * hm.A\n",
    "plt.plot(hm.R * Rb ,  (np.exp(-hm.xi/2) * hm.R **3 * hm.Abar**3 * hm.m ) / 2 )\n",
    "plt.xlim(0,15)\n",
    "plt.ylim(0,10)\n",
    "#plt.yscale('log')"
   ]
  },
  {
   "cell_type": "code",
   "execution_count": null,
   "id": "5765dc5b-a7ed-4c8a-ab2b-716533ba4774",
   "metadata": {},
   "outputs": [],
   "source": [
    "plt.plot(hm.Abar, hm.m)\n",
    "plt.plot(hm_bak.Abar, hm_bak.m)\n",
    "\n",
    "\n",
    "#plt.xlim(0,300)"
   ]
  },
  {
   "cell_type": "code",
   "execution_count": 784,
   "id": "fe212c9a-1757-437c-98eb-aaa5df2babd7",
   "metadata": {},
   "outputs": [
    {
     "data": {
      "text/plain": [
       "(0.0, 300.0)"
      ]
     },
     "execution_count": 784,
     "metadata": {},
     "output_type": "execute_result"
    },
    {
     "data": {
      "image/png": "[encoded data removed]",
      "text/plain": [
       "<Figure size 432x288 with 1 Axes>"
      ]
     },
     "metadata": {
      "needs_background": "light"
     },
     "output_type": "display_data"
    }
   ],
   "source": [
    "        xiprime = dfdA(hm.xi, hm.deltaL, hm.Abar, 0)\n",
    "        Rprime = dfdA(hm.R, hm.deltaL, hm.Abar, 0)\n",
    "        mprime = dfdA(hm.m, hm.deltaL, hm.Abar, 0)\n",
    "\n",
    "\n",
    "        \n",
    "        #xiprime.fill(1)\n",
    "        \n",
    "        g = hm.gamma(hm.R, hm.m, hm.U)\n",
    "        r = hm.rho(hm.R, hm.m, hm.U, hm.xi, g, xiprime, Rprime, mprime)\n",
    "        exi = np.exp(hm.xi)\n",
    "        ephi = hm.ephi(hm.R, hm.U, g, xiprime, Rprime)\n",
    "        elambda = hm.elambda(ephi, exi, xiprime)\n",
    "        epsi = hm.epsi(hm.R, hm.U, g, hm.xi, r, ephi)\n",
    "        plt.scatter(np.arange(hm.N), ephi)\n",
    "        plt.scatter(np.arange(hm.N), epsi)\n",
    "        plt.xlim(0,300)\n",
    "#plt.ylim(0.915,0.93)"
   ]
  },
  {
   "cell_type": "code",
   "execution_count": 832,
   "id": "44cfa2c9-6ea5-4c87-a998-9bcc16427538",
   "metadata": {},
   "outputs": [
    {
     "data": {
      "text/plain": [
       "[<matplotlib.lines.Line2D at 0x7f01e28be040>]"
      ]
     },
     "execution_count": 832,
     "metadata": {},
     "output_type": "execute_result"
    },
    {
     "data": {
      "image/png": "[encoded data removed]",
      "text/plain": [
       "<Figure size 432x288 with 1 Axes>"
      ]
     },
     "metadata": {
      "needs_background": "light"
     },
     "output_type": "display_data"
    }
   ],
   "source": [
    "plt.plot(hm.Abar,  hm.xi-0)\n",
    "\n",
    "\n",
    "#plt.xlim(0,300)\n",
    "#plt.ylim(0.915,0.93)"
   ]
  },
  {
   "cell_type": "code",
   "execution_count": 1012,
   "id": "eeb8e9d7-c7b2-4d5e-93ee-dfc1f62de63c",
   "metadata": {},
   "outputs": [
    {
     "data": {
      "text/plain": [
       "0.9326803234148633"
      ]
     },
     "execution_count": 1012,
     "metadata": {},
     "output_type": "execute_result"
    }
   ],
   "source": [
    "( hm.R**2 * hm.m * hm.Abar**2 * np.exp(2*(hm.alpha-1)*hm.xi)).max()"
   ]
  },
  {
   "cell_type": "code",
   "execution_count": 1011,
   "id": "b87799e9-6ebd-4466-96df-c2da44e053c0",
   "metadata": {},
   "outputs": [
    {
     "data": {
      "text/plain": [
       "(0.0, 1.0)"
      ]
     },
     "execution_count": 1011,
     "metadata": {},
     "output_type": "execute_result"
    },
    {
     "data": {
      "image/png": "[encoded data removed]",
      "text/plain": [
       "<Figure size 432x288 with 1 Axes>"
      ]
     },
     "metadata": {
      "needs_background": "light"
     },
     "output_type": "display_data"
    }
   ],
   "source": [
    "plt.plot(hm.Abar, hm.R**2 * hm.m * hm.Abar**2 * np.exp(2*(hm.alpha-1)*hm.xi))\n",
    "plt.plot(hm.Abar, hm_bak.R**2 * hm_bak.m * hm_bak.Abar**2 * np.exp(2*(hm_bak.alpha-1)*(hm_bak.xi)))\n",
    "\n",
    "\n",
    "#plt.xlim(0,300)\n",
    "plt.ylim(0.,1)"
   ]
  },
  {
   "cell_type": "code",
   "execution_count": null,
   "id": "0720c75d-9845-40cb-86b2-7a1a0b14711e",
   "metadata": {},
   "outputs": [],
   "source": [
    "plt.plot(hm.Abar, hm.R**2 * hm.m * hm.A**2 * np.exp(2*(hm.alpha-1)*hm.xi))\n",
    "plt.plot(hm.Abar, hm_bak.R**2 * hm_bak.m * hm_bak.A**2 * np.exp(2*(hm_bak.alpha-1)*hm_bak.xi))\n",
    "\n",
    "\n",
    "#plt.xlim(0,300)\n",
    "#plt.ylim(0.915,0.93)"
   ]
  },
  {
   "cell_type": "code",
   "execution_count": 1010,
   "id": "0aa0cc8c-7fee-4b5e-ac83-c00ff194147c",
   "metadata": {},
   "outputs": [
    {
     "data": {
      "text/plain": [
       "[<matplotlib.lines.Line2D at 0x7f01cc3115b0>]"
      ]
     },
     "execution_count": 1010,
     "metadata": {},
     "output_type": "execute_result"
    },
    {
     "data": {
      "image/png": "[encoded data removed]",
      "text/plain": [
       "<Figure size 432x288 with 1 Axes>"
      ]
     },
     "metadata": {
      "needs_background": "light"
     },
     "output_type": "display_data"
    }
   ],
   "source": [
    "        xiprime = dfdA(hm.xi, hm.deltaL, hm.Abar, 0)\n",
    "        Rprime = dfdA(hm.R, hm.deltaL, hm.Abar, 0)\n",
    "        mprime = dfdA(hm.m, hm.deltaL, hm.Abar, 0)\n",
    "        Uprime = dfdA(hm.U, hm.deltaL, hm.Abar, 0)\n",
    "        #print((xiprime ))\n",
    "        g = hm.gamma(hm.R, hm.m, hm.U)\n",
    "        r = hm.rho(hm.R, hm.m, hm.U, hm.xi, g, xiprime, Rprime, mprime)\n",
    "        p = hm.P(r)\n",
    "        exi = np.exp(hm.xi)\n",
    "        ephi = hm.ephi(hm.R, hm.U, g, xiprime, Rprime)\n",
    "        \n",
    "        epsi = hm.epsi(hm.R, hm.U, g, hm.xi, r, ephi)\n",
    "        plt.plot(hm.Abar, epsi)"
   ]
  },
  {
   "cell_type": "code",
   "execution_count": null,
   "id": "f7207ca3-68af-4a10-aae2-77f81a47e4a4",
   "metadata": {},
   "outputs": [],
   "source": []
  },
  {
   "cell_type": "code",
   "execution_count": 763,
   "id": "d0c1f703-5420-4041-a05b-935fb1c3f31f",
   "metadata": {},
   "outputs": [
    {
     "data": {
      "text/plain": [
       "<matplotlib.collections.PathCollection at 0x7f01db1333a0>"
      ]
     },
     "execution_count": 763,
     "metadata": {},
     "output_type": "execute_result"
    },
    {
     "data": {
      "image/png": "[encoded data removed]",
      "text/plain": [
       "<Figure size 432x288 with 1 Axes>"
      ]
     },
     "metadata": {
      "needs_background": "light"
     },
     "output_type": "display_data"
    }
   ],
   "source": [
    "plt.scatter(hm.Abar, hm.U[:])\n",
    "#plt.xlim(0,30)\n",
    "#plt.ylim(0,1)"
   ]
  },
  {
   "cell_type": "code",
   "execution_count": 884,
   "id": "14cd4dd8-d103-43c1-a9bf-bbe30a883087",
   "metadata": {},
   "outputs": [
    {
     "data": {
      "text/plain": [
       "<matplotlib.collections.PathCollection at 0x7f01d3f8fc10>"
      ]
     },
     "execution_count": 884,
     "metadata": {},
     "output_type": "execute_result"
    },
    {
     "data": {
      "image/png": "[encoded data removed]",
      "text/plain": [
       "<Figure size 432x288 with 1 Axes>"
      ]
     },
     "metadata": {
      "needs_background": "light"
     },
     "output_type": "display_data"
    }
   ],
   "source": [
    "plt.scatter(Abar[:n-1], ms.xi_hm[:])\n",
    "#plt.xlim(0,30)\n",
    "#plt.ylim(0,1)"
   ]
  },
  {
   "cell_type": "code",
   "execution_count": 883,
   "id": "3f537ad8-4ccd-40b3-8fab-5b67e483742b",
   "metadata": {},
   "outputs": [
    {
     "data": {
      "text/plain": [
       "<matplotlib.collections.PathCollection at 0x7f01d608cf10>"
      ]
     },
     "execution_count": 883,
     "metadata": {},
     "output_type": "execute_result"
    },
    {
     "data": {
      "image/png": "[encoded data removed]",
      "text/plain": [
       "<Figure size 432x288 with 1 Axes>"
      ]
     },
     "metadata": {
      "needs_background": "light"
     },
     "output_type": "display_data"
    }
   ],
   "source": [
    "plt.scatter(Abar[:n-1], ms_std.xi_hm[:])\n",
    "#plt.xlim(0,30)\n",
    "#plt.ylim(0,1)"
   ]
  },
  {
   "cell_type": "code",
   "execution_count": null,
   "id": "b475e83a-49cd-4de1-82a3-d0119cf6cebb",
   "metadata": {},
   "outputs": [],
   "source": []
  }
 ],
 "metadata": {
  "kernelspec": {
   "display_name": "Python 3 (ipykernel)",
   "language": "python",
   "name": "python3"
  },
  "language_info": {
   "codemirror_mode": {
    "name": "ipython",
    "version": 3
   },
   "file_extension": ".py",
   "mimetype": "text/x-python",
   "name": "python",
   "nbconvert_exporter": "python",
   "pygments_lexer": "ipython3",
   "version": "3.8.5"
  }
 },
 "nbformat": 4,
 "nbformat_minor": 5
}
