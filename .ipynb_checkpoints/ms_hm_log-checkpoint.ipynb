{
 "cells": [
  {
   "cell_type": "code",
   "execution_count": 9,
   "metadata": {},
   "outputs": [
    {
     "name": "stdout",
     "output_type": "stream",
     "text": [
      "Hello World\n"
     ]
    }
   ],
   "source": [
    "print(\"Hello World\")"
   ]
  },
  {
   "cell_type": "code",
   "execution_count": 21,
   "metadata": {},
   "outputs": [
    {
     "name": "stdout",
     "output_type": "stream",
     "text": [
      "The Cython extension is already loaded. To reload it, use:\n",
      "  %reload_ext Cython\n"
     ]
    }
   ],
   "source": [
    "import numpy as np\n",
    "import scipy.integrate as integ\n",
    "import scipy.interpolate as interp\n",
    "\n",
    "\n",
    "import matplotlib.pyplot as plt\n",
    "import matplotlib as mpl\n",
    "mpl.rc('xtick', direction='in', top=True)\n",
    "mpl.rc('ytick', direction='in', right=True)\n",
    "mpl.rc('xtick.minor', visible=True)\n",
    "mpl.rc('ytick.minor', visible=True)\n",
    "import cython\n",
    "%load_ext Cython"
   ]
  },
  {
   "cell_type": "code",
   "execution_count": null,
   "metadata": {},
   "outputs": [],
   "source": []
  },
  {
   "cell_type": "code",
   "execution_count": 22,
   "metadata": {},
   "outputs": [],
   "source": [
    "%%cython\n",
    "\n",
    "import numpy as np\n",
    "import cython\n",
    "cimport numpy as np\n",
    "\n",
    "cimport cython\n",
    "ctypedef np.double_t DTYPE_t\n",
    "\n",
    "from libc.math cimport exp\n",
    "from libc.math cimport sqrt\n",
    "\n",
    "from cython.parallel import prange\n",
    "\n",
    "@cython.boundscheck(False)  # Deactivate bounds checking\n",
    "cpdef dfdA(np.ndarray arr, double deltaL, double [::1] A, double bd = 0, int exec_pos = -1):\n",
    "    cdef int size = arr.shape[0]\n",
    "    cdef double [:] f = arr\n",
    "    cdef double [:] res =  np.zeros(size, dtype=np.double)\n",
    "    #res[0] = bd\n",
    "    #res[1] = (f[2] - f[1]) /( deltaL) * exp(-L[0]) * c \n",
    "    res[exec_pos+1] = (f[exec_pos+2] - f[exec_pos+1]) / (A[exec_pos+2]-A[exec_pos+1]) \n",
    "    cdef int i\n",
    "    for i in prange(exec_pos+2, size - 1,nogil=True):\n",
    "        res[i] = (f[i+1] - f[i-1]) / (A[i+1] - A[i-1])\n",
    "    #res[0] = res[1]\n",
    "    res[size - 1] = (f[-1] - f[-2]) / (A[size - 1] - A[size-2]) \n",
    "    return np.asarray(res)\n",
    "\n",
    "@cython.boundscheck(False)  # Deactivate bounds checking\n",
    "cpdef dfdA2(np.ndarray arr, double deltaL, double [::1] A, double bd = 0, int exec_pos = -1):\n",
    "    cdef int size = arr.shape[0]\n",
    "    cdef double [:] f = arr\n",
    "    cdef double [:] res =  np.zeros(size, dtype=np.double)\n",
    "    #res[0] = bd\n",
    "    #res[1] = (f[2] - f[1]) /( deltaL) * exp(-L[0]) * c \n",
    "    res[exec_pos+2] = (f[exec_pos+3] - f[exec_pos+2]) / (A[exec_pos+3]-A[exec_pos+2])\n",
    "    res[exec_pos+1] = res[exec_pos+2]\n",
    "    cdef int i\n",
    "    for i in prange(exec_pos+3, size - 1,nogil=True):\n",
    "        res[i] = (f[i+1] - f[i-1]) / (A[i+1] - A[i-1])\n",
    "    #res[0] = res[1]\n",
    "    res[size - 1] = (f[-1] - f[-2]) / (A[size - 1] - A[size-2]) \n",
    "    return np.asarray(res)\n",
    "\n",
    "@cython.boundscheck(False)  # Deactivate bounds checking\n",
    "cpdef ddfddA(np.ndarray arr, double deltaL, double [::1] A, double bd = 0, int exec_pos = -1):\n",
    "    cdef int size = arr.shape[0]\n",
    "    cdef double [:] f = arr\n",
    "    cdef double [:] res =  np.zeros(size, dtype=np.double)\n",
    "    #res[0] = bd\n",
    "    #res[0] = (f[1] + f[1] - 2 * f[0]) / (A[1] )**2  \n",
    "    #res[1] = (f[3] + f[1] - 2 * f[2]) / ( (A[2] - A[1]) )**2  \n",
    "    \n",
    "    cdef int i\n",
    "    for i in prange(exec_pos+2, size - 1,nogil=True):\n",
    "        #res[i] = (f[i+1] + f[i-1] - 2* f[i]) /( (A[i+1] - A[i-1])/2 )**2 * c**2 \n",
    "        res[i] = ((f[i+1] - f[i]) / (A[i+1] - A[i]) - (f[i] - f[i-1]) / (A[i] - A[i-1])) \\\n",
    "            / (0.5 * (A[i+1] - A[i-1]))\n",
    "    res[exec_pos+1] = res[exec_pos+2]\n",
    "        \n",
    "    res[size - 1] = (f[-3] + f[-1] - 2*f[-2]) / ( (A[-1] - A[-3])/2 )**2 \n",
    "    return np.asarray(res)\n",
    "\n",
    "@cython.boundscheck(False)  # Deactivate bounds checking\n",
    "cpdef derv_phi(np.ndarray rho, np.ndarray P, double off_set=0, int exec_pos = -1):\n",
    "    cdef int size = rho.shape[0]\n",
    "    cdef double [:] res =  np.zeros(size, dtype=np.double)\n",
    "    cdef int i\n",
    "    res[exec_pos + 1] = off_set\n",
    "    res[exec_pos+2] = - (P[exec_pos+2] - P[exec_pos+1]) / (P[exec_pos+1] + rho[exec_pos+1]) + res[exec_pos+1]\n",
    "    #for i in range(1, size):\n",
    "    #    res[i] = -  (P[i] - P[i-1]) / (P[i] + rho[i]) + res[i-1]\n",
    "    for i in range(exec_pos+3, size):\n",
    "        res[i] = - (P[i] - P[i-2]) / (P[i-1] + rho[i-1]) + res[i-2]\n",
    "    return np.asarray(res)\n",
    "\n",
    "@cython.boundscheck(False)  # Deactivate bounds checking\n",
    "cpdef inv_derv_phi(np.ndarray rho, np.ndarray P, double off_set=0, int exec_pos = -1):\n",
    "    cdef int size = rho.shape[0]\n",
    "    cdef double [:] res =  np.zeros(size, dtype=np.double)\n",
    "    cdef int i\n",
    "    res[size - 1] = off_set\n",
    "    res[size - 2] =  (P[size-1] - P[size-2]) / (P[size-2] + rho[size-2]) + res[size-1]\n",
    "    for i in range(size-3, -1, -1):\n",
    "        res[i] = (P[i+2] - P[i]) / (P[i+1] + rho[i+1]) + res[i+2]\n",
    "    return np.asarray(res)\n",
    "\n",
    "@cython.boundscheck(False)  # Deactivate bounds checking\n",
    "# for exp(\\psi) in Eq. 165e\n",
    "cpdef derv_psi( np.ndarray xi, np.ndarray c, double off_set=0):\n",
    "    cdef int size = xi.shape[0]\n",
    "    cdef double [:] res =  np.zeros(size, dtype=np.double)\n",
    "    cdef int i\n",
    "    res[0] = off_set\n",
    "    res[1] = - (xi[2] - xi[1]) * c[0] + res[0]\n",
    "    #for i in range(1, size):\n",
    "    #    res[i] = -  (P[i] - P[i-1]) / (P[i] + rho[i]) + res[i-1]\n",
    "    for i in range(2, size):\n",
    "        res[i] = - (xi[i] - xi[i-2]) * c[i - 1] + res[i-2]\n",
    "    return np.asarray(res)\n",
    "\n",
    "@cython.boundscheck(False)  # Deactivate bounds checking\n",
    "# for exp(\\psi) in Eq. 165e\n",
    "cpdef inv_derv_psi( np.ndarray xi, np.ndarray c, double off_set=0):\n",
    "    cdef int size = xi.shape[0]\n",
    "    cdef double [:] res =  np.zeros(size, dtype=np.double)\n",
    "    cdef int i\n",
    "    res[size - 1] = off_set\n",
    "    res[size - 2] =  (xi[size-1] - xi[size-2]) * c[size-2] + res[size-1]\n",
    "    for i in range(size-3, -1, -1):\n",
    "        res[i] = (xi[i+2] - xi[i]) * c[i+1] + res[i+2]\n",
    "    return np.asarray(res)\n",
    "\n",
    "@cython.boundscheck(False)  # Deactivate bounds checking\n",
    "cpdef find_exec_pos(np.ndarray arr):\n",
    "    cdef int size = arr.shape[0]\n",
    "    cdef double [:] f = arr\n",
    "    \n",
    "    cdef int i\n",
    "    for i in range(size - 1, 1,-1):\n",
    "        if(arr[i] < 1 and arr[i-1] > 1): # found a horizon\n",
    "            return i-1\n",
    "    return -1\n",
    "\n",
    "\n",
    "@cython.boundscheck(False)  # Deactivate bounds checking\n",
    "cpdef p_prime(np.ndarray g_in, double [:] R, double [:] m, double [:] U, \n",
    "                double [:] A, double [:] xi, \n",
    "               double [:] gp, double [:] Rp, double [:] Up, double [:] mp, double [:] xip,\n",
    "               double [:] gpp, double [:] Rpp, double [:] Upp, double [:] mpp, double [:] xipp,\n",
    "               double a):\n",
    "    cdef int size = g_in.shape[0]\n",
    "    cdef double [:] res =  np.zeros(size, dtype=np.double)\n",
    "    cdef double [:] g = g_in\n",
    "    cdef int i\n",
    "    #for i in prange(0, size - 1,nogil=True):\n",
    "    #    temp = (m[i] + (A[i] * R[i] * (mp[i] - 2 * m[i] * xip[i])) \n",
    "    #                / (3 * (R[i] + A[i] * Rp[i] + A * a * R[i] * xip[i]) ) )\n",
    "    #    res[i] =  (-(A[i] * R[i] * U[i] + g[i]) * gp[i] * temp\n",
    "    #              + g[i] * (A[i] * U[i] * Rp[i] + R[i] * (U[i] + A[i] * Up[i]) + gp[i]) * temp \n",
    "    #              + g[i] * (1111)) / g[i]**2\n",
    "    return np.asarray(res)\n",
    "    \n",
    "    \n",
    "@cython.boundscheck(False)  # Deactivate bounds checking\n",
    "cpdef rho_prime(np.ndarray R_in, double [:] m, double [:] A, double [:] xi,\n",
    "               double [:] Rp, double [:] mp, double [:] xip,\n",
    "               double [:] Rpp, double [:] mpp, double [:] xipp, double a):\n",
    "    cdef int size = R_in.shape[0]\n",
    "    cdef double [:] res =  np.zeros(size, dtype=np.double)\n",
    "    cdef double [:] R = R_in\n",
    "    cdef int i\n",
    "    for i in prange(0, size - 1,nogil=True):\n",
    "        res[i] = ((R[i] + A[i] * Rp[i] + A[i] * a * R[i] * xip[i]  ) \n",
    "                  * (-2 * mp[i] * xip[i] + mpp[i] - 2 * m[i] * xipp[i]) \n",
    "                 - (mp[i] - 2 * m[i] * xip[i] ) * (Rp[i] * (2 + A[i] * a * xip[i]) \n",
    "                        + A[i] * Rpp[i] + a * R[i] * (xip[i] + A[i] * xipp[i])) ) \\\n",
    "                / (R[i] + A[i] * Rp[i] + A[i] * a * R[i] * xip[i])**2\n",
    "    return np.asarray(res)"
   ]
  },
  {
   "cell_type": "code",
   "execution_count": 23,
   "metadata": {},
   "outputs": [],
   "source": [
    "class MS:\n",
    "    \n",
    "    def __init__(self, R, m, U, w, alpha, A, rho0, deltaL, L):\n",
    "        self.R = R\n",
    "        self.m = m\n",
    "        self.U = U\n",
    "        self.w = w\n",
    "        self.deltaL = deltaL\n",
    "        self.L = L\n",
    "        self.A = A\n",
    "        self.alpha = alpha\n",
    "        self.N = R.shape[0]\n",
    "        self.exec_pos = -1\n",
    "\n",
    "\n",
    "        self.t0 = self.alpha * np.sqrt(3 / (8*np.pi*rho0))\n",
    "        self.t = t0\n",
    "        self.xi = 0\n",
    "\n",
    "        self.RH = self.t0 / self.alpha\n",
    "        self.Abar = self.A / self.RH\n",
    "        self.Abar_h = self.to_h(self.A)\n",
    "        \n",
    "        self.q = 1\n",
    "        self.deltau_i = self.cfl_deltau(R, m, U) * 0.9\n",
    "        \n",
    "        # initialize the poton\n",
    "        self.Abar_p = self.Abar[0]\n",
    "        self.U_p = self.U[0]\n",
    "        self.m_p = self.m[0]\n",
    "        self.R_p = self.R[0]\n",
    "        \n",
    "        self.U_hm = np.zeros(self.N-1)\n",
    "        self.m_hm = np.zeros(self.N-1)\n",
    "        self.R_hm = np.zeros(self.N-1)\n",
    "        self.xi_hm = np.zeros(self.N-1)\n",
    "        \n",
    "        self.U_hm[0] = self.U[0]\n",
    "        self.m_hm[0] = self.m[0]\n",
    "        self.R_hm[0] = self.R[0]\n",
    "        self.xi_hm[0] = 0\n",
    "        return\n",
    "    # convert to half grid\n",
    "    def to_h(self,arr):\n",
    "        return np.concatenate(([arr[0]],(arr[0:-1] + arr[1:]) / 2))\n",
    "    def to_idx(self, pos):\n",
    "        return int( (np.log(pos * ms.RH) - np.round(np.log(A[0])).astype(int)) / self.deltaL)\n",
    "    def gamma(self, R, m, U): \n",
    "        return np.sqrt(np.exp(2 * (1 - self.alpha) * self.xi) \n",
    "                       + (self.Abar * R)**2 * (U**2 - m))\n",
    "    def P(self, rho) : \n",
    "        return self.w * rho\n",
    "    def rho(self, R, m):\n",
    "        return m + (dfdA(m, self.deltaL, self.Abar,0, self.exec_pos) * self.Abar * R)  \\\n",
    "            / (3* (self.Abar * dfdA(R, self.deltaL, self.Abar, 0, self.exec_pos) \n",
    "                  + R ))\n",
    "    def psi(self, rho, p, Pprime):\n",
    "        #return np.log(rho ** (-3 * self.alpha * self.w / 2))\n",
    "        offset = + np.log(rho[-1]**(-3 * self.alpha * self.w / 2))\n",
    "        return inv_derv_phi(rho, p, offset) \n",
    "    \n",
    "    def Pprime(self, R, m):\n",
    "        mprime = dfdA(m, self.deltaL, self.Abar, 0, self.exec_pos)\n",
    "        Rprime = dfdA(R, self.deltaL, self.Abar, 0, self.exec_pos)\n",
    "        mpp = ddfddA(m, self.deltaL, self.Abar, 0, self.exec_pos)\n",
    "        Rpp = ddfddA(R, self.deltaL, self.Abar, 0, self.exec_pos)\n",
    "        return self.w * (4 * self.Abar**2 * mprime * Rprime**2 \n",
    "                + R**2 * (4 * mprime + self.Abar * mpp)\n",
    "               + self.Abar * R * (self.Abar * Rprime * mpp + mprime * (6 * Rprime - self.Abar * Rpp))) \\\n",
    "                / (3 * (R + self.Abar * Rprime)**2)\n",
    "    def k_coeffs(self, R, m, U, Abar_p) :\n",
    "        g = self.gamma(R, m, U)\n",
    "        r = self.rho(R, m)\n",
    "        p = self.P(r)\n",
    "  \n",
    "        Pprime = self.Pprime(R, m)\n",
    "        #Pprime = dfdA2(p, self.deltaL, self.Abar, 0, self.exec_pos)       \n",
    "        ep = np.exp(self.psi(r, p, Pprime))\n",
    "        #print(g,r,p,ep)\n",
    "        kR = self.alpha * R * (U * ep - 1)\n",
    "        km = 2 * m - 3 * self.alpha * U * ep * (p + m)\n",
    "        \n",
    "        AR_prime = R + self.Abar * dfdA(R, self.deltaL, self.Abar, 0, self.exec_pos)\n",
    "        \n",
    "        kU = U - self.alpha * ep * \\\n",
    "            (   g**2 * (Pprime[:] / \n",
    "             (self.Abar[:]))  / (R * (AR_prime) * (r + p))  \n",
    "            + (2 * U**2 + m + 3 * p) / 2) \n",
    "        #kU = U - self.alpha * ep * \\\n",
    "        #    (   g**2 * np.concatenate(([self.w\n",
    "        #                    * ((m[1] + m[1] - 2 * m[0]) /( np.exp(2*L[0]))) *  (5/3)], dfdA(p, self.deltaL, self.Abar, 1, 0 )[1:] / \n",
    "        #     (self.Abar[1:])) ) / (R * (R + self.Abar * dfdA(R, self.deltaL, self.Abar, 1, 0, self.exec_pos)) * (r + p))  \n",
    "        #    + (2 * U**2 + m + 3 * p) / 2) \n",
    "        kA_p = self.alpha * interp.griddata(self.Abar, ep * g / AR_prime, \n",
    "                                            Abar_p, method='linear') \n",
    "        \n",
    "        return kR, km, kU, kA_p\n",
    "    \n",
    "\n",
    "    \n",
    "    def run_steps(self,n_steps, exc_intv=0) :\n",
    "        step = 0\n",
    "        \n",
    "        deltau = self.deltau_i\n",
    "        while(step < n_steps) :\n",
    "            #if(exc_intv > 0 and step % exc_intv == 0):\n",
    "            #self.exec_pos = np.max(\n",
    "                #[self.exec_pos, find_exec_pos(self.R**2 * self.m * self.Abar**2 * np.exp(2 * (self.alpha-1) * self.xi))])\n",
    "            #if(self.exec_pos > 0):\n",
    "            if(self.to_idx(self.Abar_p) > 100 and self.to_idx(self.Abar_p)<self.N * 0.9):\n",
    "                self.exec_pos = np.max([self.exec_pos, self.to_idx(self.Abar_p) - 10])\n",
    "            exec_arr = np.concatenate(([0] * (self.exec_pos+1),[1] * (self.N - self.exec_pos - 1)))\n",
    "            #if(self.exec_pos > 0):\n",
    "                #print('Performing excision at pos '+ str(self.exec_pos))\n",
    "            kR1, km1, kU1, kA_p1 = self.k_coeffs(self.R, self.m, self.U, self.Abar_p)\n",
    "            kR2, km2, kU2, kA_p2 = self.k_coeffs(self.R + deltau/2*kR1, self.m + deltau/2*km1, \n",
    "                                                 self.U + deltau/2*kU1, self.Abar_p + deltau/2*kA_p1)\n",
    "            kR3, km3, kU3, kA_p3 = self.k_coeffs(self.R + deltau/2*kR2, self.m + deltau/2*km2, \n",
    "                                                 self.U + deltau/2*kU2, self.Abar_p + deltau/2*kA_p2)\n",
    "            kR4, km4, kU4, kA_p4 = self.k_coeffs(self.R + deltau*kR3, self.m + deltau*km3, \n",
    "                                                 self.U + deltau*kU3, self.Abar_p + deltau*kA_p3)\n",
    "            \n",
    "            self.R = self.R + (deltau/6*(kR1 + 2*kR2 + 2*kR3 + kR4)) * exec_arr\n",
    "            self.m = self.m + (deltau/6*(km1 + 2*km2 + 2*km3 + km4)) * exec_arr\n",
    "            self.U = self.U + (deltau/6*(kU1 + 2*kU2 + 2*kU3 + kU4)) * exec_arr\n",
    "            \n",
    "            Abar_p_new = self.Abar_p + deltau/6*(kA_p1 + 2*kA_p2 + 2*kA_p3 + kA_p4)\n",
    "            idx_p_new = self.to_idx(Abar_p_new)\n",
    "            U_p_new = interp.griddata(self.Abar, self.U, Abar_p_new, method='linear')\n",
    "            m_p_new = interp.griddata(self.Abar, self.m, Abar_p_new, method='linear')\n",
    "            R_p_new = interp.griddata(self.Abar, self.R, Abar_p_new, method='linear')\n",
    "            #print(kA_p1, kA_p2, kA_p3, kA_p4, deltau, Abar_p_new)\n",
    "            diff = idx_p_new - self.to_idx(self.Abar_p)\n",
    "            if (diff > 1): ##move across more than two grid pints!\n",
    "                print('Warning!')\n",
    "            if ( diff > 0): # move across one grid point            \n",
    "                interp_w = (self.Abar[idx_p_new] - self.Abar_p) / (Abar_p_new - self.Abar_p)\n",
    "                # linear interpolation\n",
    "                self.U_hm[idx_p_new] = U_p_new * interp_w + self.U_p * (1 - interp_w)\n",
    "                self.m_hm[idx_p_new] = m_p_new * interp_w + self.m_p * (1 - interp_w)\n",
    "                self.R_hm[idx_p_new] = R_p_new * interp_w + self.R_p * (1 - interp_w)\n",
    "                self.xi_hm[idx_p_new] = self.xi + deltau * interp_w\n",
    "                \n",
    "            self.Abar_p = Abar_p_new\n",
    "            self.U_p = U_p_new\n",
    "            self.m_p = m_p_new\n",
    "            self.R_p = R_p_new\n",
    "            \n",
    "            step+=1\n",
    "            self.xi += deltau\n",
    "            if(idx_p_new == self.N-2): #going out of the boundary\n",
    "                break\n",
    "        if step < n_steps:\n",
    "            print(\"Photon has gone out of the outter boundary!\")\n",
    "  \n",
    "    def run_steps_rk2(self,n_steps) :\n",
    "        step = 0\n",
    "        \n",
    "        #deltau = self.cfl_deltau(R, m, U) * 0.9\n",
    "        deltau = self.deltau_i\n",
    "        while(step < n_steps) :\n",
    "            #deltau = self.cfl_deltau(R, m, U) * 0.9\n",
    "            kR1, km1, kU1 = self.k_coeffs(self.R, self.m, self.U)\n",
    "            kR2, km2, kU2 = self.k_coeffs(self.R + deltau/2*kR1, self.m + deltau/2*km1, self.U + deltau/2*kU1)\n",
    "\n",
    "\n",
    "            self.R = self.R + deltau * kR2 \n",
    "            self.m = self.m + deltau * km2 \n",
    "            self.U = self.U + deltau * kU2\n",
    "            \n",
    "            step+=1\n",
    "            self.xi += deltau\n",
    "            \n",
    "    def adap_run_steps(self,n_steps, adjust_steps=100, tol=1e-7) :\n",
    "        step = 0\n",
    "        deltau = self.deltau_i\n",
    "        #q = 1\n",
    "        while(step < n_steps) :\n",
    "            #if (step % adjust_steps == 0): # reset_stepping size\n",
    "            #    deltau = self.cfl_deltau(R, m, U) * 0.9\n",
    "            #    q = 1\n",
    "            \n",
    "            kR1, km1, kU1 = self.k_coeffs(self.R, self.m, self.U)\n",
    "            \n",
    "            kR2, km2, kU2 = self.k_coeffs(self.R + deltau/2*kR1, self.m + deltau/2*km1, self.U + deltau/2*kU1)\n",
    "            \n",
    "            kR3, km3, kU3 = self.k_coeffs(self.R + 3*deltau/4*kR2, self.m + 3*deltau/4*km2, self.U + 3*deltau/4*kU2)\n",
    "\n",
    "            \n",
    "\n",
    "            R_new = self.R + deltau/9*(2*kR1 + 3*kR2 + 4*kR3 )\n",
    "            m_new = self.m + deltau/9*(2*km1 + 3*km2 + 4*km3 )\n",
    "            U_new = self.U + deltau/9*(2*kU1 + 3*kU2 + 4*kU3 )\n",
    "            \n",
    "            kR4, km4, kU4 = self.k_coeffs(R_new , m_new , U_new )\n",
    "            \n",
    "            E_R = np.max( np.abs((deltau * (-5*kR1/72 + kR2/12 + kR3/9 - kR4/8))))\n",
    "            E_m = np.max( np.abs(deltau * (-5*km1/72 + km2/12 + km3/9 - km4/8)))\n",
    "            E_U = np.max( np.abs(deltau * (-5*kU1/72 + kU2/12 + kU3/9 - kU4/8)))\n",
    "    \n",
    "            max_err_R = np.max(np.abs(self.R)) * tol\n",
    "            max_err_m = np.max(np.abs(self.m)) * tol\n",
    "            max_err_U = np.max(np.abs(self.U)) * tol\n",
    "            \n",
    "            if(E_R < max_err_R and E_m < max_err_m and E_U < max_err_U):\n",
    "                self.R = R_new\n",
    "                self.m = m_new\n",
    "                self.U = U_new\n",
    "                \n",
    "                kR1 = kR4\n",
    "                km1 = km4\n",
    "                kU1 = kU4\n",
    "                \n",
    "                step+=1\n",
    "                self.xi += deltau\n",
    "                         \n",
    "            # Adjust step size.\n",
    "            self.q = 0.8*np.min((max_err_R/E_R, max_err_m/E_m, max_err_U/E_U) )**(1/3)   # conservative optimal step factor\n",
    "            self.q = min(self.q,10)               # limit stepsize growth\n",
    "            deltau *= self.q\n",
    "            #print(q, E_R, max_err_R)\n",
    "            \n",
    "    def cfl_deltau(self,R, m, U):\n",
    "        a = np.exp(self.alpha * self.xi)\n",
    "        H = np.exp(-self.xi) / self.RH\n",
    "        \n",
    "        g = self.gamma(R, m, U)\n",
    "        r = self.rho(R, m)\n",
    "        p = self.P(r)\n",
    "  \n",
    "        Pprime = self.Pprime(R, m)\n",
    "                           \n",
    "        ep = np.exp(self.psi(r, p, Pprime))\n",
    "        el = (a * H * self.RH * g) / (dfdA(a * self.A * self.R, self.deltaL, self.Abar, 1) / self.RH) \n",
    "        #print(el, ep.min())\n",
    "        #return (np.log(1 + el / ep / np.exp(self.xi)  \n",
    "        #               * self.alpha * np.concatenate( ([1e10],(Abar[1:] - Abar[0:-1])) ) / np.sqrt(self.w))).min()\n",
    "        return (np.log(1 + el / ep / np.exp(self.xi)  \n",
    "                       * self.alpha * (Abar[1] - Abar[0]) / np.sqrt(self.w))).min()"
   ]
  },
  {
   "cell_type": "code",
   "execution_count": 24,
   "metadata": {},
   "outputs": [],
   "source": [
    "class HM:\n",
    "    \n",
    "    def __init__(self, MS):\n",
    "        self.R = MS.R_hm\n",
    "        self.m = MS.m_hm\n",
    "        self.U = MS.U_hm\n",
    "        self.xi = MS.xi_hm\n",
    "        self.N = MS.R_hm.shape[0]\n",
    "        \n",
    "        self.w = MS.w\n",
    "        self.deltaL = MS.deltaL\n",
    "        self.L = MS.L\n",
    "        self.A = MS.A[:self.N]\n",
    "        self.alpha = MS.alpha\n",
    "\n",
    "\n",
    "        self.t0 = MS.t0\n",
    "        self.t = t0\n",
    "        self.u = 0\n",
    "        \n",
    "    \n",
    "        self.Qold=0\n",
    "\n",
    "        self.RH = self.t0 / self.alpha\n",
    "        self.Abar = MS.Abar[:self.N]\n",
    "        \n",
    "        self.q = 1\n",
    "        self.deltau_i = self.cfl_deltau(self.R, self.m, self.U, self.xi) * 0.9\n",
    "        \n",
    "        \n",
    "        return\n",
    "    # convert to half grid\n",
    "    def to_h(self,arr):\n",
    "        return np.concatenate(([arr[0]],(arr[0:-1] + arr[1:]) / 2))\n",
    "\n",
    "    def gamma(self, R, m, U): \n",
    "        return np.sqrt(np.exp(2 * (1 - self.alpha) * self.xi) \n",
    "                       + (self.Abar * R)**2 * (U**2 - m))\n",
    "    def P(self, rho) : \n",
    "        return self.w * rho\n",
    "    def rho(self, R, m, U, xi, g, xiprime, Rprime, mprime):\n",
    "        return (g + self.Abar * R * U) / (g - (self.w ) * self.Abar * R * U ) \\\n",
    "            * (m + self.Abar * R * (mprime - 2 * m * xiprime) \n",
    "               / (3 * (self.alpha * self.Abar * R * xiprime + R + self.Abar * Rprime)))\n",
    "    def ephi(self, R, U, g, xiprime, Rprime):\n",
    "        #return (self.alpha * xiprime * self.Abar * R + self.Abar * Rprime + R) \n",
    "    \n",
    "        return (self.alpha * xiprime * self.Abar * R + self.Abar * Rprime + R) \\\n",
    "            / (self.alpha * xiprime* (g + self.Abar * R * U))\n",
    "    \n",
    "    def elambda(self, ephi, exi, xiprime):\n",
    "        return self.alpha * ephi * exi * xiprime\n",
    "    \n",
    "    def epsi(self, R, U, g, xi, rho, ephi):\n",
    "        c = self.alpha - 1 + ephi * self.Abar * R * rho * (1 + self.w) /\\\n",
    "            ((g + self.Abar * R * U) * (1+self.w))\n",
    "        #offset = 0\n",
    "        #temp = derv_psi(xi, c, offset)\n",
    "        offset = np.log(1/ephi[-1] * (g[-1] + self.Abar[-1] * R[-1] * U[-1])) \n",
    "        temp = inv_derv_psi(xi, c, offset)\n",
    "        return  (g + self.Abar * R * U) / np.exp(temp)\n",
    "    def drho(self, R, m, U, g, xi, Rp, mp, xip):\n",
    "        Rpp = ddfddA(R, self.deltaL, self.Abar, 0)\n",
    "        mpp = ddfddA(m, self.deltaL, self.Abar, 0)\n",
    "        xipp = ddfddA(xi, self.deltaL, self.Abar, 0)\n",
    "        \n",
    "        A1p = dfdA(m * (g + self.Abar * R * U) / (g - (self.w ) * self.Abar * R * U ),\n",
    "                   self.deltaL, self.Abar, 0)\n",
    "        B1 = self.Abar * R * (g + self.Abar * R * U) /(3* (g - (self.w ) * self.Abar * R * U ))\n",
    "        B1p = dfdA(B1,self.deltaL, self.Abar, 0)\n",
    "        B2 = (mp -2 * m * xip) / (self.alpha * self.Abar * R * xip + R + self.Abar * Rp)\n",
    "        B2p = rho_prime(R, m, self.Abar, xi, Rp, mp, xip, Rpp, mpp, xipp, self.alpha)\n",
    "        return A1p + B1p * B2 + B1 * B2p\n",
    "    \n",
    "            \n",
    "    def k_coeffs(self, R, m, U, xi, Q, dQdu) :\n",
    "        xiprime = dfdA(xi, self.deltaL, self.Abar, 0)\n",
    "        Rprime = dfdA(R, self.deltaL, self.Abar, 0)\n",
    "        mprime = dfdA(m, self.deltaL, self.Abar, 0)\n",
    "        Uprime = dfdA(U, self.deltaL, self.Abar, 0)\n",
    "        \n",
    "        #xiprime.fill(1)\n",
    "        \n",
    "        g = self.gamma(R, m, U)\n",
    "        r = self.rho(R, m, U, xi, g, xiprime, Rprime, mprime)\n",
    "        p = self.P(r)\n",
    "        dA = np.concatenate((A[1:] - A[:-1], np.array([A[-1]-A[-2]])))\n",
    "        #g.fill(1)\n",
    "        \n",
    "      \n",
    "        exi = np.exp(xi)\n",
    "        ephi = self.ephi(R, U, g, xiprime, Rprime)\n",
    "        elambda = self.elambda(ephi, exi, xiprime)\n",
    "        epsi = self.epsi(R, U, g, xi, r, ephi)\n",
    "        \n",
    "        #drho = dfdA(r, self.deltaL, self.Abar, 0)\n",
    "        drho = self.drho(R, m, U, g, xi, Rprime, mprime, xiprime)\n",
    "        \n",
    "        kxi = epsi / ephi / np.exp(xi) / self.alpha\n",
    "        \n",
    "        kR = epsi / exi * R * (U - 1/ephi)\n",
    "        \n",
    "        km = 3 * epsi / exi * (1/ephi * m * (1+w) - U * (p +m)) \n",
    "        #I noticed that there isn't a factor of 1/2*lambda, is that a problem?        \n",
    "        kU = - epsi / exi / (1 - w - Q) * (\n",
    "            (m + 3 * p) / 2 + U**2 - U / self.alpha / ephi \n",
    "        + (w + Q) * exi / elambda * Uprime + g * (w + Q) / (self.Abar * R * (1+w+Q)) * (\n",
    "         3*Q*U + ((exi) / (w+Q))*(elambda*dfdA(Q,self.deltaL, self.Abar, 0) - epsi*dQdu)+ 3 * (1 + w) * (U - 1 / ephi) + exi / elambda * drho / r) )\n",
    "        \n",
    "        return kxi, kR, km, kU\n",
    "    \n",
    "\n",
    "    \n",
    "    def run_steps(self,n_steps, exc_intv=0) :\n",
    "        step = 0\n",
    "        \n",
    "        deltau = self.deltau_i\n",
    "        while(step < n_steps) :\n",
    "            #define Q (artificial viscosity here as defined in paper, then add to kU equation according to 166d in paper)\n",
    "            #What is Q prime with respect to? I've added everything but the term that's not in the code bc I wasn't sure how to do it\n",
    "            Qnew = 2*(dA)**2*(dfdA(np.exp((self.alpha-1)*xi)*self.Abar*self.R*self.U**2*xi*self.Abar*self.R*self.U),self.deltaL, self.Abar, 0)**2\n",
    "            dQdu = (self.Qold + Qnew) / deltau\n",
    "            self.Qold=Qnew\n",
    "\n",
    "            kxi1, kR1, km1, kU1 = self.k_coeffs(self.R, self.m, self.U,  self.xi, Qnew, dQdu)\n",
    "            kxi2, kR2, km2, kU2 = self.k_coeffs(self.R + deltau/2*kR1, self.m + deltau/2*km1, \n",
    "                                                 self.U + deltau/2*kU1, self.xi, Qnew, dQdu)\n",
    "            kxi3, kR3, km3, kU3 = self.k_coeffs(self.R + deltau/2*kR2, self.m + deltau/2*km2, \n",
    "                                                 self.U + deltau/2*kU2, self.xi, Qnew, dQdu)\n",
    "            kxi4, kR4, km4, kU4 = self.k_coeffs(self.R + deltau*kR3, self.m + deltau*km3, \n",
    "                                                 self.U + deltau*kU3,  self.xi, Qnew, dQdu)\n",
    "            \n",
    "            self.xi = self.xi + (deltau/6*(kxi1 + 2*kxi2 + 2*kxi3 + kxi4)) \n",
    "            self.R = self.R + (deltau/6*(kR1 + 2*kR2 + 2*kR3 + kR4)) \n",
    "            self.m = self.m + (deltau/6*(km1 + 2*km2 + 2*km3 + km4))\n",
    "            self.U = self.U + (deltau/6*(kU1 + 2*kU2 + 2*kU3 + kU4))\n",
    "            \n",
    "            step+=1\n",
    "            self.u += deltau\n",
    "        if step < n_steps:\n",
    "            print(\"Photon has gone out of the outter boundary!\")\n",
    "              \n",
    "    def cfl_deltau(self,R, m, U, xi):\n",
    "        xiprime = dfdA(xi, self.deltaL, self.Abar, 0)\n",
    "        Rprime = dfdA(R, self.deltaL, self.Abar, 0)\n",
    "        mprime = dfdA(m, self.deltaL, self.Abar, 0)\n",
    "        Uprime = dfdA(U, self.deltaL, self.Abar, 0)\n",
    "        #print((xiprime ))\n",
    "        g = self.gamma(R, m, U)\n",
    "        r = self.rho(R, m, U, xi, g, xiprime, Rprime, mprime)\n",
    "        p = self.P(r)\n",
    "        exi = np.exp(xi)\n",
    "        ephi = self.ephi(R, U, g, xiprime, Rprime)\n",
    "        elambda = self.elambda(ephi, exi, xiprime)\n",
    "        epsi = self.epsi(R, U, g, xi, r, ephi)\n",
    "        #print((self.alpha * ephi * exi *xiprime ))\n",
    "        drho = self.drho(R, m, U, g, xi, Rprime, mprime, xiprime)\n",
    "        self.drho1 = drho\n",
    "        self.rho1 = r\n",
    "        return ((1 / np.sqrt(w) - 1)  * (Abar[1] - Abar[0]) * elambda / epsi).min()\n"
   ]
  },
  {
   "cell_type": "code",
   "execution_count": 25,
   "metadata": {},
   "outputs": [],
   "source": [
    "n=300\n",
    "\n",
    "L = np.linspace(-6, 1.5, n)\n",
    "A = np.exp(L)\n",
    "\n",
    "#A = np.concatenate( ([0], A))\n",
    "\n",
    "\n",
    "w = 1 / 3\n",
    "alpha = 1/2 # alpha = 1/2 for w = 1/3\n",
    "\n",
    "\n",
    "rho0 = 1\n",
    "t0 = alpha * np.sqrt(3 / (8*np.pi*rho0))\n",
    "RH = t0 / alpha\n",
    "Abar = A / RH\n",
    "\n",
    "deltaL = L[2] - L[1]\n",
    "\n",
    "deltaA = Abar[1] - Abar[0]\n",
    "\n",
    "amp = 0.3\n",
    "delta0 = amp * np.exp(-2 * Abar**2 / RH / 30)\n",
    "delta0P = amp * delta0 * 2 * (-2 / RH / 30 ) * Abar\n",
    "\n",
    "m = 1 + delta0 \n",
    "U = 1 - alpha * delta0 / 2\n",
    "R = 1 - alpha / 2 * (delta0 + w * Abar * delta0P / (1 + 3 * w) )\n",
    "\n",
    "\n",
    "ms = MS(R,m,U,w,alpha,A,rho0, deltaL,L)"
   ]
  },
  {
   "cell_type": "code",
   "execution_count": 26,
   "metadata": {
    "tags": []
   },
   "outputs": [],
   "source": [
    "ms.run_steps(100)"
   ]
  },
  {
   "cell_type": "code",
   "execution_count": 27,
   "metadata": {},
   "outputs": [],
   "source": [
    "import copy\n",
    "ms_std = copy.copy(ms)"
   ]
  },
  {
   "cell_type": "code",
   "execution_count": 28,
   "metadata": {},
   "outputs": [],
   "source": [
    "ms = copy.copy(ms_std)"
   ]
  },
  {
   "cell_type": "code",
   "execution_count": 29,
   "metadata": {
    "tags": []
   },
   "outputs": [
    {
     "name": "stderr",
     "output_type": "stream",
     "text": [
      "<ipython-input-24-28f6ac820322>:43: RuntimeWarning: invalid value encountered in true_divide\n",
      "  * (m + self.Abar * R * (mprime - 2 * m * xiprime)\n",
      "<ipython-input-24-28f6ac820322>:48: RuntimeWarning: invalid value encountered in true_divide\n",
      "  return (self.alpha * xiprime * self.Abar * R + self.Abar * Rprime + R) \\\n",
      "<ipython-input-24-28f6ac820322>:71: RuntimeWarning: invalid value encountered in true_divide\n",
      "  B2 = (mp -2 * m * xip) / (self.alpha * self.Abar * R * xip + R + self.Abar * Rp)\n"
     ]
    },
    {
     "ename": "ZeroDivisionError",
     "evalue": "float division",
     "output_type": "error",
     "traceback": [
      "\u001b[0;31m---------------------------------------------------------------------------\u001b[0m",
      "\u001b[0;31mZeroDivisionError\u001b[0m                         Traceback (most recent call last)",
      "\u001b[0;32m<ipython-input-29-9106d16fa46d>\u001b[0m in \u001b[0;36m<module>\u001b[0;34m\u001b[0m\n\u001b[0;32m----> 1\u001b[0;31m \u001b[0mhm\u001b[0m \u001b[0;34m=\u001b[0m \u001b[0mHM\u001b[0m\u001b[0;34m(\u001b[0m\u001b[0mms_std\u001b[0m\u001b[0;34m)\u001b[0m\u001b[0;34m\u001b[0m\u001b[0;34m\u001b[0m\u001b[0m\n\u001b[0m",
      "\u001b[0;32m<ipython-input-24-28f6ac820322>\u001b[0m in \u001b[0;36m__init__\u001b[0;34m(self, MS)\u001b[0m\n\u001b[1;32m     26\u001b[0m \u001b[0;34m\u001b[0m\u001b[0m\n\u001b[1;32m     27\u001b[0m         \u001b[0mself\u001b[0m\u001b[0;34m.\u001b[0m\u001b[0mq\u001b[0m \u001b[0;34m=\u001b[0m \u001b[0;36m1\u001b[0m\u001b[0;34m\u001b[0m\u001b[0;34m\u001b[0m\u001b[0m\n\u001b[0;32m---> 28\u001b[0;31m         \u001b[0mself\u001b[0m\u001b[0;34m.\u001b[0m\u001b[0mdeltau_i\u001b[0m \u001b[0;34m=\u001b[0m \u001b[0mself\u001b[0m\u001b[0;34m.\u001b[0m\u001b[0mcfl_deltau\u001b[0m\u001b[0;34m(\u001b[0m\u001b[0mself\u001b[0m\u001b[0;34m.\u001b[0m\u001b[0mR\u001b[0m\u001b[0;34m,\u001b[0m \u001b[0mself\u001b[0m\u001b[0;34m.\u001b[0m\u001b[0mm\u001b[0m\u001b[0;34m,\u001b[0m \u001b[0mself\u001b[0m\u001b[0;34m.\u001b[0m\u001b[0mU\u001b[0m\u001b[0;34m,\u001b[0m \u001b[0mself\u001b[0m\u001b[0;34m.\u001b[0m\u001b[0mxi\u001b[0m\u001b[0;34m)\u001b[0m \u001b[0;34m*\u001b[0m \u001b[0;36m0.9\u001b[0m\u001b[0;34m\u001b[0m\u001b[0;34m\u001b[0m\u001b[0m\n\u001b[0m\u001b[1;32m     29\u001b[0m \u001b[0;34m\u001b[0m\u001b[0m\n\u001b[1;32m     30\u001b[0m \u001b[0;34m\u001b[0m\u001b[0m\n",
      "\u001b[0;32m<ipython-input-24-28f6ac820322>\u001b[0m in \u001b[0;36mcfl_deltau\u001b[0;34m(self, R, m, U, xi)\u001b[0m\n\u001b[1;32m    155\u001b[0m         \u001b[0mepsi\u001b[0m \u001b[0;34m=\u001b[0m \u001b[0mself\u001b[0m\u001b[0;34m.\u001b[0m\u001b[0mepsi\u001b[0m\u001b[0;34m(\u001b[0m\u001b[0mR\u001b[0m\u001b[0;34m,\u001b[0m \u001b[0mU\u001b[0m\u001b[0;34m,\u001b[0m \u001b[0mg\u001b[0m\u001b[0;34m,\u001b[0m \u001b[0mxi\u001b[0m\u001b[0;34m,\u001b[0m \u001b[0mr\u001b[0m\u001b[0;34m,\u001b[0m \u001b[0mephi\u001b[0m\u001b[0;34m)\u001b[0m\u001b[0;34m\u001b[0m\u001b[0;34m\u001b[0m\u001b[0m\n\u001b[1;32m    156\u001b[0m         \u001b[0;31m#print((self.alpha * ephi * exi *xiprime ))\u001b[0m\u001b[0;34m\u001b[0m\u001b[0;34m\u001b[0m\u001b[0;34m\u001b[0m\u001b[0m\n\u001b[0;32m--> 157\u001b[0;31m         \u001b[0mdrho\u001b[0m \u001b[0;34m=\u001b[0m \u001b[0mself\u001b[0m\u001b[0;34m.\u001b[0m\u001b[0mdrho\u001b[0m\u001b[0;34m(\u001b[0m\u001b[0mR\u001b[0m\u001b[0;34m,\u001b[0m \u001b[0mm\u001b[0m\u001b[0;34m,\u001b[0m \u001b[0mU\u001b[0m\u001b[0;34m,\u001b[0m \u001b[0mg\u001b[0m\u001b[0;34m,\u001b[0m \u001b[0mxi\u001b[0m\u001b[0;34m,\u001b[0m \u001b[0mRprime\u001b[0m\u001b[0;34m,\u001b[0m \u001b[0mmprime\u001b[0m\u001b[0;34m,\u001b[0m \u001b[0mxiprime\u001b[0m\u001b[0;34m)\u001b[0m\u001b[0;34m\u001b[0m\u001b[0;34m\u001b[0m\u001b[0m\n\u001b[0m\u001b[1;32m    158\u001b[0m         \u001b[0mself\u001b[0m\u001b[0;34m.\u001b[0m\u001b[0mdrho1\u001b[0m \u001b[0;34m=\u001b[0m \u001b[0mdrho\u001b[0m\u001b[0;34m\u001b[0m\u001b[0;34m\u001b[0m\u001b[0m\n\u001b[1;32m    159\u001b[0m         \u001b[0mself\u001b[0m\u001b[0;34m.\u001b[0m\u001b[0mrho1\u001b[0m \u001b[0;34m=\u001b[0m \u001b[0mr\u001b[0m\u001b[0;34m\u001b[0m\u001b[0;34m\u001b[0m\u001b[0m\n",
      "\u001b[0;32m<ipython-input-24-28f6ac820322>\u001b[0m in \u001b[0;36mdrho\u001b[0;34m(self, R, m, U, g, xi, Rp, mp, xip)\u001b[0m\n\u001b[1;32m     70\u001b[0m         \u001b[0mB1p\u001b[0m \u001b[0;34m=\u001b[0m \u001b[0mdfdA\u001b[0m\u001b[0;34m(\u001b[0m\u001b[0mB1\u001b[0m\u001b[0;34m,\u001b[0m\u001b[0mself\u001b[0m\u001b[0;34m.\u001b[0m\u001b[0mdeltaL\u001b[0m\u001b[0;34m,\u001b[0m \u001b[0mself\u001b[0m\u001b[0;34m.\u001b[0m\u001b[0mAbar\u001b[0m\u001b[0;34m,\u001b[0m \u001b[0;36m0\u001b[0m\u001b[0;34m)\u001b[0m\u001b[0;34m\u001b[0m\u001b[0;34m\u001b[0m\u001b[0m\n\u001b[1;32m     71\u001b[0m         \u001b[0mB2\u001b[0m \u001b[0;34m=\u001b[0m \u001b[0;34m(\u001b[0m\u001b[0mmp\u001b[0m \u001b[0;34m-\u001b[0m\u001b[0;36m2\u001b[0m \u001b[0;34m*\u001b[0m \u001b[0mm\u001b[0m \u001b[0;34m*\u001b[0m \u001b[0mxip\u001b[0m\u001b[0;34m)\u001b[0m \u001b[0;34m/\u001b[0m \u001b[0;34m(\u001b[0m\u001b[0mself\u001b[0m\u001b[0;34m.\u001b[0m\u001b[0malpha\u001b[0m \u001b[0;34m*\u001b[0m \u001b[0mself\u001b[0m\u001b[0;34m.\u001b[0m\u001b[0mAbar\u001b[0m \u001b[0;34m*\u001b[0m \u001b[0mR\u001b[0m \u001b[0;34m*\u001b[0m \u001b[0mxip\u001b[0m \u001b[0;34m+\u001b[0m \u001b[0mR\u001b[0m \u001b[0;34m+\u001b[0m \u001b[0mself\u001b[0m\u001b[0;34m.\u001b[0m\u001b[0mAbar\u001b[0m \u001b[0;34m*\u001b[0m \u001b[0mRp\u001b[0m\u001b[0;34m)\u001b[0m\u001b[0;34m\u001b[0m\u001b[0;34m\u001b[0m\u001b[0m\n\u001b[0;32m---> 72\u001b[0;31m         \u001b[0mB2p\u001b[0m \u001b[0;34m=\u001b[0m \u001b[0mrho_prime\u001b[0m\u001b[0;34m(\u001b[0m\u001b[0mR\u001b[0m\u001b[0;34m,\u001b[0m \u001b[0mm\u001b[0m\u001b[0;34m,\u001b[0m \u001b[0mself\u001b[0m\u001b[0;34m.\u001b[0m\u001b[0mAbar\u001b[0m\u001b[0;34m,\u001b[0m \u001b[0mxi\u001b[0m\u001b[0;34m,\u001b[0m \u001b[0mRp\u001b[0m\u001b[0;34m,\u001b[0m \u001b[0mmp\u001b[0m\u001b[0;34m,\u001b[0m \u001b[0mxip\u001b[0m\u001b[0;34m,\u001b[0m \u001b[0mRpp\u001b[0m\u001b[0;34m,\u001b[0m \u001b[0mmpp\u001b[0m\u001b[0;34m,\u001b[0m \u001b[0mxipp\u001b[0m\u001b[0;34m,\u001b[0m \u001b[0mself\u001b[0m\u001b[0;34m.\u001b[0m\u001b[0malpha\u001b[0m\u001b[0;34m)\u001b[0m\u001b[0;34m\u001b[0m\u001b[0;34m\u001b[0m\u001b[0m\n\u001b[0m\u001b[1;32m     73\u001b[0m         \u001b[0;32mreturn\u001b[0m \u001b[0mA1p\u001b[0m \u001b[0;34m+\u001b[0m \u001b[0mB1p\u001b[0m \u001b[0;34m*\u001b[0m \u001b[0mB2\u001b[0m \u001b[0;34m+\u001b[0m \u001b[0mB1\u001b[0m \u001b[0;34m*\u001b[0m \u001b[0mB2p\u001b[0m\u001b[0;34m\u001b[0m\u001b[0;34m\u001b[0m\u001b[0m\n\u001b[1;32m     74\u001b[0m \u001b[0;34m\u001b[0m\u001b[0m\n",
      "\u001b[0;32m_cython_magic_606694c9db33baecdffb457986a8b961.pyx\u001b[0m in \u001b[0;36m_cython_magic_606694c9db33baecdffb457986a8b961.rho_prime\u001b[0;34m()\u001b[0m\n",
      "\u001b[0;32m_cython_magic_606694c9db33baecdffb457986a8b961.pyx\u001b[0m in \u001b[0;36m_cython_magic_606694c9db33baecdffb457986a8b961.rho_prime\u001b[0;34m()\u001b[0m\n",
      "\u001b[0;31mZeroDivisionError\u001b[0m: float division"
     ]
    }
   ],
   "source": [
    "hm = HM(ms_std)"
   ]
  },
  {
   "cell_type": "code",
   "execution_count": 10,
   "metadata": {},
   "outputs": [
    {
     "data": {
      "text/plain": [
       "0.0023247366684936654"
      ]
     },
     "execution_count": 10,
     "metadata": {},
     "output_type": "execute_result"
    }
   ],
   "source": [
    "hm.deltau_i"
   ]
  },
  {
   "cell_type": "code",
   "execution_count": 20,
   "metadata": {
    "tags": []
   },
   "outputs": [],
   "source": [
    "hm.run_steps(100)"
   ]
  },
  {
   "cell_type": "code",
   "execution_count": 21,
   "metadata": {},
   "outputs": [
    {
     "data": {
      "text/plain": [
       "(0.0, 30.0)"
      ]
     },
     "execution_count": 21,
     "metadata": {},
     "output_type": "execute_result"
    },
    {
     "data": {
      "image/png": "[encoded data removed]",
      "text/plain": [
       "<Figure size 432x288 with 1 Axes>"
      ]
     },
     "metadata": {
      "needs_background": "light"
     },
     "output_type": "display_data"
    }
   ],
   "source": [
    "plt.scatter(np.arange(hm.N), hm.U)\n",
    "plt.xlim(0,30)"
   ]
  },
  {
   "cell_type": "code",
   "execution_count": 22,
   "metadata": {},
   "outputs": [
    {
     "data": {
      "text/plain": [
       "(0.0, 300.0)"
      ]
     },
     "execution_count": 22,
     "metadata": {},
     "output_type": "execute_result"
    },
    {
     "data": {
      "image/png": "[encoded data removed]",
      "text/plain": [
       "<Figure size 432x288 with 1 Axes>"
      ]
     },
     "metadata": {
      "needs_background": "light"
     },
     "output_type": "display_data"
    }
   ],
   "source": [
    "        xiprime = dfdA(hm.xi, hm.deltaL, hm.Abar, 0)\n",
    "        Rprime = dfdA(hm.R, hm.deltaL, hm.Abar, 0)\n",
    "        mprime = dfdA(hm.m, hm.deltaL, hm.Abar, 0)\n",
    "\n",
    "\n",
    "        \n",
    "        #xiprime.fill(1)\n",
    "        \n",
    "        g = hm.gamma(hm.R, hm.m, hm.U)\n",
    "        r = hm.rho(hm.R, hm.m, hm.U, hm.xi, g, xiprime, Rprime, mprime)\n",
    "        exi = np.exp(hm.xi)\n",
    "        ephi = hm.ephi(hm.R, hm.U, g, xiprime, Rprime)\n",
    "        elambda = hm.elambda(ephi, exi, xiprime)\n",
    "        epsi = hm.epsi(hm.R, hm.U, g, hm.xi, r, ephi)\n",
    "        plt.scatter(np.arange(hm.N), ephi)\n",
    "        plt.scatter(np.arange(hm.N), epsi)\n",
    "        plt.xlim(0,300)\n",
    "#plt.ylim(0.915,0.93)"
   ]
  },
  {
   "cell_type": "code",
   "execution_count": 23,
   "metadata": {},
   "outputs": [
    {
     "data": {
      "text/plain": [
       "(0.0, 30.0)"
      ]
     },
     "execution_count": 23,
     "metadata": {},
     "output_type": "execute_result"
    },
    {
     "data": {
      "image/png": "[encoded data removed]",
      "text/plain": [
       "<Figure size 432x288 with 1 Axes>"
      ]
     },
     "metadata": {
      "needs_background": "light"
     },
     "output_type": "display_data"
    }
   ],
   "source": [
    "plt.scatter(np.arange(hm.N), hm.R**2 * hm.m * hm.A**2 * np.exp(2*(hm.alpha-1)*hm.xi))\n",
    "plt.xlim(0,30)\n",
    "#plt.ylim(0.915,0.93)"
   ]
  },
  {
   "cell_type": "code",
   "execution_count": 24,
   "metadata": {},
   "outputs": [
    {
     "data": {
      "text/plain": [
       "<matplotlib.collections.PathCollection at 0x7fcf36480160>"
      ]
     },
     "execution_count": 24,
     "metadata": {},
     "output_type": "execute_result"
    },
    {
     "data": {
      "image/png": "[encoded data removed]",
      "text/plain": [
       "<Figure size 432x288 with 1 Axes>"
      ]
     },
     "metadata": {
      "needs_background": "light"
     },
     "output_type": "display_data"
    }
   ],
   "source": [
    "plt.scatter(Abar[0:n-1], ms.U_hm[0:n-1])\n",
    "#plt.xlim(0,30)\n",
    "#plt.ylim(0.915,0.93)"
   ]
  },
  {
   "cell_type": "code",
   "execution_count": 25,
   "metadata": {},
   "outputs": [
    {
     "data": {
      "text/plain": [
       "<matplotlib.collections.PathCollection at 0x7fcf365dc550>"
      ]
     },
     "execution_count": 25,
     "metadata": {},
     "output_type": "execute_result"
    },
    {
     "data": {
      "image/png": "[encoded data removed]",
      "text/plain": [
       "<Figure size 432x288 with 1 Axes>"
      ]
     },
     "metadata": {
      "needs_background": "light"
     },
     "output_type": "display_data"
    }
   ],
   "source": [
    "plt.scatter(Abar, ms.U[:])\n",
    "#plt.xlim(0,30)\n",
    "#plt.ylim(0,1)"
   ]
  },
  {
   "cell_type": "code",
   "execution_count": 26,
   "metadata": {},
   "outputs": [
    {
     "data": {
      "text/plain": [
       "<matplotlib.collections.PathCollection at 0x7fcf3674a610>"
      ]
     },
     "execution_count": 26,
     "metadata": {},
     "output_type": "execute_result"
    },
    {
     "data": {
      "image/png": "[encoded data removed]",
      "text/plain": [
       "<Figure size 432x288 with 1 Axes>"
      ]
     },
     "metadata": {
      "needs_background": "light"
     },
     "output_type": "display_data"
    }
   ],
   "source": [
    "plt.scatter(Abar, ms.U[:])\n",
    "#plt.xlim(0,30)\n",
    "#plt.ylim(0,1)"
   ]
  },
  {
   "cell_type": "code",
   "execution_count": 27,
   "metadata": {},
   "outputs": [
    {
     "data": {
      "text/plain": [
       "<matplotlib.collections.PathCollection at 0x7fcf362b9af0>"
      ]
     },
     "execution_count": 27,
     "metadata": {},
     "output_type": "execute_result"
    },
    {
     "data": {
      "image/png": "[encoded data removed]",
      "text/plain": [
       "<Figure size 432x288 with 1 Axes>"
      ]
     },
     "metadata": {
      "needs_background": "light"
     },
     "output_type": "display_data"
    }
   ],
   "source": [
    "plt.scatter(Abar, ms.U[:])\n",
    "#plt.xlim(0,30)\n",
    "#plt.ylim(0,1)"
   ]
  },
  {
   "cell_type": "code",
   "execution_count": null,
   "metadata": {},
   "outputs": [],
   "source": []
  }
 ],
 "metadata": {
  "kernelspec": {
   "display_name": "Python 3",
   "language": "python",
   "name": "python3"
  },
  "language_info": {
   "codemirror_mode": {
    "name": "ipython",
    "version": 3
   },
   "file_extension": ".py",
   "mimetype": "text/x-python",
   "name": "python",
   "nbconvert_exporter": "python",
   "pygments_lexer": "ipython3",
   "version": "3.8.5"
  }
 },
 "nbformat": 4,
 "nbformat_minor": 5
}
