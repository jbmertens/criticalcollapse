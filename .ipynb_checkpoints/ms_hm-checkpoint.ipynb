{
 "cells": [
  {
   "cell_type": "code",
   "execution_count": 1,
   "metadata": {},
   "outputs": [],
   "source": [
    "import numpy as np\n",
    "import scipy.integrate as integ\n",
    "import matplotlib.pyplot as plt\n",
    "import matplotlib as mpl\n",
    "mpl.rc('xtick', direction='in', top=True)\n",
    "mpl.rc('ytick', direction='in', right=True)\n",
    "mpl.rc('xtick.minor', visible=True)\n",
    "mpl.rc('ytick.minor', visible=True)\n",
    "import cython\n",
    "%load_ext Cython"
   ]
  },
  {
   "cell_type": "code",
   "execution_count": 2,
   "metadata": {},
   "outputs": [],
   "source": [
    "%%cython\n",
    "\n",
    "import numpy as np\n",
    "import cython\n",
    "cimport numpy as np\n",
    "\n",
    "cimport cython\n",
    "ctypedef np.double_t DTYPE_t\n",
    "\n",
    "from libc.math cimport exp\n",
    "from libc.math cimport sqrt\n",
    "\n",
    "from cython.parallel import prange\n",
    "\n",
    "@cython.boundscheck(False)  # Deactivate bounds checking\n",
    "cpdef dfdA(np.ndarray arr, double deltaL, double [::1] L, double c = 1, double bd = 0):\n",
    "    cdef int size = arr.shape[0]\n",
    "    cdef double [:] f = arr\n",
    "    cdef double [:] res =  np.zeros(size, dtype=np.double)\n",
    "    res[0] = bd\n",
    "    #res[0] = (f[1] - f[0]) /( deltaL)  * c \n",
    "    cdef int i\n",
    "    for i in prange(1, size - 1,nogil=True):\n",
    "        res[i] = (f[i+1] - f[i-1]) /( 2*deltaL) * c \n",
    "    #res[size - 1] = (25/12*f[-1] - 4*f[-2] + 3*f[-3] - 4/3*f[-4] + 1/4*f[-5]) / deltaL * exp(-L[size-1]) * c\n",
    "    res[size - 1] = (f[-1] - f[-2]) / deltaL * c\n",
    "    return np.asarray(res)\n",
    "\n",
    "\n",
    "@cython.boundscheck(False)  # Deactivate bounds checking\n",
    "cpdef ddfddA(np.ndarray arr, double deltaL, double [::1] L, double c = 1, double bd = 0):\n",
    "    cdef int size = arr.shape[0]\n",
    "    cdef double [:] f = arr\n",
    "    cdef double [:] res =  np.zeros(size, dtype=np.double)\n",
    "    #res[0] = bd\n",
    "    res[0] = (f[1] + f[1] - 2 * f[0]) /( deltaL**2)  * c**2 \n",
    "    cdef int i\n",
    "    for i in prange(1, size - 1,nogil=True):\n",
    "        res[i] = (f[i+1] + f[i-1] - 2* f[i]) /( deltaL**2) * c**2 \n",
    "    #res[size - 1] = (25/12*f[-1] - 4*f[-2] + 3*f[-3] - 4/3*f[-4] + 1/4*f[-5]) / deltaL * exp(-L[size-1]) * c\n",
    "    res[size - 1] = (f[-3] + f[-1] - 2*f[-2]) / deltaL**2 * c**2\n",
    "    return np.asarray(res)\n"
   ]
  },
  {
   "cell_type": "code",
   "execution_count": 3,
   "metadata": {},
   "outputs": [],
   "source": [
    "class MS:\n",
    "    \n",
    "    def __init__(self, R, m, U, w, alpha, A, rho0, deltaL, L):\n",
    "        self.R = R\n",
    "        self.m = m\n",
    "        self.U = U\n",
    "        self.w = w\n",
    "        self.deltaL = deltaL\n",
    "        self.L = L\n",
    "        self.A = A\n",
    "        self.alpha = alpha\n",
    "        \n",
    "        self.t0 = self.alpha * np.sqrt(3 / (8*np.pi*rho0))\n",
    "        self.t = t0\n",
    "        self.xi = 0\n",
    "\n",
    "        self.RH = self.t0 / self.alpha\n",
    "        self.Abar = self.A / self.RH\n",
    "        \n",
    "        # initialize null geodesic and MS variables\n",
    "        \n",
    "        return\n",
    "    def gamma(self, R, m, U): \n",
    "        return np.sqrt(np.exp(2 * (1 - self.alpha) * self.xi) \n",
    "                       + (self.Abar * R)**2 * (U**2 - m))\n",
    "    def P(self, rho) : \n",
    "        return self.w * rho\n",
    "    def rho(self, R, m):\n",
    "        return m + (dfdA(m, self.deltaL, self.L,1,0) * self.Abar * R)  \\\n",
    "            / (3* (self.Abar * dfdA(R, self.deltaL, self.L, 1, 0) \n",
    "                  + R ))\n",
    "    def psi(self, rho, p) : \n",
    "        return 0 + \\\n",
    "        integ.cumtrapz(- dfdA(p, self.deltaL, self.L, 1, 0) / (rho + p), self.A, initial=0)\n",
    "    \n",
    "    def Pprime(self, R, m):\n",
    "        mprime = dfdA(m, self.deltaL, self.L, 1, 0)\n",
    "        Rprime = dfdA(R, self.deltaL, self.L, 1, 0)\n",
    "        mpp = ddfddA(m, self.deltaL, self.L, 1, 0)\n",
    "        Rpp = ddfddA(R, self.deltaL, self.L, 1, 0)\n",
    "        return self.w * (4 * self.Abar**2 * mprime * Rprime**2 \n",
    "                + R**2 * (4 * mprime + self.Abar * mpp)\n",
    "               + self.Abar * R * (self.Abar * Rprime * mpp + mprime * (6 * Rprime - A * Rpp))) \\\n",
    "                / (3 * (R + self.Abar * Rprime)**2)\n",
    "    def k_coeffs(self, R, m, U) :\n",
    "        g = self.gamma(R, m, U)\n",
    "        r = self.rho(R, m)\n",
    "        p = self.P(r)\n",
    "  \n",
    "        ep = np.exp(self.psi(r, p))\n",
    "        #print(g,r,p,ep)\n",
    "        kR = self.alpha * R * (U * ep - 1)\n",
    "        km = 2 * m - 3 * self.alpha * U * ep * (p + m)\n",
    "        #kU = U - self.alpha * ep * \\\n",
    "        #    ( g**2 * dfdA(p, self.deltaL, self.L, 1, 0) / \n",
    "        #     (self.Abar * R * (R + self.Abar * dfdA(R, self.deltaL, self.L, 1, 0)) * (r + p)) \n",
    "        #    + (2 * U**2 + m + 3 * p) / 2) \n",
    "        kU = U - self.alpha * ep * \\\n",
    "            (   g**2 * np.concatenate(([self.w\n",
    "                            * ((m[1] + m[1] - 2 * m[0]) /( self.deltaL**2)) *  (1**2 * 5/3)], self.Pprime(R, m)[1:] / \n",
    "             (self.Abar[1:])) ) / (R * (R + self.Abar * dfdA(R, self.deltaL, self.L, 1, 0)) * (r + p))  \n",
    "            + (2 * U**2 + m + 3 * p) / 2) \n",
    "        #kU = U - self.alpha * ep * \\\n",
    "        #    (   g**2 * np.concatenate(([self.w\n",
    "        #                    * ((m[1] + m[1] - 2 * m[0]) /( np.exp(2*L[0]))) *  (5/3)], dfdA(p, self.deltaL, self.L, 1, 0 )[1:] / \n",
    "        #     (self.Abar[1:])) ) / (R * (R + self.Abar * dfdA(R, self.deltaL, self.L, 1, 0)) * (r + p))  \n",
    "        #    + (2 * U**2 + m + 3 * p) / 2) \n",
    "        return kR, km, kU\n",
    "    \n",
    "    def run_steps(self,n_steps) :\n",
    "        step = 0\n",
    "        \n",
    "        deltau = (self.A[1] - self.A[0]) / 1 * 0.1\n",
    "        while(step < n_steps) :\n",
    "            deltau = self.cfl_deltau(R, m, U) * 0.8\n",
    "            kR1, km1, kU1 = self.k_coeffs(self.R, self.m, self.U)\n",
    "            kR2, km2, kU2 = self.k_coeffs(self.R + deltau/2*kR1, self.m + deltau/2*km1, self.U + deltau/2*kU1)\n",
    "            kR3, km3, kU3 = self.k_coeffs(self.R + deltau/2*kR2, self.m + deltau/2*km2, self.U + deltau/2*kU2)\n",
    "            kR4, km4, kU4 = self.k_coeffs(self.R + deltau*kR3, self.m + deltau*km3, self.U + deltau*kU3)\n",
    "\n",
    "    \n",
    "            self.R = self.R + deltau/6*(kR1 + 2*kR2 + 2*kR3 + kR4)\n",
    "            self.m = self.m + deltau/6*(km1 + 2*km2 + 2*km3 + km4)\n",
    "            self.U = self.U + deltau/6*(kU1 + 2*kU2 + 2*kU3 + kU4)\n",
    "\n",
    "            step+=1\n",
    "            self.xi += deltau\n",
    "  \n",
    "    def cfl_deltau(self,R, m, U):\n",
    "        a = np.exp(self.alpha * self.xi)\n",
    "        H = np.exp(-self.xi) / self.RH\n",
    "        \n",
    "        g = self.gamma(R, m, U)\n",
    "        r = self.rho(R, m)\n",
    "        p = self.P(r)\n",
    "  \n",
    "        ep = np.exp(self.psi(r, p))\n",
    "        el = (a * H * self.RH * g) / (dfdA(a * self.A * self.R, self.deltaL, self.L, 1, 1) / 1) \n",
    "        #print(el, ep.min())\n",
    "        return (np.log(1 + el / ep / np.exp(self.xi)  \n",
    "                       * self.alpha * np.concatenate( ([1e10],(Abar[1:] - Abar[0:-1])) ) / np.sqrt(self.w))).min()\n",
    "        #return (np.log(1 + el / ep / np.exp(self.xi)  \n",
    "        #               * self.alpha * (Abar[2] - Abar[1]) / np.sqrt(self.w))).min()"
   ]
  },
  {
   "cell_type": "code",
   "execution_count": 4,
   "metadata": {},
   "outputs": [],
   "source": [
    "n=500\n",
    "\n",
    "L = np.linspace(-6, 1.5, n)\n",
    "A = np.exp(L)\n",
    "A = np.linspace(0, np.exp(1.5), n+1)[1:]\n",
    "A = np.linspace(0, np.exp(1.5), n)\n",
    "#A = np.concatenate( ([0], A))\n",
    "\n",
    "w = 1 / 3\n",
    "alpha = 1/2 # alpha = 1/2 for w = 1/3\n",
    "\n",
    "\n",
    "rho0 = 1\n",
    "t0 = alpha * np.sqrt(3 / (8*np.pi*rho0))\n",
    "RH = t0 / alpha\n",
    "Abar = A / RH\n",
    "\n",
    "deltaL = Abar[2] - Abar[1]\n",
    "\n",
    "deltaA = Abar[1] - Abar[0]\n",
    "\n",
    "amp = 0.3\n",
    "delta0 = amp * np.exp(-2 * Abar**2 / RH / 30)\n",
    "\n",
    "m = 1 + delta0 \n",
    "U = 1 - alpha * delta0 / 2\n",
    "R = 1 - alpha / 2 * (delta0 + w * Abar * dfdA(m, deltaL, L, RH) / (1 + 3 * w) )\n",
    "\n",
    "\n",
    "ms = MS(R,m,U,w,alpha,A,rho0, deltaL,L)"
   ]
  },
  {
   "cell_type": "code",
   "execution_count": 5,
   "metadata": {
    "tags": []
   },
   "outputs": [
    {
     "data": {
      "text/plain": [
       "0.026330496766305125"
      ]
     },
     "execution_count": 5,
     "metadata": {},
     "output_type": "execute_result"
    }
   ],
   "source": [
    "ms.cfl_deltau(R, m, U)"
   ]
  },
  {
   "cell_type": "code",
   "execution_count": 6,
   "metadata": {
    "tags": []
   },
   "outputs": [],
   "source": [
    "ms.run_steps(200)"
   ]
  },
  {
   "cell_type": "code",
   "execution_count": 7,
   "metadata": {},
   "outputs": [
    {
     "data": {
      "text/plain": [
       "(0.0, 30.0)"
      ]
     },
     "execution_count": 7,
     "metadata": {},
     "output_type": "execute_result"
    },
    {
     "data": {
      "image/png": "[encoded data removed]",
      "text/plain": [
       "<Figure size 432x288 with 1 Axes>"
      ]
     },
     "metadata": {
      "needs_background": "light"
     },
     "output_type": "display_data"
    }
   ],
   "source": [
    "plt.scatter(np.arange(n), ms.U[:])\n",
    "plt.xlim(0,30)\n",
    "#plt.ylim(0.915,0.93)"
   ]
  },
  {
   "cell_type": "code",
   "execution_count": 8,
   "metadata": {},
   "outputs": [
    {
     "data": {
      "text/plain": [
       "<matplotlib.collections.PathCollection at 0x7fb97f4a6940>"
      ]
     },
     "execution_count": 8,
     "metadata": {},
     "output_type": "execute_result"
    },
    {
     "data": {
      "image/png": "[encoded data removed]",
      "text/plain": [
       "<Figure size 432x288 with 1 Axes>"
      ]
     },
     "metadata": {
      "needs_background": "light"
     },
     "output_type": "display_data"
    }
   ],
   "source": [
    "plt.scatter(np.arange(n), ms.gamma(ms.R, ms.m, ms.U))\n",
    "#plt.xlim(0,30)\n",
    "#plt.ylim(0.915,0.93)"
   ]
  },
  {
   "cell_type": "code",
   "execution_count": 9,
   "metadata": {},
   "outputs": [
    {
     "data": {
      "text/plain": [
       "<matplotlib.collections.PathCollection at 0x7fb98031caf0>"
      ]
     },
     "execution_count": 9,
     "metadata": {},
     "output_type": "execute_result"
    },
    {
     "data": {
      "image/png": "[encoded data removed]",
      "text/plain": [
       "<Figure size 432x288 with 1 Axes>"
      ]
     },
     "metadata": {
      "needs_background": "light"
     },
     "output_type": "display_data"
    }
   ],
   "source": [
    "plt.scatter(np.arange(n), ms.psi(ms.rho(ms.R, ms.m), ms.w * ms.rho(ms.R, ms.m) ) )\n"
   ]
  },
  {
   "cell_type": "code",
   "execution_count": 10,
   "metadata": {},
   "outputs": [
    {
     "data": {
      "text/plain": [
       "(0.0, 30.0)"
      ]
     },
     "execution_count": 10,
     "metadata": {},
     "output_type": "execute_result"
    },
    {
     "data": {
      "image/png": "[encoded data removed]",
      "text/plain": [
       "<Figure size 432x288 with 1 Axes>"
      ]
     },
     "metadata": {
      "needs_background": "light"
     },
     "output_type": "display_data"
    }
   ],
   "source": [
    "plt.scatter(np.arange(n), ms.rho(ms.R, ms.m))\n",
    "plt.xlim(0,30)\n",
    "#plt.ylim(0.915,0.93)"
   ]
  },
  {
   "cell_type": "code",
   "execution_count": 11,
   "metadata": {},
   "outputs": [
    {
     "data": {
      "text/plain": [
       "(0.0, 10.0)"
      ]
     },
     "execution_count": 11,
     "metadata": {},
     "output_type": "execute_result"
    },
    {
     "data": {
      "image/png": "[encoded data removed]",
      "text/plain": [
       "<Figure size 432x288 with 1 Axes>"
      ]
     },
     "metadata": {
      "needs_background": "light"
     },
     "output_type": "display_data"
    }
   ],
   "source": [
    "plt.plot(Abar, ms.rho(ms.R, ms.m) )\n",
    "plt.yscale('log')\n",
    "plt.ylim(10**-1,10**4)\n",
    "plt.xlim(0,10)"
   ]
  },
  {
   "cell_type": "code",
   "execution_count": 12,
   "metadata": {},
   "outputs": [
    {
     "data": {
      "text/plain": [
       "[<matplotlib.lines.Line2D at 0x7fb9805062e0>]"
      ]
     },
     "execution_count": 12,
     "metadata": {},
     "output_type": "execute_result"
    },
    {
     "data": {
      "image/png": "[encoded data removed]",
      "text/plain": [
       "<Figure size 432x288 with 1 Axes>"
      ]
     },
     "metadata": {
      "needs_background": "light"
     },
     "output_type": "display_data"
    }
   ],
   "source": [
    "plt.plot(A[:], ms.U[:] )\n"
   ]
  },
  {
   "cell_type": "code",
   "execution_count": 13,
   "metadata": {},
   "outputs": [
    {
     "data": {
      "text/plain": [
       "(0.0, 1.0)"
      ]
     },
     "execution_count": 13,
     "metadata": {},
     "output_type": "execute_result"
    },
    {
     "data": {
      "image/png": "[encoded data removed]",
      "text/plain": [
       "<Figure size 432x288 with 1 Axes>"
      ]
     },
     "metadata": {
      "needs_background": "light"
     },
     "output_type": "display_data"
    }
   ],
   "source": [
    "plt.plot(A, ms.R**2 * ms.m * ms.Abar**2 * np.exp(2 * (ms.alpha-1) * ms.xi))\n",
    "\n",
    "plt.xlim(0,1)"
   ]
  },
  {
   "cell_type": "code",
   "execution_count": 14,
   "metadata": {},
   "outputs": [
    {
     "data": {
      "text/plain": [
       "[<matplotlib.lines.Line2D at 0x7fb97f4e24f0>]"
      ]
     },
     "execution_count": 14,
     "metadata": {},
     "output_type": "execute_result"
    },
    {
     "data": {
      "image/png": "[encoded data removed]",
      "text/plain": [
       "<Figure size 432x288 with 1 Axes>"
      ]
     },
     "metadata": {
      "needs_background": "light"
     },
     "output_type": "display_data"
    }
   ],
   "source": [
    "plt.plot( ms.U[:])\n",
    "#plt.xlim(0,50)\n",
    "#plt.ylim(0.87,0.92)"
   ]
  },
  {
   "cell_type": "code",
   "execution_count": 15,
   "metadata": {},
   "outputs": [
    {
     "data": {
      "text/plain": [
       "[<matplotlib.lines.Line2D at 0x7fb97f4cefa0>]"
      ]
     },
     "execution_count": 15,
     "metadata": {},
     "output_type": "execute_result"
    },
    {
     "data": {
      "image/png": "[encoded data removed]",
      "text/plain": [
       "<Figure size 432x288 with 1 Axes>"
      ]
     },
     "metadata": {
      "needs_background": "light"
     },
     "output_type": "display_data"
    }
   ],
   "source": [
    "plt.plot(A[20:], ms.U[20:])\n"
   ]
  },
  {
   "cell_type": "code",
   "execution_count": 16,
   "metadata": {},
   "outputs": [
    {
     "data": {
      "text/plain": [
       "[<matplotlib.lines.Line2D at 0x7fb97efad7f0>]"
      ]
     },
     "execution_count": 16,
     "metadata": {},
     "output_type": "execute_result"
    },
    {
     "data": {
      "image/png": "[encoded data removed]",
      "text/plain": [
       "<Figure size 432x288 with 1 Axes>"
      ]
     },
     "metadata": {
      "needs_background": "light"
     },
     "output_type": "display_data"
    }
   ],
   "source": [
    "plt.plot(A[5:], (dfdA(ms.U[5:], ms.deltaL, ms.L, ms.RH) ))"
   ]
  },
  {
   "cell_type": "code",
   "execution_count": 17,
   "metadata": {},
   "outputs": [
    {
     "ename": "NameError",
     "evalue": "name 'HM' is not defined",
     "output_type": "error",
     "traceback": [
      "\u001b[0;31m---------------------------------------------------------------------------\u001b[0m",
      "\u001b[0;31mNameError\u001b[0m                                 Traceback (most recent call last)",
      "\u001b[0;32m<ipython-input-17-5106c39e61ec>\u001b[0m in \u001b[0;36m<module>\u001b[0;34m\u001b[0m\n\u001b[0;32m----> 1\u001b[0;31m \u001b[0mtest\u001b[0m \u001b[0;34m=\u001b[0m \u001b[0mHM\u001b[0m\u001b[0;34m(\u001b[0m\u001b[0mR\u001b[0m\u001b[0;34m,\u001b[0m \u001b[0mm\u001b[0m\u001b[0;34m,\u001b[0m \u001b[0mU\u001b[0m\u001b[0;34m,\u001b[0m \u001b[0mvs2\u001b[0m\u001b[0;34m,\u001b[0m \u001b[0mdeltaL\u001b[0m\u001b[0;34m,\u001b[0m \u001b[0mL\u001b[0m\u001b[0;34m)\u001b[0m\u001b[0;34m\u001b[0m\u001b[0;34m\u001b[0m\u001b[0m\n\u001b[0m",
      "\u001b[0;31mNameError\u001b[0m: name 'HM' is not defined"
     ]
    }
   ],
   "source": [
    "test = HM(R, m, U, vs2, deltaL, L)"
   ]
  },
  {
   "cell_type": "code",
   "execution_count": null,
   "metadata": {},
   "outputs": [],
   "source": [
    "#@title ICs that work\n",
    "\n",
    "n=500\n",
    "\n",
    "L = np.linspace(-2, 0.3, n)\n",
    "A = 10**L\n",
    "eps = 0 # some small number for numerical stability\n",
    "\n",
    "deltaL = L[1] - L[0]\n",
    "deltaA = A[1] - A[0]\n",
    "deltau = np.min(deltaA)/5\n",
    "\n",
    "\n",
    "vs2 = 0.05\n",
    "# #np.sinh(A) + 1 maybe did something\n",
    "g = 1 + 0.01*np.exp(A)  # g -> 1 at A=0\n",
    "c = 0.2*A - 0.01*A**2 # 0.1*np.sqrt(A) - 0.025*A + 0.0005*A*np.exp(-(A-0.2)**2/.2**2) # c -> 0 at A=0 ✓\n",
    "\n",
    "U = -np.sqrt(g**2 - 1 + 2*c)\n",
    "m = integ.cumtrapz(np.concatenate(([1], g - vs2*U)), np.concatenate(([0], A))) # m=0 at A=0\n",
    "R = m/c\n"
   ]
  },
  {
   "cell_type": "code",
   "execution_count": null,
   "metadata": {},
   "outputs": [],
   "source": [
    "def gamma(R,m,U): \n",
    "    return np.sqrt(1+U**2-2*m / R)\n",
    "\n",
    "def P(R,m,U,vs2) : \n",
    "    return vs2*rho(R,m,U)\n",
    "\n",
    "def rho(R,m,U) : \n",
    "    return (gamma(R,m,U) + U) / (4*np.pi*R**2*dfdA(R, deltaL, L))\n",
    "\n",
    "def psi(R,m,U,g,r,p) : \n",
    "  return np.log(g[-1]+U[-1]) + integ.cumtrapz(dfdA(U, deltaL, L)/g + m/(4*np.pi*r*(R**4)*g) + p/(r*g*R), A, initial=0)\n",
    "\n",
    "def k_coeffs(R,m,U,vs2) :\n",
    "  g = gamma(R,m,U)\n",
    "  r = rho(R,m,U)\n",
    "  p = P(R,m,U,vs2)\n",
    "  \n",
    "  ep = np.exp(psi(R,m,U,g,r,p))\n",
    "\n",
    "  #print(ep)\n",
    "  kR = ep*U\n",
    "  km = -1/ep*4*np.pi*R**2*p*U\n",
    "  kU = -ep/(1-vs2)*( 4*np.pi*g*R**2*r/(r + p)*dfdA(p, deltaL, L) + (m + 4*np.pi*R**3*p)/R**2 ) \\\n",
    "    - ep*vs2/(1-vs2)*(4*np.pi*r*R**2*dfdA(U, deltaL, L) + 2*U*g/R)\n",
    "  #kU = 1\n",
    "  return kR, km, kU\n",
    "\n",
    "def cfl_deltau(R,m,U,vs2) :\n",
    "    g = gamma(R,m,U)\n",
    "    r = rho(R,m,U)\n",
    "    p = P(R,m,U,vs2)\n",
    "    ep = np.exp(psi(R,m,U,g,r,p))\n",
    "    Rp = ep * U\n",
    "    return np.abs(Rp / (U + g) / ep).min() * (1/ np.sqrt(1/3) - 1 )\n"
   ]
  }
 ],
 "metadata": {
  "kernelspec": {
   "display_name": "Python 3",
   "language": "python",
   "name": "python3"
  },
  "language_info": {
   "codemirror_mode": {
    "name": "ipython",
    "version": 3
   },
   "file_extension": ".py",
   "mimetype": "text/x-python",
   "name": "python",
   "nbconvert_exporter": "python",
   "pygments_lexer": "ipython3",
   "version": "3.8.5"
  }
 },
 "nbformat": 4,
 "nbformat_minor": 5
}
