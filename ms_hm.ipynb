{
 "cells": [
  {
   "cell_type": "code",
   "execution_count": 1,
   "id": "d737068b-b9ad-4499-ae52-4156c34947f0",
   "metadata": {},
   "outputs": [],
   "source": [
    "import numpy as np\n",
    "import scipy.integrate as integ\n",
    "import matplotlib.pyplot as plt\n",
    "import matplotlib as mpl\n",
    "mpl.rc('xtick', direction='in', top=True)\n",
    "mpl.rc('ytick', direction='in', right=True)\n",
    "mpl.rc('xtick.minor', visible=True)\n",
    "mpl.rc('ytick.minor', visible=True)\n",
    "import cython\n",
    "%load_ext Cython"
   ]
  },
  {
   "cell_type": "code",
   "execution_count": 2,
   "id": "b0e16acb-8a2c-48b4-9510-d864c09618a3",
   "metadata": {},
   "outputs": [],
   "source": [
    "%%cython\n",
    "\n",
    "import numpy as np\n",
    "import cython\n",
    "cimport numpy as np\n",
    "\n",
    "cimport cython\n",
    "ctypedef np.double_t DTYPE_t\n",
    "\n",
    "from libc.math cimport exp\n",
    "from libc.math cimport sqrt\n",
    "\n",
    "from cython.parallel import prange\n",
    "\n",
    "@cython.boundscheck(False)  # Deactivate bounds checking\n",
    "cpdef dfdA(np.ndarray arr, double deltaL, double [::1] L, double c = 1, double bd = 0):\n",
    "    cdef int size = arr.shape[0]\n",
    "    cdef double [:] f = arr\n",
    "    cdef double [:] res =  np.zeros(size, dtype=np.double)\n",
    "    res[0] = bd\n",
    "    #res[0] = (f[1] - f[0]) /( deltaL)  * c \n",
    "    cdef int i\n",
    "    for i in prange(1, size - 1,nogil=True):\n",
    "        res[i] = (f[i+1] - f[i-1]) /( 2*deltaL) * c \n",
    "    #res[size - 1] = (25/12*f[-1] - 4*f[-2] + 3*f[-3] - 4/3*f[-4] + 1/4*f[-5]) / deltaL * exp(-L[size-1]) * c\n",
    "    res[size - 1] = (f[-1] - f[-2]) / deltaL * c\n",
    "    return np.asarray(res)\n",
    "\n",
    "\n",
    "@cython.boundscheck(False)  # Deactivate bounds checking\n",
    "cpdef ddfddA(np.ndarray arr, double deltaL, double [::1] L, double c = 1, double bd = 0):\n",
    "    cdef int size = arr.shape[0]\n",
    "    cdef double [:] f = arr\n",
    "    cdef double [:] res =  np.zeros(size, dtype=np.double)\n",
    "    #res[0] = bd\n",
    "    res[0] = (f[1] + f[1] - 2 * f[0]) /( deltaL**2)  * c**2 \n",
    "    cdef int i\n",
    "    for i in prange(1, size - 1,nogil=True):\n",
    "        res[i] = (f[i+1] + f[i-1] - 2* f[i]) /( deltaL**2) * c**2 \n",
    "    #res[size - 1] = (25/12*f[-1] - 4*f[-2] + 3*f[-3] - 4/3*f[-4] + 1/4*f[-5]) / deltaL * exp(-L[size-1]) * c\n",
    "    res[size - 1] = (f[-3] + f[-1] - 2*f[-2]) / deltaL**2 * c**2\n",
    "    return np.asarray(res)\n"
   ]
  },
  {
   "cell_type": "code",
   "execution_count": 5,
   "id": "aad348d3-7694-40f6-b330-8717b92659a6",
   "metadata": {},
   "outputs": [],
   "source": [
    "class MS:\n",
    "    \n",
    "    def __init__(self, R, m, U, w, alpha, A, rho0, deltaL, L):\n",
    "        self.R = R\n",
    "        self.m = m\n",
    "        self.U = U\n",
    "        self.w = w\n",
    "        self.deltaL = deltaL\n",
    "        self.L = L\n",
    "        self.A = A\n",
    "        self.alpha = alpha\n",
    "        \n",
    "        self.t0 = self.alpha * np.sqrt(3 / (8*np.pi*rho0))\n",
    "        self.t = t0\n",
    "        self.xi = 0\n",
    "\n",
    "        self.RH = self.t0 / self.alpha\n",
    "        self.Abar = self.A / self.RH\n",
    "        \n",
    "        # initialize null geodesic and MS variables\n",
    "        \n",
    "        return\n",
    "    def gamma(self, R, m, U): \n",
    "        return np.sqrt(np.exp(2 * (1 - self.alpha) * self.xi) \n",
    "                       + (self.Abar * R)**2 * (U**2 - m))\n",
    "    def P(self, rho) : \n",
    "        return self.w * rho\n",
    "    def rho(self, R, m):\n",
    "        return m + (dfdA(m, self.deltaL, self.L,1,0) * self.Abar * R)  \\\n",
    "            / (3* (self.Abar * dfdA(R, self.deltaL, self.L, 1, 0) \n",
    "                  + R ))\n",
    "    def psi(self, rho, p) : \n",
    "        return 0 + \\\n",
    "        integ.cumtrapz(- dfdA(p, self.deltaL, self.L, 1, 0) / (rho + p), self.A, initial=0)\n",
    "    \n",
    "    def Pprime(self, R, m):\n",
    "        mprime = dfdA(m, self.deltaL, self.L, 1, 0)\n",
    "        Rprime = dfdA(R, self.deltaL, self.L, 1, 0)\n",
    "        mpp = ddfddA(m, self.deltaL, self.L, 1, 0)\n",
    "        Rpp = ddfddA(R, self.deltaL, self.L, 1, 0)\n",
    "        return self.w * (4 * self.Abar**2 * mprime * Rprime**2 \n",
    "                + R**2 * (4 * mprime + self.Abar * mpp)\n",
    "               + self.Abar * R * (self.Abar * Rprime * mpp + mprime * (6 * Rprime - A * Rpp))) \\\n",
    "                / (3 * (R + self.Abar * Rprime)**2)\n",
    "    def k_coeffs(self, R, m, U) :\n",
    "        g = self.gamma(R, m, U)\n",
    "        r = self.rho(R, m)\n",
    "        p = self.P(r)\n",
    "  \n",
    "        ep = np.exp(self.psi(r, p))\n",
    "        #print(g,r,p,ep)\n",
    "        kR = self.alpha * R * (U * ep - 1)\n",
    "        km = 2 * m - 3 * self.alpha * U * ep * (p + m)\n",
    "        #kU = U - self.alpha * ep * \\\n",
    "        #    ( g**2 * dfdA(p, self.deltaL, self.L, 1, 0) / \n",
    "        #     (self.Abar * R * (R + self.Abar * dfdA(R, self.deltaL, self.L, 1, 0)) * (r + p)) \n",
    "        #    + (2 * U**2 + m + 3 * p) / 2) \n",
    "        kU = U - self.alpha * ep * \\\n",
    "            (   g**2 * np.concatenate(([self.w\n",
    "                            * ((m[1] + m[1] - 2 * m[0]) /( self.deltaL**2)) *  (1**2 * 5/3)], self.Pprime(R, m)[1:] / \n",
    "             (self.Abar[1:])) ) / (R * (R + self.Abar * dfdA(R, self.deltaL, self.L, 1, 0)) * (r + p))  \n",
    "            + (2 * U**2 + m + 3 * p) / 2) \n",
    "        #kU = U - self.alpha * ep * \\\n",
    "        #    (   g**2 * np.concatenate(([self.w\n",
    "        #                    * ((m[1] + m[1] - 2 * m[0]) /( np.exp(2*L[0]))) *  (5/3)], dfdA(p, self.deltaL, self.L, 1, 0 )[1:] / \n",
    "        #     (self.Abar[1:])) ) / (R * (R + self.Abar * dfdA(R, self.deltaL, self.L, 1, 0)) * (r + p))  \n",
    "        #    + (2 * U**2 + m + 3 * p) / 2) \n",
    "        return kR, km, kU\n",
    "    \n",
    "    def run_steps(self,n_steps) :\n",
    "        step = 0\n",
    "        \n",
    "        deltau = (self.A[1] - self.A[0]) / 1 * 0.1\n",
    "        while(step < n_steps) :\n",
    "            deltau = self.cfl_deltau(R, m, U) * 0.8\n",
    "            kR1, km1, kU1 = self.k_coeffs(self.R, self.m, self.U)\n",
    "            kR2, km2, kU2 = self.k_coeffs(self.R + deltau/2*kR1, self.m + deltau/2*km1, self.U + deltau/2*kU1)\n",
    "            kR3, km3, kU3 = self.k_coeffs(self.R + deltau/2*kR2, self.m + deltau/2*km2, self.U + deltau/2*kU2)\n",
    "            kR4, km4, kU4 = self.k_coeffs(self.R + deltau*kR3, self.m + deltau*km3, self.U + deltau*kU3)\n",
    "\n",
    "    \n",
    "            self.R = self.R + deltau/6*(kR1 + 2*kR2 + 2*kR3 + kR4)\n",
    "            self.m = self.m + deltau/6*(km1 + 2*km2 + 2*km3 + km4)\n",
    "            self.U = self.U + deltau/6*(kU1 + 2*kU2 + 2*kU3 + kU4)\n",
    "\n",
    "            step+=1\n",
    "            self.xi += deltau\n",
    "  \n",
    "    def cfl_deltau(self,R, m, U):\n",
    "        a = np.exp(self.alpha * self.xi)\n",
    "        H = np.exp(-self.xi) / self.RH\n",
    "        \n",
    "        g = self.gamma(R, m, U)\n",
    "        r = self.rho(R, m)\n",
    "        p = self.P(r)\n",
    "  \n",
    "        ep = np.exp(self.psi(r, p))\n",
    "        el = (a * H * self.RH * g) / (dfdA(a * self.A * self.R, self.deltaL, self.L, 1, 1) / 1) \n",
    "        #print(el, ep.min())\n",
    "        return (np.log(1 + el / ep / np.exp(self.xi)  \n",
    "                       * self.alpha * np.concatenate( ([1e10],(Abar[1:] - Abar[0:-1])) ) / np.sqrt(self.w))).min()\n",
    "        #return (np.log(1 + el / ep / np.exp(self.xi)  \n",
    "        #               * self.alpha * (Abar[2] - Abar[1]) / np.sqrt(self.w))).min()"
   ]
  },
  {
   "cell_type": "code",
   "execution_count": 13,
   "id": "bd0250be-9e9e-498a-a391-47aa0d0f1ba9",
   "metadata": {},
   "outputs": [],
   "source": [
    "n=500\n",
    "\n",
    "L = np.linspace(-6, 1.5, n)\n",
    "A = np.exp(L)\n",
    "A = np.linspace(0, np.exp(1.5), n+1)[1:]\n",
    "A = np.linspace(0, np.exp(1.5), n)\n",
    "#A = np.concatenate( ([0], A))\n",
    "\n",
    "w = 1 / 3\n",
    "alpha = 1/2 # alpha = 1/2 for w = 1/3\n",
    "\n",
    "\n",
    "rho0 = 1\n",
    "t0 = alpha * np.sqrt(3 / (8*np.pi*rho0))\n",
    "RH = t0 / alpha\n",
    "Abar = A / RH\n",
    "\n",
    "deltaL = Abar[2] - Abar[1]\n",
    "\n",
    "deltaA = Abar[1] - Abar[0]\n",
    "\n",
    "amp = 0.3\n",
    "delta0 = amp * np.exp(-2 * Abar**2 / RH / 30)\n",
    "\n",
    "m = 1 + delta0 \n",
    "U = 1 - alpha * delta0 / 2\n",
    "R = 1 - alpha / 2 * (delta0 + w * Abar * dfdA(m, deltaL, L, RH) / (1 + 3 * w) )\n",
    "\n",
    "\n",
    "ms = MS(R,m,U,w,alpha,A,rho0, deltaL,L)"
   ]
  },
  {
   "cell_type": "code",
   "execution_count": 14,
   "id": "bfd1ff91-5ef9-4777-b620-cc4af4a30f67",
   "metadata": {
    "tags": []
   },
   "outputs": [
    {
     "data": {
      "text/plain": [
       "0.026330496766305125"
      ]
     },
     "execution_count": 14,
     "metadata": {},
     "output_type": "execute_result"
    }
   ],
   "source": [
    "ms.cfl_deltau(R, m, U)"
   ]
  },
  {
   "cell_type": "code",
   "execution_count": 19,
   "id": "95c4a028-f90b-49fb-89b9-7462081c1949",
   "metadata": {
    "tags": []
   },
   "outputs": [],
   "source": [
    "ms.run_steps(200)"
   ]
  },
  {
   "cell_type": "code",
   "execution_count": 16,
   "id": "01a63482-6acc-4dcb-909a-6f8e2773129f",
   "metadata": {},
   "outputs": [
    {
     "data": {
      "text/plain": [
       "(0.0, 30.0)"
      ]
     },
     "execution_count": 16,
     "metadata": {},
     "output_type": "execute_result"
    },
    {
     "data": {
      "image/png": "[encoded data removed]",
      "text/plain": [
       "<Figure size 432x288 with 1 Axes>"
      ]
     },
     "metadata": {
      "needs_background": "light"
     },
     "output_type": "display_data"
    }
   ],
   "source": [
    "plt.scatter(np.arange(n), ms.U[:])\n",
    "plt.xlim(0,30)\n",
    "#plt.ylim(0.915,0.93)"
   ]
  },
  {
   "cell_type": "code",
   "execution_count": 1358,
   "id": "4433938c-f63b-45fe-bd1e-c45a5511ac3a",
   "metadata": {},
   "outputs": [
    {
     "data": {
      "text/plain": [
       "<matplotlib.collections.PathCollection at 0x7ff30db714f0>"
      ]
     },
     "execution_count": 1358,
     "metadata": {},
     "output_type": "execute_result"
    },
    {
     "data": {
      "image/png": "[encoded data removed]",
      "text/plain": [
       "<Figure size 432x288 with 1 Axes>"
      ]
     },
     "metadata": {
      "needs_background": "light"
     },
     "output_type": "display_data"
    }
   ],
   "source": [
    "plt.scatter(np.arange(n), ms.gamma(ms.R, ms.m, ms.U))\n",
    "#plt.xlim(0,30)\n",
    "#plt.ylim(0.915,0.93)"
   ]
  },
  {
   "cell_type": "code",
   "execution_count": 1390,
   "id": "99bd265b-80f3-45cf-8dc0-642ce463cf67",
   "metadata": {},
   "outputs": [
    {
     "data": {
      "text/plain": [
       "<matplotlib.collections.PathCollection at 0x7ff2fef465e0>"
      ]
     },
     "execution_count": 1390,
     "metadata": {},
     "output_type": "execute_result"
    },
    {
     "data": {
      "image/png": "[encoded data removed]",
      "text/plain": [
       "<Figure size 432x288 with 1 Axes>"
      ]
     },
     "metadata": {
      "needs_background": "light"
     },
     "output_type": "display_data"
    }
   ],
   "source": [
    "plt.scatter(np.arange(n), ms.psi(ms.rho(ms.R, ms.m), ms.w * ms.rho(ms.R, ms.m) ) )\n"
   ]
  },
  {
   "cell_type": "code",
   "execution_count": 1562,
   "id": "d6073d32-dc06-4c42-aeb5-d4d6fc15ce96",
   "metadata": {},
   "outputs": [
    {
     "data": {
      "text/plain": [
       "(0.0, 30.0)"
      ]
     },
     "execution_count": 1562,
     "metadata": {},
     "output_type": "execute_result"
    },
    {
     "data": {
      "image/png": "[encoded data removed]",
      "text/plain": [
       "<Figure size 432x288 with 1 Axes>"
      ]
     },
     "metadata": {
      "needs_background": "light"
     },
     "output_type": "display_data"
    }
   ],
   "source": [
    "plt.scatter(np.arange(n), ms.rho(ms.R, ms.m))\n",
    "plt.xlim(0,30)\n",
    "#plt.ylim(0.915,0.93)"
   ]
  },
  {
   "cell_type": "code",
   "execution_count": 20,
   "id": "012971af-e0f3-4d0f-8c7e-de73e1c61423",
   "metadata": {},
   "outputs": [
    {
     "data": {
      "text/plain": [
       "(0.0, 10.0)"
      ]
     },
     "execution_count": 20,
     "metadata": {},
     "output_type": "execute_result"
    },
    {
     "data": {
      "image/png": "[encoded data removed]",
      "text/plain": [
       "<Figure size 432x288 with 1 Axes>"
      ]
     },
     "metadata": {
      "needs_background": "light"
     },
     "output_type": "display_data"
    }
   ],
   "source": [
    "plt.plot(Abar, ms.rho(ms.R, ms.m) )\n",
    "plt.yscale('log')\n",
    "plt.ylim(10**-1,10**4)\n",
    "plt.xlim(0,10)"
   ]
  },
  {
   "cell_type": "code",
   "execution_count": 21,
   "id": "c87d7487-1d81-4596-abce-1332e8936d36",
   "metadata": {},
   "outputs": [
    {
     "data": {
      "text/plain": [
       "[<matplotlib.lines.Line2D at 0x7f8e0b026310>]"
      ]
     },
     "execution_count": 21,
     "metadata": {},
     "output_type": "execute_result"
    },
    {
     "data": {
      "image/png": "[encoded data removed]",
      "text/plain": [
       "<Figure size 432x288 with 1 Axes>"
      ]
     },
     "metadata": {
      "needs_background": "light"
     },
     "output_type": "display_data"
    }
   ],
   "source": [
    "plt.plot(A[:], ms.U[:] )\n"
   ]
  },
  {
   "cell_type": "code",
   "execution_count": 22,
   "id": "a7db2f08-f6a6-4910-bb75-c9daa5ca00d9",
   "metadata": {},
   "outputs": [
    {
     "data": {
      "text/plain": [
       "(0.0, 1.0)"
      ]
     },
     "execution_count": 22,
     "metadata": {},
     "output_type": "execute_result"
    },
    {
     "data": {
      "image/png": "[encoded data removed]",
      "text/plain": [
       "<Figure size 432x288 with 1 Axes>"
      ]
     },
     "metadata": {
      "needs_background": "light"
     },
     "output_type": "display_data"
    }
   ],
   "source": [
    "plt.plot(A, ms.R**2 * ms.m * ms.Abar**2 * np.exp(2 * (ms.alpha-1) * ms.xi))\n",
    "\n",
    "plt.xlim(0,1)"
   ]
  },
  {
   "cell_type": "code",
   "execution_count": 632,
   "id": "eb7d43fc-b878-48a3-b02e-7dcf031c0fea",
   "metadata": {},
   "outputs": [
    {
     "data": {
      "text/plain": [
       "[<matplotlib.lines.Line2D at 0x7ff30dab65b0>]"
      ]
     },
     "execution_count": 632,
     "metadata": {},
     "output_type": "execute_result"
    },
    {
     "data": {
      "image/png": "[encoded data removed]",
      "text/plain": [
       "<Figure size 432x288 with 1 Axes>"
      ]
     },
     "metadata": {
      "needs_background": "light"
     },
     "output_type": "display_data"
    }
   ],
   "source": [
    "plt.plot( ms.U[:])\n",
    "#plt.xlim(0,50)\n",
    "#plt.ylim(0.87,0.92)"
   ]
  },
  {
   "cell_type": "code",
   "execution_count": 631,
   "id": "7f3bd41a-9078-4ad2-88be-3144560832aa",
   "metadata": {},
   "outputs": [
    {
     "data": {
      "text/plain": [
       "[<matplotlib.lines.Line2D at 0x7ff30da006d0>]"
      ]
     },
     "execution_count": 631,
     "metadata": {},
     "output_type": "execute_result"
    },
    {
     "data": {
      "image/png": "[encoded data removed]",
      "text/plain": [
       "<Figure size 432x288 with 1 Axes>"
      ]
     },
     "metadata": {
      "needs_background": "light"
     },
     "output_type": "display_data"
    }
   ],
   "source": [
    "plt.plot(A[20:], ms.U[20:])\n"
   ]
  },
  {
   "cell_type": "code",
   "execution_count": 319,
   "id": "96cbd948-c030-448a-8959-966cc597f7e9",
   "metadata": {},
   "outputs": [
    {
     "data": {
      "text/plain": [
       "[<matplotlib.lines.Line2D at 0x7ff326eeda00>]"
      ]
     },
     "execution_count": 319,
     "metadata": {},
     "output_type": "execute_result"
    },
    {
     "data": {
      "image/png": "[encoded data removed]",
      "text/plain": [
       "<Figure size 432x288 with 1 Axes>"
      ]
     },
     "metadata": {
      "needs_background": "light"
     },
     "output_type": "display_data"
    }
   ],
   "source": [
    "plt.plot(A[5:], (dfdA(ms.U[5:], ms.deltaL, ms.L, ms.RH) ))"
   ]
  },
  {
   "cell_type": "code",
   "execution_count": 24,
   "id": "f8dec304-1b23-4f27-9199-96d6d515ab33",
   "metadata": {},
   "outputs": [],
   "source": [
    "test = HM(R, m, U, vs2, deltaL, L)"
   ]
  },
  {
   "cell_type": "code",
   "execution_count": 20,
   "id": "92c9808d-a398-4720-bc91-315fd8266db5",
   "metadata": {},
   "outputs": [],
   "source": [
    "#@title ICs that work\n",
    "\n",
    "n=500\n",
    "\n",
    "L = np.linspace(-2, 0.3, n)\n",
    "A = 10**L\n",
    "eps = 0 # some small number for numerical stability\n",
    "\n",
    "deltaL = L[1] - L[0]\n",
    "deltaA = A[1] - A[0]\n",
    "deltau = np.min(deltaA)/5\n",
    "\n",
    "\n",
    "vs2 = 0.05\n",
    "# #np.sinh(A) + 1 maybe did something\n",
    "g = 1 + 0.01*np.exp(A)  # g -> 1 at A=0\n",
    "c = 0.2*A - 0.01*A**2 # 0.1*np.sqrt(A) - 0.025*A + 0.0005*A*np.exp(-(A-0.2)**2/.2**2) # c -> 0 at A=0 ✓\n",
    "\n",
    "U = -np.sqrt(g**2 - 1 + 2*c)\n",
    "m = integ.cumtrapz(np.concatenate(([1], g - vs2*U)), np.concatenate(([0], A))) # m=0 at A=0\n",
    "R = m/c\n"
   ]
  },
  {
   "cell_type": "code",
   "execution_count": null,
   "id": "d6ecaec0-6b54-42e7-b799-cd52aa37545e",
   "metadata": {},
   "outputs": [],
   "source": [
    "def gamma(R,m,U): \n",
    "    return np.sqrt(1+U**2-2*m / R)\n",
    "\n",
    "def P(R,m,U,vs2) : \n",
    "    return vs2*rho(R,m,U)\n",
    "\n",
    "def rho(R,m,U) : \n",
    "    return (gamma(R,m,U) + U) / (4*np.pi*R**2*dfdA(R, deltaL, L))\n",
    "\n",
    "def psi(R,m,U,g,r,p) : \n",
    "  return np.log(g[-1]+U[-1]) + integ.cumtrapz(dfdA(U, deltaL, L)/g + m/(4*np.pi*r*(R**4)*g) + p/(r*g*R), A, initial=0)\n",
    "\n",
    "def k_coeffs(R,m,U,vs2) :\n",
    "  g = gamma(R,m,U)\n",
    "  r = rho(R,m,U)\n",
    "  p = P(R,m,U,vs2)\n",
    "  \n",
    "  ep = np.exp(psi(R,m,U,g,r,p))\n",
    "\n",
    "  #print(ep)\n",
    "  kR = ep*U\n",
    "  km = -1/ep*4*np.pi*R**2*p*U\n",
    "  kU = -ep/(1-vs2)*( 4*np.pi*g*R**2*r/(r + p)*dfdA(p, deltaL, L) + (m + 4*np.pi*R**3*p)/R**2 ) \\\n",
    "    - ep*vs2/(1-vs2)*(4*np.pi*r*R**2*dfdA(U, deltaL, L) + 2*U*g/R)\n",
    "  #kU = 1\n",
    "  return kR, km, kU\n",
    "\n",
    "def cfl_deltau(R,m,U,vs2) :\n",
    "    g = gamma(R,m,U)\n",
    "    r = rho(R,m,U)\n",
    "    p = P(R,m,U,vs2)\n",
    "    ep = np.exp(psi(R,m,U,g,r,p))\n",
    "    Rp = ep * U\n",
    "    return np.abs(Rp / (U + g) / ep).min() * (1/ np.sqrt(1/3) - 1 )\n"
   ]
  }
 ],
 "metadata": {
  "kernelspec": {
   "display_name": "Python 3 (ipykernel)",
   "language": "python",
   "name": "python3"
  },
  "language_info": {
   "codemirror_mode": {
    "name": "ipython",
    "version": 3
   },
   "file_extension": ".py",
   "mimetype": "text/x-python",
   "name": "python",
   "nbconvert_exporter": "python",
   "pygments_lexer": "ipython3",
   "version": "3.8.5"
  }
 },
 "nbformat": 4,
 "nbformat_minor": 5
}
